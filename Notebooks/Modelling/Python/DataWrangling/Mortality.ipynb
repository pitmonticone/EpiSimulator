{
 "cells": [
  {
   "cell_type": "code",
   "execution_count": 32,
   "metadata": {},
   "outputs": [],
   "source": [
    "# Data Wrangling\n",
    "import numpy as np\n",
    "import pandas as pd"
   ]
  },
  {
   "cell_type": "code",
   "execution_count": 34,
   "metadata": {},
   "outputs": [],
   "source": [
    "provincial_data=pd.read_excel(\"/Users/Pit/GitHub/DigitalEpidemiologyProject/Data/CSV/2020/Mortality/ProvincialExcessDeaths.xlsx\", None)\n",
    "dates=list(provincial_data.keys())\n",
    "provincial_data[dates[0]].to_csv(\"\")\n",
    "for i in range(len(dates)):\n",
    "    path=\"/Users/Pit/GitHub/DigitalEpidemiologyProject/Data/CSV/2020/Mortality/\"+dates[i]+\".csv\"\n",
    "    provincial_data[dates[i]].to_csv(path)"
   ]
  }
 ],
 "metadata": {
  "kernelspec": {
   "display_name": "Python 3",
   "language": "python",
   "name": "python3"
  },
  "language_info": {
   "codemirror_mode": {
    "name": "ipython",
    "version": 3
   },
   "file_extension": ".py",
   "mimetype": "text/x-python",
   "name": "python",
   "nbconvert_exporter": "python",
   "pygments_lexer": "ipython3",
   "version": "3.8.5"
  }
 },
 "nbformat": 4,
 "nbformat_minor": 4
}
