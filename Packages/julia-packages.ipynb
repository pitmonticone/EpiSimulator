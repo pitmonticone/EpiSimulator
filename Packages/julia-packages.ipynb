{
 "cells": [
  {
   "cell_type": "markdown",
   "metadata": {},
   "source": [
    "# Julia Packages\n",
    "\n",
    "* [JuliaHub](https://juliahub.com/ui/Home)\n",
    "* [JuliaObserver](https://juliaobserver.com)"
   ]
  },
  {
   "cell_type": "code",
   "execution_count": 1,
   "metadata": {
    "execution": {
     "iopub.execute_input": "2020-05-10T17:21:31.689Z",
     "iopub.status.busy": "2020-05-10T17:21:29.513Z",
     "iopub.status.idle": "2020-05-10T17:22:41.385Z"
    }
   },
   "outputs": [],
   "source": [
    "# JuliaDynamics \n",
    "using Agents # Agent-based modeling framework in Julia\n",
    "using AgentsPlots # Plotting functionality for Agents.jl \n",
    "\n",
    "# JuliaPy \n",
    "using PyCall # Package to import arbitrary Python modules, call Python functions, define Python classes\n",
    "using PyPlot # Interface to the matplotlib.pyplot module\n",
    "using Pandas # Interface to the Pandas module\n",
    "using Seaborn # Wrapper around the Seaborn module based on Matplotlib\n",
    "\n",
    "# JuliaPlots \n",
    "using Plots # Visualization interface and toolset\n",
    "using PlotThemes # Themes for Plots.jl\n",
    "using Makie # High level plotting on the GPU\n",
    "\n",
    "# JuliaGraphs\n",
    "using LightGraphs # Optimzed graphs package \n",
    "using MetaGraphs # LightGraphs.jl graphs with arbitrary metadata\n",
    "using GraphPlot # Graph layout and visualization algorithms based on Compose.jl and inspired by GraphLayout.jl.\n",
    "using SNAPDatasets # LightGraphs.jl-formatted graph files taken from the SNAP Datasets collection "
   ]
  }
 ],
 "metadata": {
  "kernelspec": {
   "display_name": "Julia 1.4.0",
   "language": "julia",
   "name": "julia-1.4"
  },
  "language_info": {
   "file_extension": ".jl",
   "mimetype": "application/julia",
   "name": "julia",
   "version": "1.4.0"
  },
  "nteract": {
   "version": "0.23.1"
  }
 },
 "nbformat": 4,
 "nbformat_minor": 4
}
