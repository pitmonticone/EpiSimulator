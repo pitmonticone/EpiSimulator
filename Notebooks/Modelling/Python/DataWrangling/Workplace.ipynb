{
 "cells": [
  {
   "cell_type": "markdown",
   "metadata": {},
   "source": [
    "# Workplace"
   ]
  },
  {
   "cell_type": "markdown",
   "metadata": {},
   "source": [
    "## Modules"
   ]
  },
  {
   "cell_type": "code",
   "execution_count": 1,
   "metadata": {},
   "outputs": [],
   "source": [
    "# Data Wrangling\n",
    "import numpy as np\n",
    "import pandas as pd"
   ]
  },
  {
   "cell_type": "markdown",
   "metadata": {},
   "source": [
    "## Workplace Size"
   ]
  },
  {
   "cell_type": "code",
   "execution_count": 18,
   "metadata": {},
   "outputs": [],
   "source": [
    "workplace_sizes=pd.read_csv(\"/Users/Pit/GitHub/DigitalEpidemiologyProject/Data/CSV/2020/Population/Workplace/WorkplaceSize.csv\").rename(columns={'Territorio':'Province', 'Classe di addetti':'Class', 'Value':'Population'})\n",
    "workplace_sizes=workplace_sizes.drop(columns=[\"D1\",\"D2\", \"Tipo dato\", \"D3\", \"Ateco 2007\", \"D4\", \"D5\", \"D6\",\"D8\", \"Forma giuridica\", \"Flag Codes\", \"Flags\",\"Seleziona periodo\", \"Impresa con dipendenti\"])\n",
    "workplace_sizes=workplace_sizes.sort_values(by=['Province','Class'])"
   ]
  },
  {
   "cell_type": "code",
   "execution_count": 19,
   "metadata": {},
   "outputs": [],
   "source": [
    "# Save processed dataset\n",
    "workplace_sizes.to_csv(\"/Users/Pit/GitHub/DigitalEpidemiologyProject/Data/CSV/2020/Population/Workplace/WorkplaceSize_Processed.csv\", index=False)"
   ]
  },
  {
   "cell_type": "code",
   "execution_count": 186,
   "metadata": {},
   "outputs": [],
   "source": [
    "# Import manually processed dataset\n",
    "workplace_sizes=pd.read_csv(\"/Users/Pit/GitHub/DigitalEpidemiologyProject/Data/CSV/2020/Population/Workplace/WorkplaceSize_ManuallyProcessed.csv\")"
   ]
  }
 ],
 "metadata": {
  "kernelspec": {
   "display_name": "Python 3",
   "language": "python",
   "name": "python3"
  },
  "language_info": {
   "codemirror_mode": {
    "name": "ipython",
    "version": 3
   },
   "file_extension": ".py",
   "mimetype": "text/x-python",
   "name": "python",
   "nbconvert_exporter": "python",
   "pygments_lexer": "ipython3",
   "version": "3.8.5"
  }
 },
 "nbformat": 4,
 "nbformat_minor": 4
}
