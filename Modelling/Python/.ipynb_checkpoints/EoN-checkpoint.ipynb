{
 "cells": [
  {
   "cell_type": "markdown",
   "metadata": {},
   "source": [
    "# Epidemic on Networks | `EoN`\n",
    "\n",
    "* Module that provides tools to study the spread of **SIS** and **SIR** diseases in networks\n",
    "* [Paper](https://doi.org/10.21105/joss.01731)\n",
    "* [Textbook](http://www.springer.com/us/book/9783319508047)\n",
    "* [GitHub repository](https://github.com/springer-math/Mathematics-of-Epidemics-on-Networks)"
   ]
  },
  {
   "cell_type": "markdown",
   "metadata": {},
   "source": [
    "## Modules"
   ]
  },
  {
   "cell_type": "code",
   "execution_count": null,
   "metadata": {},
   "outputs": [],
   "source": [
    "# Network Data Science \n",
    "import networkx as nx\n",
    "\n",
    "# Epidemic Modelling\n",
    "import EoN\n",
    "\n",
    "# Numerical Computation\n",
    "import numpy as np\n",
    "\n",
    "# Statistics\n",
    "import random as rnd\n",
    "\n",
    "# Data Visualization\n",
    "%pylab inline"
   ]
  },
  {
   "cell_type": "markdown",
   "metadata": {},
   "source": [
    "### SIR Epidemic on Barabasi-Albert Graph "
   ]
  },
  {
   "cell_type": "code",
   "execution_count": null,
   "metadata": {},
   "outputs": [],
   "source": [
    "# Parameters \n",
    "N=10**5      # initialize population size\n",
    "\n",
    "# Ambient Space\n",
    "G=nx.barabasi_albert_graph(N, 5) # create a Barabasi-Albert graph\n",
    "\n",
    "tmax = 20           \n",
    "iterations = 5      # run 5 simulations\n",
    "tau = 0.1           # transmission rate\n",
    "gamma = 1.0         # recovery rate\n",
    "rho = 0.005         # random fraction initially infected\n",
    "\n",
    "\n",
    "for counter in range(iterations): #run simulations\n",
    "    t, S, I, R = EoN.fast_SIR(G, tau, gamma, rho=rho, tmax = tmax)\n",
    "    if counter == 0:\n",
    "        plt.plot(t, I, color = 'k', alpha=0.3, label='Simulation')\n",
    "    plt.plot(t, I, color = 'k', alpha=0.3)\n",
    "\n",
    "#Now compare with ODE predictions.  Read in the degree distribution of G\n",
    "#and use rho to initialize the various model equations.\n",
    "#There are versions of these functions that allow you to specify the\n",
    "#initial conditions rather than starting from a graph.\n",
    "\n",
    "#we expect a homogeneous model to perform poorly because the degree\n",
    "#distribution is very heterogeneous\n",
    "t, S, I, R = EoN.SIR_homogeneous_pairwise_from_graph(G, tau, gamma, rho=rho, tmax = tmax)\n",
    "plt.plot(t, I, '-.', label = 'Homogeneous pairwise', linewidth = 5)\n",
    "\n",
    "#meanfield models will generally overestimate SIR growth because they\n",
    "#treat partnerships as constantly changing.\n",
    "t, S, I, R = EoN.SIR_heterogeneous_meanfield_from_graph(G, tau, gamma, rho=rho, tmax=tmax)\n",
    "plt.plot(t, I, ':', label = 'Heterogeneous meanfield', linewidth = 5)\n",
    "\n",
    "#The EBCM model does not account for degree correlations or clustering\n",
    "t, S, I, R = EoN.EBCM_from_graph(G, tau, gamma, rho=rho, tmax = tmax)\n",
    "plt.plot(t, I, '--', label = 'EBCM approximation', linewidth = 5)\n",
    "\n",
    "#the preferential mixing model captures degree correlations.\n",
    "t, S, I, R = EoN.EBCM_pref_mix_from_graph(G, tau, gamma, rho=rho, tmax=tmax)\n",
    "plt.plot(t, I, label = 'Pref mix EBCM', linewidth=5, dashes=[4, 2, 1, 2, 1, 2])\n",
    "\n",
    "plt.xlabel('$t$')\n",
    "plt.ylabel('Incidence')\n",
    "plt.legend(loc='upper right')\n",
    "#plt.savefig('SIR_BA_model_vs_sim.png')\n",
    "\n",
    "# NB: The preferential mixing version of the EBCM approach provides the best approximation to the (gray) simulated epidemics. "
   ]
  },
  {
   "cell_type": "markdown",
   "metadata": {},
   "source": [
    "### `fast_SIR` on Configuration Model"
   ]
  },
  {
   "cell_type": "code",
   "execution_count": null,
   "metadata": {},
   "outputs": [],
   "source": [
    "G = nx.configuration_model([1,5,10]*10000)\n",
    "initial_size = 50\n",
    "gamma = 1.1\n",
    "tau = 1.\n",
    "t, S, I, R = EoN.fast_SIR(G, tau, gamma,\n",
    "                            initial_infecteds = range(initial_size))\n",
    "\n",
    "plt.plot(t, S, label = '$S$')\n",
    "plt.plot(t, I, label = '$I$')\n",
    "plt.plot(t, R, label = '$R$')\n",
    "plt.xticks(fontsize = 12)\n",
    "plt.yticks(fontsize = 12)\n",
    "plt.legend(fontsize = 13)\n",
    "#plt.ylabel(\"Incidence\", fontsize = 14)\n",
    "plt.xlabel(\"Time\", fontsize = 14)\n",
    "plt.title(\"SIR Dynamics\", fontsize = 17)\n",
    "plt.show()"
   ]
  },
  {
   "cell_type": "markdown",
   "metadata": {},
   "source": [
    "### SIS Epidemic on Barabasi-Albert Graph "
   ]
  },
  {
   "cell_type": "code",
   "execution_count": null,
   "metadata": {},
   "outputs": [],
   "source": [
    "plt.clf()\n",
    "\n",
    "# Parameters \n",
    "N=10**4      # initialize population size\n",
    "\n",
    "# Ambient Space\n",
    "G=nx.barabasi_albert_graph(N, 5) # create a Barabasi-Albert graph\n",
    "\n",
    "for counter in range(iterations):\n",
    "    t, S, I = EoN.fast_SIS(G, tau, gamma, rho=rho, tmax = tmax)\n",
    "    if counter == 0:\n",
    "        plt.plot(t, I, color = 'k', alpha=0.3, label='Simulation')\n",
    "    plt.plot(t, I, color = 'k', alpha=0.3)\n",
    "\n",
    "#Now compare with ODE predictions.  Read in the degree distribution of G\n",
    "#and use rho to initialize the various model equations.\n",
    "#There are versions of these functions that allow you to specify the\n",
    "#initial conditions rather than starting from a graph.\n",
    "\n",
    "#we expect a homogeneous model to perform poorly because the degree\n",
    "#distribution is very heterogeneous\n",
    "t, S, I = EoN.SIS_homogeneous_pairwise_from_graph(G, tau, gamma, rho=rho, tmax = tmax)\n",
    "plt.plot(t, I, '-.', label = 'Homogeneous pairwise', linewidth = 5)\n",
    "\n",
    "t, S, I = EoN.SIS_heterogeneous_meanfield_from_graph(G, tau, gamma, rho=rho, tmax=tmax)\n",
    "plt.plot(t, I, ':', label = 'Heterogeneous meanfield', linewidth = 5)\n",
    "\n",
    "t, S, I = EoN.SIS_compact_pairwise_from_graph(G, tau, gamma, rho=rho, tmax=tmax)\n",
    "plt.plot(t, I, '--', label = 'Compact pairwise', linewidth = 5)\n",
    "\n",
    "plt.xlabel('$t$')\n",
    "plt.ylabel('Number infected')\n",
    "plt.legend(loc='center right')\n",
    "#plt.savefig('SIS_BA_model_vs_sim.png')"
   ]
  },
  {
   "cell_type": "markdown",
   "metadata": {},
   "source": [
    "### `fast_SIS` on Configuration Model"
   ]
  },
  {
   "cell_type": "code",
   "execution_count": null,
   "metadata": {},
   "outputs": [],
   "source": [
    "G = nx.configuration_model([1,5,10]*10000)\n",
    "initial_size = 100\n",
    "gamma = 0.2\n",
    "tau = 0.5\n",
    "t, S, I = EoN.fast_SIS(G, tau, gamma, tmax = 10,\n",
    "                            initial_infecteds = range(initial_size))\n",
    "\n",
    "plt.plot(t, S, label = '$S$')\n",
    "plt.plot(t, I, label = '$I$')\n",
    "plt.xticks(fontsize = 12)\n",
    "plt.yticks(fontsize = 12)\n",
    "plt.legend(loc = 'center right', fontsize = 14)\n",
    "#plt.ylabel(\"Incidence\", fontsize = 14)\n",
    "plt.xlabel(\"Time\", fontsize = 14)\n",
    "plt.title(\"SIS Dynamics\", fontsize = 17)\n",
    "plt.show()"
   ]
  }
 ],
 "metadata": {
  "kernelspec": {
   "display_name": "Python 3",
   "language": "python",
   "name": "python3"
  },
  "language_info": {
   "codemirror_mode": {
    "name": "ipython",
    "version": 3
   },
   "file_extension": ".py",
   "mimetype": "text/x-python",
   "name": "python",
   "nbconvert_exporter": "python",
   "pygments_lexer": "ipython3",
   "version": "3.7.6"
  }
 },
 "nbformat": 4,
 "nbformat_minor": 4
}
