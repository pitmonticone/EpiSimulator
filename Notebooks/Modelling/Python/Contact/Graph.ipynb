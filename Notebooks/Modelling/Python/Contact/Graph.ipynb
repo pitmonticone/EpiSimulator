{
 "cells": [
  {
   "cell_type": "code",
   "execution_count": 4,
   "metadata": {},
   "outputs": [
    {
     "name": "stdout",
     "output_type": "stream",
     "text": [
      "Populating the interactive namespace from numpy and matplotlib\n"
     ]
    }
   ],
   "source": [
    "# Network Data Science \n",
    "import networkx as nx\n",
    "\n",
    "# Data Wrangling\n",
    "import numpy as np\n",
    "import pandas as pd\n",
    "\n",
    "# Network Data Analysis \n",
    "import networkx as nx\n",
    "import geonetworkx as gnx\n",
    "\n",
    "# Data Visualization\n",
    "import seaborn as sns\n",
    "import matplotlib.pyplot as plt \n",
    "import matplotlib.ticker as ticker\n",
    "from matplotlib import colors\n",
    "import netwulf as nw\n",
    "%pylab inline\n",
    "\n",
    "# Geo-Spatial Data Analysis\n",
    "import geopandas as gpd\n",
    "from shapely.geometry import Point, LineString\n",
    "\n",
    "# Other Utilities\n",
    "from operator import itemgetter\n",
    "from collections import defaultdict\n",
    "import random \n",
    "from sklearn.preprocessing import normalize\n",
    "import warnings\n",
    "warnings.filterwarnings('ignore')\n",
    "\n",
    "# Custom Modules\n",
    "import digital_epidemiology as depi\n",
    "\n",
    "# Reload Custom Modules\n",
    "from importlib import reload\n",
    "depi = reload(depi)"
   ]
  },
  {
   "cell_type": "code",
   "execution_count": 5,
   "metadata": {},
   "outputs": [
    {
     "data": {
      "image/png": "[encoded data removed]",
      "text/plain": [
       "<Figure size 432x288 with 2 Axes>"
      ]
     },
     "metadata": {
      "needs_background": "light"
     },
     "output_type": "display_data"
    }
   ],
   "source": [
    "# Load contact data \n",
    "contact_data = pd.read_csv(\"/Users/Pit/GitHub/DigitalEpidemiologyProject/Data/CSV/2020/ContactMatrixAllLocations.csv\")\n",
    "\n",
    "# Construct contact graph\n",
    "contact_graph = nx.from_numpy_array(contact_data.to_numpy())\n",
    "\n",
    "# Display weighted edges\n",
    "###contact_graph.edges(data=True)\n",
    "\n",
    "# Visualize the contact graph\n",
    "#nw.visualize(contact_graph)\n",
    "\n",
    "# Create the contact matrix \n",
    "contact_matrix = contact_data.to_numpy()\n",
    "\n",
    "# Normalize the contact matrix \n",
    "normalized_contact_matrix = normalize(contact_data.to_numpy(), axis=1, norm='l1')\n",
    "\n",
    "# Visualize the contact matrix \n",
    "plt.imshow(contact_matrix)\n",
    "plt.colorbar()\n",
    "plt.show()"
   ]
  },
  {
   "cell_type": "code",
   "execution_count": null,
   "metadata": {},
   "outputs": [],
   "source": []
  }
 ],
 "metadata": {
  "kernelspec": {
   "display_name": "Python 3",
   "language": "python",
   "name": "python3"
  },
  "language_info": {
   "codemirror_mode": {
    "name": "ipython",
    "version": 3
   },
   "file_extension": ".py",
   "mimetype": "text/x-python",
   "name": "python",
   "nbconvert_exporter": "python",
   "pygments_lexer": "ipython3",
   "version": "3.8.3"
  }
 },
 "nbformat": 4,
 "nbformat_minor": 4
}
