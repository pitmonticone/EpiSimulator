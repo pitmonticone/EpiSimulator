{
 "cells": [
  {
   "cell_type": "markdown",
   "metadata": {},
   "source": [
    "## Modules"
   ]
  },
  {
   "cell_type": "code",
   "execution_count": 2,
   "metadata": {},
   "outputs": [],
   "source": [
    "# Parallel Computation\n",
    "###using Distributed\n",
    "###addprocs(3);\n",
    "###interrupt()"
   ]
  },
  {
   "cell_type": "code",
   "execution_count": 3,
   "metadata": {},
   "outputs": [],
   "source": [
    "user=\"PietroMonticone1\";\n",
    "#user=\"PietroMonticone2\";\n",
    "#user=\"DavideOrsenigo\";"
   ]
  },
  {
   "cell_type": "code",
   "execution_count": 4,
   "metadata": {},
   "outputs": [],
   "source": [
    "# Data Management \n",
    "using DataFrames, DrWatson, Queryverse\n",
    "# Statistics\n",
    "using StatsBase, Distributions, Random\n",
    "# Graphs \n",
    "using LightGraphs, SimpleWeightedGraphs, GraphIO\n",
    "# Modelling\n",
    "using Agents\n",
    "# Numerical Computation \n",
    "using LinearAlgebra, StaticArrays, BenchmarkTools, Traceur\n",
    "# Visualization\n",
    "using Plots, AgentsPlots, PlotThemes, Images, ImageIO\n",
    "# Custom Module\n",
    "if user == \"PietroMonticone1\"\n",
    "    Epi = include(\"/Users/Pit/GitHub/DigitalEpidemiologyProject/Notebooks/Modelling/Julia/MetapopABM/DigitalEpidemiology.jl\")\n",
    "elseif user == \"PietroMonticone2\"\n",
    "    Epi = include(\"/Users/pietromonticone/github/DigitalEpidemiologyProject/Notebooks/Modelling/Julia/MetapopABM/DigitalEpidemiology.jl\")\n",
    "elseif user == \"DavideOrsenigo\"\n",
    "    Epi = include(raw\"C:\\Users\\Utente\\Desktop\\Progetti\\GitHub\\DigitalEpidemiologyProject\\Notebooks\\Modelling\\Julia\\MetapopABM\\DigitalEpidemiology.jl\");\n",
    "end"
   ]
  }
 ],
 "metadata": {
  "kernelspec": {
   "display_name": "Julia 1.5.2",
   "language": "julia",
   "name": "julia-1.5"
  },
  "language_info": {
   "file_extension": ".jl",
   "mimetype": "application/julia",
   "name": "julia",
   "version": "1.5.2"
  }
 },
 "nbformat": 4,
 "nbformat_minor": 4
}
