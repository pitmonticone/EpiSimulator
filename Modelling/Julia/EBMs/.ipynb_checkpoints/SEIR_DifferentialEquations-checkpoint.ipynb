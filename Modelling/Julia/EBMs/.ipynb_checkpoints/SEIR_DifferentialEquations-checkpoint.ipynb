{
 "cells": [
  {
   "cell_type": "markdown",
   "metadata": {},
   "source": [
    "# SEIR Model using `DifferentialEquations`\n",
    "\n",
    "The implementation in this section considers proportions of susceptibles, exposed, infectious individuals in an open population, with no additional mortality associated with infection (such that the population size remains constant and R is not modelled explicitly).\n",
    "\n",
    "$$ \\dot{S} = \\mu - \\beta S I - \\mu S $$\n",
    "$$ \\dot{E} = \\beta S E - (\\sigma + \\mu) E I $$\n",
    "$$ \\dot{I} = \\sigma E - (\\gamma + \\mu) I $$\n",
    "$$ \\dot{R} = \\gamma I = \\mu R $$\n",
    "\n",
    "### Packages"
   ]
  },
  {
   "cell_type": "code",
   "execution_count": null,
   "metadata": {},
   "outputs": [
    {
     "name": "stderr",
     "output_type": "stream",
     "text": [
      "┌ Info: Precompiling DifferentialEquations [0c46a032-eb83-5123-abaf-570d42b7fbaa]\n",
      "└ @ Base loading.jl:1260\n"
     ]
    }
   ],
   "source": [
    "# Numerical Computation\n",
    "using DifferentialEquations\n",
    "# Data Visualization\n",
    "using Plots\n",
    "using PlotThemes"
   ]
  },
  {
   "cell_type": "markdown",
   "metadata": {},
   "source": [
    "### Flow"
   ]
  },
  {
   "cell_type": "code",
   "execution_count": null,
   "metadata": {},
   "outputs": [],
   "source": [
    "function Φ(dY,Y,p,t)\n",
    " dY[1] = p[4]-p[1]*Y[1]*Y[3]-p[4]*Y[1]\n",
    " dY[2] = p[1]*Y[1]*Y[3]-(p[2]+p[4])*Y[2]\n",
    " dY[3] = p[2]*Y[2] - (p[3]+p[4])*Y[3]\n",
    "end"
   ]
  },
  {
   "cell_type": "markdown",
   "metadata": {},
   "source": [
    "### Parameters"
   ]
  },
  {
   "cell_type": "code",
   "execution_count": null,
   "metadata": {},
   "outputs": [],
   "source": [
    "𝒫 = [520/365,1/60,1/30,774835/(65640000*365)] # Model Parameters\n",
    "ℬ = [0.8,0.1,0.1]                             # Initial condition\n",
    "𝒯 = (0.0,365.0)                               # Time "
   ]
  },
  {
   "cell_type": "markdown",
   "metadata": {},
   "source": [
    "### Solution"
   ]
  },
  {
   "cell_type": "code",
   "execution_count": null,
   "metadata": {},
   "outputs": [],
   "source": [
    "# Problem Definition\n",
    "problem = ODEProblem(Φ, ℬ, 𝒯, 𝒫)\n",
    "\n",
    "# Problem Solution\n",
    "solution = solve(problem);"
   ]
  },
  {
   "cell_type": "markdown",
   "metadata": {},
   "source": [
    "### Visualization "
   ]
  },
  {
   "cell_type": "code",
   "execution_count": null,
   "metadata": {},
   "outputs": [],
   "source": [
    "# Select Theme\n",
    "theme(:default)\n",
    "\n",
    "plot(solution,\n",
    "     title  = \"SEIR\", \n",
    "     xlabel = \"Time\", \n",
    "     ylabel = \"Fraction\", \n",
    "     label=[\"S\" \"I\" \"R\"],\n",
    "     legend = :topright)"
   ]
  }
 ],
 "metadata": {
  "kernelspec": {
   "display_name": "Julia 1.4.0",
   "language": "julia",
   "name": "julia-1.4"
  },
  "language_info": {
   "file_extension": ".jl",
   "mimetype": "application/julia",
   "name": "julia",
   "version": "1.4.0"
  }
 },
 "nbformat": 4,
 "nbformat_minor": 4
}
