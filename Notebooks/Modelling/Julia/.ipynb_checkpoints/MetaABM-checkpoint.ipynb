{
 "cells": [
  {
   "cell_type": "markdown",
   "metadata": {},
   "source": [
    "# Metapopulation Agent-Based SEIR Model\n",
    "\n",
    "## Framework \n",
    "* Data collection and wrangling in Python \n",
    "* Modelling in Julia "
   ]
  },
  {
   "cell_type": "markdown",
   "metadata": {},
   "source": [
    "## Modules"
   ]
  },
  {
   "cell_type": "code",
   "execution_count": 1,
   "metadata": {},
   "outputs": [],
   "source": [
    "# Data Management \n",
    "using DataFrames, DataFramesMeta, DrWatson, Queryverse\n",
    "# Statistics\n",
    "using Random, StatsBase, Distributions\n",
    "# Graphs \n",
    "using LightGraphs, SimpleWeightedGraphs, GraphIO, GraphPlot\n",
    "# Modelling\n",
    "using Agents\n",
    "# Numerical Computation \n",
    "using LinearAlgebra\n",
    "# Data Visualization\n",
    "using Plots, AgentsPlots, PlotThemes\n",
    "# Python Interface\n",
    "using PyCall \n",
    "nx = pyimport(\"networkx\");"
   ]
  },
  {
   "cell_type": "markdown",
   "metadata": {},
   "source": [
    "## Data "
   ]
  },
  {
   "cell_type": "markdown",
   "metadata": {},
   "source": [
    "### Administrative"
   ]
  },
  {
   "cell_type": "code",
   "execution_count": 2,
   "metadata": {},
   "outputs": [],
   "source": [
    "### load(\"/Users/pietromonticone/github/DigitalEpidemiologyProject/Data/CSV/2020/??/Provinces.csv\");"
   ]
  },
  {
   "cell_type": "markdown",
   "metadata": {},
   "source": [
    "### Population "
   ]
  },
  {
   "cell_type": "code",
   "execution_count": 3,
   "metadata": {},
   "outputs": [],
   "source": [
    "population_data = DataFrame(load(\"/Users/pietromonticone/github/DigitalEpidemiologyProject/Data/CSV/2020/ProvincialPopulation.csv\"));\n",
    "age_population_data = DataFrame(load(\"/Users/pietromonticone/github/DigitalEpidemiologyProject/Data/CSV/2020/AgeStratifiedProvincialPopulation.csv\"));"
   ]
  },
  {
   "cell_type": "markdown",
   "metadata": {},
   "source": [
    "### Contact "
   ]
  },
  {
   "cell_type": "code",
   "execution_count": 4,
   "metadata": {},
   "outputs": [
    {
     "data": {
      "text/plain": [
       "{16, 256} directed simple Int64 graph with Float64 weights"
      ]
     },
     "execution_count": 4,
     "metadata": {},
     "output_type": "execute_result"
    }
   ],
   "source": [
    "# Load contact data\n",
    "contact_data = DataFrame(load(\"/Users/pietromonticone/github/DigitalEpidemiologyProject/Data/CSV/2020/ContactEdgeList.csv\"))\n",
    "# Build contact graph \n",
    "contact_graph = SimpleWeightedDiGraph(contact_data[1].+1, contact_data[2].+1, contact_data[3]);"
   ]
  },
  {
   "cell_type": "markdown",
   "metadata": {},
   "source": [
    "### Mobility"
   ]
  },
  {
   "cell_type": "code",
   "execution_count": 5,
   "metadata": {},
   "outputs": [],
   "source": [
    "# Load mobility data\n",
    "mobility_data = DataFrame(load(\"/Users/pietromonticone/github/DigitalEpidemiologyProject/Data/CSV/2020/MobilityFlow.csv\"))\n",
    "# Build mobility graph \n",
    "mobility_graph = SimpleWeightedDiGraph(mobility_data[1], mobility_data[2], mobility_data[3])\n",
    "\n",
    "# Remove the 104th node: provincial code doesn't exist\n",
    "rem_vertex!(mobility_graph, 104)\n",
    "# Remove the 105th node: provincial code doesn't exist\n",
    "rem_vertex!(mobility_graph, 104)\n",
    "# Remove the 106th node: provincial code doesn't exist\n",
    "rem_vertex!(mobility_graph, 104)\n",
    "# Remove the 107th node: provincial code doesn't exist\n",
    "rem_vertex!(mobility_graph, 104);"
   ]
  },
  {
   "cell_type": "markdown",
   "metadata": {},
   "source": [
    "## Agent Type "
   ]
  },
  {
   "cell_type": "code",
   "execution_count": 6,
   "metadata": {},
   "outputs": [],
   "source": [
    "# Voter Definition\n",
    "mutable struct Patient <: AbstractAgent\n",
    "    id::Int          # identity code ∈ ℕ               \n",
    "    pos::Int         # location node ∈ ℕ \n",
    "    age_group::Int  # age group ∈ [1,16] ⊂ ℕ\n",
    "    home::Int        # household node ∈ ℕ\n",
    "    #work::Int       # workplace node ∈ ℕ\n",
    "    status::Symbol   # ∈ {S,E,I,R}\n",
    "end;"
   ]
  },
  {
   "cell_type": "markdown",
   "metadata": {},
   "source": [
    "## Behaviors"
   ]
  },
  {
   "cell_type": "code",
   "execution_count": 7,
   "metadata": {},
   "outputs": [],
   "source": [
    "function migrate!(agent, model)\n",
    "    source = agent.pos\n",
    "    x = [outneighbor for outneighbor in LightGraphs.weights(model.space.graph)[source,:]]\n",
    "    #outneighbors = node_neighbors(agent, model; neighbor_type=:out)\n",
    "    d = DiscreteNonParametric(1:(model.M), x./sum(x))\n",
    "    target = rand(d)\n",
    "    if target ≠ source\n",
    "        move_agent!(agent, target, model)\n",
    "    end\n",
    "end\n",
    "\n",
    "function agent_step!(agent, model)\n",
    "    migrate!(agent, model)\n",
    "    #contact!(agent, model)\n",
    "    #transmit!(agent, model)\n",
    "    #update!(agent, model)\n",
    "    #recover_or_die!(agent, model)\n",
    "end;"
   ]
  },
  {
   "cell_type": "markdown",
   "metadata": {},
   "source": [
    "## Parameters"
   ]
  },
  {
   "cell_type": "code",
   "execution_count": 14,
   "metadata": {},
   "outputs": [
    {
     "ename": "LoadError",
     "evalue": "InexactError: trunc(Int64, Inf)",
     "output_type": "error",
     "traceback": [
      "InexactError: trunc(Int64, Inf)",
      "",
      "Stacktrace:",
      " [1] trunc at ./float.jl:703 [inlined]",
      " [2] round at ./float.jl:367 [inlined]",
      " [3] _broadcast_getindex_evalf at ./broadcast.jl:648 [inlined]",
      " [4] _broadcast_getindex at ./broadcast.jl:631 [inlined]",
      " [5] getindex at ./broadcast.jl:575 [inlined]",
      " [6] macro expansion at ./broadcast.jl:932 [inlined]",
      " [7] macro expansion at ./simdloop.jl:77 [inlined]",
      " [8] copyto! at ./broadcast.jl:931 [inlined]",
      " [9] copyto! at ./broadcast.jl:886 [inlined]",
      " [10] copy at ./broadcast.jl:862 [inlined]",
      " [11] materialize(::Base.Broadcast.Broadcasted{Base.Broadcast.DefaultArrayStyle{1},Nothing,typeof(round),Tuple{Base.RefValue{Type{Int64}},Base.Broadcast.Broadcasted{Base.Broadcast.DefaultArrayStyle{1},Nothing,typeof(/),Tuple{Array{Int64,1},Int64}}}}) at ./broadcast.jl:837",
      " [12] top-level scope at In[14]:2",
      " [13] include_string(::Function, ::Module, ::String, ::String) at ./loading.jl:1091"
     ]
    }
   ],
   "source": [
    "# Rescaled Populations\n",
    "provincial_pops = round.(Int, population_data[\"population\"]./000) # array of subpopulation / provincial sizes\n",
    "age_provincial_pops = round.(Int, age_population_data./7000)\n",
    "N = sum(provincial_pops)      # total number of agents\n",
    "M = length(provincial_pops)   # number of subpopulations / provinces \n",
    "\n",
    "# Transition rates \n",
    "α = 0.2  # S -> E \n",
    "β = 0.2  # E -> I\n",
    "γ = 0.2  # I -> R \n",
    "\n",
    "# Initial conditio"
   ]
  },
  {
   "cell_type": "markdown",
   "metadata": {},
   "source": [
    "## Model"
   ]
  },
  {
   "cell_type": "code",
   "execution_count": 9,
   "metadata": {},
   "outputs": [],
   "source": [
    "# Model initialization \n",
    "function initialize_model(provincial_pops::Array{Int,1}, age_provincial_pops::DataFrame,\n",
    "                          contact_graph::SimpleWeightedDiGraph{Int64,Float64},\n",
    "                          mobility_graph::SimpleWeightedDiGraph{Int64,Float64}, \n",
    "                          α::Real, β::Real, γ::Real,\n",
    "                          I0)\n",
    "    # Set the total number of agents\n",
    "    N = sum(provincial_pops)\n",
    "    # Set the number of subpopulations\n",
    "    M = length(provincial_pops)\n",
    "    # Set the number of age groups \n",
    "    K = length(age_provincial_pops[1]) # 16 age classes \n",
    "    # Initialize id \n",
    "    id = 0    \n",
    "    \n",
    "    # Define the dictionary of model properties\n",
    "    properties = @dict(contact_graph, \n",
    "                       provincial_pops, age_provincial_pops,\n",
    "                       α, β, γ, I0,\n",
    "                       N, M)\n",
    "    \n",
    "    # Instantiate graph ambient space\n",
    "    space = GraphSpace(mobility_graph) \n",
    "    # Instatiate model\n",
    "    model = ABM(Patient, space; properties = properties)\n",
    "        \n",
    "    # Populate the model\n",
    "    for province ∈ 1:M\n",
    "        for age ∈ 1:K \n",
    "            for n ∈ 1:age_provincial_pops[province][age]\n",
    "                id+=1\n",
    "                home=province\n",
    "                pos=home\n",
    "                age_group=age\n",
    "                status=:S\n",
    "                add_agent!(pos, model, age_group, home, status)\n",
    "            end\n",
    "        end\n",
    "    end\n",
    "    \n",
    "    return model\n",
    "end;"
   ]
  },
  {
   "cell_type": "markdown",
   "metadata": {},
   "source": [
    "## Simulations"
   ]
  },
  {
   "cell_type": "code",
   "execution_count": 10,
   "metadata": {},
   "outputs": [
    {
     "ename": "LoadError",
     "evalue": "UndefVarError: provincial_pops not defined",
     "output_type": "error",
     "traceback": [
      "UndefVarError: provincial_pops not defined",
      "",
      "Stacktrace:",
      " [1] top-level scope at In[10]:1",
      " [2] include_string(::Function, ::Module, ::String, ::String) at ./loading.jl:1091"
     ]
    }
   ],
   "source": [
    "model = initialize_model(provincial_pops, age_provincial_pops, contact_graph, mobility_graph,\n",
    "                         α, β, γ, I0)\n",
    "\n",
    "simulation_data = @time run!(model, agent_step!, 100);\n",
    "\n",
    "sort!(DataFrame(allagents(model)), :id, rev = false)"
   ]
  },
  {
   "cell_type": "markdown",
   "metadata": {},
   "source": [
    "## Visualizations "
   ]
  },
  {
   "cell_type": "code",
   "execution_count": 11,
   "metadata": {},
   "outputs": [],
   "source": [
    "#plotargs = (node_size = 0.2, method = :spring, linealpha = 0.4)\n",
    "#plotabm(model; plotargs...)"
   ]
  },
  {
   "cell_type": "code",
   "execution_count": 12,
   "metadata": {},
   "outputs": [],
   "source": [
    "#delta_pop(x) = cgrad(:inferno)[count(a.pos == a.home for a in x) / length(x)]"
   ]
  },
  {
   "cell_type": "code",
   "execution_count": 13,
   "metadata": {},
   "outputs": [
    {
     "ename": "LoadError",
     "evalue": "UndefVarError: provinces not defined",
     "output_type": "error",
     "traceback": [
      "UndefVarError: provinces not defined",
      "",
      "Stacktrace:",
      " [1] top-level scope at In[13]:1",
      " [2] include_string(::Function, ::Module, ::String, ::String) at ./loading.jl:1091"
     ]
    }
   ],
   "source": [
    "model = initialize_model(provinces, contact_graph, mobility_graph,\n",
    "                         α, β, γ, I0)\n",
    "\n",
    "g = model.space.graph\n",
    "weight_matrix = LightGraphs.weights(g)\n",
    "for i in 1:nv(g)\n",
    "    weight_matrix[i,i] = 0\n",
    "end\n",
    "\n",
    "edgewidthsdict = Dict()\n",
    "for node in 1:nv(g)\n",
    "    nbs = neighbors(g, node)\n",
    "    for nb in nbs\n",
    "        edgewidthsdict[(node, nb)] = weight_matrix[node,nb]/sum([outneighbor for outneighbor in weight_matrix[node,:]])\n",
    "    end\n",
    "end\n",
    "\n",
    "edgewidthsf(s, d, w) = edgewidthsdict[(s, d)] * 10\n",
    "plotargs = (node_size = 0.2, method = :spring, linealpha = 0.4)\n",
    "\n",
    "plotargs = merge(plotargs, (edgewidth = edgewidthsf,))\n",
    "\n",
    "#plotabm(model; ac = delta_pop, plotargs...)"
   ]
  },
  {
   "cell_type": "markdown",
   "metadata": {},
   "source": [
    "![](animation.gif)"
   ]
  }
 ],
 "metadata": {
  "kernelspec": {
   "display_name": "Julia 1.5.0",
   "language": "julia",
   "name": "julia-1.5"
  },
  "language_info": {
   "file_extension": ".jl",
   "mimetype": "application/julia",
   "name": "julia",
   "version": "1.5.0"
  }
 },
 "nbformat": 4,
 "nbformat_minor": 4
}
