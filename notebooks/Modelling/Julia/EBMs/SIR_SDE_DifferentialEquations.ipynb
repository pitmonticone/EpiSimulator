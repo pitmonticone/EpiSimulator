{
 "cells": [
  {
   "cell_type": "markdown",
   "metadata": {},
   "source": [
    "# Continuous Time SIR SDE using `DifferentialEquations`\n",
    "\n",
    "### Packages"
   ]
  },
  {
   "cell_type": "code",
   "execution_count": null,
   "metadata": {},
   "outputs": [
    {
     "name": "stderr",
     "output_type": "stream",
     "text": [
      "┌ Info: Precompiling StatPlots [60ddc479-9b66-56df-82fc-76a74619b69c]\n",
      "└ @ Base loading.jl:1260\n"
     ]
    }
   ],
   "source": [
    "# Data Manipulation\n",
    "using DataFrames\n",
    "\n",
    "# Statistics\n",
    "using Distributions\n",
    "using Random\n",
    "\n",
    "# Data Visualization\n",
    "using StatPlots\n",
    "using PlotThemes\n",
    "\n",
    "# Numerical Computation\n",
    "using DifferentialEquations\n",
    "using SimpleDiffEq"
   ]
  },
  {
   "cell_type": "markdown",
   "metadata": {},
   "source": [
    "### Flow"
   ]
  },
  {
   "cell_type": "code",
   "execution_count": null,
   "metadata": {},
   "outputs": [],
   "source": [
    "function Φ!(du,u,p,t)\n",
    "    (S,I,R) = u\n",
    "    (β,c,γ,δt) = p\n",
    "    N = S+I+R\n",
    "    ifrac = β*c*I/N*S*δt\n",
    "    rfrac = γ*I*δt\n",
    "    ifrac_noise = sqrt(ifrac)*rand(Normal(0,1))\n",
    "    rfrac_noise = sqrt(rfrac)*rand(Normal(0,1))\n",
    "    @inbounds begin\n",
    "        du[1] = S-(ifrac+ifrac_noise)\n",
    "        du[2] = I+(ifrac+ifrac_noise) - (rfrac + rfrac_noise)\n",
    "        du[3] = R+(rfrac+rfrac_noise)\n",
    "    end\n",
    "    for i in 1:3\n",
    "        if du[i] < 0 du[i]=0 end\n",
    "    end\n",
    "    nothing\n",
    "end"
   ]
  },
  {
   "cell_type": "markdown",
   "metadata": {},
   "source": [
    "### Parameters"
   ]
  },
  {
   "cell_type": "code",
   "execution_count": null,
   "metadata": {},
   "outputs": [],
   "source": [
    "# From discrete to continuous time\n",
    "δt = 0.1\n",
    "nsteps = 400\n",
    "tmax = nsteps*δt\n",
    "tspan = (0.0,nsteps)\n",
    "t = 0.0:δt:tmax;\n",
    "\n",
    "𝒯 = tspan;               # Time\n",
    "ℬ = [990.0,10.0,0.0]     # Initial condition\n",
    "𝒫 = [0.05,10.0,0.25,δt]; # Model parameters"
   ]
  },
  {
   "cell_type": "markdown",
   "metadata": {},
   "source": [
    "### Solution"
   ]
  },
  {
   "cell_type": "code",
   "execution_count": null,
   "metadata": {},
   "outputs": [],
   "source": [
    "Random.seed!(1234); # Set a random seed\n",
    "\n",
    "# Problem Definition\n",
    "problem = DiscreteProblem(Φ!, ℬ, 𝒯, 𝒫);\n",
    "\n",
    "# Problem Solution\n",
    "solution = solve(problem, solver=FunctionMap);"
   ]
  },
  {
   "cell_type": "markdown",
   "metadata": {},
   "source": [
    "### Visualization "
   ]
  },
  {
   "cell_type": "code",
   "execution_count": null,
   "metadata": {},
   "outputs": [],
   "source": [
    "# Convert the output to data frame\n",
    "data = DataFrame(solution')\n",
    "data[!,:t] = t;\n",
    "\n",
    "# Select Theme\n",
    "theme(:default)\n",
    "\n",
    "@df data plot(:t,\n",
    "    [:x1 :x2 :x3],\n",
    "    title = \"SIR SDE\",\n",
    "    label=[\"S\" \"I\" \"R\"],\n",
    "    legend=:top,\n",
    "    xlabel=\"Time\",\n",
    "    ylabel=\"Number\")"
   ]
  }
 ],
 "metadata": {
  "kernelspec": {
   "display_name": "Julia 1.4.0",
   "language": "julia",
   "name": "julia-1.4"
  },
  "language_info": {
   "file_extension": ".jl",
   "mimetype": "application/julia",
   "name": "julia",
   "version": "1.4.0"
  }
 },
 "nbformat": 4,
 "nbformat_minor": 4
}
