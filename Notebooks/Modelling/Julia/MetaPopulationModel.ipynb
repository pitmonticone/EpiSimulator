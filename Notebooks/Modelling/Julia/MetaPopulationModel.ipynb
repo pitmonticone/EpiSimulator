{
 "cells": [
  {
   "cell_type": "markdown",
   "metadata": {},
   "source": [
    "# Agent-Based Metapopulation Epidemic Model\n",
    "\n",
    "### Philosophy \n",
    "* Data collection and wrangling in Python \n",
    "* Modelling in Julia "
   ]
  },
  {
   "cell_type": "markdown",
   "metadata": {},
   "source": [
    "## Modules"
   ]
  },
  {
   "cell_type": "code",
   "execution_count": 6,
   "metadata": {},
   "outputs": [],
   "source": [
    "# Data Management \n",
    "using DataFrames, DataFramesMeta\n",
    "using DrWatson\n",
    "using Queryverse\n",
    "\n",
    "# Statistics\n",
    "using Random\n",
    "using Distributions\n",
    "using StatsBase\n",
    "\n",
    "# Graphs \n",
    "using LightGraphs, SimpleWeightedGraphs, GraphIO\n",
    "using GraphPlot\n",
    "\n",
    "# Modelling\n",
    "using Agents\n",
    "\n",
    "# Data Visualization\n",
    "using Plots\n",
    "using AgentsPlots\n",
    "using PlotThemes"
   ]
  },
  {
   "cell_type": "markdown",
   "metadata": {},
   "source": [
    "## Data"
   ]
  },
  {
   "cell_type": "markdown",
   "metadata": {},
   "source": [
    "### Population "
   ]
  },
  {
   "cell_type": "code",
   "execution_count": 7,
   "metadata": {},
   "outputs": [],
   "source": [
    "provincial_population = load(\"/Users/Pit/GitHub/DigitalEpidemiologyProject/Data/CSV/2020/ProvincialPopulation.csv\");\n",
    "provincial_population_age = load(\"/Users/Pit/GitHub/DigitalEpidemiologyProject/Data/CSV/2020/AgeSpecificProvincialPopulation.csv\");"
   ]
  },
  {
   "cell_type": "markdown",
   "metadata": {},
   "source": [
    "### Contact"
   ]
  },
  {
   "cell_type": "code",
   "execution_count": 18,
   "metadata": {},
   "outputs": [
    {
     "ename": "LoadError",
     "evalue": "MethodError: no method matching loadgraph(::String; format=GraphIO.GraphML.GraphMLFormat())\nClosest candidates are:\n  loadgraph(::AbstractString) at /Users/Pit/.julia/packages/LightGraphs/siFgP/src/persistence/common.jl:18 got unsupported keyword argument \"format\"\n  loadgraph(::AbstractString, !Matched::AbstractString) at /Users/Pit/.julia/packages/LightGraphs/siFgP/src/persistence/common.jl:19 got unsupported keyword argument \"format\"\n  loadgraph(::AbstractString, !Matched::AbstractString, !Matched::GraphIO.LGCompressed.LGCompressedFormat) at /Users/Pit/.julia/packages/GraphIO/IgxnP/src/LGCompressed/LGCompressed.jl:44 got unsupported keyword argument \"format\"\n  ...",
     "output_type": "error",
     "traceback": [
      "MethodError: no method matching loadgraph(::String; format=GraphIO.GraphML.GraphMLFormat())\nClosest candidates are:\n  loadgraph(::AbstractString) at /Users/Pit/.julia/packages/LightGraphs/siFgP/src/persistence/common.jl:18 got unsupported keyword argument \"format\"\n  loadgraph(::AbstractString, !Matched::AbstractString) at /Users/Pit/.julia/packages/LightGraphs/siFgP/src/persistence/common.jl:19 got unsupported keyword argument \"format\"\n  loadgraph(::AbstractString, !Matched::AbstractString, !Matched::GraphIO.LGCompressed.LGCompressedFormat) at /Users/Pit/.julia/packages/GraphIO/IgxnP/src/LGCompressed/LGCompressed.jl:44 got unsupported keyword argument \"format\"\n  ...",
      "",
      "Stacktrace:",
      " [1] top-level scope at In[18]:1",
      " [2] include_string(::Function, ::Module, ::String, ::String) at ./loading.jl:1091"
     ]
    }
   ],
   "source": [
    "contact_graph = loadgraph(\"/Users/Pit/GitHub/DigitalEpidemiologyProject/Data/GraphML/ContactGraph.graphml\", format=GraphMLFormat())"
   ]
  },
  {
   "cell_type": "code",
   "execution_count": 19,
   "metadata": {},
   "outputs": [],
   "source": [
    "using PyCall"
   ]
  },
  {
   "cell_type": "code",
   "execution_count": null,
   "metadata": {},
   "outputs": [],
   "source": [
    "networkx = pyimport(\"networkx\")"
   ]
  },
  {
   "cell_type": "code",
   "execution_count": null,
   "metadata": {},
   "outputs": [],
   "source": []
  }
 ],
 "metadata": {
  "kernelspec": {
   "display_name": "Julia 1.5.0",
   "language": "julia",
   "name": "julia-1.5"
  },
  "language_info": {
   "file_extension": ".jl",
   "mimetype": "application/julia",
   "name": "julia",
   "version": "1.5.0"
  }
 },
 "nbformat": 4,
 "nbformat_minor": 4
}
