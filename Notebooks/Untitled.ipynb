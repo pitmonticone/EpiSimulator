{
 "cells": [
  {
   "cell_type": "code",
   "execution_count": 1,
   "metadata": {},
   "outputs": [
    {
     "name": "stderr",
     "output_type": "stream",
     "text": [
      "\u001b[32m\u001b[1m   Updating\u001b[22m\u001b[39m registry at `~/.julia/registries/General`\n"
     ]
    },
    {
     "name": "stdout",
     "output_type": "stream",
     "text": [
      "\u001b[?25l    "
     ]
    },
    {
     "name": "stderr",
     "output_type": "stream",
     "text": [
      "\u001b[32m\u001b[1m   Updating\u001b[22m\u001b[39m git-repo `https://github.com/JuliaRegistries/General.git`\n"
     ]
    },
    {
     "name": "stdout",
     "output_type": "stream",
     "text": [
      "\u001b[2K\u001b[?25h[1mFetching:\u001b[22m\u001b[39m [========================================>]  100.0 %"
     ]
    },
    {
     "name": "stderr",
     "output_type": "stream",
     "text": [
      "\u001b[32m\u001b[1m  Resolving\u001b[22m\u001b[39m package versions...\n",
      "\u001b[32m\u001b[1m  Installed\u001b[22m\u001b[39m Pluto ─ v0.11.2\n",
      "\u001b[32m\u001b[1m   Updating\u001b[22m\u001b[39m `~/.julia/environments/v1.4/Project.toml`\n",
      " \u001b[90m [c3e4b0f8]\u001b[39m\u001b[92m + Pluto v0.11.2\u001b[39m\n",
      "\u001b[32m\u001b[1m   Updating\u001b[22m\u001b[39m `~/.julia/environments/v1.4/Manifest.toml`\n",
      " \u001b[90m [c3e4b0f8]\u001b[39m\u001b[92m + Pluto v0.11.2\u001b[39m\n"
     ]
    }
   ],
   "source": [
    "] add Pluto"
   ]
  },
  {
   "cell_type": "code",
   "execution_count": 2,
   "metadata": {},
   "outputs": [
    {
     "name": "stderr",
     "output_type": "stream",
     "text": [
      "\u001b[32m\u001b[1m  Resolving\u001b[22m\u001b[39m package versions...\n",
      "\u001b[32m\u001b[1m  Installed\u001b[22m\u001b[39m FFTW_jll ─────────────── v3.3.9+5\n",
      "\u001b[32m\u001b[1m  Installed\u001b[22m\u001b[39m RecursiveFactorization ─ v0.1.4\n",
      "\u001b[32m\u001b[1m  Installed\u001b[22m\u001b[39m FunctionWrappers ─────── v1.1.1\n",
      "\u001b[32m\u001b[1m  Installed\u001b[22m\u001b[39m ForwardDiff ──────────── v0.10.12\n",
      "\u001b[32m\u001b[1m  Installed\u001b[22m\u001b[39m VectorizationBase ────── v0.12.29\n",
      "\u001b[32m\u001b[1m  Installed\u001b[22m\u001b[39m SIMDPirates ──────────── v0.8.21\n",
      "\u001b[32m\u001b[1m  Installed\u001b[22m\u001b[39m ChaosTools ───────────── v1.13.0\n",
      "\u001b[32m\u001b[1m  Installed\u001b[22m\u001b[39m DynamicalSystems ─────── v1.4.0\n",
      "\u001b[32m\u001b[1m  Installed\u001b[22m\u001b[39m LoggingExtras ────────── v0.4.2\n",
      "\u001b[32m\u001b[1m  Installed\u001b[22m\u001b[39m CommonSubexpressions ─── v0.3.0\n",
      "\u001b[32m\u001b[1m  Installed\u001b[22m\u001b[39m ConsoleProgressMonitor ─ v0.1.2\n",
      "\u001b[32m\u001b[1m  Installed\u001b[22m\u001b[39m Neighborhood ─────────── v0.1.0\n",
      "\u001b[32m\u001b[1m  Installed\u001b[22m\u001b[39m RecurrenceAnalysis ───── v1.2.0\n",
      "\u001b[32m\u001b[1m  Installed\u001b[22m\u001b[39m ProgressMeter ────────── v1.3.2\n",
      "\u001b[32m\u001b[1m  Installed\u001b[22m\u001b[39m IterativeSolvers ─────── v0.8.4\n",
      "\u001b[32m\u001b[1m  Installed\u001b[22m\u001b[39m RecursiveArrayTools ──── v2.5.0\n",
      "\u001b[32m\u001b[1m  Installed\u001b[22m\u001b[39m DocStringExtensions ──── v0.8.2\n",
      "\u001b[32m\u001b[1m  Installed\u001b[22m\u001b[39m ArrayInterface ───────── v2.11.0\n",
      "\u001b[32m\u001b[1m  Installed\u001b[22m\u001b[39m DiffEqBase ───────────── v6.41.3\n",
      "\u001b[32m\u001b[1m  Installed\u001b[22m\u001b[39m LabelledArrays ───────── v1.3.0\n",
      "\u001b[32m\u001b[1m  Installed\u001b[22m\u001b[39m MKL_jll ──────────────── v2020.1.216+0\n",
      "\u001b[32m\u001b[1m  Installed\u001b[22m\u001b[39m Measurements ─────────── v2.2.1\n",
      "\u001b[32m\u001b[1m  Installed\u001b[22m\u001b[39m SLEEFPirates ─────────── v0.5.5\n",
      "\u001b[32m\u001b[1m  Installed\u001b[22m\u001b[39m CpuId ────────────────── v0.2.2\n",
      "\u001b[32m\u001b[1m  Installed\u001b[22m\u001b[39m FFTW ─────────────────── v1.2.2\n",
      "\u001b[32m\u001b[1m  Installed\u001b[22m\u001b[39m DelayEmbeddings ──────── v1.8.0\n",
      "\u001b[32m\u001b[1m  Installed\u001b[22m\u001b[39m UnicodePlots ─────────── v1.1.0\n",
      "\u001b[32m\u001b[1m  Installed\u001b[22m\u001b[39m TerminalLoggers ──────── v0.1.2\n",
      "\u001b[32m\u001b[1m  Installed\u001b[22m\u001b[39m ChainRulesCore ───────── v0.9.5\n",
      "\u001b[32m\u001b[1m  Installed\u001b[22m\u001b[39m ProgressLogging ──────── v0.1.3\n",
      "\u001b[32m\u001b[1m  Installed\u001b[22m\u001b[39m DynamicalSystemsBase ─── v1.5.4\n",
      "\u001b[32m\u001b[1m  Installed\u001b[22m\u001b[39m LombScargle ──────────── v0.5.1\n",
      "\u001b[32m\u001b[1m  Installed\u001b[22m\u001b[39m Combinatorics ────────── v1.0.2\n",
      "\u001b[32m\u001b[1m  Installed\u001b[22m\u001b[39m Roots ────────────────── v1.0.4\n",
      "\u001b[32m\u001b[1m  Installed\u001b[22m\u001b[39m DSP ──────────────────── v0.6.7\n",
      "\u001b[32m\u001b[1m  Installed\u001b[22m\u001b[39m LoopVectorization ────── v0.8.20\n",
      "######################################################################### 100.0%\n",
      "\u001b[32m\u001b[1m   Updating\u001b[22m\u001b[39m `~/.julia/environments/v1.4/Project.toml`\n",
      " \u001b[90m [61744808]\u001b[39m\u001b[92m + DynamicalSystems v1.4.0\u001b[39m\n",
      "\u001b[32m\u001b[1m   Updating\u001b[22m\u001b[39m `~/.julia/environments/v1.4/Manifest.toml`\n",
      " \u001b[90m [621f4979]\u001b[39m\u001b[92m + AbstractFFTs v0.5.0\u001b[39m\n",
      " \u001b[90m [4fba245c]\u001b[39m\u001b[92m + ArrayInterface v2.11.0\u001b[39m\n",
      " \u001b[90m [49dc2e85]\u001b[39m\u001b[92m + Calculus v0.5.1\u001b[39m\n",
      " \u001b[90m [d360d2e6]\u001b[39m\u001b[92m + ChainRulesCore v0.9.5\u001b[39m\n",
      " \u001b[90m [608a59af]\u001b[39m\u001b[92m + ChaosTools v1.13.0\u001b[39m\n",
      " \u001b[90m [861a8166]\u001b[39m\u001b[92m + Combinatorics v1.0.2\u001b[39m\n",
      " \u001b[90m [bbf7d656]\u001b[39m\u001b[92m + CommonSubexpressions v0.3.0\u001b[39m\n",
      " \u001b[90m [88cd18e8]\u001b[39m\u001b[92m + ConsoleProgressMonitor v0.1.2\u001b[39m\n",
      " \u001b[90m [adafc99b]\u001b[39m\u001b[92m + CpuId v0.2.2\u001b[39m\n",
      " \u001b[90m [717857b8]\u001b[39m\u001b[92m + DSP v0.6.7\u001b[39m\n",
      " \u001b[90m [5732040d]\u001b[39m\u001b[92m + DelayEmbeddings v1.8.0\u001b[39m\n",
      " \u001b[90m [2b5f629d]\u001b[39m\u001b[92m + DiffEqBase v6.41.3\u001b[39m\n",
      " \u001b[90m [163ba53b]\u001b[39m\u001b[92m + DiffResults v1.0.2\u001b[39m\n",
      " \u001b[90m [b552c78f]\u001b[39m\u001b[92m + DiffRules v1.0.1\u001b[39m\n",
      " \u001b[90m [b4f34e82]\u001b[39m\u001b[92m + Distances v0.8.2\u001b[39m\n",
      " \u001b[90m [ffbed154]\u001b[39m\u001b[92m + DocStringExtensions v0.8.2\u001b[39m\n",
      " \u001b[90m [61744808]\u001b[39m\u001b[92m + DynamicalSystems v1.4.0\u001b[39m\n",
      " \u001b[90m [6e36e845]\u001b[39m\u001b[92m + DynamicalSystemsBase v1.5.4\u001b[39m\n",
      " \u001b[90m [7a1cc6ca]\u001b[39m\u001b[92m + FFTW v1.2.2\u001b[39m\n",
      " \u001b[90m [f5851436]\u001b[39m\u001b[92m + FFTW_jll v3.3.9+5\u001b[39m\n",
      " \u001b[90m [f6369f11]\u001b[39m\u001b[92m + ForwardDiff v0.10.12\u001b[39m\n",
      " \u001b[90m [069b7b12]\u001b[39m\u001b[92m + FunctionWrappers v1.1.1\u001b[39m\n",
      " \u001b[90m [1d5cc7b8]\u001b[39m\u001b[92m + IntelOpenMP_jll v2018.0.3+0\u001b[39m\n",
      " \u001b[90m [42fd0dbc]\u001b[39m\u001b[92m + IterativeSolvers v0.8.4\u001b[39m\n",
      " \u001b[90m [2ee39098]\u001b[39m\u001b[92m + LabelledArrays v1.3.0\u001b[39m\n",
      " \u001b[90m [1d6d02ad]\u001b[39m\u001b[92m + LeftChildRightSiblingTrees v0.1.2\u001b[39m\n",
      " \u001b[90m [e6f89c97]\u001b[39m\u001b[92m + LoggingExtras v0.4.2\u001b[39m\n",
      " \u001b[90m [fc60dff9]\u001b[39m\u001b[92m + LombScargle v0.5.1\u001b[39m\n",
      " \u001b[90m [bdcacae8]\u001b[39m\u001b[92m + LoopVectorization v0.8.20\u001b[39m\n",
      " \u001b[90m [856f044c]\u001b[39m\u001b[92m + MKL_jll v2020.1.216+0\u001b[39m\n",
      " \u001b[90m [eff96d63]\u001b[39m\u001b[92m + Measurements v2.2.1\u001b[39m\n",
      " \u001b[90m [46d2c3a1]\u001b[39m\u001b[92m + MuladdMacro v0.2.2\u001b[39m\n",
      " \u001b[90m [b8a86587]\u001b[39m\u001b[92m + NearestNeighbors v0.4.4\u001b[39m\n",
      " \u001b[90m [645ca80c]\u001b[39m\u001b[92m + Neighborhood v0.1.0\u001b[39m\n",
      " \u001b[90m [33c8b6b6]\u001b[39m\u001b[92m + ProgressLogging v0.1.3\u001b[39m\n",
      " \u001b[90m [92933f4c]\u001b[39m\u001b[92m + ProgressMeter v1.3.2\u001b[39m\n",
      " \u001b[90m [639c3291]\u001b[39m\u001b[92m + RecurrenceAnalysis v1.2.0\u001b[39m\n",
      " \u001b[90m [731186ca]\u001b[39m\u001b[92m + RecursiveArrayTools v2.5.0\u001b[39m\n",
      " \u001b[90m [f2c3362d]\u001b[39m\u001b[92m + RecursiveFactorization v0.1.4\u001b[39m\n",
      " \u001b[90m [f2b01f46]\u001b[39m\u001b[92m + Roots v1.0.4\u001b[39m\n",
      " \u001b[90m [21efa798]\u001b[39m\u001b[92m + SIMDPirates v0.8.21\u001b[39m\n",
      " \u001b[90m [476501e8]\u001b[39m\u001b[92m + SLEEFPirates v0.5.5\u001b[39m\n",
      " \u001b[90m [05bca326]\u001b[39m\u001b[92m + SimpleDiffEq v1.1.0\u001b[39m\n",
      " \u001b[90m [5d786b92]\u001b[39m\u001b[92m + TerminalLoggers v0.1.2\u001b[39m\n",
      " \u001b[90m [a2a6695c]\u001b[39m\u001b[92m + TreeViews v0.3.0\u001b[39m\n",
      " \u001b[90m [b8865327]\u001b[39m\u001b[92m + UnicodePlots v1.1.0\u001b[39m\n",
      " \u001b[90m [3d5dd08c]\u001b[39m\u001b[92m + VectorizationBase v0.12.29\u001b[39m\n",
      " \u001b[90m [700de1a5]\u001b[39m\u001b[92m + ZygoteRules v0.2.0\u001b[39m\n",
      "\u001b[32m\u001b[1m   Building\u001b[22m\u001b[39m SLEEFPirates → `~/.julia/packages/SLEEFPirates/jGsib/deps/build.log`\n",
      "\u001b[32m\u001b[1m   Building\u001b[22m\u001b[39m FFTW ────────→ `~/.julia/packages/FFTW/kcXL6/deps/build.log`\n"
     ]
    }
   ],
   "source": [
    "] add DynamicalSystems"
   ]
  },
  {
   "cell_type": "code",
   "execution_count": 3,
   "metadata": {},
   "outputs": [
    {
     "name": "stderr",
     "output_type": "stream",
     "text": [
      "\u001b[32m\u001b[1m  Resolving\u001b[22m\u001b[39m package versions...\n",
      "\u001b[32m\u001b[1m  Installed\u001b[22m\u001b[39m PrettyPrint ──────────── v0.2.0\n",
      "\u001b[32m\u001b[1m  Installed\u001b[22m\u001b[39m DiffEqNoiseProcess ───── v5.1.1\n",
      "\u001b[32m\u001b[1m  Installed\u001b[22m\u001b[39m Formatting ───────────── v0.4.1\n",
      "\u001b[32m\u001b[1m  Installed\u001b[22m\u001b[39m Unitful ──────────────── v1.3.0\n",
      "\u001b[32m\u001b[1m  Installed\u001b[22m\u001b[39m Latexify ─────────────── v0.13.5\n",
      "\u001b[32m\u001b[1m  Installed\u001b[22m\u001b[39m BandedMatrices ───────── v0.15.15\n",
      "\u001b[32m\u001b[1m  Installed\u001b[22m\u001b[39m ModelingToolkit ──────── v3.14.1\n",
      "\u001b[32m\u001b[1m  Installed\u001b[22m\u001b[39m DifferentialEquations ── v6.15.0\n",
      "\u001b[32m\u001b[1m  Installed\u001b[22m\u001b[39m SafeTestsets ─────────── v0.0.1\n",
      "\u001b[32m\u001b[1m  Installed\u001b[22m\u001b[39m ExponentialUtilities ─── v1.7.0\n",
      "\u001b[32m\u001b[1m  Installed\u001b[22m\u001b[39m DelayDiffEq ──────────── v5.24.1\n",
      "\u001b[32m\u001b[1m  Installed\u001b[22m\u001b[39m JuliaVariables ───────── v0.2.3\n",
      "\u001b[32m\u001b[1m  Installed\u001b[22m\u001b[39m SymbolicUtils ────────── v0.4.3\n",
      "\u001b[32m\u001b[1m  Installed\u001b[22m\u001b[39m Sundials ─────────────── v4.2.5\n",
      "\u001b[32m\u001b[1m  Installed\u001b[22m\u001b[39m SparseDiffTools ──────── v1.9.1\n",
      "\u001b[32m\u001b[1m  Installed\u001b[22m\u001b[39m ResettableStacks ─────── v1.0.0\n",
      "\u001b[32m\u001b[1m  Installed\u001b[22m\u001b[39m SuiteSparse_jll ──────── v5.4.0+8\n",
      "\u001b[32m\u001b[1m  Installed\u001b[22m\u001b[39m SteadyStateDiffEq ────── v1.5.1\n",
      "\u001b[32m\u001b[1m  Installed\u001b[22m\u001b[39m StochasticDiffEq ─────── v6.25.0\n",
      "\u001b[32m\u001b[1m  Installed\u001b[22m\u001b[39m VertexSafeGraphs ─────── v0.1.2\n",
      "\u001b[32m\u001b[1m  Installed\u001b[22m\u001b[39m MLStyle ──────────────── v0.4.3\n",
      "\u001b[32m\u001b[1m  Installed\u001b[22m\u001b[39m MultiScaleArrays ─────── v1.8.1\n",
      "\u001b[32m\u001b[1m  Installed\u001b[22m\u001b[39m CEnum ────────────────── v0.4.1\n",
      "\u001b[32m\u001b[1m  Installed\u001b[22m\u001b[39m TimerOutputs ─────────── v0.5.6\n",
      "\u001b[32m\u001b[1m  Installed\u001b[22m\u001b[39m DiffEqJump ───────────── v6.9.3\n",
      "\u001b[32m\u001b[1m  Installed\u001b[22m\u001b[39m PoissonRandom ────────── v0.4.0\n",
      "\u001b[32m\u001b[1m  Installed\u001b[22m\u001b[39m METIS_jll ────────────── v5.1.0+4\n",
      "\u001b[32m\u001b[1m  Installed\u001b[22m\u001b[39m FiniteDiff ───────────── v2.5.2\n",
      "\u001b[32m\u001b[1m  Installed\u001b[22m\u001b[39m OrdinaryDiffEq ───────── v5.42.0\n",
      "\u001b[32m\u001b[1m  Installed\u001b[22m\u001b[39m DiffEqFinancial ──────── v2.4.0\n",
      "\u001b[32m\u001b[1m  Installed\u001b[22m\u001b[39m OpenBLAS_jll ─────────── v0.3.9+5\n",
      "\u001b[32m\u001b[1m  Installed\u001b[22m\u001b[39m CanonicalTraits ──────── v0.1.0\n",
      "\u001b[32m\u001b[1m  Installed\u001b[22m\u001b[39m AbstractAlgebra ──────── v0.9.2\n",
      "\u001b[32m\u001b[1m  Installed\u001b[22m\u001b[39m DimensionalPlotRecipes ─ v1.2.0\n",
      "\u001b[32m\u001b[1m  Installed\u001b[22m\u001b[39m DiffEqCallbacks ──────── v2.13.5\n",
      "\u001b[32m\u001b[1m  Installed\u001b[22m\u001b[39m NLsolve ──────────────── v4.4.0\n",
      "\u001b[32m\u001b[1m  Installed\u001b[22m\u001b[39m NameResolution ───────── v0.1.4\n",
      "\u001b[32m\u001b[1m  Installed\u001b[22m\u001b[39m ArrayLayouts ─────────── v0.3.8\n",
      "\u001b[32m\u001b[1m  Installed\u001b[22m\u001b[39m DiffEqPhysics ────────── v3.2.0\n",
      "\u001b[32m\u001b[1m  Installed\u001b[22m\u001b[39m BoundaryValueDiffEq ──── v2.5.0\n",
      "\u001b[32m\u001b[1m  Installed\u001b[22m\u001b[39m GeneralizedGenerated ─── v0.2.5\n",
      "\u001b[32m\u001b[1m  Installed\u001b[22m\u001b[39m RandomNumbers ────────── v1.4.0\n",
      "\u001b[32m\u001b[1m  Installed\u001b[22m\u001b[39m ParameterizedFunctions ─ v5.4.0\n",
      "\u001b[32m\u001b[1m  Installed\u001b[22m\u001b[39m Sundials_jll ─────────── v5.2.0+0\n",
      "######################################################################### 100.0%\n",
      "######################################################################### 100.0%\n",
      "######################################################################### 100.0%                                                         18.0%                      22.6%            26.7%################                       72.2%\n",
      "######################################################################### 100.0%\n",
      "\u001b[32m\u001b[1m   Updating\u001b[22m\u001b[39m `~/.julia/environments/v1.4/Project.toml`\n",
      " \u001b[90m [0c46a032]\u001b[39m\u001b[92m + DifferentialEquations v6.15.0\u001b[39m\n",
      "\u001b[32m\u001b[1m   Updating\u001b[22m\u001b[39m `~/.julia/environments/v1.4/Manifest.toml`\n",
      " \u001b[90m [c3fe647b]\u001b[39m\u001b[92m + AbstractAlgebra v0.9.2\u001b[39m\n",
      " \u001b[90m [4c555306]\u001b[39m\u001b[92m + ArrayLayouts v0.3.8\u001b[39m\n",
      " \u001b[90m [aae01518]\u001b[39m\u001b[92m + BandedMatrices v0.15.15\u001b[39m\n",
      " \u001b[90m [764a87c0]\u001b[39m\u001b[92m + BoundaryValueDiffEq v2.5.0\u001b[39m\n",
      " \u001b[90m [fa961155]\u001b[39m\u001b[92m + CEnum v0.4.1\u001b[39m\n",
      " \u001b[90m [a603d957]\u001b[39m\u001b[92m + CanonicalTraits v0.1.0\u001b[39m\n",
      " \u001b[90m [bcd4f6db]\u001b[39m\u001b[92m + DelayDiffEq v5.24.1\u001b[39m\n",
      " \u001b[90m [459566f4]\u001b[39m\u001b[92m + DiffEqCallbacks v2.13.5\u001b[39m\n",
      " \u001b[90m [5a0ffddc]\u001b[39m\u001b[92m + DiffEqFinancial v2.4.0\u001b[39m\n",
      " \u001b[90m [c894b116]\u001b[39m\u001b[92m + DiffEqJump v6.9.3\u001b[39m\n",
      " \u001b[90m [77a26b50]\u001b[39m\u001b[92m + DiffEqNoiseProcess v5.1.1\u001b[39m\n",
      " \u001b[90m [055956cb]\u001b[39m\u001b[92m + DiffEqPhysics v3.2.0\u001b[39m\n",
      " \u001b[90m [0c46a032]\u001b[39m\u001b[92m + DifferentialEquations v6.15.0\u001b[39m\n",
      " \u001b[90m [c619ae07]\u001b[39m\u001b[92m + DimensionalPlotRecipes v1.2.0\u001b[39m\n",
      " \u001b[90m [d4d017d3]\u001b[39m\u001b[92m + ExponentialUtilities v1.7.0\u001b[39m\n",
      " \u001b[90m [6a86dc24]\u001b[39m\u001b[92m + FiniteDiff v2.5.2\u001b[39m\n",
      " \u001b[90m [59287772]\u001b[39m\u001b[92m + Formatting v0.4.1\u001b[39m\n",
      " \u001b[90m [6b9d7cbe]\u001b[39m\u001b[92m + GeneralizedGenerated v0.2.5\u001b[39m\n",
      " \u001b[90m [b14d175d]\u001b[39m\u001b[92m + JuliaVariables v0.2.3\u001b[39m\n",
      " \u001b[90m [23fbe1c1]\u001b[39m\u001b[92m + Latexify v0.13.5\u001b[39m\n",
      " \u001b[90m [d3d80556]\u001b[39m\u001b[92m + LineSearches v7.0.1\u001b[39m\n",
      " \u001b[90m [d00139f3]\u001b[39m\u001b[92m + METIS_jll v5.1.0+4\u001b[39m\n",
      " \u001b[90m [d8e11817]\u001b[39m\u001b[92m + MLStyle v0.4.3\u001b[39m\n",
      " \u001b[90m [961ee093]\u001b[39m\u001b[92m + ModelingToolkit v3.14.1\u001b[39m\n",
      " \u001b[90m [f9640e96]\u001b[39m\u001b[92m + MultiScaleArrays v1.8.1\u001b[39m\n",
      " \u001b[90m [d41bc354]\u001b[39m\u001b[92m + NLSolversBase v7.6.1\u001b[39m\n",
      " \u001b[90m [2774e3e8]\u001b[39m\u001b[92m + NLsolve v4.4.0\u001b[39m\n",
      " \u001b[90m [71a1bf82]\u001b[39m\u001b[92m + NameResolution v0.1.4\u001b[39m\n",
      " \u001b[90m [4536629a]\u001b[39m\u001b[92m + OpenBLAS_jll v0.3.9+5\u001b[39m\n",
      " \u001b[90m [1dea7af3]\u001b[39m\u001b[92m + OrdinaryDiffEq v5.42.0\u001b[39m\n",
      " \u001b[90m [65888b18]\u001b[39m\u001b[92m + ParameterizedFunctions v5.4.0\u001b[39m\n",
      " \u001b[90m [e409e4f3]\u001b[39m\u001b[92m + PoissonRandom v0.4.0\u001b[39m\n",
      " \u001b[90m [8162dcfd]\u001b[39m\u001b[92m + PrettyPrint v0.2.0\u001b[39m\n",
      " \u001b[90m [e6cf234a]\u001b[39m\u001b[92m + RandomNumbers v1.4.0\u001b[39m\n",
      " \u001b[90m [ae5879a3]\u001b[39m\u001b[92m + ResettableStacks v1.0.0\u001b[39m\n",
      " \u001b[90m [1bc83da4]\u001b[39m\u001b[92m + SafeTestsets v0.0.1\u001b[39m\n",
      " \u001b[90m [47a9eef4]\u001b[39m\u001b[92m + SparseDiffTools v1.9.1\u001b[39m\n",
      " \u001b[90m [9672c7b4]\u001b[39m\u001b[92m + SteadyStateDiffEq v1.5.1\u001b[39m\n",
      " \u001b[90m [789caeaf]\u001b[39m\u001b[92m + StochasticDiffEq v6.25.0\u001b[39m\n",
      " \u001b[90m [bea87d4a]\u001b[39m\u001b[92m + SuiteSparse_jll v5.4.0+8\u001b[39m\n",
      " \u001b[90m [c3572dad]\u001b[39m\u001b[92m + Sundials v4.2.5\u001b[39m\n",
      " \u001b[90m [fb77eaff]\u001b[39m\u001b[92m + Sundials_jll v5.2.0+0\u001b[39m\n",
      " \u001b[90m [d1185830]\u001b[39m\u001b[92m + SymbolicUtils v0.4.3\u001b[39m\n",
      " \u001b[90m [a759f4b9]\u001b[39m\u001b[92m + TimerOutputs v0.5.6\u001b[39m\n",
      " \u001b[90m [1986cc42]\u001b[39m\u001b[92m + Unitful v1.3.0\u001b[39m\n",
      " \u001b[90m [19fa3120]\u001b[39m\u001b[92m + VertexSafeGraphs v0.1.2\u001b[39m\n"
     ]
    }
   ],
   "source": [
    "] add DifferentialEquations"
   ]
  },
  {
   "cell_type": "code",
   "execution_count": 6,
   "metadata": {},
   "outputs": [
    {
     "name": "stderr",
     "output_type": "stream",
     "text": [
      "\u001b[32m\u001b[1m  Resolving\u001b[22m\u001b[39m package versions...\n",
      "\u001b[32m\u001b[1m   Updating\u001b[22m\u001b[39m `~/.julia/environments/v1.4/Project.toml`\n",
      " \u001b[90m [789caeaf]\u001b[39m\u001b[92m + StochasticDiffEq v6.25.0\u001b[39m\n",
      "\u001b[32m\u001b[1m   Updating\u001b[22m\u001b[39m `~/.julia/environments/v1.4/Manifest.toml`\n",
      "\u001b[90m [no changes]\u001b[39m\n"
     ]
    }
   ],
   "source": [
    "] add StochasticDiffEq"
   ]
  },
  {
   "cell_type": "code",
   "execution_count": 7,
   "metadata": {},
   "outputs": [
    {
     "name": "stderr",
     "output_type": "stream",
     "text": [
      "\u001b[32m\u001b[1m  Resolving\u001b[22m\u001b[39m package versions...\n",
      "\u001b[32m\u001b[1m   Updating\u001b[22m\u001b[39m `~/.julia/environments/v1.4/Project.toml`\n",
      " \u001b[90m [1dea7af3]\u001b[39m\u001b[92m + OrdinaryDiffEq v5.42.0\u001b[39m\n",
      "\u001b[32m\u001b[1m   Updating\u001b[22m\u001b[39m `~/.julia/environments/v1.4/Manifest.toml`\n",
      "\u001b[90m [no changes]\u001b[39m\n"
     ]
    }
   ],
   "source": [
    "] add OrdinaryDiffEq"
   ]
  },
  {
   "cell_type": "code",
   "execution_count": 9,
   "metadata": {},
   "outputs": [
    {
     "name": "stdout",
     "output_type": "stream",
     "text": [
      "\u001b[?25l    "
     ]
    },
    {
     "name": "stderr",
     "output_type": "stream",
     "text": [
      "\u001b[32m\u001b[1m    Cloning\u001b[22m\u001b[39m git-repo `https://github.com/SciML/SciMLTutorials.jl`\n"
     ]
    },
    {
     "name": "stdout",
     "output_type": "stream",
     "text": [
      "\u001b[2K\u001b[?25h\u001b[?25l    g:\u001b[22m\u001b[39m [========================================>]  99.9 %\u001b[36m\u001b[1mFetching:\u001b[22m\u001b[39m [=====>                                   ]  10.3 %\u001b[36m\u001b[1mFetching:\u001b[22m\u001b[39m [=======>                                 ]  17.3 %\u001b[36m\u001b[1mFetching:\u001b[22m\u001b[39m [========>                                ]  18.4 %\u001b[36m\u001b[1mFetching:\u001b[22m\u001b[39m [========>                                ]  18.6 %\u001b[36m\u001b[1mFetching:\u001b[22m\u001b[39m [========>                                ]  18.7 %\u001b[36m\u001b[1mFetching:\u001b[22m\u001b[39m [========>                                ]  18.8 %\u001b[36m\u001b[1mFetching:\u001b[22m\u001b[39m [========>                                ]  18.9 %\u001b[36m\u001b[1mFetching:\u001b[22m\u001b[39m [========>                                ]  19.0 %\u001b[36m\u001b[1mFetching:\u001b[22m\u001b[39m [========>                                ]  19.1 %\u001b[36m\u001b[1mFetching:\u001b[22m\u001b[39m [========>                                ]  19.2 %\u001b[36m\u001b[1mFetching:\u001b[22m\u001b[39m [========>                                ]  19.4 %\u001b[36m\u001b[1mFetching:\u001b[22m\u001b[39m [========>                                ]  19.5 %\u001b[36m\u001b[1mFetching:\u001b[22m\u001b[39m [========>                                ]  19.7 %\u001b[36m\u001b[1mFetching:\u001b[22m\u001b[39m [=============>                           ]  31.9 %\u001b[36m\u001b[1mFetching:\u001b[22m\u001b[39m [=============>                           ]  32.1 %\u001b[36m\u001b[1mFetching:\u001b[22m\u001b[39m [==============>                          ]  32.6 %\u001b[36m\u001b[1mFetching:\u001b[22m\u001b[39m [==============>                          ]  32.8 %\u001b[36m\u001b[1mFetching:\u001b[22m\u001b[39m [==============>                          ]  33.4 %\u001b[36m\u001b[1mFetching:\u001b[22m\u001b[39m [==============>                          ]  35.0 %\u001b[36m\u001b[1mFetching:\u001b[22m\u001b[39m [===============>                         ]  35.1 %\u001b[36m\u001b[1mFetching:\u001b[22m\u001b[39m [===============>                         ]  35.2 %\u001b[36m\u001b[1mFetching:\u001b[22m\u001b[39m [===============>                         ]  35.3 %\u001b[36m\u001b[1mFetching:\u001b[22m\u001b[39m [===============>                         ]  35.4 %\u001b[36m\u001b[1mFetching:\u001b[22m\u001b[39m [===============>                         ]  35.6 %\u001b[36m\u001b[1mFetching:\u001b[22m\u001b[39m [===============>                         ]  35.9 %\u001b[36m\u001b[1mFetching:\u001b[22m\u001b[39m [===============>                         ]  36.1 %\u001b[36m\u001b[1mFetching:\u001b[22m\u001b[39m [===============>                         ]  36.2 %\u001b[36m\u001b[1mFetching:\u001b[22m\u001b[39m [===============>                         ]  36.3 %\u001b[36m\u001b[1mFetching:\u001b[22m\u001b[39m [===============>                         ]  36.4 %\u001b[36m\u001b[1mFetching:\u001b[22m\u001b[39m [===============>                         ]  36.5 %\u001b[36m\u001b[1mFetching:\u001b[22m\u001b[39m [===============>                         ]  36.9 %\u001b[36m\u001b[1mFetching:\u001b[22m\u001b[39m [===============>                         ]  37.0 %\u001b[36m\u001b[1mFetching:\u001b[22m\u001b[39m [===============>                         ]  37.1 %\u001b[36m\u001b[1mFetching:\u001b[22m\u001b[39m [===============>                         ]  37.2 %\u001b[36m\u001b[1mFetching:\u001b[22m\u001b[39m [===============>                         ]  37.3 %\u001b[36m\u001b[1mFetching:\u001b[22m\u001b[39m [=====================>                   ]  50.9 %\u001b[36m\u001b[1mFetching:\u001b[22m\u001b[39m [=====================>                   ]  51.0 %\u001b[36m\u001b[1mFetching:\u001b[22m\u001b[39m [=====================>                   ]  51.8 %\u001b[36m\u001b[1mFetching:\u001b[22m\u001b[39m [=======================>                 ]  56.1 %\u001b[36m\u001b[1mFetching:\u001b[22m\u001b[39m [========================>                ]  58.4 %5 %\u001b[36m\u001b[1mFetching:\u001b[22m\u001b[39m [========================>                ]  58.6 %\u001b[36m\u001b[1mFetching:\u001b[22m\u001b[39m [========================>                ]  58.8 %\u001b[36m\u001b[1mFetching:\u001b[22m\u001b[39m [========================>                ]  59.1 %\u001b[36m\u001b[1mFetching:\u001b[22m\u001b[39m [========================>                ]  59.2 %\u001b[36m\u001b[1mFetching:\u001b[22m\u001b[39m [========================>                ]  59.3 %\u001b[36m\u001b[1mFetching:\u001b[22m\u001b[39m [========================>                ]  59.4 %\u001b[36m\u001b[1mFetching:\u001b[22m\u001b[39m [========================>                ]  59.5 %\u001b[36m\u001b[1mFetching:\u001b[22m\u001b[39m [=============================>           ]  70.1 %\u001b[36m\u001b[1mFetching:\u001b[22m\u001b[39m [==============================>          ]  73.2 %\u001b[36m\u001b[1mFetching:\u001b[22m\u001b[39m [==============================>          ]  74.1 %\u001b[36m\u001b[1mFetching:\u001b[22m\u001b[39m [==============================>          ]  74.4 %\u001b[36m\u001b[1mFetching:\u001b[22m\u001b[39m [===============================>         ]  76.4 %\u001b[36m\u001b[1mFetching:\u001b[22m\u001b[39m [===============================>         ]  76.7 %\u001b[36m\u001b[1mFetching:\u001b[22m\u001b[39m [===============================>         ]  77.2 %\u001b[36m\u001b[1mFetching:\u001b[22m\u001b[39m [================================>        ]  78.8 %\u001b[36m\u001b[1mFetching:\u001b[22m\u001b[39m [================================>        ]  79.1 %\u001b[36m\u001b[1mFetching:\u001b[22m\u001b[39m [================================>        ]  79.5 %\u001b[36m\u001b[1mFetching:\u001b[22m\u001b[39m [=====================================>   ]  90.7 %\u001b[36m\u001b[1mFetching:\u001b[22m\u001b[39m [=====================================>   ]  90.8 %\u001b[36m\u001b[1mFetching:\u001b[22m\u001b[39m [=====================================>   ]  92.4 %\u001b[36m\u001b[1mFetching:\u001b[22m\u001b[39m [======================================>  ]  92.5 %\u001b[36m\u001b[1mFetching:\u001b[22m\u001b[39m [======================================>  ]  92.9 %\u001b[36m\u001b[1mFetching:\u001b[22m\u001b[39m [======================================>  ]  93.4 %\u001b[36m\u001b[1mFetching:\u001b[22m\u001b[39m [======================================>  ]  93.5 %\u001b[36m\u001b[1mFetching:\u001b[22m\u001b[39m [======================================>  ]  93.7 %\u001b[36m\u001b[1mFetching:\u001b[22m\u001b[39m [======================================>  ]  93.8 %\u001b[36m\u001b[1mFetching:\u001b[22m\u001b[39m [======================================>  ]  93.9 %\u001b[36m\u001b[1mFetching:\u001b[22m\u001b[39m [======================================>  ]  94.8 %\u001b[36m\u001b[1mFetching:\u001b[22m\u001b[39m [=======================================> ]  95.2 %1 %\u001b[36m\u001b[1mFetching:\u001b[22m\u001b[39m [=======================================> ]  96.6 %\u001b[36m\u001b[1mFetching:\u001b[22m\u001b[39m [=======================================> ]  96.8 %\u001b[36m\u001b[1mFetching:\u001b[22m\u001b[39m [=======================================> ]  96.9 %\u001b[36m\u001b[1mFetching:\u001b[22m\u001b[39m [=======================================> ]  97.0 %\u001b[36m\u001b[1mFetching:\u001b[22m\u001b[39m [=======================================> ]  97.2 %\u001b[36m\u001b[1mFetching:\u001b[22m\u001b[39m [=======================================> ]  97.3 %\u001b[36m\u001b[1mFetching:\u001b[22m\u001b[39m [=======================================> ]  97.4 %\u001b[36m\u001b[1mFetching:\u001b[22m\u001b[39m [========================================>]  97.6 %"
     ]
    },
    {
     "name": "stderr",
     "output_type": "stream",
     "text": [
      "\u001b[32m\u001b[1m   Updating\u001b[22m\u001b[39m git-repo `https://github.com/SciML/SciMLTutorials.jl`\n"
     ]
    },
    {
     "name": "stdout",
     "output_type": "stream",
     "text": [
      "\u001b[2K\u001b[?25h[1mFetching:\u001b[22m\u001b[39m [========================================>]  100.0 %[36m\u001b[1mFetching:\u001b[22m\u001b[39m [=============>                           ]  32.2 %\u001b[36m\u001b[1mFetching:\u001b[22m\u001b[39m [===============>                         ]  36.0 %\u001b[36m\u001b[1mFetching:\u001b[22m\u001b[39m [==========================>              ]  62.7 %\u001b[36m\u001b[1mFetching:\u001b[22m\u001b[39m [==========================>              ]  63.8 %\u001b[36m\u001b[1mFetching:\u001b[22m\u001b[39m [===========================>             ]  66.2 %>  ]  92.7 %"
     ]
    },
    {
     "name": "stderr",
     "output_type": "stream",
     "text": [
      "\u001b[32m\u001b[1m  Resolving\u001b[22m\u001b[39m package versions...\n",
      "\u001b[32m\u001b[1m  Installed\u001b[22m\u001b[39m YAML ─────── v0.4.0\n",
      "\u001b[32m\u001b[1m  Installed\u001b[22m\u001b[39m Mustache ─── v1.0.3\n",
      "\u001b[32m\u001b[1m  Installed\u001b[22m\u001b[39m Highlights ─ v0.4.5\n",
      "\u001b[32m\u001b[1m  Installed\u001b[22m\u001b[39m Weave ────── v0.10.2\n",
      "\u001b[32m\u001b[1m   Updating\u001b[22m\u001b[39m `~/.julia/environments/v1.4/Project.toml`\n",
      " \u001b[90m [30cb0354]\u001b[39m\u001b[92m + SciMLTutorials v0.8.0 #master (https://github.com/SciML/SciMLTutorials.jl)\u001b[39m\n",
      "\u001b[32m\u001b[1m   Updating\u001b[22m\u001b[39m `~/.julia/environments/v1.4/Manifest.toml`\n",
      " \u001b[90m [eafb193a]\u001b[39m\u001b[92m + Highlights v0.4.5\u001b[39m\n",
      " \u001b[90m [ffc61752]\u001b[39m\u001b[92m + Mustache v1.0.3\u001b[39m\n",
      " \u001b[90m [30cb0354]\u001b[39m\u001b[92m + SciMLTutorials v0.8.0 #master (https://github.com/SciML/SciMLTutorials.jl)\u001b[39m\n",
      " \u001b[90m [44d3d7a6]\u001b[39m\u001b[92m + Weave v0.10.2\u001b[39m\n",
      " \u001b[90m [ddb6d928]\u001b[39m\u001b[92m + YAML v0.4.0\u001b[39m\n"
     ]
    }
   ],
   "source": [
    "] add https://github.com/SciML/SciMLTutorials.jl"
   ]
  },
  {
   "cell_type": "code",
   "execution_count": null,
   "metadata": {},
   "outputs": [],
   "source": []
  }
 ],
 "metadata": {
  "kernelspec": {
   "display_name": "Julia 1.4.2",
   "language": "julia",
   "name": "julia-1.4"
  },
  "language_info": {
   "file_extension": ".jl",
   "mimetype": "application/julia",
   "name": "julia",
   "version": "1.4.2"
  }
 },
 "nbformat": 4,
 "nbformat_minor": 4
}
