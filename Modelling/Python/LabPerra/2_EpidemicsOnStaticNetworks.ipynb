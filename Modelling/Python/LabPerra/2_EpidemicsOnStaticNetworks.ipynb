{
 "cells": [
  {
   "cell_type": "markdown",
   "metadata": {},
   "source": [
    "# Reaction-diffusion processes"
   ]
  },
  {
   "cell_type": "markdown",
   "metadata": {},
   "source": [
    "## Random walks"
   ]
  },
  {
   "cell_type": "code",
   "execution_count": 2,
   "metadata": {},
   "outputs": [
    {
     "name": "stdout",
     "output_type": "stream",
     "text": [
      "Populating the interactive namespace from numpy and matplotlib\n"
     ]
    }
   ],
   "source": [
    "import numpy as np\n",
    "import networkx as nx\n",
    "%pylab inline"
   ]
  },
  {
   "cell_type": "code",
   "execution_count": 3,
   "metadata": {},
   "outputs": [
    {
     "ename": "FileNotFoundError",
     "evalue": "[Errno 2] No such file or directory: 'data/net1.txt'",
     "output_type": "error",
     "traceback": [
      "\u001b[0;31m---------------------------------------------------------------------------\u001b[0m",
      "\u001b[0;31mFileNotFoundError\u001b[0m                         Traceback (most recent call last)",
      "\u001b[0;32m<ipython-input-3-d41d71ee2fec>\u001b[0m in \u001b[0;36m<module>\u001b[0;34m\u001b[0m\n\u001b[1;32m      1\u001b[0m \u001b[0;31m# let us read and store an undirected network from a file\u001b[0m\u001b[0;34m\u001b[0m\u001b[0;34m\u001b[0m\u001b[0;34m\u001b[0m\u001b[0m\n\u001b[0;32m----> 2\u001b[0;31m \u001b[0ma\u001b[0m\u001b[0;34m=\u001b[0m\u001b[0mopen\u001b[0m\u001b[0;34m(\u001b[0m\u001b[0;34m\"data/net1.txt\"\u001b[0m\u001b[0;34m,\u001b[0m\u001b[0;34m\"r\"\u001b[0m\u001b[0;34m)\u001b[0m\u001b[0;34m\u001b[0m\u001b[0;34m\u001b[0m\u001b[0m\n\u001b[0m\u001b[1;32m      3\u001b[0m \u001b[0mG\u001b[0m\u001b[0;34m=\u001b[0m\u001b[0mnx\u001b[0m\u001b[0;34m.\u001b[0m\u001b[0mGraph\u001b[0m\u001b[0;34m(\u001b[0m\u001b[0;34m)\u001b[0m\u001b[0;34m\u001b[0m\u001b[0;34m\u001b[0m\u001b[0m\n\u001b[1;32m      4\u001b[0m \u001b[0;32mfor\u001b[0m \u001b[0mi\u001b[0m \u001b[0;32min\u001b[0m \u001b[0ma\u001b[0m\u001b[0;34m:\u001b[0m\u001b[0;34m\u001b[0m\u001b[0;34m\u001b[0m\u001b[0m\n\u001b[1;32m      5\u001b[0m     \u001b[0mn\u001b[0m\u001b[0;34m=\u001b[0m\u001b[0mi\u001b[0m\u001b[0;34m.\u001b[0m\u001b[0mstrip\u001b[0m\u001b[0;34m(\u001b[0m\u001b[0;34m)\u001b[0m\u001b[0;34m.\u001b[0m\u001b[0msplit\u001b[0m\u001b[0;34m(\u001b[0m\u001b[0;34m)\u001b[0m\u001b[0;34m\u001b[0m\u001b[0;34m\u001b[0m\u001b[0m\n",
      "\u001b[0;31mFileNotFoundError\u001b[0m: [Errno 2] No such file or directory: 'data/net1.txt'"
     ]
    }
   ],
   "source": [
    "# let us read and store an undirected network from a file\n",
    "a=open(\"data/net1.txt\",\"r\")\n",
    "G=nx.Graph()\n",
    "for i in a:\n",
    "    n=i.strip().split()\n",
    "    G.add_edge(int(n[0]),int(n[1]))\n",
    "a.close()\n",
    "\n",
    "# let's plot the network\n",
    "pos=nx.spring_layout(G) # this is the layout\n",
    "# we can specify the labels of the nodes, we need to do that using dictionaries\n",
    "labels={}\n",
    "for i in G.nodes():\n",
    "    labels[i]=i\n",
    "    \n",
    "# the plotting options are many\n",
    "nx.draw_networkx_nodes(G,pos,node_color='Red',node_size=100,alpha=0.5)\n",
    "nx.draw_networkx_edges(G, pos,width=1,edge_color=\"Black\",alpha=1.0,arrowstyle='fancy')\n",
    "nx.draw_networkx_labels(G,pos,labels,font_size=20)\n",
    "plt.axis('off')\n",
    "plt.show()"
   ]
  },
  {
   "cell_type": "code",
   "execution_count": null,
   "metadata": {},
   "outputs": [],
   "source": [
    "# let create a random walk function\n",
    "import random as random\n",
    "\n",
    "def random_walk(G,source,stop,t,nt):\n",
    "    nt[t]=source # at time t the walker visits node \"source\"\n",
    "    # the process ends after reaching a certain threshold\n",
    "    if t<stop:\n",
    "        # explore the neighbors\n",
    "        neighbors=list(G.neighbors(source))\n",
    "        # select one randomly\n",
    "        target=neighbors[random.randint(0,len(neighbors)-1)]\n",
    "        # move there using the same function\n",
    "        random_walk(G,target,stop,t+1,nt)\n",
    "    else:\n",
    "        return 0"
   ]
  },
  {
   "cell_type": "code",
   "execution_count": null,
   "metadata": {},
   "outputs": [],
   "source": [
    "stop=3\n",
    "N=G.number_of_nodes()\n",
    "# let us get a random source to start the process\n",
    "source=random.randint(0,N-1)\n",
    "nt=np.zeros(stop+1,int)\n",
    "random_walk(G,source,stop,0,nt)\n",
    "for i in range(stop+1):\n",
    "    print (\"at time t=\",i,\" the walker is in node \",nt[i])"
   ]
  },
  {
   "cell_type": "code",
   "execution_count": null,
   "metadata": {},
   "outputs": [],
   "source": [
    "# it is interesting to measure directly how many times a node is visited\n",
    "\n",
    "def random_walk(G,source,stop,t,nt,visited):\n",
    "    nt[t]=source # at time t the walker visits node \"source\"\n",
    "    visited[source]+=1 # the node has been visited another time\n",
    "    # the process ends after reaching a certain threshold\n",
    "    if t<stop:\n",
    "        # explore the neighbors\n",
    "        neighbors=list(G.neighbors(source))\n",
    "        # select one randomly\n",
    "        target=neighbors[random.randint(0,len(neighbors)-1)]\n",
    "        # move there using the same function\n",
    "        random_walk(G,target,stop,t+1,nt,visited)\n",
    "    else:\n",
    "        return 0"
   ]
  },
  {
   "cell_type": "code",
   "execution_count": null,
   "metadata": {},
   "outputs": [],
   "source": [
    "stop=10\n",
    "N=G.number_of_nodes()\n",
    "# let us get a random source to start the process\n",
    "source=random.randint(0,N-1)\n",
    "nt=np.zeros(stop+1,int)\n",
    "visited=np.zeros(N,int)\n",
    "random_walk(G,source,stop,0,nt,visited)\n",
    "for i in range(stop+1):\n",
    "    print (i,nt[i])\n",
    "print (visited)"
   ]
  },
  {
   "cell_type": "code",
   "execution_count": 4,
   "metadata": {},
   "outputs": [],
   "source": [
    "# another important quantity is the coverage: how many nodes\n",
    "# visited at time t\n",
    "def get_coverage(nt):\n",
    "    coverage=np.zeros(nt.size,int)\n",
    "    v=set()\n",
    "    for i in range(nt.size):\n",
    "        v.add(nt[i])\n",
    "        coverage[i]=len(v) # at each time the coverage is the set up to t \n",
    "    return coverage"
   ]
  },
  {
   "cell_type": "code",
   "execution_count": 5,
   "metadata": {},
   "outputs": [
    {
     "ename": "NameError",
     "evalue": "name 'nt' is not defined",
     "output_type": "error",
     "traceback": [
      "\u001b[0;31m---------------------------------------------------------------------------\u001b[0m",
      "\u001b[0;31mNameError\u001b[0m                                 Traceback (most recent call last)",
      "\u001b[0;32m<ipython-input-5-6ab6c4e6365e>\u001b[0m in \u001b[0;36m<module>\u001b[0;34m\u001b[0m\n\u001b[0;32m----> 1\u001b[0;31m \u001b[0mget_coverage\u001b[0m\u001b[0;34m(\u001b[0m\u001b[0mnt\u001b[0m\u001b[0;34m)\u001b[0m\u001b[0;34m\u001b[0m\u001b[0;34m\u001b[0m\u001b[0m\n\u001b[0m",
      "\u001b[0;31mNameError\u001b[0m: name 'nt' is not defined"
     ]
    }
   ],
   "source": [
    "get_coverage(nt)"
   ]
  },
  {
   "cell_type": "code",
   "execution_count": 6,
   "metadata": {},
   "outputs": [],
   "source": [
    "# let us see another way to do it, without recursion\n",
    "def random_walk2(G,source,stop,nt,visited):\n",
    "    t=0\n",
    "    while t<stop:\n",
    "        visited[source]+=1\n",
    "        nt[t]=source\n",
    "        neighbors=list(G.neighbors(source))\n",
    "        target=neighbors[random.randint(0,len(neighbors)-1)]\n",
    "        source=target\n",
    "        t+=1"
   ]
  },
  {
   "cell_type": "code",
   "execution_count": 7,
   "metadata": {},
   "outputs": [
    {
     "ename": "NameError",
     "evalue": "name 'G' is not defined",
     "output_type": "error",
     "traceback": [
      "\u001b[0;31m---------------------------------------------------------------------------\u001b[0m",
      "\u001b[0;31mNameError\u001b[0m                                 Traceback (most recent call last)",
      "\u001b[0;32m<ipython-input-7-c097381f87ee>\u001b[0m in \u001b[0;36m<module>\u001b[0;34m\u001b[0m\n\u001b[1;32m      1\u001b[0m \u001b[0mstop\u001b[0m\u001b[0;34m=\u001b[0m\u001b[0;36m10\u001b[0m\u001b[0;34m\u001b[0m\u001b[0;34m\u001b[0m\u001b[0m\n\u001b[0;32m----> 2\u001b[0;31m \u001b[0mN\u001b[0m\u001b[0;34m=\u001b[0m\u001b[0mG\u001b[0m\u001b[0;34m.\u001b[0m\u001b[0mnumber_of_nodes\u001b[0m\u001b[0;34m(\u001b[0m\u001b[0;34m)\u001b[0m\u001b[0;34m\u001b[0m\u001b[0;34m\u001b[0m\u001b[0m\n\u001b[0m\u001b[1;32m      3\u001b[0m \u001b[0msource\u001b[0m\u001b[0;34m=\u001b[0m\u001b[0mrandom\u001b[0m\u001b[0;34m.\u001b[0m\u001b[0mrandint\u001b[0m\u001b[0;34m(\u001b[0m\u001b[0;36m0\u001b[0m\u001b[0;34m,\u001b[0m\u001b[0mN\u001b[0m\u001b[0;34m-\u001b[0m\u001b[0;36m1\u001b[0m\u001b[0;34m)\u001b[0m\u001b[0;34m\u001b[0m\u001b[0;34m\u001b[0m\u001b[0m\n\u001b[1;32m      4\u001b[0m \u001b[0mvisited\u001b[0m\u001b[0;34m=\u001b[0m\u001b[0mnp\u001b[0m\u001b[0;34m.\u001b[0m\u001b[0mzeros\u001b[0m\u001b[0;34m(\u001b[0m\u001b[0mN\u001b[0m\u001b[0;34m,\u001b[0m\u001b[0mint\u001b[0m\u001b[0;34m)\u001b[0m\u001b[0;34m\u001b[0m\u001b[0;34m\u001b[0m\u001b[0m\n\u001b[1;32m      5\u001b[0m \u001b[0mnt\u001b[0m\u001b[0;34m=\u001b[0m\u001b[0mnp\u001b[0m\u001b[0;34m.\u001b[0m\u001b[0mzeros\u001b[0m\u001b[0;34m(\u001b[0m\u001b[0mstop\u001b[0m\u001b[0;34m,\u001b[0m\u001b[0mint\u001b[0m\u001b[0;34m)\u001b[0m\u001b[0;34m\u001b[0m\u001b[0;34m\u001b[0m\u001b[0m\n",
      "\u001b[0;31mNameError\u001b[0m: name 'G' is not defined"
     ]
    }
   ],
   "source": [
    "stop=10\n",
    "N=G.number_of_nodes()\n",
    "source=random.randint(0,N-1)\n",
    "visited=np.zeros(N,int)\n",
    "nt=np.zeros(stop,int)\n",
    "random_walk2(G,source,stop,nt,visited)"
   ]
  },
  {
   "cell_type": "code",
   "execution_count": null,
   "metadata": {},
   "outputs": [],
   "source": [
    "for i in range(stop):\n",
    "    print (\"at time t =\",i,\" the walker is in node \",nt[i])"
   ]
  },
  {
   "cell_type": "code",
   "execution_count": 8,
   "metadata": {},
   "outputs": [
    {
     "ename": "NameError",
     "evalue": "name 'visited' is not defined",
     "output_type": "error",
     "traceback": [
      "\u001b[0;31m---------------------------------------------------------------------------\u001b[0m",
      "\u001b[0;31mNameError\u001b[0m                                 Traceback (most recent call last)",
      "\u001b[0;32m<ipython-input-8-aee764d001c4>\u001b[0m in \u001b[0;36m<module>\u001b[0;34m\u001b[0m\n\u001b[0;32m----> 1\u001b[0;31m \u001b[0mprint\u001b[0m \u001b[0;34m(\u001b[0m\u001b[0mvisited\u001b[0m\u001b[0;34m)\u001b[0m\u001b[0;34m\u001b[0m\u001b[0;34m\u001b[0m\u001b[0m\n\u001b[0m",
      "\u001b[0;31mNameError\u001b[0m: name 'visited' is not defined"
     ]
    }
   ],
   "source": [
    "print (visited)"
   ]
  },
  {
   "cell_type": "code",
   "execution_count": 9,
   "metadata": {},
   "outputs": [
    {
     "ename": "NameError",
     "evalue": "name 'nt' is not defined",
     "output_type": "error",
     "traceback": [
      "\u001b[0;31m---------------------------------------------------------------------------\u001b[0m",
      "\u001b[0;31mNameError\u001b[0m                                 Traceback (most recent call last)",
      "\u001b[0;32m<ipython-input-9-6ab6c4e6365e>\u001b[0m in \u001b[0;36m<module>\u001b[0;34m\u001b[0m\n\u001b[0;32m----> 1\u001b[0;31m \u001b[0mget_coverage\u001b[0m\u001b[0;34m(\u001b[0m\u001b[0mnt\u001b[0m\u001b[0;34m)\u001b[0m\u001b[0;34m\u001b[0m\u001b[0;34m\u001b[0m\u001b[0m\n\u001b[0m",
      "\u001b[0;31mNameError\u001b[0m: name 'nt' is not defined"
     ]
    }
   ],
   "source": [
    "get_coverage(nt)"
   ]
  },
  {
   "cell_type": "code",
   "execution_count": null,
   "metadata": {},
   "outputs": [],
   "source": [
    "# let us try a larger network\n",
    "a=open(\"data/BA.txt\",\"r\")\n",
    "G=nx.Graph()\n",
    "for i in a:\n",
    "    n=i.strip().split()\n",
    "    G.add_edge(int(n[0]),int(n[1]))\n",
    "a.close()"
   ]
  },
  {
   "cell_type": "code",
   "execution_count": 10,
   "metadata": {},
   "outputs": [
    {
     "ename": "NameError",
     "evalue": "name 'G' is not defined",
     "output_type": "error",
     "traceback": [
      "\u001b[0;31m---------------------------------------------------------------------------\u001b[0m",
      "\u001b[0;31mNameError\u001b[0m                                 Traceback (most recent call last)",
      "\u001b[0;32m<ipython-input-10-5fc41aa0144a>\u001b[0m in \u001b[0;36m<module>\u001b[0;34m\u001b[0m\n\u001b[0;32m----> 1\u001b[0;31m \u001b[0mN\u001b[0m\u001b[0;34m=\u001b[0m\u001b[0mG\u001b[0m\u001b[0;34m.\u001b[0m\u001b[0mnumber_of_nodes\u001b[0m\u001b[0;34m(\u001b[0m\u001b[0;34m)\u001b[0m\u001b[0;34m\u001b[0m\u001b[0;34m\u001b[0m\u001b[0m\n\u001b[0m\u001b[1;32m      2\u001b[0m \u001b[0mstop\u001b[0m\u001b[0;34m=\u001b[0m\u001b[0;36m10\u001b[0m\u001b[0;34m**\u001b[0m\u001b[0;36m5\u001b[0m\u001b[0;34m\u001b[0m\u001b[0;34m\u001b[0m\u001b[0m\n\u001b[1;32m      3\u001b[0m \u001b[0msource\u001b[0m\u001b[0;34m=\u001b[0m\u001b[0mrandom\u001b[0m\u001b[0;34m.\u001b[0m\u001b[0mrandint\u001b[0m\u001b[0;34m(\u001b[0m\u001b[0;36m0\u001b[0m\u001b[0;34m,\u001b[0m\u001b[0mN\u001b[0m\u001b[0;34m-\u001b[0m\u001b[0;36m1\u001b[0m\u001b[0;34m)\u001b[0m\u001b[0;34m\u001b[0m\u001b[0;34m\u001b[0m\u001b[0m\n\u001b[1;32m      4\u001b[0m \u001b[0mvisited\u001b[0m\u001b[0;34m=\u001b[0m\u001b[0mnp\u001b[0m\u001b[0;34m.\u001b[0m\u001b[0mzeros\u001b[0m\u001b[0;34m(\u001b[0m\u001b[0mN\u001b[0m\u001b[0;34m,\u001b[0m\u001b[0mint\u001b[0m\u001b[0;34m)\u001b[0m\u001b[0;34m\u001b[0m\u001b[0;34m\u001b[0m\u001b[0m\n\u001b[1;32m      5\u001b[0m \u001b[0mnt\u001b[0m\u001b[0;34m=\u001b[0m\u001b[0mnp\u001b[0m\u001b[0;34m.\u001b[0m\u001b[0mzeros\u001b[0m\u001b[0;34m(\u001b[0m\u001b[0mstop\u001b[0m\u001b[0;34m,\u001b[0m\u001b[0mint\u001b[0m\u001b[0;34m)\u001b[0m\u001b[0;34m\u001b[0m\u001b[0;34m\u001b[0m\u001b[0m\n",
      "\u001b[0;31mNameError\u001b[0m: name 'G' is not defined"
     ]
    }
   ],
   "source": [
    "N=G.number_of_nodes()\n",
    "stop=10**5\n",
    "source=random.randint(0,N-1)\n",
    "visited=np.zeros(N,int)\n",
    "nt=np.zeros(stop,int)\n",
    "random_walk2(G,source,stop,nt,visited)"
   ]
  },
  {
   "cell_type": "code",
   "execution_count": 11,
   "metadata": {},
   "outputs": [
    {
     "ename": "NameError",
     "evalue": "name 'nt' is not defined",
     "output_type": "error",
     "traceback": [
      "\u001b[0;31m---------------------------------------------------------------------------\u001b[0m",
      "\u001b[0;31mNameError\u001b[0m                                 Traceback (most recent call last)",
      "\u001b[0;32m<ipython-input-11-fdd578559ff2>\u001b[0m in \u001b[0;36m<module>\u001b[0;34m\u001b[0m\n\u001b[0;32m----> 1\u001b[0;31m \u001b[0mcoverage\u001b[0m\u001b[0;34m=\u001b[0m\u001b[0mget_coverage\u001b[0m\u001b[0;34m(\u001b[0m\u001b[0mnt\u001b[0m\u001b[0;34m)\u001b[0m\u001b[0;34m\u001b[0m\u001b[0;34m\u001b[0m\u001b[0m\n\u001b[0m",
      "\u001b[0;31mNameError\u001b[0m: name 'nt' is not defined"
     ]
    }
   ],
   "source": [
    "coverage=get_coverage(nt)"
   ]
  },
  {
   "cell_type": "code",
   "execution_count": null,
   "metadata": {},
   "outputs": [],
   "source": [
    "import matplotlib.pyplot as plt\n",
    "%pylab inline\n",
    "\n",
    "plt.plot(coverage,c=\"Red\",linewidth=1.1, marker=\"o\",alpha=0.5) \n",
    "plt.xlabel('t')\n",
    "plt.ylabel('N(t)')\n",
    "plt.show() "
   ]
  },
  {
   "cell_type": "code",
   "execution_count": 12,
   "metadata": {},
   "outputs": [
    {
     "ename": "NameError",
     "evalue": "name 'G' is not defined",
     "output_type": "error",
     "traceback": [
      "\u001b[0;31m---------------------------------------------------------------------------\u001b[0m",
      "\u001b[0;31mNameError\u001b[0m                                 Traceback (most recent call last)",
      "\u001b[0;32m<ipython-input-12-4d35a12ac0c6>\u001b[0m in \u001b[0;36m<module>\u001b[0;34m\u001b[0m\n\u001b[1;32m      3\u001b[0m \u001b[0;31m# let us create degree classes\u001b[0m\u001b[0;34m\u001b[0m\u001b[0;34m\u001b[0m\u001b[0;34m\u001b[0m\u001b[0m\n\u001b[1;32m      4\u001b[0m \u001b[0mmax_degree\u001b[0m\u001b[0;34m=\u001b[0m\u001b[0;36m0\u001b[0m\u001b[0;34m\u001b[0m\u001b[0;34m\u001b[0m\u001b[0m\n\u001b[0;32m----> 5\u001b[0;31m \u001b[0;32mfor\u001b[0m \u001b[0mi\u001b[0m \u001b[0;32min\u001b[0m \u001b[0mG\u001b[0m\u001b[0;34m.\u001b[0m\u001b[0mnodes\u001b[0m\u001b[0;34m(\u001b[0m\u001b[0;34m)\u001b[0m\u001b[0;34m:\u001b[0m\u001b[0;34m\u001b[0m\u001b[0;34m\u001b[0m\u001b[0m\n\u001b[0m\u001b[1;32m      6\u001b[0m     \u001b[0;32mif\u001b[0m \u001b[0mG\u001b[0m\u001b[0;34m.\u001b[0m\u001b[0mdegree\u001b[0m\u001b[0;34m(\u001b[0m\u001b[0mi\u001b[0m\u001b[0;34m)\u001b[0m\u001b[0;34m>\u001b[0m\u001b[0mmax_degree\u001b[0m\u001b[0;34m:\u001b[0m\u001b[0;34m\u001b[0m\u001b[0;34m\u001b[0m\u001b[0m\n\u001b[1;32m      7\u001b[0m         \u001b[0mmax_degree\u001b[0m\u001b[0;34m=\u001b[0m\u001b[0mG\u001b[0m\u001b[0;34m.\u001b[0m\u001b[0mdegree\u001b[0m\u001b[0;34m(\u001b[0m\u001b[0mi\u001b[0m\u001b[0;34m)\u001b[0m\u001b[0;34m\u001b[0m\u001b[0;34m\u001b[0m\u001b[0m\n",
      "\u001b[0;31mNameError\u001b[0m: name 'G' is not defined"
     ]
    }
   ],
   "source": [
    "# let us plot the number of times a node has been visited as a function \n",
    "# of the degree\n",
    "# let us create degree classes\n",
    "max_degree=0\n",
    "for i in G.nodes():\n",
    "    if G.degree(i)>max_degree:\n",
    "        max_degree=G.degree(i) \n",
    "\n",
    "Nk=np.zeros(max_degree+1,int)\n",
    "for i in G.nodes():\n",
    "    Nk[G.degree(i)]+=1\n",
    "        \n",
    "        \n",
    "histogram=np.zeros(max_degree+1,float)\n",
    "for i in range(N):\n",
    "    if G.degree(i)>0:\n",
    "        histogram[G.degree(i)]+=visited[i]/Nk[G.degree(i)]"
   ]
  },
  {
   "cell_type": "code",
   "execution_count": null,
   "metadata": {},
   "outputs": [],
   "source": [
    "plt.plot(histogram,c=\"Red\",linewidth=1.1, marker=\"o\",alpha=0.5) \n",
    "plt.xlabel('k')\n",
    "plt.ylabel('<Visits(k)>')\n",
    "plt.show() "
   ]
  },
  {
   "cell_type": "code",
   "execution_count": null,
   "metadata": {},
   "outputs": [],
   "source": [
    "def line(a,b,t):\n",
    "    return a*t+b\n",
    "\n",
    "x=np.zeros(max_degree+1,int)\n",
    "for i in range(max_degree+1):\n",
    "    x[i]=i\n",
    "    \n",
    "    \n",
    "plt.plot(histogram,c=\"Red\",linewidth=1.1, marker=\"o\",alpha=0.5) \n",
    "plt.plot(x,line(2,25,x),c=\"Black\",linewidth=4,alpha=0.5) \n",
    "plt.xlabel('k')\n",
    "plt.ylabel('<Visits(k)>')\n",
    "plt.show() "
   ]
  },
  {
   "cell_type": "code",
   "execution_count": null,
   "metadata": {},
   "outputs": [],
   "source": [
    "# let us consider W walkers\n",
    "# initially each node has a fix number of walkers\n",
    "average_W=5000\n",
    "W=np.zeros(N,int)\n",
    "for i in G.nodes():\n",
    "    W[i]=average_W"
   ]
  },
  {
   "cell_type": "code",
   "execution_count": null,
   "metadata": {},
   "outputs": [],
   "source": [
    "# now we need to let them diffuse\n",
    "# since in each node we have more than one walker we need to \n",
    "# evaluate how many of them will move in each neighbor \n",
    "# we can use the multinomial\n",
    "# how the multinomial works? \n",
    "\n",
    "# let us consider a list of probabilities\n",
    "# 0 can happen with probability 0.1, 1 with prob 0.3, 2 with prob 0.5....\n",
    "prob=[0.1,0.3,0.5,0.1]\n",
    "\n",
    "np.random.multinomial(5, prob, size=1)"
   ]
  },
  {
   "cell_type": "code",
   "execution_count": null,
   "metadata": {},
   "outputs": [],
   "source": [
    "output=np.random.multinomial(5, prob, size=1)\n",
    "print (output)\n",
    "c=0\n",
    "for i in output[0]:\n",
    "    print (c,i)\n",
    "    c+=1"
   ]
  },
  {
   "cell_type": "code",
   "execution_count": null,
   "metadata": {},
   "outputs": [],
   "source": [
    "# let us apply it to the random walkers\n",
    "# now the concept of time will change\n",
    "# we will implement a syncronous diffusion\n",
    "# one fundamental time step correspond to a chance of all the walkers\n",
    "# to move at the same time\n",
    "# much faster convergence\n",
    "def random_walk3(G,stop,W):\n",
    "    t=0\n",
    "    N=G.number_of_nodes()\n",
    "    while t<stop:\n",
    "        # temporary vector where to store who moves where at eact t\n",
    "        temp=np.zeros(N,int)\n",
    "        for source in G.nodes():\n",
    "            # for each node we let diffuse the walkers out of it\n",
    "            neighbors=list(G.neighbors(source))\n",
    "            # we need to get the probabilities\n",
    "            # we are assuming here that the probability of staying\n",
    "            # in the intial node is 1-p=0\n",
    "            # p could be in general the diffusion rate\n",
    "            prob=[]\n",
    "            degree=G.degree(source)\n",
    "            for i in neighbors:\n",
    "                prob.append(1./degree)\n",
    "            # the probabilities are 1/k    \n",
    "            output=np.random.multinomial(W[source], prob, size=1)\n",
    "            # after calling the multinomial we know how to divide W(i)\n",
    "            id=0\n",
    "            for j in output[0]:\n",
    "                temp[neighbors[id]]+=j\n",
    "                id+=1\n",
    "        # after the loop across all nodes\n",
    "        # we update the values of W\n",
    "        # note that this is correct just if p=1, as in this case\n",
    "        for i in G.nodes():\n",
    "            W[i]=temp[i]\n",
    "        t+=1"
   ]
  },
  {
   "cell_type": "code",
   "execution_count": null,
   "metadata": {},
   "outputs": [],
   "source": [
    "# let us call the function\n",
    "stop=200\n",
    "average_W=5000\n",
    "W=np.zeros(N,int)\n",
    "for i in G.nodes():\n",
    "    W[i]=average_W\n",
    "random_walk3(G,stop,W)"
   ]
  },
  {
   "cell_type": "code",
   "execution_count": null,
   "metadata": {},
   "outputs": [],
   "source": [
    "# let us plot the number of walkers in each degree class k\n",
    "# let us create degree classes\n",
    "max_degree=0\n",
    "for i in G.nodes():\n",
    "    if G.degree(i)>max_degree:\n",
    "        max_degree=G.degree(i) \n",
    "        \n",
    "Nk=np.zeros(max_degree+1,int)\n",
    "for i in G.nodes():\n",
    "    Nk[G.degree(i)]+=1    \n",
    "# let us plot avoiding the zeros        \n",
    "histogram=np.zeros(max_degree+1,float)\n",
    "toplot=set()\n",
    "average_degree=0.\n",
    "for i in range(N):\n",
    "    average_degree+=float(G.degree(i))/N\n",
    "    if G.degree(i)>0:\n",
    "        histogram[G.degree(i)]+=W[i]/Nk[G.degree(i)]\n",
    "        toplot.add(G.degree(i)) # this is the set with all the present \n",
    "                                # degrees\n",
    "x2=[]\n",
    "y2=[]\n",
    "for i in toplot:\n",
    "    x2.append(i)\n",
    "    y2.append(histogram[i])    \n",
    " \n",
    "# this comes from the theory!    \n",
    "slope_line=average_W/average_degree   \n",
    "    \n",
    "plt.plot(x2,y2,c=\"Red\",linewidth=1.1, marker=\"o\",alpha=0.5) \n",
    "plt.plot(x,line(slope_line,0,x),c=\"Black\",linewidth=4,alpha=0.5) \n",
    "plt.xlabel('k')\n",
    "plt.ylabel('<W(k)>')\n",
    "plt.show() "
   ]
  },
  {
   "cell_type": "code",
   "execution_count": 13,
   "metadata": {},
   "outputs": [],
   "source": [
    "# what about using a different d_kk'? \n",
    "# remember from the lecture a more realistic one is d_kk' ~ (kk')^(theta)\n",
    "# let's create the weights first\n",
    "def get_p_traveling(theta,G):\n",
    "    dij={} # this a dictionary we use to compute the rate of travels from any pair ij\n",
    "    for i in G.nodes():\n",
    "        l=G.neighbors(i) # we compute the traveling rate to each neighbor\n",
    "        summ=0.\n",
    "        dij.setdefault(i,{})\n",
    "        for j in l:\n",
    "            # this the numerator of the dij\n",
    "            w= (G.degree(i)*G.degree(j))**theta\n",
    "            dij[i].setdefault(j,w)\n",
    "            summ+=w  # this is the normalization factor: \\sum_{j}wij\n",
    "\n",
    "        for j in dij[i]:\n",
    "            dij[i][j]=dij[i][j]/summ\n",
    "    return dij\n",
    "\n",
    "# let us change a bit the random walk function to account for this dij\n",
    "def random_walk4(G,stop,dij,p,W):\n",
    "    t=0\n",
    "    N=G.number_of_nodes()\n",
    "    while t<stop:\n",
    "        # temporary vector where to store who moves where at eact t\n",
    "        temp=np.zeros(N,int)\n",
    "        temp2=np.zeros(N,int)\n",
    "        for source in G.nodes():\n",
    "            # for each node we let diffuse the walkers out of it\n",
    "            neighbors=list(G.neighbors(source))\n",
    "            # we need to get the probabilities\n",
    "            # now p is not 1!!\n",
    "            prob=[]\n",
    "            for j in neighbors:\n",
    "                prob.append(p*dij[source][j])  # with prob p they travel to j with prob p*d_ij\n",
    "            # with prob 1-p they stay\n",
    "            prob.append(1.-p)\n",
    "            output=np.random.multinomial(W[source], prob, size=1)\n",
    "            # after calling the multinomial we know how to divide W(i)\n",
    "            id=0\n",
    "            for j in range(len(output[0])-1):\n",
    "                temp[neighbors[id]]+=output[0][j] # these are the traveling in\n",
    "                id+=1 \n",
    "            temp2[source]=output[0][-1] # these are those staying in source\n",
    "        # after the loop across all nodes\n",
    "        # we update the values of W\n",
    "        for i in G.nodes():\n",
    "            W[i]=temp[i]+temp2[i]  #since p!=0, this is given by those than arrive plus those that stayed \n",
    "            \n",
    "        t+=1"
   ]
  },
  {
   "cell_type": "code",
   "execution_count": 14,
   "metadata": {},
   "outputs": [
    {
     "ename": "NameError",
     "evalue": "name 'N' is not defined",
     "output_type": "error",
     "traceback": [
      "\u001b[0;31m---------------------------------------------------------------------------\u001b[0m",
      "\u001b[0;31mNameError\u001b[0m                                 Traceback (most recent call last)",
      "\u001b[0;32m<ipython-input-14-7e289fe94127>\u001b[0m in \u001b[0;36m<module>\u001b[0;34m\u001b[0m\n\u001b[1;32m      1\u001b[0m \u001b[0mstop\u001b[0m\u001b[0;34m=\u001b[0m\u001b[0;36m200\u001b[0m\u001b[0;34m\u001b[0m\u001b[0;34m\u001b[0m\u001b[0m\n\u001b[1;32m      2\u001b[0m \u001b[0maverage_W\u001b[0m\u001b[0;34m=\u001b[0m\u001b[0;36m5000\u001b[0m\u001b[0;34m\u001b[0m\u001b[0;34m\u001b[0m\u001b[0m\n\u001b[0;32m----> 3\u001b[0;31m \u001b[0mW\u001b[0m\u001b[0;34m=\u001b[0m\u001b[0mnp\u001b[0m\u001b[0;34m.\u001b[0m\u001b[0mzeros\u001b[0m\u001b[0;34m(\u001b[0m\u001b[0mN\u001b[0m\u001b[0;34m,\u001b[0m\u001b[0mint\u001b[0m\u001b[0;34m)\u001b[0m\u001b[0;34m\u001b[0m\u001b[0;34m\u001b[0m\u001b[0m\n\u001b[0m\u001b[1;32m      4\u001b[0m \u001b[0mp\u001b[0m\u001b[0;34m=\u001b[0m\u001b[0;36m0.5\u001b[0m\u001b[0;34m\u001b[0m\u001b[0;34m\u001b[0m\u001b[0m\n\u001b[1;32m      5\u001b[0m \u001b[0mtheta\u001b[0m\u001b[0;34m=\u001b[0m\u001b[0;36m0.5\u001b[0m\u001b[0;34m\u001b[0m\u001b[0;34m\u001b[0m\u001b[0m\n",
      "\u001b[0;31mNameError\u001b[0m: name 'N' is not defined"
     ]
    }
   ],
   "source": [
    "stop=200\n",
    "average_W=5000\n",
    "W=np.zeros(N,int)\n",
    "p=0.5\n",
    "theta=0.5\n",
    "\n",
    "dij=get_p_traveling(theta,G)\n",
    "\n",
    "for i in G.nodes():\n",
    "    W[i]=average_W\n",
    "random_walk4(G,stop,dij,p,W)"
   ]
  },
  {
   "cell_type": "code",
   "execution_count": null,
   "metadata": {},
   "outputs": [],
   "source": [
    "max_degree=0\n",
    "for i in G.nodes():\n",
    "    if G.degree(i)>max_degree:\n",
    "        max_degree=G.degree(i) \n",
    "        \n",
    "Nk=np.zeros(max_degree+1,int)\n",
    "for i in G.nodes():\n",
    "    Nk[G.degree(i)]+=1    \n",
    "# let us plot avoiding the zeros        \n",
    "histogram=np.zeros(max_degree+1,float)\n",
    "toplot=set()\n",
    "average_degree=0.\n",
    "for i in range(N):\n",
    "    average_degree+=float(G.degree(i)**(1+theta))/N  # this is not really the average but the 1+theta moment!\n",
    "    if G.degree(i)>0:\n",
    "        histogram[G.degree(i)]+=W[i]/Nk[G.degree(i)]\n",
    "        toplot.add(G.degree(i)) # this is the set with all the present \n",
    "                                # degrees\n",
    "x2=[]\n",
    "y2=[]\n",
    "for i in toplot:\n",
    "    x2.append(i)\n",
    "    y2.append(histogram[i])    \n",
    " \n",
    "# this comes from the theory!    \n",
    "slope_line=average_W/average_degree   \n",
    "    \n",
    "plt.plot(x2,y2,c=\"Red\",linewidth=1.1, marker=\"o\",alpha=0.5) \n",
    "plt.plot(x,line(slope_line,0,x**(1+theta)),c=\"Black\",linewidth=4,alpha=0.5) \n",
    "plt.xlabel('k')\n",
    "plt.ylabel('<W(k)>')\n",
    "plt.show() "
   ]
  },
  {
   "cell_type": "code",
   "execution_count": 15,
   "metadata": {},
   "outputs": [],
   "source": [
    "# all the above accounts for the diffusion across patches\n",
    "# what about the reaction? inside we use the classic SIR\n",
    "\n",
    "def SIR_hm(beta,mu,N,status):\n",
    "    p_1=0.\n",
    "    delta_1=0.\n",
    "    delta_2=0.\n",
    "    \n",
    "    p_1=beta*float(status[1])/N  ## P(S-->I) \n",
    "    p_2=mu                      ## P(I--->R)       \n",
    "\n",
    "    if p_1>0.:\n",
    "        # binomial extraction to identify the number of infected people going to I given p_1\n",
    "        delta_1=binomial(status[0], p_1)\n",
    "        \n",
    "    if status[2]!=0:\n",
    "        delta_2=binomial(status[1],p_2)\n",
    "\n",
    "    # update the compartments\n",
    "    status[0]-= delta_1\n",
    "\n",
    "    status[1]+= delta_1\n",
    "    status[1]-= delta_2\n",
    "    \n",
    "    status[2]+= delta_2 # R is id=2\n",
    "    \n",
    "    return 0"
   ]
  },
  {
   "cell_type": "code",
   "execution_count": null,
   "metadata": {},
   "outputs": [],
   "source": [
    "# at each time step first we have the diffusion of people in each compartment\n",
    "# then we have a reaction with the updated population"
   ]
  },
  {
   "cell_type": "code",
   "execution_count": 16,
   "metadata": {},
   "outputs": [
    {
     "name": "stdout",
     "output_type": "stream",
     "text": [
      "339 339\n"
     ]
    }
   ],
   "source": [
    "# let us take a network\n",
    "N=1000\n",
    "m=2\n",
    "G=nx.barabasi_albert_graph(N,m)\n",
    "\n",
    "# let assign V people to each subpopulation\n",
    "average_V=5000\n",
    "V=np.zeros(N,int)\n",
    "for i in G.nodes():\n",
    "    V[i]=average_V\n",
    "\n",
    "# inside each subpopulation people are divided in compartments S,I,R\n",
    "# let's create a dictionary with the compartments\n",
    "compartments={}\n",
    "compartments[0]='S'\n",
    "compartments[1]='I'\n",
    "compartments[2]='R'\n",
    "# that that this could be read from file\n",
    "# then let's create a dictionary for each subpop that tell us how many people in each compartment are there\n",
    "\n",
    "\n",
    "status_subpop={}\n",
    "for i in G.nodes():\n",
    "    status_subpop.setdefault(i,np.zeros(3,int))\n",
    "    for j in compartments:\n",
    "        if compartments[j]=='S': # initially they are all S\n",
    "            status_subpop[i][j]=V[i]\n",
    "        else:\n",
    "            status_subpop[i][j]=0\n",
    "    \n",
    "# now we need to select the subpopulation that are initially seeded\n",
    "# let's select a random fraction of s as initially seeded\n",
    "\n",
    "s=1./N # let's select only one in the first example\n",
    "n_of_infected=int(s*N)\n",
    "# we get the list of nodes and shuffle it\n",
    "list_subpop=[]\n",
    "for i in range(N):\n",
    "    list_subpop.append(i)\n",
    "shuffle(list_subpop)\n",
    "\n",
    "# now let's add a number of infected people in the selected subpopulation\n",
    "for i in range(n_of_infected):\n",
    "    seed_subpop=list_subpop[i]\n",
    "    # for each initial seed we need to change the subpop distribution\n",
    "    for j in compartments:\n",
    "        if compartments[j]=='S': # we remove 10 people\n",
    "            status_subpop[seed_subpop][j]-=10\n",
    "        if compartments[j]=='I': # we make them infected!\n",
    "            status_subpop[seed_subpop][j]+=10\n",
    "            \n",
    "# let's check if it works\n",
    "for i in G.nodes():\n",
    "    if status_subpop[i][1]!=0:\n",
    "        print (i,list_subpop[0])\n",
    "# this is exactly what we need!\n",
    "# so let's create a function that does all of this"
   ]
  },
  {
   "cell_type": "code",
   "execution_count": 17,
   "metadata": {},
   "outputs": [],
   "source": [
    "def ini_subpop(average_V,s,x):\n",
    "    # let assign V people to each subpopulation\n",
    "    V=np.zeros(N,int)\n",
    "    for i in G.nodes():\n",
    "        V[i]=average_V\n",
    "\n",
    "    # inside each subpopulation people are divided in compartments S,I,R\n",
    "    # let's create a dictionary with the compartments\n",
    "    compartments={}\n",
    "    compartments[0]='S'\n",
    "    compartments[1]='I'\n",
    "    compartments[2]='R'\n",
    "    # that that this could be read from file\n",
    "    # then let's create a dictionary for each subpop that tell us how many people in each compartment are there\n",
    "\n",
    "\n",
    "    status_subpop={}\n",
    "    for i in G.nodes():\n",
    "        status_subpop.setdefault(i,np.zeros(3,int))\n",
    "        for j in compartments:\n",
    "            if compartments[j]=='S': # initially they are all S\n",
    "                status_subpop[i][j]=V[i]\n",
    "            else:\n",
    "                status_subpop[i][j]=0\n",
    "\n",
    "    # now we need to select the subpopulation that are initially seeded\n",
    "    # let's select a random fraction of s as initially seeded\n",
    "\n",
    "\n",
    "    n_of_infected=int(s*N)\n",
    "    # we get the list of nodes and shuffle it\n",
    "    list_subpop=[]\n",
    "    for i in range(N):\n",
    "        list_subpop.append(i)\n",
    "    shuffle(list_subpop)\n",
    "\n",
    "    # now let's add a number of infected people in the selected subpopulation\n",
    "    for i in range(n_of_infected):\n",
    "        seed_subpop=list_subpop[i]\n",
    "        # for each initial seed we need to change the subpop distribution\n",
    "        for j in compartments:\n",
    "            if compartments[j]=='S': # we remove 10 people\n",
    "                status_subpop[seed_subpop][j]-=x\n",
    "            if compartments[j]=='I': # we make them infected!\n",
    "                status_subpop[seed_subpop][j]+=x\n",
    "            \n",
    "    return status_subpop"
   ]
  },
  {
   "cell_type": "code",
   "execution_count": 18,
   "metadata": {},
   "outputs": [
    {
     "name": "stdout",
     "output_type": "stream",
     "text": [
      "33287 67006.92704830674\n",
      "45572 67006.92704830674\n",
      "51227 67006.92704830674\n",
      "54632 67006.92704830674\n",
      "57398 67006.92704830674\n",
      "59549 67006.92704830674\n",
      "60988 67006.92704830674\n",
      "62373 67006.92704830674\n",
      "63845 67006.92704830674\n",
      "64947 67006.92704830674\n",
      "65394 67006.92704830674\n",
      "66269 67006.92704830674\n",
      "66594 67006.92704830674\n",
      "67332 67006.92704830674\n",
      "67558 67006.92704830674\n",
      "67725 67006.92704830674\n",
      "67668 67006.92704830674\n",
      "68066 67006.92704830674\n",
      "68151 67006.92704830674\n",
      "68391 67006.92704830674\n"
     ]
    }
   ],
   "source": [
    "N=1000\n",
    "m=2\n",
    "G=nx.barabasi_albert_graph(N,m)\n",
    "\n",
    "average_v=5000\n",
    "s=1./N\n",
    "x=10\n",
    "\n",
    "# this is our function!\n",
    "status_subpop = ini_subpop(average_V,s,x)\n",
    "\n",
    "# let's now get the travel probs\n",
    "p=0.5\n",
    "theta=0.5\n",
    "dij=get_p_traveling(theta,G)\n",
    "\n",
    "# let's define R0 for the disease\n",
    "beta=0.5\n",
    "mu=0.1\n",
    "\n",
    "\n",
    "# now we have everything to make the reaction-diffusion process\n",
    "t_max=20\n",
    "for t in range(t_max):\n",
    "    # at each iteration the first thing is to make people travel\n",
    "    # we make each compartment travel separately\n",
    "    for j in compartments:\n",
    "        people_traveling=np.zeros(N,int) # this is the vector of people traveling in comp j\n",
    "        for k in G.nodes():\n",
    "            people_traveling[k]+=status_subpop[k][j]\n",
    "            \n",
    "        # we then call the random walk function for 1 time step\n",
    "        random_walk4(G,1,dij,p,people_traveling)\n",
    "        # we update the populations given the travels\n",
    "        for k in G.nodes():\n",
    "            status_subpop[k][j]=people_traveling[k]\n",
    "            \n",
    "    # let's see if it works\n",
    "    # the pop of node i should get close to ave*k_i^(1+theta)/<k^(1+\\theta)>\n",
    "    average_degree=0.\n",
    "    for i in range(N):\n",
    "        average_degree+=float(G.degree(i)**(1+theta))/N\n",
    "    \n",
    "    id_check=0\n",
    "    print (status_subpop[id_check][0],average_v*G.degree(id_check)**(1+theta)/average_degree)"
   ]
  },
  {
   "cell_type": "code",
   "execution_count": 19,
   "metadata": {},
   "outputs": [
    {
     "name": "stdout",
     "output_type": "stream",
     "text": [
      "0 2\n",
      "1 5\n",
      "2 9\n",
      "3 19\n",
      "4 27\n",
      "5 42\n",
      "6 61\n",
      "7 96\n",
      "8 133\n",
      "9 175\n",
      "10 244\n",
      "11 333\n",
      "12 439\n",
      "13 541\n",
      "14 660\n",
      "15 754\n",
      "16 854\n",
      "17 926\n",
      "18 962\n",
      "19 993\n"
     ]
    }
   ],
   "source": [
    "# great, so let's add the missing piece\n",
    "N=1000\n",
    "m=2\n",
    "G=nx.barabasi_albert_graph(N,m)\n",
    "\n",
    "average_v=5000\n",
    "s=1./N\n",
    "x=10\n",
    "\n",
    "# this is our function!\n",
    "status_subpop = ini_subpop(average_V,s,x)\n",
    "\n",
    "# let's now get the travel probs\n",
    "p=0.5\n",
    "theta=0.5\n",
    "dij=get_p_traveling(theta,G)\n",
    "\n",
    "# let's define R0 for the disease\n",
    "beta=0.5\n",
    "mu=0.1\n",
    "\n",
    "\n",
    "# now we have everything to make the reaction-diffusion process\n",
    "t_max=20\n",
    "for t in range(t_max):\n",
    "    # at each iteration the first thing is to make people travel\n",
    "    # we make each compartment travel separately\n",
    "    for j in compartments:\n",
    "        people_traveling=np.zeros(N,int) # this is the vector of people traveling in comp j\n",
    "        for k in G.nodes():\n",
    "            people_traveling[k]+=status_subpop[k][j]\n",
    "            \n",
    "        # we then call the random walk function for 1 time step\n",
    "        random_walk4(G,1,dij,p,people_traveling)\n",
    "        # we update the populations given the travels\n",
    "        for k in G.nodes():\n",
    "            status_subpop[k][j]=people_traveling[k]\n",
    "            \n",
    "    # after the traveling we can call the SIR model in each subpopulation\n",
    "    \n",
    "    for k in G.nodes():\n",
    "        tot_pop=0 # we need to know how many people are living in each subpop\n",
    "        inf=0     # also we run the SIR just if there are infected\n",
    "        for j in compartments:\n",
    "            tot_pop+=status_subpop[k][j]\n",
    "            if j==1:\n",
    "                inf=status_subpop[k][j]\n",
    "        if inf>0:\n",
    "            SIR_hm(beta,mu,tot_pop,status_subpop[k]) # note how we are passing status_subpop[k] to the function\n",
    "    #let's see how many diseased subpopulation we have\n",
    "    disease_sub_pop=0\n",
    "    for k in G.nodes():\n",
    "        if status_subpop[k][1]>0:\n",
    "                disease_sub_pop+=1\n",
    "    print (t,disease_sub_pop)"
   ]
  },
  {
   "cell_type": "code",
   "execution_count": 20,
   "metadata": {},
   "outputs": [],
   "source": [
    "# let's convert all of this into a function\n",
    "\n",
    "def metapop(t_max,N,compartments,status_subpop,G,beta,mu,p,theta,dij):\n",
    "    \n",
    "    diseased={} # for each t let's save the number of diseased subpop\n",
    "    prevalence={} # for each t let's save the number of infected people\n",
    "    for t in range(t_max):\n",
    "        # at each iteration the first thing is to make people travel\n",
    "        # we make each compartment travel separately\n",
    "        for j in compartments:\n",
    "            people_traveling=np.zeros(N,int) # this is the vector of people traveling in comp j\n",
    "            for k in G.nodes():\n",
    "                people_traveling[k]+=status_subpop[k][j]\n",
    "\n",
    "            # we then call the random walk function for 1 time step\n",
    "            random_walk4(G,1,dij,p,people_traveling)\n",
    "            # we update the populations given the travels\n",
    "            for k in G.nodes():\n",
    "                status_subpop[k][j]=people_traveling[k]\n",
    "\n",
    "        # after the traveling we can call the SIR model in each subpopulation\n",
    "\n",
    "        for k in G.nodes():\n",
    "            tot_pop=0 # we need to know how many people are living in each subpop\n",
    "            inf=0     # also we run the SIR just if there are infected\n",
    "            for j in compartments:\n",
    "                tot_pop+=status_subpop[k][j]\n",
    "                if j==1:\n",
    "                    inf=status_subpop[k][j]\n",
    "            if inf>0:\n",
    "                SIR_hm(beta,mu,tot_pop,status_subpop[k]) # note how we are passing status_subpop[k] to the function\n",
    "        #let's see how many diseased subpopulation we have\n",
    "        disease_sub_pop=0\n",
    "        tot_inf=0.\n",
    "        for k in G.nodes():\n",
    "            if status_subpop[k][1]>0:\n",
    "                    disease_sub_pop+=1\n",
    "                    tot_inf+=status_subpop[k][1]\n",
    "        diseased[t]=disease_sub_pop\n",
    "        prevalence[t]=tot_inf\n",
    "        \n",
    "    return diseased, prevalence"
   ]
  },
  {
   "cell_type": "code",
   "execution_count": 21,
   "metadata": {},
   "outputs": [
    {
     "data": {
      "image/png": "[encoded data removed]",
      "text/plain": [
       "<Figure size 432x288 with 1 Axes>"
      ]
     },
     "metadata": {
      "needs_background": "light"
     },
     "output_type": "display_data"
    }
   ],
   "source": [
    "N=1000\n",
    "m=2\n",
    "G=nx.barabasi_albert_graph(N,m)\n",
    "\n",
    "average_v=5000\n",
    "s=1./N\n",
    "x=10\n",
    "\n",
    "# this is our function!\n",
    "status_subpop = ini_subpop(average_V,s,x)\n",
    "\n",
    "# let's now get the travel probs\n",
    "p=0.5\n",
    "theta=0.5\n",
    "dij=get_p_traveling(theta,G)\n",
    "\n",
    "# let's define R0 for the disease\n",
    "beta=0.15\n",
    "mu=0.1\n",
    "t_max=100\n",
    "\n",
    "diseased, prevalance = metapop(t_max,N,compartments,status_subpop,G,beta,mu,p,theta,dij)\n",
    "\n",
    "\n",
    "y=[]\n",
    "for i in diseased:\n",
    "    y.append(diseased[i])\n",
    "plt.plot(y)\n",
    "plt.xlabel('$t$')\n",
    "plt.ylabel('D(t)')\n",
    "plt.show()"
   ]
  },
  {
   "cell_type": "code",
   "execution_count": 22,
   "metadata": {},
   "outputs": [
    {
     "data": {
      "image/png": "[encoded data removed]",
      "text/plain": [
       "<Figure size 432x288 with 1 Axes>"
      ]
     },
     "metadata": {
      "needs_background": "light"
     },
     "output_type": "display_data"
    }
   ],
   "source": [
    "# what happnes we change p?\n",
    "\n",
    "status_subpop = ini_subpop(average_V,s,x)\n",
    "\n",
    "# let's now get the travel probs\n",
    "p=0.1\n",
    "theta=0.5\n",
    "dij=get_p_traveling(theta,G)\n",
    "\n",
    "# let's define R0 for the disease\n",
    "beta=0.15\n",
    "mu=0.1\n",
    "t_max=100\n",
    "\n",
    "diseased, prevalance = metapop(t_max,N,compartments,status_subpop,G,beta,mu,p,theta,dij)\n",
    "\n",
    "\n",
    "y2=[]\n",
    "for i in diseased:\n",
    "    y2.append(diseased[i])\n",
    "plt.plot(y)\n",
    "plt.plot(y2)\n",
    "plt.xlabel('$t$')\n",
    "plt.ylabel('D(t)')\n",
    "plt.show()"
   ]
  },
  {
   "cell_type": "code",
   "execution_count": 23,
   "metadata": {},
   "outputs": [
    {
     "data": {
      "image/png": "[encoded data removed]",
      "text/plain": [
       "<Figure size 432x288 with 1 Axes>"
      ]
     },
     "metadata": {
      "needs_background": "light"
     },
     "output_type": "display_data"
    }
   ],
   "source": [
    "# what happnes we change p?\n",
    "\n",
    "status_subpop = ini_subpop(average_V,s,x)\n",
    "\n",
    "# let's now get the travel probs\n",
    "p=0.0001\n",
    "theta=0.5\n",
    "dij=get_p_traveling(theta,G)\n",
    "\n",
    "# let's define R0 for the disease\n",
    "beta=0.15\n",
    "mu=0.1\n",
    "t_max=200\n",
    "\n",
    "diseased, prevalance = metapop(t_max,N,compartments,status_subpop,G,beta,mu,p,theta,dij)\n",
    "\n",
    "\n",
    "y3=[]\n",
    "for i in diseased:\n",
    "    y3.append(diseased[i])\n",
    "plt.plot(y)\n",
    "plt.plot(y2)\n",
    "plt.plot(y3)\n",
    "plt.xlabel('$t$')\n",
    "plt.ylabel('D(t)')\n",
    "plt.show()"
   ]
  },
  {
   "cell_type": "code",
   "execution_count": null,
   "metadata": {},
   "outputs": [],
   "source": [
    "# even very small values still allow the disease to spread!\n",
    "# what was the threshold?"
   ]
  },
  {
   "cell_type": "markdown",
   "metadata": {},
   "source": [
    "$$p \\bar{N} >  \\frac{{\\langle k^{1+\\theta} \\rangle^2}}{\\langle k^{2+2\\theta}\\rangle-\\langle k^{1+2\\theta}\\rangle }\\frac{R_0^2}{2(R_0-1)^2} \\mu $$"
   ]
  },
  {
   "cell_type": "code",
   "execution_count": 24,
   "metadata": {},
   "outputs": [
    {
     "name": "stdout",
     "output_type": "stream",
     "text": [
      "1.0231850395296737e-05\n"
     ]
    }
   ],
   "source": [
    "# let get the value\n",
    "moment_1_theta=0.\n",
    "moment_2_2theta=0.\n",
    "moment_1_2theta=0.\n",
    "for i in range(N):\n",
    "        moment_1_theta+=float(G.degree(i)**(1+theta))/N\n",
    "        moment_2_2theta+=float(G.degree(i)**(2+2*theta))/N\n",
    "        moment_1_2theta+=float(G.degree(i)**(1+2*theta))/N\n",
    "R0=beta/mu\n",
    "thre=mu*(R0**2/(2*(R0-1)**2))*moment_1_theta**2./(moment_2_2theta-moment_1_2theta)\n",
    "print (thre/average_v)"
   ]
  },
  {
   "cell_type": "code",
   "execution_count": 25,
   "metadata": {},
   "outputs": [
    {
     "name": "stdout",
     "output_type": "stream",
     "text": [
      "3.992\n"
     ]
    }
   ],
   "source": [
    "# what happens if we change the topology?\n",
    "# what's the average degree?\n",
    "print (2*G.number_of_edges()/G.number_of_nodes())"
   ]
  },
  {
   "cell_type": "code",
   "execution_count": 26,
   "metadata": {},
   "outputs": [
    {
     "data": {
      "image/png": "[encoded data removed]",
      "text/plain": [
       "<Figure size 432x288 with 1 Axes>"
      ]
     },
     "metadata": {
      "needs_background": "light"
     },
     "output_type": "display_data"
    }
   ],
   "source": [
    "N=1000\n",
    "p_val=(2.*G.number_of_edges()/G.number_of_nodes()**2)\n",
    "G=nx.erdos_renyi_graph(N,p_val)\n",
    "\n",
    "average_v=5000\n",
    "s=1./N\n",
    "x=10\n",
    "\n",
    "# this is our function!\n",
    "status_subpop = ini_subpop(average_V,s,x)\n",
    "\n",
    "# let's now get the travel probs\n",
    "p=0.5\n",
    "theta=0.5\n",
    "dij=get_p_traveling(theta,G)\n",
    "\n",
    "# let's define R0 for the disease\n",
    "beta=0.15\n",
    "mu=0.1\n",
    "t_max=100\n",
    "\n",
    "diseased, prevalance = metapop(t_max,N,compartments,status_subpop,G,beta,mu,p,theta,dij)\n",
    "\n",
    "\n",
    "y_er=[]\n",
    "for i in diseased:\n",
    "    y_er.append(diseased[i])\n",
    "plt.plot(y)\n",
    "plt.plot(y_er,color='Red')\n",
    "plt.xlabel('$t$')\n",
    "plt.ylabel('D(t)')\n",
    "plt.show()"
   ]
  },
  {
   "cell_type": "code",
   "execution_count": 27,
   "metadata": {},
   "outputs": [
    {
     "data": {
      "image/png": "[encoded data removed]",
      "text/plain": [
       "<Figure size 432x288 with 1 Axes>"
      ]
     },
     "metadata": {
      "needs_background": "light"
     },
     "output_type": "display_data"
    }
   ],
   "source": [
    "# let's reduce p\n",
    "status_subpop = ini_subpop(average_V,s,x)\n",
    "\n",
    "# let's now get the travel probs\n",
    "p=0.0001\n",
    "theta=0.5\n",
    "dij=get_p_traveling(theta,G)\n",
    "\n",
    "# let's define R0 for the disease\n",
    "beta=0.15\n",
    "mu=0.1\n",
    "t_max=100\n",
    "\n",
    "diseased, prevalance = metapop(t_max,N,compartments,status_subpop,G,beta,mu,p,theta,dij)\n",
    "\n",
    "\n",
    "y_er=[]\n",
    "for i in diseased:\n",
    "    y_er.append(diseased[i])\n",
    "plt.plot(y)\n",
    "plt.plot(y_er,color='Red')\n",
    "plt.plot(y3,color='Green')\n",
    "plt.xlabel('$t$')\n",
    "plt.ylabel('D(t)')\n",
    "plt.show()"
   ]
  },
  {
   "cell_type": "code",
   "execution_count": 28,
   "metadata": {},
   "outputs": [],
   "source": [
    "# this is the effect of heterogeneity!"
   ]
  }
 ],
 "metadata": {
  "kernelspec": {
   "display_name": "Python 3",
   "language": "python",
   "name": "python3"
  },
  "language_info": {
   "codemirror_mode": {
    "name": "ipython",
    "version": 3
   },
   "file_extension": ".py",
   "mimetype": "text/x-python",
   "name": "python",
   "nbconvert_exporter": "python",
   "pygments_lexer": "ipython3",
   "version": "3.7.6"
  }
 },
 "nbformat": 4,
 "nbformat_minor": 4
}
