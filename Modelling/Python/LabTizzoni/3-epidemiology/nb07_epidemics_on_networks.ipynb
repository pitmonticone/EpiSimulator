{
 "cells": [
  {
   "cell_type": "markdown",
   "metadata": {},
   "source": [
    "We use the Python library [\"Epidemics on Networks\" developed by Kiss, Miller & Simon](https://github.com/springer-math/Mathematics-of-Epidemics-on-Networks).\n",
    "\n",
    "The library must be installed using pip:\n",
    "\n",
    "    pip install EoN\n",
    "  \n",
    "\n",
    "The library documentation is [available here](http://epidemicsonnetworks.readthedocs.io/en/latest/). "
   ]
  },
  {
   "cell_type": "code",
   "execution_count": 1,
   "metadata": {},
   "outputs": [],
   "source": [
    "import EoN\n",
    "import networkx as nx\n",
    "import numpy as np\n",
    "from collections import defaultdict\n",
    "import pandas as pd\n",
    "import seaborn as sns\n",
    "import matplotlib.ticker as ticker"
   ]
  },
  {
   "cell_type": "code",
   "execution_count": 2,
   "metadata": {},
   "outputs": [
    {
     "name": "stdout",
     "output_type": "stream",
     "text": [
      "Populating the interactive namespace from numpy and matplotlib\n"
     ]
    }
   ],
   "source": [
    "%pylab inline"
   ]
  },
  {
   "cell_type": "markdown",
   "metadata": {},
   "source": [
    "# Homogeneous network"
   ]
  },
  {
   "cell_type": "markdown",
   "metadata": {},
   "source": [
    "We simulate the spread of an SIR on an Erdos-Renyi graph with constant recovery rate."
   ]
  },
  {
   "cell_type": "code",
   "execution_count": 3,
   "metadata": {},
   "outputs": [],
   "source": [
    "N=10000\n",
    "p=0.001\n",
    "G=nx.fast_gnp_random_graph(N, p)"
   ]
  },
  {
   "cell_type": "code",
   "execution_count": 4,
   "metadata": {},
   "outputs": [
    {
     "data": {
      "text/plain": [
       "True"
      ]
     },
     "execution_count": 4,
     "metadata": {},
     "output_type": "execute_result"
    }
   ],
   "source": [
    "nx.is_connected(G)"
   ]
  },
  {
   "cell_type": "code",
   "execution_count": 5,
   "metadata": {},
   "outputs": [
    {
     "name": "stdout",
     "output_type": "stream",
     "text": [
      "Name: \n",
      "Type: Graph\n",
      "Number of nodes: 10000\n",
      "Number of edges: 49860\n",
      "Average degree:   9.9720\n"
     ]
    }
   ],
   "source": [
    "print(nx.info(G))"
   ]
  },
  {
   "cell_type": "markdown",
   "metadata": {},
   "source": [
    "---\n",
    "# The epidemic threshold for this network can be approximated as $\\lambda_c = \\frac{\\mu}{\\langle k \\rangle}$"
   ]
  },
  {
   "cell_type": "code",
   "execution_count": 6,
   "metadata": {},
   "outputs": [],
   "source": [
    "mu=0.2"
   ]
  },
  {
   "cell_type": "code",
   "execution_count": 7,
   "metadata": {},
   "outputs": [
    {
     "name": "stdout",
     "output_type": "stream",
     "text": [
      "0.020056157240272765\n"
     ]
    }
   ],
   "source": [
    "avg_deg1=2*len(G.edges)/N\n",
    "lc=mu/avg_deg1\n",
    "print(lc)"
   ]
  },
  {
   "cell_type": "markdown",
   "metadata": {},
   "source": [
    "# As expected for this network, we have $\\langle k^2 \\rangle \\sim \\langle k \\rangle^2 + \\langle k \\rangle$"
   ]
  },
  {
   "cell_type": "code",
   "execution_count": 8,
   "metadata": {},
   "outputs": [
    {
     "name": "stdout",
     "output_type": "stream",
     "text": [
      "109.5058\n"
     ]
    }
   ],
   "source": [
    "sum_k2=0\n",
    "for i in G.nodes():\n",
    "    k=G.degree(i)\n",
    "    sum_k2+=k*k\n",
    "avg_k2=sum_k2/N\n",
    "print(avg_k2)  "
   ]
  },
  {
   "cell_type": "code",
   "execution_count": 9,
   "metadata": {},
   "outputs": [
    {
     "data": {
      "text/plain": [
       "109.41278399999999"
      ]
     },
     "execution_count": 9,
     "metadata": {},
     "output_type": "execute_result"
    }
   ],
   "source": [
    "avg_deg1**2 + avg_deg1"
   ]
  },
  {
   "cell_type": "markdown",
   "metadata": {},
   "source": [
    "## Simulations of an SIR process\n",
    "We simulate 20 realizations of a SIR model for increasing values of $\\lambda$ using the [fast_SIR function of EoN](https://epidemicsonnetworks.readthedocs.io/en/latest/functions/EoN.fast_SIR.html?highlight=fast_SIR)"
   ]
  },
  {
   "cell_type": "code",
   "execution_count": 10,
   "metadata": {},
   "outputs": [],
   "source": [
    "final_size=defaultdict(list)\n",
    "\n",
    "for lambd in np.geomspace(0.0001, 1.0, 20):\n",
    "    \n",
    "    for r in range(0, 20):\n",
    "        t, S, I, R = EoN.fast_SIR(G, lambd, mu, rho=0.05)\n",
    "        \n",
    "        final_size[lambd].append(R[-1]/N)"
   ]
  },
  {
   "cell_type": "code",
   "execution_count": 11,
   "metadata": {},
   "outputs": [],
   "source": [
    "homo_net_size=pd.DataFrame.from_dict(final_size)"
   ]
  },
  {
   "cell_type": "code",
   "execution_count": 12,
   "metadata": {},
   "outputs": [
    {
     "data": {
      "text/html": [
       "<div>\n",
       "<style scoped>\n",
       "    .dataframe tbody tr th:only-of-type {\n",
       "        vertical-align: middle;\n",
       "    }\n",
       "\n",
       "    .dataframe tbody tr th {\n",
       "        vertical-align: top;\n",
       "    }\n",
       "\n",
       "    .dataframe thead th {\n",
       "        text-align: right;\n",
       "    }\n",
       "</style>\n",
       "<table border=\"1\" class=\"dataframe\">\n",
       "  <thead>\n",
       "    <tr style=\"text-align: right;\">\n",
       "      <th></th>\n",
       "      <th>0.000100</th>\n",
       "      <th>0.000162</th>\n",
       "      <th>0.000264</th>\n",
       "      <th>0.000428</th>\n",
       "      <th>0.000695</th>\n",
       "      <th>0.001129</th>\n",
       "      <th>0.001833</th>\n",
       "      <th>0.002976</th>\n",
       "      <th>0.004833</th>\n",
       "      <th>0.007848</th>\n",
       "      <th>0.012743</th>\n",
       "      <th>0.020691</th>\n",
       "      <th>0.033598</th>\n",
       "      <th>0.054556</th>\n",
       "      <th>0.088587</th>\n",
       "      <th>0.143845</th>\n",
       "      <th>0.233572</th>\n",
       "      <th>0.379269</th>\n",
       "      <th>0.615848</th>\n",
       "      <th>1.000000</th>\n",
       "    </tr>\n",
       "  </thead>\n",
       "  <tbody>\n",
       "    <tr>\n",
       "      <th>0</th>\n",
       "      <td>0.0501</td>\n",
       "      <td>0.0503</td>\n",
       "      <td>0.0511</td>\n",
       "      <td>0.0512</td>\n",
       "      <td>0.0519</td>\n",
       "      <td>0.0535</td>\n",
       "      <td>0.0548</td>\n",
       "      <td>0.0580</td>\n",
       "      <td>0.0665</td>\n",
       "      <td>0.0758</td>\n",
       "      <td>0.1052</td>\n",
       "      <td>0.2712</td>\n",
       "      <td>0.5639</td>\n",
       "      <td>0.8524</td>\n",
       "      <td>0.9472</td>\n",
       "      <td>0.9848</td>\n",
       "      <td>0.9954</td>\n",
       "      <td>0.9979</td>\n",
       "      <td>0.9996</td>\n",
       "      <td>0.9998</td>\n",
       "    </tr>\n",
       "    <tr>\n",
       "      <th>1</th>\n",
       "      <td>0.0502</td>\n",
       "      <td>0.0500</td>\n",
       "      <td>0.0509</td>\n",
       "      <td>0.0513</td>\n",
       "      <td>0.0514</td>\n",
       "      <td>0.0524</td>\n",
       "      <td>0.0549</td>\n",
       "      <td>0.0571</td>\n",
       "      <td>0.0633</td>\n",
       "      <td>0.0761</td>\n",
       "      <td>0.1193</td>\n",
       "      <td>0.2390</td>\n",
       "      <td>0.6001</td>\n",
       "      <td>0.8486</td>\n",
       "      <td>0.9468</td>\n",
       "      <td>0.9846</td>\n",
       "      <td>0.9964</td>\n",
       "      <td>0.9991</td>\n",
       "      <td>0.9995</td>\n",
       "      <td>0.9998</td>\n",
       "    </tr>\n",
       "    <tr>\n",
       "      <th>2</th>\n",
       "      <td>0.0504</td>\n",
       "      <td>0.0502</td>\n",
       "      <td>0.0503</td>\n",
       "      <td>0.0513</td>\n",
       "      <td>0.0521</td>\n",
       "      <td>0.0529</td>\n",
       "      <td>0.0537</td>\n",
       "      <td>0.0554</td>\n",
       "      <td>0.0625</td>\n",
       "      <td>0.0807</td>\n",
       "      <td>0.1090</td>\n",
       "      <td>0.2239</td>\n",
       "      <td>0.5677</td>\n",
       "      <td>0.8432</td>\n",
       "      <td>0.9479</td>\n",
       "      <td>0.9859</td>\n",
       "      <td>0.9956</td>\n",
       "      <td>0.9983</td>\n",
       "      <td>0.9998</td>\n",
       "      <td>0.9999</td>\n",
       "    </tr>\n",
       "    <tr>\n",
       "      <th>3</th>\n",
       "      <td>0.0501</td>\n",
       "      <td>0.0505</td>\n",
       "      <td>0.0513</td>\n",
       "      <td>0.0516</td>\n",
       "      <td>0.0518</td>\n",
       "      <td>0.0528</td>\n",
       "      <td>0.0552</td>\n",
       "      <td>0.0588</td>\n",
       "      <td>0.0643</td>\n",
       "      <td>0.0799</td>\n",
       "      <td>0.1082</td>\n",
       "      <td>0.2476</td>\n",
       "      <td>0.5702</td>\n",
       "      <td>0.8410</td>\n",
       "      <td>0.9470</td>\n",
       "      <td>0.9834</td>\n",
       "      <td>0.9954</td>\n",
       "      <td>0.9988</td>\n",
       "      <td>0.9993</td>\n",
       "      <td>0.9999</td>\n",
       "    </tr>\n",
       "    <tr>\n",
       "      <th>4</th>\n",
       "      <td>0.0501</td>\n",
       "      <td>0.0502</td>\n",
       "      <td>0.0501</td>\n",
       "      <td>0.0515</td>\n",
       "      <td>0.0524</td>\n",
       "      <td>0.0528</td>\n",
       "      <td>0.0541</td>\n",
       "      <td>0.0572</td>\n",
       "      <td>0.0662</td>\n",
       "      <td>0.0734</td>\n",
       "      <td>0.0972</td>\n",
       "      <td>0.2600</td>\n",
       "      <td>0.5952</td>\n",
       "      <td>0.8345</td>\n",
       "      <td>0.9512</td>\n",
       "      <td>0.9816</td>\n",
       "      <td>0.9960</td>\n",
       "      <td>0.9990</td>\n",
       "      <td>0.9999</td>\n",
       "      <td>0.9997</td>\n",
       "    </tr>\n",
       "  </tbody>\n",
       "</table>\n",
       "</div>"
      ],
      "text/plain": [
       "   0.000100  0.000162  0.000264  0.000428  0.000695  0.001129  0.001833  \\\n",
       "0    0.0501    0.0503    0.0511    0.0512    0.0519    0.0535    0.0548   \n",
       "1    0.0502    0.0500    0.0509    0.0513    0.0514    0.0524    0.0549   \n",
       "2    0.0504    0.0502    0.0503    0.0513    0.0521    0.0529    0.0537   \n",
       "3    0.0501    0.0505    0.0513    0.0516    0.0518    0.0528    0.0552   \n",
       "4    0.0501    0.0502    0.0501    0.0515    0.0524    0.0528    0.0541   \n",
       "\n",
       "   0.002976  0.004833  0.007848  0.012743  0.020691  0.033598  0.054556  \\\n",
       "0    0.0580    0.0665    0.0758    0.1052    0.2712    0.5639    0.8524   \n",
       "1    0.0571    0.0633    0.0761    0.1193    0.2390    0.6001    0.8486   \n",
       "2    0.0554    0.0625    0.0807    0.1090    0.2239    0.5677    0.8432   \n",
       "3    0.0588    0.0643    0.0799    0.1082    0.2476    0.5702    0.8410   \n",
       "4    0.0572    0.0662    0.0734    0.0972    0.2600    0.5952    0.8345   \n",
       "\n",
       "   0.088587  0.143845  0.233572  0.379269  0.615848  1.000000  \n",
       "0    0.9472    0.9848    0.9954    0.9979    0.9996    0.9998  \n",
       "1    0.9468    0.9846    0.9964    0.9991    0.9995    0.9998  \n",
       "2    0.9479    0.9859    0.9956    0.9983    0.9998    0.9999  \n",
       "3    0.9470    0.9834    0.9954    0.9988    0.9993    0.9999  \n",
       "4    0.9512    0.9816    0.9960    0.9990    0.9999    0.9997  "
      ]
     },
     "execution_count": 12,
     "metadata": {},
     "output_type": "execute_result"
    }
   ],
   "source": [
    "homo_net_size.head()"
   ]
  },
  {
   "cell_type": "code",
   "execution_count": 13,
   "metadata": {},
   "outputs": [
    {
     "data": {
      "text/plain": [
       "Text(0.5, 0, '$\\\\lambda$')"
      ]
     },
     "execution_count": 13,
     "metadata": {},
     "output_type": "execute_result"
    },
    {
     "data": {
      "image/png": "[encoded data removed]",
      "text/plain": [
       "<Figure size 864x504 with 1 Axes>"
      ]
     },
     "metadata": {
      "needs_background": "light"
     },
     "output_type": "display_data"
    }
   ],
   "source": [
    "plt.figure(figsize=(12,7))\n",
    "\n",
    "homo_net_size.boxplot(positions=np.array(homo_net_size.columns), \n",
    "                      widths=np.array(homo_net_size.columns)/3)\n",
    "\n",
    "plt.vlines(x=lc, ymin=0.045, ymax=1.1)\n",
    "\n",
    "plt.xscale('log')\n",
    "plt.yscale('log')\n",
    "plt.xlim(0.0001, 1.0)\n",
    "plt.ylim(0.045, 1.1)\n",
    "plt.xticks(fontsize=18)\n",
    "plt.yticks(fontsize=18)\n",
    "plt.ylabel('final epidemic size', fontsize=18)\n",
    "plt.xlabel('$\\lambda$', fontsize=18)"
   ]
  },
  {
   "cell_type": "markdown",
   "metadata": {},
   "source": [
    "# Barabàsi-Albert model network"
   ]
  },
  {
   "cell_type": "code",
   "execution_count": 14,
   "metadata": {},
   "outputs": [],
   "source": [
    "N=10000\n",
    "AB=nx.barabasi_albert_graph(N, 5)"
   ]
  },
  {
   "cell_type": "code",
   "execution_count": 15,
   "metadata": {},
   "outputs": [
    {
     "data": {
      "text/plain": [
       "True"
      ]
     },
     "execution_count": 15,
     "metadata": {},
     "output_type": "execute_result"
    }
   ],
   "source": [
    "nx.is_connected(AB)"
   ]
  },
  {
   "cell_type": "code",
   "execution_count": 16,
   "metadata": {},
   "outputs": [
    {
     "name": "stdout",
     "output_type": "stream",
     "text": [
      "Name: \n",
      "Type: Graph\n",
      "Number of nodes: 10000\n",
      "Number of edges: 49975\n",
      "Average degree:   9.9950\n"
     ]
    }
   ],
   "source": [
    "print(nx.info(AB))"
   ]
  },
  {
   "cell_type": "code",
   "execution_count": 17,
   "metadata": {},
   "outputs": [
    {
     "name": "stdout",
     "output_type": "stream",
     "text": [
      "276.2968\n"
     ]
    }
   ],
   "source": [
    "sum_k2=0\n",
    "for i in AB.nodes():\n",
    "    k=AB.degree(i)\n",
    "    sum_k2+=k*k\n",
    "avg_k2=sum_k2/N\n",
    "print(avg_k2)    "
   ]
  },
  {
   "cell_type": "code",
   "execution_count": 18,
   "metadata": {},
   "outputs": [
    {
     "name": "stdout",
     "output_type": "stream",
     "text": [
      "9.995\n"
     ]
    }
   ],
   "source": [
    "avg_deg=2*len(AB.edges)/N\n",
    "print(avg_deg)"
   ]
  },
  {
   "cell_type": "markdown",
   "metadata": {},
   "source": [
    "# The threshold can be approximated as $\\lambda_c \\sim \\mu \\frac{\\langle k \\rangle}{\\langle k^2 \\rangle - \\langle k \\rangle}$ "
   ]
  },
  {
   "cell_type": "code",
   "execution_count": 19,
   "metadata": {},
   "outputs": [
    {
     "name": "stdout",
     "output_type": "stream",
     "text": [
      "0.007506520797080605\n"
     ]
    }
   ],
   "source": [
    "lambda_c=mu*avg_deg/(avg_k2-avg_deg)\n",
    "print(lambda_c)"
   ]
  },
  {
   "cell_type": "code",
   "execution_count": 20,
   "metadata": {},
   "outputs": [
    {
     "data": {
      "text/plain": [
       "2.6718313027352028"
      ]
     },
     "execution_count": 20,
     "metadata": {},
     "output_type": "execute_result"
    }
   ],
   "source": [
    "lc/lambda_c"
   ]
  },
  {
   "cell_type": "markdown",
   "metadata": {},
   "source": [
    "## Simulations of an SIR process\n",
    "We simulate 100 realizations of a SIR model for increasing values of $\\lambda$"
   ]
  },
  {
   "cell_type": "code",
   "execution_count": 21,
   "metadata": {},
   "outputs": [],
   "source": [
    "final_size_AB=defaultdict(list)\n",
    "\n",
    "for lambd in np.geomspace(0.0001, 1.0, 20):\n",
    "    for r in range(0, 100):\n",
    "        \n",
    "        t, S, I, R = EoN.fast_SIR(AB, lambd, mu, rho=0.05)\n",
    "        \n",
    "        final_size_AB[lambd].append(R[-1]/N)"
   ]
  },
  {
   "cell_type": "code",
   "execution_count": 22,
   "metadata": {},
   "outputs": [],
   "source": [
    "sf_net_size=pd.DataFrame.from_dict(final_size_AB)"
   ]
  },
  {
   "cell_type": "code",
   "execution_count": 23,
   "metadata": {},
   "outputs": [
    {
     "data": {
      "text/html": [
       "<div>\n",
       "<style scoped>\n",
       "    .dataframe tbody tr th:only-of-type {\n",
       "        vertical-align: middle;\n",
       "    }\n",
       "\n",
       "    .dataframe tbody tr th {\n",
       "        vertical-align: top;\n",
       "    }\n",
       "\n",
       "    .dataframe thead th {\n",
       "        text-align: right;\n",
       "    }\n",
       "</style>\n",
       "<table border=\"1\" class=\"dataframe\">\n",
       "  <thead>\n",
       "    <tr style=\"text-align: right;\">\n",
       "      <th></th>\n",
       "      <th>0.000100</th>\n",
       "      <th>0.000162</th>\n",
       "      <th>0.000264</th>\n",
       "      <th>0.000428</th>\n",
       "      <th>0.000695</th>\n",
       "      <th>0.001129</th>\n",
       "      <th>0.001833</th>\n",
       "      <th>0.002976</th>\n",
       "      <th>0.004833</th>\n",
       "      <th>0.007848</th>\n",
       "      <th>0.012743</th>\n",
       "      <th>0.020691</th>\n",
       "      <th>0.033598</th>\n",
       "      <th>0.054556</th>\n",
       "      <th>0.088587</th>\n",
       "      <th>0.143845</th>\n",
       "      <th>0.233572</th>\n",
       "      <th>0.379269</th>\n",
       "      <th>0.615848</th>\n",
       "      <th>1.000000</th>\n",
       "    </tr>\n",
       "  </thead>\n",
       "  <tbody>\n",
       "    <tr>\n",
       "      <th>95</th>\n",
       "      <td>0.0503</td>\n",
       "      <td>0.0502</td>\n",
       "      <td>0.0506</td>\n",
       "      <td>0.0509</td>\n",
       "      <td>0.0515</td>\n",
       "      <td>0.0534</td>\n",
       "      <td>0.0555</td>\n",
       "      <td>0.0577</td>\n",
       "      <td>0.0663</td>\n",
       "      <td>0.1064</td>\n",
       "      <td>0.1941</td>\n",
       "      <td>0.3663</td>\n",
       "      <td>0.5795</td>\n",
       "      <td>0.7752</td>\n",
       "      <td>0.9154</td>\n",
       "      <td>0.9699</td>\n",
       "      <td>0.9923</td>\n",
       "      <td>0.9984</td>\n",
       "      <td>0.9999</td>\n",
       "      <td>1.0000</td>\n",
       "    </tr>\n",
       "    <tr>\n",
       "      <th>96</th>\n",
       "      <td>0.0500</td>\n",
       "      <td>0.0501</td>\n",
       "      <td>0.0509</td>\n",
       "      <td>0.0511</td>\n",
       "      <td>0.0512</td>\n",
       "      <td>0.0519</td>\n",
       "      <td>0.0568</td>\n",
       "      <td>0.0600</td>\n",
       "      <td>0.0780</td>\n",
       "      <td>0.1084</td>\n",
       "      <td>0.1879</td>\n",
       "      <td>0.3511</td>\n",
       "      <td>0.5834</td>\n",
       "      <td>0.7702</td>\n",
       "      <td>0.9121</td>\n",
       "      <td>0.9689</td>\n",
       "      <td>0.9928</td>\n",
       "      <td>0.9975</td>\n",
       "      <td>0.9998</td>\n",
       "      <td>1.0000</td>\n",
       "    </tr>\n",
       "    <tr>\n",
       "      <th>97</th>\n",
       "      <td>0.0501</td>\n",
       "      <td>0.0505</td>\n",
       "      <td>0.0505</td>\n",
       "      <td>0.0505</td>\n",
       "      <td>0.0520</td>\n",
       "      <td>0.0532</td>\n",
       "      <td>0.0570</td>\n",
       "      <td>0.0588</td>\n",
       "      <td>0.0721</td>\n",
       "      <td>0.0945</td>\n",
       "      <td>0.2215</td>\n",
       "      <td>0.3587</td>\n",
       "      <td>0.5934</td>\n",
       "      <td>0.7751</td>\n",
       "      <td>0.9055</td>\n",
       "      <td>0.9703</td>\n",
       "      <td>0.9909</td>\n",
       "      <td>0.9979</td>\n",
       "      <td>0.9994</td>\n",
       "      <td>1.0000</td>\n",
       "    </tr>\n",
       "    <tr>\n",
       "      <th>98</th>\n",
       "      <td>0.0502</td>\n",
       "      <td>0.0503</td>\n",
       "      <td>0.0504</td>\n",
       "      <td>0.0516</td>\n",
       "      <td>0.0522</td>\n",
       "      <td>0.0522</td>\n",
       "      <td>0.0543</td>\n",
       "      <td>0.0621</td>\n",
       "      <td>0.0756</td>\n",
       "      <td>0.1055</td>\n",
       "      <td>0.2012</td>\n",
       "      <td>0.3626</td>\n",
       "      <td>0.5872</td>\n",
       "      <td>0.7753</td>\n",
       "      <td>0.9062</td>\n",
       "      <td>0.9686</td>\n",
       "      <td>0.9900</td>\n",
       "      <td>0.9983</td>\n",
       "      <td>0.9998</td>\n",
       "      <td>1.0000</td>\n",
       "    </tr>\n",
       "    <tr>\n",
       "      <th>99</th>\n",
       "      <td>0.0504</td>\n",
       "      <td>0.0507</td>\n",
       "      <td>0.0506</td>\n",
       "      <td>0.0512</td>\n",
       "      <td>0.0517</td>\n",
       "      <td>0.0524</td>\n",
       "      <td>0.0571</td>\n",
       "      <td>0.0600</td>\n",
       "      <td>0.0710</td>\n",
       "      <td>0.0956</td>\n",
       "      <td>0.1832</td>\n",
       "      <td>0.3797</td>\n",
       "      <td>0.5949</td>\n",
       "      <td>0.7831</td>\n",
       "      <td>0.9096</td>\n",
       "      <td>0.9659</td>\n",
       "      <td>0.9893</td>\n",
       "      <td>0.9985</td>\n",
       "      <td>0.9994</td>\n",
       "      <td>0.9999</td>\n",
       "    </tr>\n",
       "  </tbody>\n",
       "</table>\n",
       "</div>"
      ],
      "text/plain": [
       "    0.000100  0.000162  0.000264  0.000428  0.000695  0.001129  0.001833  \\\n",
       "95    0.0503    0.0502    0.0506    0.0509    0.0515    0.0534    0.0555   \n",
       "96    0.0500    0.0501    0.0509    0.0511    0.0512    0.0519    0.0568   \n",
       "97    0.0501    0.0505    0.0505    0.0505    0.0520    0.0532    0.0570   \n",
       "98    0.0502    0.0503    0.0504    0.0516    0.0522    0.0522    0.0543   \n",
       "99    0.0504    0.0507    0.0506    0.0512    0.0517    0.0524    0.0571   \n",
       "\n",
       "    0.002976  0.004833  0.007848  0.012743  0.020691  0.033598  0.054556  \\\n",
       "95    0.0577    0.0663    0.1064    0.1941    0.3663    0.5795    0.7752   \n",
       "96    0.0600    0.0780    0.1084    0.1879    0.3511    0.5834    0.7702   \n",
       "97    0.0588    0.0721    0.0945    0.2215    0.3587    0.5934    0.7751   \n",
       "98    0.0621    0.0756    0.1055    0.2012    0.3626    0.5872    0.7753   \n",
       "99    0.0600    0.0710    0.0956    0.1832    0.3797    0.5949    0.7831   \n",
       "\n",
       "    0.088587  0.143845  0.233572  0.379269  0.615848  1.000000  \n",
       "95    0.9154    0.9699    0.9923    0.9984    0.9999    1.0000  \n",
       "96    0.9121    0.9689    0.9928    0.9975    0.9998    1.0000  \n",
       "97    0.9055    0.9703    0.9909    0.9979    0.9994    1.0000  \n",
       "98    0.9062    0.9686    0.9900    0.9983    0.9998    1.0000  \n",
       "99    0.9096    0.9659    0.9893    0.9985    0.9994    0.9999  "
      ]
     },
     "execution_count": 23,
     "metadata": {},
     "output_type": "execute_result"
    }
   ],
   "source": [
    "sf_net_size.tail()"
   ]
  },
  {
   "cell_type": "code",
   "execution_count": 24,
   "metadata": {},
   "outputs": [
    {
     "data": {
      "text/plain": [
       "Text(0.5, 0, '$\\\\lambda$')"
      ]
     },
     "execution_count": 24,
     "metadata": {},
     "output_type": "execute_result"
    },
    {
     "data": {
      "image/png": "[encoded data removed]",
      "text/plain": [
       "<Figure size 864x504 with 1 Axes>"
      ]
     },
     "metadata": {
      "needs_background": "light"
     },
     "output_type": "display_data"
    }
   ],
   "source": [
    "plt.figure(figsize=(12,7))\n",
    "\n",
    "#homo_net_size.boxplot(positions=np.array(homo_net_size.columns), widths=np.array(homo_net_size.columns)/3 )\n",
    "\n",
    "plt.vlines(x=lambda_c, ymin=0.04, ymax=1.1)\n",
    "sf_net_size.boxplot(positions=np.array(sf_net_size.columns), widths=np.array(sf_net_size.columns)/3)\n",
    "\n",
    "plt.yscale('log')\n",
    "plt.xscale('log')\n",
    "plt.xlim(0.0001, 1.0)\n",
    "plt.ylim(0.045, 1.1)\n",
    "plt.xticks(fontsize=18)\n",
    "plt.yticks(fontsize=18)\n",
    "plt.ylabel('final epidemic size', fontsize=18)\n",
    "plt.xlabel('$\\lambda$', fontsize=18)"
   ]
  },
  {
   "cell_type": "markdown",
   "metadata": {},
   "source": [
    "# Configuration model network\n",
    "\n",
    "We can use the configuration model to generate a network with a given power-law degree distribution. By setting $\\gamma=2.1$, we expect to see more fluctuations in the degree distribution."
   ]
  },
  {
   "cell_type": "markdown",
   "metadata": {},
   "source": [
    "We create a function that samples from a power-law distribution between $k_{min}$ and $k_{max}$ with exponent $\\gamma$"
   ]
  },
  {
   "cell_type": "code",
   "execution_count": 25,
   "metadata": {},
   "outputs": [],
   "source": [
    "def get_activity(x0,x1,g):\n",
    "    y=random.uniform(0,1)\n",
    "    \n",
    "    e=g+1.\n",
    "    \n",
    "    a=((x1**e-x0**e)*y+x0**e)**(1./e)\n",
    "    \n",
    "    return a"
   ]
  },
  {
   "cell_type": "code",
   "execution_count": 26,
   "metadata": {},
   "outputs": [],
   "source": [
    "N=10000\n",
    "kmin=2\n",
    "kmax=N-1\n",
    "a=[]\n",
    "for i in range(N):\n",
    "    act=get_activity(kmin,kmax,-2.1)\n",
    "    \n",
    "    a.append(int(round(act)))\n",
    "\n",
    "#we need the sum of the degree sequence to be even to properly run the configuration model\n",
    "if sum(a)%2==0:\n",
    "    G1=nx.configuration_model(a)\n",
    "else:\n",
    "    a[-1]+=1\n",
    "    G1=nx.configuration_model(a)"
   ]
  },
  {
   "cell_type": "code",
   "execution_count": 27,
   "metadata": {},
   "outputs": [
    {
     "data": {
      "text/plain": [
       "True"
      ]
     },
     "execution_count": 27,
     "metadata": {},
     "output_type": "execute_result"
    }
   ],
   "source": [
    "nx.is_connected(G1)"
   ]
  },
  {
   "cell_type": "code",
   "execution_count": 28,
   "metadata": {},
   "outputs": [
    {
     "name": "stdout",
     "output_type": "stream",
     "text": [
      "Name: \n",
      "Type: MultiGraph\n",
      "Number of nodes: 10000\n",
      "Number of edges: 68448\n",
      "Average degree:  13.6896\n"
     ]
    }
   ],
   "source": [
    "print(nx.info(G1))"
   ]
  },
  {
   "cell_type": "code",
   "execution_count": 29,
   "metadata": {},
   "outputs": [],
   "source": [
    "G1=nx.Graph(G1)"
   ]
  },
  {
   "cell_type": "code",
   "execution_count": 30,
   "metadata": {},
   "outputs": [],
   "source": [
    "G1.remove_edges_from(nx.selfloop_edges(G1))"
   ]
  },
  {
   "cell_type": "code",
   "execution_count": 31,
   "metadata": {},
   "outputs": [
    {
     "name": "stdout",
     "output_type": "stream",
     "text": [
      "Name: \n",
      "Type: Graph\n",
      "Number of nodes: 10000\n",
      "Number of edges: 48916\n",
      "Average degree:   9.7832\n"
     ]
    }
   ],
   "source": [
    "print(nx.info(G1))"
   ]
  },
  {
   "cell_type": "code",
   "execution_count": 32,
   "metadata": {},
   "outputs": [
    {
     "data": {
      "text/plain": [
       "True"
      ]
     },
     "execution_count": 32,
     "metadata": {},
     "output_type": "execute_result"
    }
   ],
   "source": [
    "nx.is_connected(G1)"
   ]
  },
  {
   "cell_type": "code",
   "execution_count": 33,
   "metadata": {},
   "outputs": [
    {
     "name": "stdout",
     "output_type": "stream",
     "text": [
      "4149.2654\n"
     ]
    }
   ],
   "source": [
    "sum_k2=0\n",
    "for i in G1.nodes():\n",
    "    k=G1.degree(i)\n",
    "    sum_k2+=k*k\n",
    "avg_k2=sum_k2/N\n",
    "print(avg_k2)"
   ]
  },
  {
   "cell_type": "code",
   "execution_count": 34,
   "metadata": {},
   "outputs": [
    {
     "name": "stdout",
     "output_type": "stream",
     "text": [
      "9.7832\n"
     ]
    }
   ],
   "source": [
    "avg_deg=2*len(G1.edges)/N\n",
    "print(avg_deg)"
   ]
  },
  {
   "cell_type": "code",
   "execution_count": 35,
   "metadata": {},
   "outputs": [
    {
     "name": "stdout",
     "output_type": "stream",
     "text": [
      "0.0004726774764244668\n"
     ]
    }
   ],
   "source": [
    "lambda_c1=mu*avg_deg/(avg_k2-avg_deg)\n",
    "print(lambda_c1)"
   ]
  },
  {
   "cell_type": "code",
   "execution_count": 36,
   "metadata": {},
   "outputs": [
    {
     "data": {
      "text/plain": [
       "42.430956075982415"
      ]
     },
     "execution_count": 36,
     "metadata": {},
     "output_type": "execute_result"
    }
   ],
   "source": [
    "lc/lambda_c1"
   ]
  },
  {
   "cell_type": "markdown",
   "metadata": {},
   "source": [
    "## Simulations of an SIR process\n",
    "We simulate 100 realizations of a SIR model for increasing values of $\\lambda$"
   ]
  },
  {
   "cell_type": "code",
   "execution_count": 37,
   "metadata": {},
   "outputs": [],
   "source": [
    "final_size_conf=defaultdict(list)\n",
    "\n",
    "for lambd in np.geomspace(0.0001, 1.0, 20):\n",
    "    for r in range(0, 20):\n",
    "        \n",
    "        t, S, I, R = EoN.fast_SIR(G1, lambd, mu, rho=0.05)\n",
    "        \n",
    "        final_size_conf[lambd].append(R[-1]/N)"
   ]
  },
  {
   "cell_type": "code",
   "execution_count": 38,
   "metadata": {},
   "outputs": [],
   "source": [
    "conf_net_size=pd.DataFrame.from_dict(final_size_conf)"
   ]
  },
  {
   "cell_type": "code",
   "execution_count": 39,
   "metadata": {},
   "outputs": [
    {
     "data": {
      "text/plain": [
       "Text(0.5, 0, '$\\\\lambda$')"
      ]
     },
     "execution_count": 39,
     "metadata": {},
     "output_type": "execute_result"
    },
    {
     "data": {
      "image/png": "[encoded data removed]",
      "text/plain": [
       "<Figure size 864x504 with 1 Axes>"
      ]
     },
     "metadata": {
      "needs_background": "light"
     },
     "output_type": "display_data"
    }
   ],
   "source": [
    "plt.figure(figsize=(12,7))\n",
    "\n",
    "boxprops1 = dict(linestyle='-', linewidth=4, color='b')\n",
    "\n",
    "homo_net_size.boxplot(positions=np.array(homo_net_size.columns), widths=np.array(homo_net_size.columns)/3)\n",
    "\n",
    "conf_net_size.boxplot(positions=np.array(conf_net_size.columns), widths=np.array(conf_net_size.columns)/3, boxprops=boxprops1)\n",
    "\n",
    "plt.vlines(x=lambda_c1, ymin=0.04, ymax=1.1)\n",
    "plt.legend(['ER','CM'])\n",
    "plt.yscale('log')\n",
    "plt.xscale('log')\n",
    "plt.xlim(0.0001, 1.0)\n",
    "plt.ylim(0.045, 1.1)\n",
    "plt.xticks(fontsize=18)\n",
    "plt.yticks(fontsize=18)\n",
    "plt.ylabel('final epidemic size', fontsize=18)\n",
    "plt.xlabel('$\\lambda$', fontsize=18)"
   ]
  }
 ],
 "metadata": {
  "kernelspec": {
   "display_name": "Python 3",
   "language": "python",
   "name": "python3"
  },
  "language_info": {
   "codemirror_mode": {
    "name": "ipython",
    "version": 3
   },
   "file_extension": ".py",
   "mimetype": "text/x-python",
   "name": "python",
   "nbconvert_exporter": "python",
   "pygments_lexer": "ipython3",
   "version": "3.7.6"
  }
 },
 "nbformat": 4,
 "nbformat_minor": 4
}
