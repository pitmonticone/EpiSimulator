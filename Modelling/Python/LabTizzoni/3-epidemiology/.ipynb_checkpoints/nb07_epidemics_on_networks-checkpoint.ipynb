{
 "cells": [
  {
   "cell_type": "markdown",
   "metadata": {},
   "source": [
    "<center>\n",
    "<hr>\n",
    "<h1>Complessità nei sistemi sociali</h1>\n",
    "<h2>Laurea Magistrale in Fisica Dei Sistemi Complessi</h2>\n",
    "<h2>A.A. 2019/20</h2>\n",
    "<h2>Daniela Paolotti & Michele Tizzoni</h2>\n",
    "<h3>Notebook 7 - Epidemics on networks.</h3>\n",
    "<hr>\n",
    "</center>"
   ]
  },
  {
   "cell_type": "markdown",
   "metadata": {},
   "source": [
    "We use the Python library [\"Epidemics on Networks\" developed by Kiss, Miller & Simon](https://github.com/springer-math/Mathematics-of-Epidemics-on-Networks).\n",
    "\n",
    "The library must be installed using pip:\n",
    "\n",
    "    pip install EoN\n",
    "  \n",
    "\n",
    "The library documentation is [available here](http://epidemicsonnetworks.readthedocs.io/en/latest/). "
   ]
  },
  {
   "cell_type": "code",
   "execution_count": 1,
   "metadata": {},
   "outputs": [],
   "source": [
    "import EoN\n",
    "import networkx as nx\n",
    "import numpy as np\n",
    "from collections import defaultdict\n",
    "import pandas as pd\n",
    "import seaborn as sns\n",
    "import matplotlib.ticker as ticker"
   ]
  },
  {
   "cell_type": "code",
   "execution_count": 2,
   "metadata": {},
   "outputs": [
    {
     "name": "stdout",
     "output_type": "stream",
     "text": [
      "Populating the interactive namespace from numpy and matplotlib\n"
     ]
    }
   ],
   "source": [
    "%pylab inline"
   ]
  },
  {
   "cell_type": "markdown",
   "metadata": {},
   "source": [
    "# Homogeneous network"
   ]
  },
  {
   "cell_type": "markdown",
   "metadata": {},
   "source": [
    "We simulate the spread of an SIR on an Erdos-Renyi graph with constant recovery rate."
   ]
  },
  {
   "cell_type": "code",
   "execution_count": 3,
   "metadata": {},
   "outputs": [],
   "source": [
    "N=10000\n",
    "p=0.001\n",
    "G=nx.fast_gnp_random_graph(N, p)"
   ]
  },
  {
   "cell_type": "code",
   "execution_count": 4,
   "metadata": {},
   "outputs": [
    {
     "data": {
      "text/plain": [
       "True"
      ]
     },
     "execution_count": 4,
     "metadata": {},
     "output_type": "execute_result"
    }
   ],
   "source": [
    "nx.is_connected(G)"
   ]
  },
  {
   "cell_type": "code",
   "execution_count": 5,
   "metadata": {},
   "outputs": [
    {
     "name": "stdout",
     "output_type": "stream",
     "text": [
      "Name: \n",
      "Type: Graph\n",
      "Number of nodes: 10000\n",
      "Number of edges: 49860\n",
      "Average degree:   9.9720\n"
     ]
    }
   ],
   "source": [
    "print(nx.info(G))"
   ]
  },
  {
   "cell_type": "markdown",
   "metadata": {},
   "source": [
    "---\n",
    "# The epidemic threshold for this network can be approximated as $\\lambda_c = \\frac{\\mu}{\\langle k \\rangle}$"
   ]
  },
  {
   "cell_type": "code",
   "execution_count": 6,
   "metadata": {},
   "outputs": [],
   "source": [
    "mu=0.2"
   ]
  },
  {
   "cell_type": "code",
   "execution_count": 7,
   "metadata": {},
   "outputs": [
    {
     "name": "stdout",
     "output_type": "stream",
     "text": [
      "0.020056157240272765\n"
     ]
    }
   ],
   "source": [
    "avg_deg1=2*len(G.edges)/N\n",
    "lc=mu/avg_deg1\n",
    "print(lc)"
   ]
  },
  {
   "cell_type": "markdown",
   "metadata": {},
   "source": [
    "# As expected for this network, we have $\\langle k^2 \\rangle \\sim \\langle k \\rangle^2 + \\langle k \\rangle$"
   ]
  },
  {
   "cell_type": "code",
   "execution_count": 8,
   "metadata": {},
   "outputs": [
    {
     "name": "stdout",
     "output_type": "stream",
     "text": [
      "109.5058\n"
     ]
    }
   ],
   "source": [
    "sum_k2=0\n",
    "for i in G.nodes():\n",
    "    k=G.degree(i)\n",
    "    sum_k2+=k*k\n",
    "avg_k2=sum_k2/N\n",
    "print(avg_k2)  "
   ]
  },
  {
   "cell_type": "code",
   "execution_count": 9,
   "metadata": {},
   "outputs": [
    {
     "data": {
      "text/plain": [
       "109.41278399999999"
      ]
     },
     "execution_count": 9,
     "metadata": {},
     "output_type": "execute_result"
    }
   ],
   "source": [
    "avg_deg1**2 + avg_deg1"
   ]
  },
  {
   "cell_type": "markdown",
   "metadata": {},
   "source": [
    "## Simulations of an SIR process\n",
    "We simulate 20 realizations of a SIR model for increasing values of $\\lambda$ using the [fast_SIR function of EoN](https://epidemicsonnetworks.readthedocs.io/en/latest/functions/EoN.fast_SIR.html?highlight=fast_SIR)"
   ]
  },
  {
   "cell_type": "code",
   "execution_count": null,
   "metadata": {},
   "outputs": [],
   "source": [
    "final_size=defaultdict(list)\n",
    "\n",
    "for lambd in np.geomspace(0.0001, 1.0, 20):\n",
    "    \n",
    "    for r in range(0, 20):\n",
    "        t, S, I, R = EoN.fast_SIR(G, lambd, mu, rho=0.05)\n",
    "        \n",
    "        final_size[lambd].append(R[-1]/N)"
   ]
  },
  {
   "cell_type": "code",
   "execution_count": null,
   "metadata": {},
   "outputs": [],
   "source": [
    "homo_net_size=pd.DataFrame.from_dict(final_size)"
   ]
  },
  {
   "cell_type": "code",
   "execution_count": null,
   "metadata": {},
   "outputs": [],
   "source": [
    "homo_net_size.head()"
   ]
  },
  {
   "cell_type": "code",
   "execution_count": null,
   "metadata": {},
   "outputs": [],
   "source": [
    "plt.figure(figsize=(12,7))\n",
    "\n",
    "homo_net_size.boxplot(positions=np.array(homo_net_size.columns), \n",
    "                      widths=np.array(homo_net_size.columns)/3)\n",
    "\n",
    "plt.vlines(x=lc, ymin=0.045, ymax=1.1)\n",
    "\n",
    "plt.xscale('log')\n",
    "plt.yscale('log')\n",
    "plt.xlim(0.0001, 1.0)\n",
    "plt.ylim(0.045, 1.1)\n",
    "plt.xticks(fontsize=18)\n",
    "plt.yticks(fontsize=18)\n",
    "plt.ylabel('final epidemic size', fontsize=18)\n",
    "plt.xlabel('$\\lambda$', fontsize=18)"
   ]
  },
  {
   "cell_type": "markdown",
   "metadata": {},
   "source": [
    "# Barabàsi-Albert model network"
   ]
  },
  {
   "cell_type": "code",
   "execution_count": null,
   "metadata": {},
   "outputs": [],
   "source": [
    "N=10000\n",
    "AB=nx.barabasi_albert_graph(N, 5)"
   ]
  },
  {
   "cell_type": "code",
   "execution_count": null,
   "metadata": {},
   "outputs": [],
   "source": [
    "nx.is_connected(AB)"
   ]
  },
  {
   "cell_type": "code",
   "execution_count": null,
   "metadata": {},
   "outputs": [],
   "source": [
    "print(nx.info(AB))"
   ]
  },
  {
   "cell_type": "code",
   "execution_count": null,
   "metadata": {},
   "outputs": [],
   "source": [
    "sum_k2=0\n",
    "for i in AB.nodes():\n",
    "    k=AB.degree(i)\n",
    "    sum_k2+=k*k\n",
    "avg_k2=sum_k2/N\n",
    "print(avg_k2)    "
   ]
  },
  {
   "cell_type": "code",
   "execution_count": null,
   "metadata": {},
   "outputs": [],
   "source": [
    "avg_deg=2*len(AB.edges)/N\n",
    "print(avg_deg)"
   ]
  },
  {
   "cell_type": "markdown",
   "metadata": {},
   "source": [
    "# The threshold can be approximated as $\\lambda_c \\sim \\mu \\frac{\\langle k \\rangle}{\\langle k^2 \\rangle - \\langle k \\rangle}$ "
   ]
  },
  {
   "cell_type": "code",
   "execution_count": null,
   "metadata": {},
   "outputs": [],
   "source": [
    "lambda_c=mu*avg_deg/(avg_k2-avg_deg)\n",
    "print(lambda_c)"
   ]
  },
  {
   "cell_type": "code",
   "execution_count": null,
   "metadata": {},
   "outputs": [],
   "source": [
    "lc/lambda_c"
   ]
  },
  {
   "cell_type": "markdown",
   "metadata": {},
   "source": [
    "## Simulations of an SIR process\n",
    "We simulate 100 realizations of a SIR model for increasing values of $\\lambda$"
   ]
  },
  {
   "cell_type": "code",
   "execution_count": null,
   "metadata": {},
   "outputs": [],
   "source": [
    "final_size_AB=defaultdict(list)\n",
    "\n",
    "for lambd in np.geomspace(0.0001, 1.0, 20):\n",
    "    for r in range(0, 100):\n",
    "        \n",
    "        t, S, I, R = EoN.fast_SIR(AB, lambd, mu, rho=0.05)\n",
    "        \n",
    "        final_size_AB[lambd].append(R[-1]/N)"
   ]
  },
  {
   "cell_type": "code",
   "execution_count": null,
   "metadata": {},
   "outputs": [],
   "source": [
    "sf_net_size=pd.DataFrame.from_dict(final_size_AB)"
   ]
  },
  {
   "cell_type": "code",
   "execution_count": null,
   "metadata": {},
   "outputs": [],
   "source": [
    "sf_net_size.tail()"
   ]
  },
  {
   "cell_type": "code",
   "execution_count": null,
   "metadata": {},
   "outputs": [],
   "source": [
    "plt.figure(figsize=(12,7))\n",
    "\n",
    "#homo_net_size.boxplot(positions=np.array(homo_net_size.columns), widths=np.array(homo_net_size.columns)/3 )\n",
    "\n",
    "plt.vlines(x=lambda_c, ymin=0.04, ymax=1.1)\n",
    "sf_net_size.boxplot(positions=np.array(sf_net_size.columns), widths=np.array(sf_net_size.columns)/3)\n",
    "\n",
    "plt.yscale('log')\n",
    "plt.xscale('log')\n",
    "plt.xlim(0.0001, 1.0)\n",
    "plt.ylim(0.045, 1.1)\n",
    "plt.xticks(fontsize=18)\n",
    "plt.yticks(fontsize=18)\n",
    "plt.ylabel('final epidemic size', fontsize=18)\n",
    "plt.xlabel('$\\lambda$', fontsize=18)"
   ]
  },
  {
   "cell_type": "markdown",
   "metadata": {},
   "source": [
    "# Configuration model network\n",
    "\n",
    "We can use the configuration model to generate a network with a given power-law degree distribution. By setting $\\gamma=2.1$, we expect to see more fluctuations in the degree distribution."
   ]
  },
  {
   "cell_type": "markdown",
   "metadata": {},
   "source": [
    "We create a function that samples from a power-law distribution between $k_{min}$ and $k_{max}$ with exponent $\\gamma$"
   ]
  },
  {
   "cell_type": "code",
   "execution_count": null,
   "metadata": {},
   "outputs": [],
   "source": [
    "def get_activity(x0,x1,g):\n",
    "    y=random.uniform(0,1)\n",
    "    \n",
    "    e=g+1.\n",
    "    \n",
    "    a=((x1**e-x0**e)*y+x0**e)**(1./e)\n",
    "    \n",
    "    return a"
   ]
  },
  {
   "cell_type": "code",
   "execution_count": null,
   "metadata": {},
   "outputs": [],
   "source": [
    "N=10000\n",
    "kmin=2\n",
    "kmax=N-1\n",
    "a=[]\n",
    "for i in range(N):\n",
    "    act=get_activity(kmin,kmax,-2.1)\n",
    "    \n",
    "    a.append(int(round(act)))\n",
    "\n",
    "#we need the sum of the degree sequence to be even to properly run the configuration model\n",
    "if sum(a)%2==0:\n",
    "    G1=nx.configuration_model(a)\n",
    "else:\n",
    "    a[-1]+=1\n",
    "    G1=nx.configuration_model(a)"
   ]
  },
  {
   "cell_type": "code",
   "execution_count": null,
   "metadata": {},
   "outputs": [],
   "source": [
    "nx.is_connected(G1)"
   ]
  },
  {
   "cell_type": "code",
   "execution_count": null,
   "metadata": {},
   "outputs": [],
   "source": [
    "print(nx.info(G1))"
   ]
  },
  {
   "cell_type": "code",
   "execution_count": null,
   "metadata": {},
   "outputs": [],
   "source": [
    "G1=nx.Graph(G1)"
   ]
  },
  {
   "cell_type": "code",
   "execution_count": null,
   "metadata": {},
   "outputs": [],
   "source": [
    "G1.remove_edges_from(nx.selfloop_edges(G1))"
   ]
  },
  {
   "cell_type": "code",
   "execution_count": null,
   "metadata": {},
   "outputs": [],
   "source": [
    "print(nx.info(G1))"
   ]
  },
  {
   "cell_type": "code",
   "execution_count": null,
   "metadata": {},
   "outputs": [],
   "source": [
    "nx.is_connected(G1)"
   ]
  },
  {
   "cell_type": "code",
   "execution_count": null,
   "metadata": {},
   "outputs": [],
   "source": [
    "sum_k2=0\n",
    "for i in G1.nodes():\n",
    "    k=G1.degree(i)\n",
    "    sum_k2+=k*k\n",
    "avg_k2=sum_k2/N\n",
    "print(avg_k2)"
   ]
  },
  {
   "cell_type": "code",
   "execution_count": null,
   "metadata": {},
   "outputs": [],
   "source": [
    "avg_deg=2*len(G1.edges)/N\n",
    "print(avg_deg)"
   ]
  },
  {
   "cell_type": "code",
   "execution_count": null,
   "metadata": {},
   "outputs": [],
   "source": [
    "lambda_c1=mu*avg_deg/(avg_k2-avg_deg)\n",
    "print(lambda_c1)"
   ]
  },
  {
   "cell_type": "code",
   "execution_count": null,
   "metadata": {},
   "outputs": [],
   "source": [
    "lc/lambda_c1"
   ]
  },
  {
   "cell_type": "markdown",
   "metadata": {},
   "source": [
    "## Simulations of an SIR process\n",
    "We simulate 100 realizations of a SIR model for increasing values of $\\lambda$"
   ]
  },
  {
   "cell_type": "code",
   "execution_count": null,
   "metadata": {},
   "outputs": [],
   "source": [
    "final_size_conf=defaultdict(list)\n",
    "\n",
    "for lambd in np.geomspace(0.0001, 1.0, 20):\n",
    "    for r in range(0, 20):\n",
    "        \n",
    "        t, S, I, R = EoN.fast_SIR(G1, lambd, mu, rho=0.05)\n",
    "        \n",
    "        final_size_conf[lambd].append(R[-1]/N)"
   ]
  },
  {
   "cell_type": "code",
   "execution_count": null,
   "metadata": {},
   "outputs": [],
   "source": [
    "conf_net_size=pd.DataFrame.from_dict(final_size_conf)"
   ]
  },
  {
   "cell_type": "code",
   "execution_count": null,
   "metadata": {},
   "outputs": [],
   "source": [
    "plt.figure(figsize=(12,7))\n",
    "\n",
    "boxprops1 = dict(linestyle='-', linewidth=4, color='b')\n",
    "\n",
    "homo_net_size.boxplot(positions=np.array(homo_net_size.columns), widths=np.array(homo_net_size.columns)/3)\n",
    "\n",
    "conf_net_size.boxplot(positions=np.array(conf_net_size.columns), widths=np.array(conf_net_size.columns)/3, boxprops=boxprops1)\n",
    "\n",
    "plt.vlines(x=lambda_c1, ymin=0.04, ymax=1.1)\n",
    "plt.legend(['ER','CM'])\n",
    "plt.yscale('log')\n",
    "plt.xscale('log')\n",
    "plt.xlim(0.0001, 1.0)\n",
    "plt.ylim(0.045, 1.1)\n",
    "plt.xticks(fontsize=18)\n",
    "plt.yticks(fontsize=18)\n",
    "plt.ylabel('final epidemic size', fontsize=18)\n",
    "plt.xlabel('$\\lambda$', fontsize=18)"
   ]
  }
 ],
 "metadata": {
  "kernelspec": {
   "display_name": "Python 3",
   "language": "python",
   "name": "python3"
  },
  "language_info": {
   "codemirror_mode": {
    "name": "ipython",
    "version": 3
   },
   "file_extension": ".py",
   "mimetype": "text/x-python",
   "name": "python",
   "nbconvert_exporter": "python",
   "pygments_lexer": "ipython3",
   "version": "3.7.6"
  }
 },
 "nbformat": 4,
 "nbformat_minor": 4
}
