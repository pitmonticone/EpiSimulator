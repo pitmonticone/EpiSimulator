{
 "cells": [
  {
   "cell_type": "markdown",
   "metadata": {},
   "source": [
    "# Extended SEIRS Workplace TTI Demo\n",
    "\n",
    "**In this demonstration we will explore the effect of testing, tracing, and isolation interventions on disease transmission in a workplace setting with a realistic contact network.**\n",
    "\n",
    "This notebook provides a demonstration of the functionality of the [Extended SEIRS Network Model](https://github.com/ryansmcgee/seirsplus/wiki/Extended-SEIRS-Model-Description) and the [TTI Simulation Loop](https://github.com/ryansmcgee/seirsplus/wiki/TTI-Simulation-Loop). This notebook also offers a sandbox for starting to explore TTI scenarios of your own. \n",
    "For a more thorough walkthrough of the model, simulation loop, and use of this package, refer to the [SEIRS+ Wiki](https://github.com/ryansmcgee/seirsplus/wiki)."
   ]
  },
  {
   "cell_type": "markdown",
   "metadata": {},
   "source": [
    "### Installing and importing the model code\n",
    "\n",
    "All of the code needed to run the model is imported from the ```models``` module of this package.\n",
    "\n",
    "In this demo we will also use features from the `networks`, `sim_loops`, and `utilities` modules.\n",
    "\n",
    "#### Install the package using ```pip```\n",
    "The package can be installed on your machine by entering this in the command line:\n",
    "\n",
    "```pip install seirsplus```\n",
    "\n",
    "Then, the ```models```, `networks`, `sim_loops`, and `utilities` modules can be imported as shown here:"
   ]
  },
  {
   "cell_type": "code",
   "execution_count": 1,
   "metadata": {},
   "outputs": [],
   "source": [
    "from seirsplus.models import *\n",
    "from seirsplus.networks import *\n",
    "from seirsplus.sim_loops import *\n",
    "from seirsplus.utilities import *\n",
    "import networkx\n",
    "import matplotlib.pyplot as pyplot"
   ]
  },
  {
   "cell_type": "markdown",
   "metadata": {},
   "source": [
    "#### *Alternatively, manually copy the code to your machine*\n",
    "*You can use the model code without installing a package by copying the ```models.py``` module file to a directory on your machine. For some of the features used in this demo you will also need the `networks`, `sim_loops`, and `utilities` modules. In this case, the easiest way to use the modules is to place your scripts in the same directory as the modules, and import the modules as shown here:*\n",
    "```python\n",
    "from models import *\n",
    "from networks import *\n",
    "from sim_loops import *\n",
    "from utilities import *\n",
    "```"
   ]
  },
  {
   "cell_type": "markdown",
   "metadata": {},
   "source": [
    "-------"
   ]
  },
  {
   "cell_type": "markdown",
   "metadata": {},
   "source": [
    "## Set basic parameters"
   ]
  },
  {
   "cell_type": "markdown",
   "metadata": {},
   "source": [
    "Specify the workplace size and structure"
   ]
  },
  {
   "cell_type": "code",
   "execution_count": 2,
   "metadata": {},
   "outputs": [],
   "source": [
    "NUM_COHORTS              = 4\n",
    "NUM_NODES_PER_COHORT     = 200\n",
    "NUM_TEAMS_PER_COHORT     = 10\n",
    "\n",
    "MEAN_INTRACOHORT_DEGREE  = 6\n",
    "PCT_CONTACTS_INTERCOHORT = 0.1"
   ]
  },
  {
   "cell_type": "code",
   "execution_count": 3,
   "metadata": {},
   "outputs": [],
   "source": [
    "N = NUM_NODES_PER_COHORT*NUM_COHORTS"
   ]
  },
  {
   "cell_type": "markdown",
   "metadata": {},
   "source": [
    "Here we set the initial prevalence to be a single case"
   ]
  },
  {
   "cell_type": "code",
   "execution_count": 4,
   "metadata": {},
   "outputs": [],
   "source": [
    "INIT_EXPOSED = 1"
   ]
  },
  {
   "cell_type": "markdown",
   "metadata": {},
   "source": [
    "-------\n",
    "\n",
    "## Specifying contact networks\n",
    "\n",
    "This package implements models epidemic dynamics for populations with a structured [contact network](Extended-SEIRS-Model-Description#contact-networks). Individuals are represented as nodes in a network, and parameters, contacts, and interventions can be specified on a targeted individual basis. A graph specifying the contact network must be specified, where each node represents an individual in the population and edges connect individuals who have regular interactions.\n",
    "\n",
    "This model also supports scenarios where individuals enter quarantine states in which their parameters and interactions may be different from baseline, and a separate graph defining the interactions for individuals in quarantine can be specified (i.e., the [quarantine contact network](Extended-SEIRS-Model-Description#quarantine-contacts)).\n",
    "\n",
    "### Workplace Contact Network\n",
    "\n",
    "Here we use the [**demographic community network generator**](https://github.com/ryansmcgee/seirsplus/wiki/Network-Generation#workplace-network) defined in the SEIRS+ package. This function generates a contact network that resembles workplaces and other multi-level modular populations.\n",
    "\n",
    "[FARZ](https://github.com/ryansmcgee/seirsplus/wiki/Network-Generation#farz-networks) network layers are generated to represent cohorts of employees (e.g., departments, floors, shifts). FARZ networks have a tunable community structure, so each cohort includes some number of communities, which can be thought to represent teams (i.e., groups of employees that work closely with each other). Employees may belong to more than one team (specified by a FARZ parameter), but employees belong to only one cohort. An employee's intra-team and intra-cohort contacts are defined by the FARZ cohort network they belong to. A specified percentage of each employee's total number of workplace contacts can be with individuals from other cohorts. An employee's inter-cohort contacts are drawn randomly from the pool of individuals outside their own cohort. \n",
    "\n",
    "The number of cohorts, number of employees per cohort, number of teams per cohort, number of teams employees belong to, mean intra-cohort degree, percent of within- and between-team connections, and percent of intra- and inter-cohort connections can be controlled with the arguments to the `generate_demographic_contact_network()` function (some of which are passed as [parameters to the FARZ generator](https://github.com/ryansmcgee/seirsplus/wiki/Network-Generation#FARZ-parameters)).\n"
   ]
  },
  {
   "cell_type": "code",
   "execution_count": 5,
   "metadata": {},
   "outputs": [
    {
     "name": "stdout",
     "output_type": "stream",
     "text": [
      "Baseline:\n",
      "Degree: mean = 10.95, std = 8.39, 95% CI = (1.00, 29.02)\n",
      "        coeff var = 0.77\n",
      "Assortativity:    0.24\n",
      "Clustering coeff: 0.24\n",
      "\n"
     ]
    },
    {
     "data": {
      "image/png": "[encoded data removed]",
      "text/plain": [
       "<Figure size 432x288 with 1 Axes>"
      ]
     },
     "metadata": {
      "needs_background": "light"
     },
     "output_type": "display_data"
    }
   ],
   "source": [
    "G_baseline, cohorts, teams = generate_workplace_contact_network(\n",
    "                                 num_cohorts=NUM_COHORTS, num_nodes_per_cohort=NUM_NODES_PER_COHORT, \n",
    "                                 num_teams_per_cohort=NUM_TEAMS_PER_COHORT,\n",
    "                                 mean_intracohort_degree=MEAN_INTRACOHORT_DEGREE, \n",
    "                                 pct_contacts_intercohort=PCT_CONTACTS_INTERCOHORT,\n",
    "                                 farz_params={'alpha':5.0, 'gamma':5.0, 'beta':0.5, 'r':1, 'q':0.0, 'phi':10, \n",
    "                                              'b':0, 'epsilon':1e-6, 'directed': False, 'weighted': False})\n",
    "\n",
    "network_info(G_baseline, \"Baseline\", plot=True)"
   ]
  },
  {
   "cell_type": "markdown",
   "metadata": {},
   "source": [
    "Here we define the quarantine contact network to be an empty network (i.e., no connections). This represents an assumption that an employee that is in a quarantine state makes no contact with anyone from their workplace."
   ]
  },
  {
   "cell_type": "code",
   "execution_count": 6,
   "metadata": {},
   "outputs": [],
   "source": [
    "G_quarantine = networkx.classes.function.create_empty_copy(G_baseline)"
   ]
  },
  {
   "cell_type": "markdown",
   "metadata": {},
   "source": [
    "-------"
   ]
  },
  {
   "cell_type": "markdown",
   "metadata": {},
   "source": [
    "## Specifying parameters\n",
    "\n",
    "**_The parameter values used in this notebook reflect rough estimates of parameter values for the COVID-19 epidemic (as of 9 Aug 2020)._**"
   ]
  },
  {
   "cell_type": "markdown",
   "metadata": {},
   "source": [
    "### Set disease progression rate parameters:"
   ]
  },
  {
   "cell_type": "markdown",
   "metadata": {},
   "source": [
    "Parameter values are assigned to members of the population on an individual basis. Parameter values can be [specified to the `ExtSEIRSNetworkModel`](https://github.com/ryansmcgee/seirsplus/wiki/ExtSEIRSNetworkModel-Class#specifying-parameters) by providing a list of values that gives the *N* values to assign to each individual. The population may be either homogeneous or heterogeneous for a given parameter at the user's discretion. \n",
    "\n",
    "**Here we generate distributions of values for each parameter, thus specifying a realistically heterogeneous population.**"
   ]
  },
  {
   "cell_type": "markdown",
   "metadata": {},
   "source": [
    "Generate a distribution of expected latent periods (time in Exposed state) and presymptomatic periods (time in Pre-symptomatic infectious state). The `sigma` and `lamda` rates are calculated as the inverse of the expected exposed and pre-symptomatic periods assigned to each individual, respectively."
   ]
  },
  {
   "cell_type": "code",
   "execution_count": 7,
   "metadata": {},
   "outputs": [
    {
     "name": "stdout",
     "output_type": "stream",
     "text": [
      "latent period:  mean = 2.13, std = 1.06, 95% CI = (0.58, 4.54)\n",
      "\n",
      "pre-symptomatic period:  mean = 2.94, std = 1.74, 95% CI = (0.56, 7.17)\n",
      "\n",
      "total incubation period:  mean = 5.07, std = 2.01, 95% CI = (2.01, 9.68)\n",
      "\n"
     ]
    },
    {
     "data": {
      "image/png": "[encoded data removed]",
      "text/plain": [
       "<Figure size 432x288 with 1 Axes>"
      ]
     },
     "metadata": {
      "needs_background": "light"
     },
     "output_type": "display_data"
    }
   ],
   "source": [
    "latentPeriod_mean, latentPeriod_coeffvar = 3.0, 0.6\n",
    "SIGMA   = 1 / gamma_dist(latentPeriod_mean, latentPeriod_coeffvar, N)\n",
    "\n",
    "presymptomaticPeriod_mean, presymptomaticPeriod_coeffvar = 2.2, 0.5\n",
    "LAMDA   = 1 / gamma_dist(presymptomaticPeriod_mean, presymptomaticPeriod_coeffvar, N)\n",
    "\n",
    "dist_info([1/LAMDA, 1/SIGMA, 1/LAMDA+1/SIGMA], [\"latent period\", \"pre-symptomatic period\", \"total incubation period\"], plot=True, colors=['gold', 'darkorange', 'black'], reverse_plot=True)"
   ]
  },
  {
   "cell_type": "markdown",
   "metadata": {},
   "source": [
    "Generate a distribution of expected (a)symptomatic periods (time in symptomatic or asymptomatic state). The `gamma` rates are calculated as the inverse of the expected (a)symptomatic periods assigned to each individual. \n",
    "\n",
    "The expected total infectious period for each individual is the sum of their expected pre-symptomatic and (a)symptomatic periods."
   ]
  },
  {
   "cell_type": "code",
   "execution_count": 8,
   "metadata": {},
   "outputs": [
    {
     "name": "stdout",
     "output_type": "stream",
     "text": [
      "pre-symptomatic period:  mean = 2.13, std = 1.06, 95% CI = (0.58, 4.54)\n",
      "\n",
      "(a)symptomatic period:  mean = 3.94, std = 1.55, 95% CI = (1.62, 7.38)\n",
      "\n",
      "total infectious period:  mean = 6.07, std = 1.81, 95% CI = (3.07, 9.81)\n",
      "\n"
     ]
    },
    {
     "data": {
      "image/png": "[encoded data removed]",
      "text/plain": [
       "<Figure size 432x288 with 1 Axes>"
      ]
     },
     "metadata": {
      "needs_background": "light"
     },
     "output_type": "display_data"
    }
   ],
   "source": [
    "symptomaticPeriod_mean, symptomaticPeriod_coeffvar = 4.0, 0.4\n",
    "GAMMA   = 1 / gamma_dist(symptomaticPeriod_mean, symptomaticPeriod_coeffvar, N)\n",
    "\n",
    "infectiousPeriod = 1/LAMDA + 1/GAMMA\n",
    "\n",
    "dist_info([1/LAMDA, 1/GAMMA, 1/LAMDA+1/GAMMA], [\"pre-symptomatic period\", \"(a)symptomatic period\", \"total infectious period\"], plot=True, colors=['darkorange', 'crimson', 'black'], reverse_plot=True)"
   ]
  },
  {
   "cell_type": "markdown",
   "metadata": {},
   "source": [
    "Generate a distribution of expected onset-to-hospitalization periods (time in symptomatic state before entering hospitalized state for those with severe cases) and hospitalization-to-discharge periods (time in hospitalized state for those with non-fatal cases). The `eta` and `gamma_H` rates are calculated as the inverse of the expected onset-to-hospitalization periods and hospitalization-to-discharge periods assigned to each individual, respectively."
   ]
  },
  {
   "cell_type": "code",
   "execution_count": 9,
   "metadata": {},
   "outputs": [
    {
     "name": "stdout",
     "output_type": "stream",
     "text": [
      "onset-to-hospitalization period:  mean = 11.00, std = 4.72, 95% CI = (3.71, 22.10)\n",
      "\n",
      "hospitalization-to-discharge period:  mean = 11.18, std = 4.80, 95% CI = (3.81, 21.52)\n",
      "\n",
      "onset-to-discharge period:  mean = 22.17, std = 6.71, 95% CI = (10.92, 37.44)\n",
      "\n"
     ]
    },
    {
     "data": {
      "image/png": "[encoded data removed]",
      "text/plain": [
       "<Figure size 432x288 with 1 Axes>"
      ]
     },
     "metadata": {
      "needs_background": "light"
     },
     "output_type": "display_data"
    }
   ],
   "source": [
    "onsetToHospitalizationPeriod_mean, onsetToHospitalizationPeriod_coeffvar = 11.0, 0.45\n",
    "ETA     = 1 / gamma_dist(onsetToHospitalizationPeriod_mean, onsetToHospitalizationPeriod_coeffvar, N)\n",
    "\n",
    "hospitalizationToDischargePeriod_mean, hospitalizationToDischargePeriod_coeffvar = 11.0, 0.45\n",
    "GAMMA_H = 1 / gamma_dist(hospitalizationToDischargePeriod_mean, hospitalizationToDischargePeriod_coeffvar, N)\n",
    "\n",
    "dist_info([1/ETA, 1/GAMMA_H, 1/ETA+1/GAMMA_H], [\"onset-to-hospitalization period\", \"hospitalization-to-discharge period\", \"onset-to-discharge period\"], plot=True, colors=['crimson', 'violet', 'black'], reverse_plot=True)"
   ]
  },
  {
   "cell_type": "markdown",
   "metadata": {},
   "source": [
    "Generate a distribution of hospitalization-to-death periods (time in hospitalized state for those with fatal cases). The `mu_H` rates are calculated as the inverse of the expected hospitalization-to-death periods."
   ]
  },
  {
   "cell_type": "code",
   "execution_count": 10,
   "metadata": {},
   "outputs": [
    {
     "name": "stdout",
     "output_type": "stream",
     "text": [
      "onset-to-hospitalization period:  mean = 11.00, std = 4.72, 95% CI = (3.71, 22.10)\n",
      "\n",
      "hospitalization-to-death period:  mean = 6.93, std = 3.09, 95% CI = (2.28, 14.16)\n",
      "\n",
      "onset-to-death period:  mean = 17.93, std = 5.65, 95% CI = (8.55, 30.38)\n",
      "\n"
     ]
    },
    {
     "data": {
      "image/png": "[encoded data removed]",
      "text/plain": [
       "<Figure size 432x288 with 1 Axes>"
      ]
     },
     "metadata": {
      "needs_background": "light"
     },
     "output_type": "display_data"
    }
   ],
   "source": [
    "hospitalizationToDeathPeriod_mean, hospitalizationToDeathPeriod_coeffvar = 7.0, 0.45\n",
    "MU_H    = 1 / gamma_dist(hospitalizationToDeathPeriod_mean, hospitalizationToDeathPeriod_coeffvar, N)\n",
    "\n",
    "dist_info([1/ETA, 1/MU_H, 1/ETA+1/MU_H], [\"onset-to-hospitalization period\", \"hospitalization-to-death period\", \"onset-to-death period\"], plot=True, colors=['crimson', 'darkgray', 'black'], reverse_plot=True)"
   ]
  },
  {
   "cell_type": "markdown",
   "metadata": {},
   "source": [
    "### Set severity parameters"
   ]
  },
  {
   "cell_type": "markdown",
   "metadata": {},
   "source": [
    "Specify the percentage of cases that are asymptomatic. This percentage of case will progress from the pre-symptomatic state to the asymptomatic state, rather than to the symptomatic state."
   ]
  },
  {
   "cell_type": "code",
   "execution_count": 11,
   "metadata": {},
   "outputs": [],
   "source": [
    "PCT_ASYMPTOMATIC = 0.25"
   ]
  },
  {
   "cell_type": "markdown",
   "metadata": {},
   "source": [
    "Here we specify the case hospitalization rate. The value used here is approximately the age-frequency-weighted average of age-stratified hospitalization rates for working age adults using data from [Verity et al. (2020)](https://www.thelancet.com/journals/laninf/article/PIIS1473-3099(20)30243-7/fulltext)."
   ]
  },
  {
   "cell_type": "code",
   "execution_count": 12,
   "metadata": {},
   "outputs": [],
   "source": [
    "PCT_HOSPITALIZED = 0.035"
   ]
  },
  {
   "cell_type": "markdown",
   "metadata": {},
   "source": [
    "Here we specify the case fatality rate for hospitalized cases. The value used here is approximately the age-frequency-weighted average of age stratified hospitalization fatality rates for working age adults, again using figures from [Verity et al. (2020)](https://www.thelancet.com/journals/laninf/article/PIIS1473-3099(20)30243-7/fulltext)."
   ]
  },
  {
   "cell_type": "code",
   "execution_count": 13,
   "metadata": {},
   "outputs": [],
   "source": [
    "PCT_FATALITY = 0.08"
   ]
  },
  {
   "cell_type": "markdown",
   "metadata": {},
   "source": [
    "### Set transmission parameters"
   ]
  },
  {
   "cell_type": "markdown",
   "metadata": {},
   "source": [
    "The [Extended SEIRS Network Model](https://github.com/ryansmcgee/seirsplus/wiki/Extended-SEIRS-Model-Description#stochastic-network-model-implementation) model considers two modes of disease transmission: a well-mixed mode of [global transmission](https://github.com/ryansmcgee/seirsplus/wiki/Extended-SEIRS-Model-Description#global-transmission) and a contact network based mode of [local transmission](https://github.com/ryansmcgee/seirsplus/wiki/Extended-SEIRS-Model-Description#local-transmission). The propensity for a given individual to become exposed due to global transmission depends on the mean transmissibility of all infectious individuals in the population; the propensity for a given individual to become exposed due to local transmission depends on the pairwise transmissibilities between the focal node and its infectious contacts in the network (see [Transmission](https://github.com/ryansmcgee/seirsplus/wiki/Extended-SEIRS-Model-Description#transmission) and [Model Equations](https://github.com/ryansmcgee/seirsplus/wiki/Extended-SEIRS-Model-Description#model-equations) for more information about these calculations). "
   ]
  },
  {
   "cell_type": "markdown",
   "metadata": {},
   "source": [
    "The transmissibility parameter *β* can be related to the basic reproduction number *R<sub>0</sub>* (i.e., the expected number of new infections generated by a single infectious individual in a completely susceptible population) by the standard formula: *β = R<sub>0</sub>𝛾*. *R<sub>0</sub>* is a more interpretable parameter, so we specify transmissibility in terms of *R<sub>0</sub>* and then calculate the corresponding *β* values.\n",
    "\n",
    "First, we generate a distribution of individual *R<sub>0</sub>* values (i.e., the expected number of new infections generated by a single *particular* infectious individual in a completely susceptible population). Of course, this means that transmissibility is heterogeneous in this population. The coefficient of variation is an important parameter for the individual *R<sub>0</sub>* distribution in that it tunes the degree of superspreading in the heterogeneous transmissibility. The distribution used in this example has a relatively low coefficient of variation, so most individuals have around the same degree of transmissibility. But a higher coefficient of variation (e.g., 2.0) would give a long right tail in idividual transmissibility representing a small number of individuals contributing many cases while the majority cases contribute less than 1 on average when they are infectious."
   ]
  },
  {
   "cell_type": "code",
   "execution_count": 14,
   "metadata": {},
   "outputs": [
    {
     "name": "stdout",
     "output_type": "stream",
     "text": [
      "Individual R0:  mean = 1.99, std = 0.40, 95% CI = (1.32, 2.87)\n",
      "\n"
     ]
    },
    {
     "data": {
      "image/png": "[encoded data removed]",
      "text/plain": [
       "<Figure size 432x288 with 1 Axes>"
      ]
     },
     "metadata": {
      "needs_background": "light"
     },
     "output_type": "display_data"
    }
   ],
   "source": [
    "R0_mean     = 2.0\n",
    "R0_coeffvar = 0.2\n",
    "\n",
    "R0 = gamma_dist(R0_mean, R0_coeffvar, N)\n",
    "\n",
    "dist_info(R0, \"Individual R0\", bin_size=0.1, plot=True, colors='crimson')"
   ]
  },
  {
   "cell_type": "markdown",
   "metadata": {},
   "source": [
    "Individuals are ultimately assigned an [*Individual Transmissibility Value*](https://github.com/ryansmcgee/seirsplus/wiki/ExtSEIRSNetworkModel-Class#transmissibility-parameters) (*β<sup>i</sup>*), which are stored in the `beta` attribute of the model object. \n",
    "\n",
    "The means of the Individual Transmissibility Values for infectious subpopulations are used to calculate the [global transmission](https://github.com/ryansmcgee/seirsplus/wiki/Extended-SEIRS-Model-Description#global-transmission) terms. Individual Transmissibility Values may also be used to generate the Pairwise Transmissibility Values used for [local transmission](https://github.com/ryansmcgee/seirsplus/wiki/Extended-SEIRS-Model-Description#local-transmission) terms, as we will specify in a few steps."
   ]
  },
  {
   "cell_type": "code",
   "execution_count": 15,
   "metadata": {},
   "outputs": [],
   "source": [
    "BETA = 1/infectiousPeriod * R0"
   ]
  },
  {
   "cell_type": "markdown",
   "metadata": {},
   "source": [
    "In the stochastic network model, an individual comes into contact with a random individual from the population at large (e.g., in a public space) with probability *p* or with an individual from their set of close contacts with probability *(1-p)*. Transmission that occurs between an individual and the population at large is referred to as [global transmission](https://github.com/ryansmcgee/seirsplus/wiki/Extended-SEIRS-Model-Description#global-transmission), and transmission between an individual and one of their close contacts (network neighbors) is referred to as [local transmission](https://github.com/ryansmcgee/seirsplus/wiki/Extended-SEIRS-Model-Description#local-transmission). The parameter *p* defines the locality of the network: for *p=0* an individual only interacts with their close contacts, while *p=1* represents a uniformly mixed population.\n",
    "\n",
    "Here we set *p* to reflect 40% of interactions being with incidental or casual contacts outside their set of close contacts."
   ]
  },
  {
   "cell_type": "code",
   "execution_count": 16,
   "metadata": {},
   "outputs": [],
   "source": [
    "P_GLOBALINTXN = 0.4"
   ]
  },
  {
   "cell_type": "markdown",
   "metadata": {},
   "source": [
    "### Set Testing, Tracing, & Isolation (TTI) intervention protocol parameters:"
   ]
  },
  {
   "cell_type": "markdown",
   "metadata": {},
   "source": [
    "Here we specify the parameters that govern the Testing, Tracing, and Isolation protocol that is implemented by the [TTI Simulation Loop](https://github.com/ryansmcgee/seirsplus/wiki/TTI-Simulation-Loop). The implementation of this TTI protocol and the interpretation of these parameters is desribed in detail on the [TTI Simulation Loop wiki page](https://github.com/ryansmcgee/seirsplus/wiki/TTI-Simulation-Loop) (but these parameters are briefly explained as code comments below).\n",
    "\n",
    "**The scenario set up in the steps that follow involves the entire workforce being tested on a weekly basis, a 2-day test turn around time, 50% of symptomatic individuals self-reporting and getting tested within 1 day of onset, 30% of symptomatics self-isolating even without a positive test, and teams of detected positive cases being proactively isolated. A new exogenous exposures comes into the workplace about once a week.**"
   ]
  },
  {
   "cell_type": "code",
   "execution_count": 17,
   "metadata": {},
   "outputs": [],
   "source": [
    "INTERVENTION_START_PCT_INFECTED = 0/100\n",
    "AVERAGE_INTRODUCTIONS_PER_DAY   = 1/14          # expected number of new exogenous exposures per day\n",
    "\n",
    "TESTING_CADENCE                 = 'weekly'      # how often to do testing (other than self-reporting symptomatics who can get tested any day)\n",
    "PCT_TESTED_PER_DAY              = 1.0           # max daily test allotment defined as a percent of population size\n",
    "TEST_FALSENEG_RATE              = 'temporal'    # test false negative rate, will use FN rate that varies with disease time\n",
    "MAX_PCT_TESTS_FOR_SYMPTOMATICS  = 1.0           # max percent of daily test allotment to use on self-reporting symptomatics\n",
    "MAX_PCT_TESTS_FOR_TRACES        = 0.0           # max percent of daily test allotment to use on contact traces\n",
    "RANDOM_TESTING_DEGREE_BIAS      = 0             # magnitude of degree bias in random selections for testing, none here\n",
    "\n",
    "PCT_CONTACTS_TO_TRACE           = 0.0           # percentage of primary cases' contacts that are traced\n",
    "TRACING_LAG                     = 2             # number of cadence testing days between primary tests and tracing tests\n",
    "\n",
    "ISOLATION_LAG_SYMPTOMATIC       = 1             # number of days between onset of symptoms and self-isolation of symptomatics\n",
    "ISOLATION_LAG_POSITIVE          = 2             # test turn-around time (TAT): number of days between administration of test and isolation of positive cases\n",
    "ISOLATION_LAG_CONTACT           = 0             # number of days between a contact being traced and that contact self-isolating\n"
   ]
  },
  {
   "cell_type": "markdown",
   "metadata": {},
   "source": [
    "### Set intervention compliance parameters"
   ]
  },
  {
   "cell_type": "markdown",
   "metadata": {},
   "source": [
    "First, we specify the compliance rates (i.e., the percentage of individuals who are compliant) for each intervention type. See the [TTI Simulation Loop](https://github.com/ryansmcgee/seirsplus/wiki/TTI-Simulation-Loop) documentation for more information about compliance."
   ]
  },
  {
   "cell_type": "code",
   "execution_count": 18,
   "metadata": {},
   "outputs": [],
   "source": [
    "TESTING_COMPLIANCE_RATE_SYMPTOMATIC                  = 0.5    \n",
    "TESTING_COMPLIANCE_RATE_TRACED                       = 0.0\n",
    "TESTING_COMPLIANCE_RATE_RANDOM                       = 1.0  # Assume employee testing is mandatory, so 100% compliance\n",
    "\n",
    "TRACING_COMPLIANCE_RATE                              = 0.0\n",
    "\n",
    "ISOLATION_COMPLIANCE_RATE_SYMPTOMATIC_INDIVIDUAL     = 0.3\n",
    "ISOLATION_COMPLIANCE_RATE_SYMPTOMATIC_GROUPMATE      = 0.0\n",
    "ISOLATION_COMPLIANCE_RATE_POSITIVE_INDIVIDUAL        = 0.0\n",
    "ISOLATION_COMPLIANCE_RATE_POSITIVE_GROUPMATE         = 0.8  # Isolate teams with a positive member, but suppose 20% of employees are essential workforce\n",
    "ISOLATION_COMPLIANCE_RATE_POSITIVE_CONTACT           = 0.0\n",
    "ISOLATION_COMPLIANCE_RATE_POSITIVE_CONTACTGROUPMATE  = 0.0"
   ]
  },
  {
   "cell_type": "markdown",
   "metadata": {},
   "source": [
    "Now, we randomly assign a `True/False` compliance to each individual according to the rates set above. Individuals whose compliance is set to `True` for a given intervention will participate in that intervention, individuals set to `False` will not."
   ]
  },
  {
   "cell_type": "code",
   "execution_count": 19,
   "metadata": {},
   "outputs": [],
   "source": [
    "TESTING_COMPLIANCE_RANDOM                        = (numpy.random.rand(N) < TESTING_COMPLIANCE_RATE_RANDOM)\n",
    "TESTING_COMPLIANCE_TRACED                        = (numpy.random.rand(N) < TESTING_COMPLIANCE_RATE_TRACED)\n",
    "TESTING_COMPLIANCE_SYMPTOMATIC                   = (numpy.random.rand(N) < TESTING_COMPLIANCE_RATE_SYMPTOMATIC)\n",
    "\n",
    "TRACING_COMPLIANCE                               = (numpy.random.rand(N) < TRACING_COMPLIANCE_RATE)\n",
    "\n",
    "ISOLATION_COMPLIANCE_SYMPTOMATIC_INDIVIDUAL      = (numpy.random.rand(N) < ISOLATION_COMPLIANCE_RATE_SYMPTOMATIC_INDIVIDUAL)\n",
    "ISOLATION_COMPLIANCE_SYMPTOMATIC_GROUPMATE       = (numpy.random.rand(N) < ISOLATION_COMPLIANCE_RATE_SYMPTOMATIC_GROUPMATE)\n",
    "ISOLATION_COMPLIANCE_POSITIVE_INDIVIDUAL         = (numpy.random.rand(N) < ISOLATION_COMPLIANCE_RATE_POSITIVE_INDIVIDUAL)\n",
    "ISOLATION_COMPLIANCE_POSITIVE_GROUPMATE          = (numpy.random.rand(N) < ISOLATION_COMPLIANCE_RATE_POSITIVE_GROUPMATE)\n",
    "ISOLATION_COMPLIANCE_POSITIVE_CONTACT            = (numpy.random.rand(N) < ISOLATION_COMPLIANCE_RATE_POSITIVE_CONTACT)\n",
    "ISOLATION_COMPLIANCE_POSITIVE_CONTACTGROUPMATE   = (numpy.random.rand(N) < ISOLATION_COMPLIANCE_RATE_POSITIVE_CONTACTGROUPMATE)"
   ]
  },
  {
   "cell_type": "markdown",
   "metadata": {},
   "source": [
    "-------"
   ]
  },
  {
   "cell_type": "markdown",
   "metadata": {},
   "source": [
    "## Initializing the model"
   ]
  },
  {
   "cell_type": "code",
   "execution_count": 20,
   "metadata": {},
   "outputs": [
    {
     "name": "stderr",
     "output_type": "stream",
     "text": [
      "/usr/local/lib/python3.8/site-packages/seirsplus/models.py:2965: RuntimeWarning: divide by zero encountered in log\n",
      "  self.delta               = numpy.log(self.degree)/numpy.log(numpy.mean(self.degree))     if self.parameters['delta'] is None   else numpy.array(self.parameters['delta'])   if isinstance(self.parameters['delta'], (list, numpy.ndarray))   else numpy.full(fill_value=self.parameters['delta'], shape=(self.numNodes,1))\n",
      "/usr/local/lib/python3.8/site-packages/seirsplus/models.py:2966: RuntimeWarning: divide by zero encountered in log\n",
      "  self.delta_Q             = numpy.log(self.degree_Q)/numpy.log(numpy.mean(self.degree_Q)) if self.parameters['delta_Q'] is None else numpy.array(self.parameters['delta_Q']) if isinstance(self.parameters['delta_Q'], (list, numpy.ndarray)) else numpy.full(fill_value=self.parameters['delta_Q'], shape=(self.numNodes,1))\n",
      "/usr/local/lib/python3.8/site-packages/seirsplus/models.py:2966: RuntimeWarning: invalid value encountered in true_divide\n",
      "  self.delta_Q             = numpy.log(self.degree_Q)/numpy.log(numpy.mean(self.degree_Q)) if self.parameters['delta_Q'] is None else numpy.array(self.parameters['delta_Q']) if isinstance(self.parameters['delta_Q'], (list, numpy.ndarray)) else numpy.full(fill_value=self.parameters['delta_Q'], shape=(self.numNodes,1))\n"
     ]
    }
   ],
   "source": [
    "model = ExtSEIRSNetworkModel(G=G_baseline, p=P_GLOBALINTXN,\n",
    "                              beta=BETA, sigma=SIGMA, lamda=LAMDA, gamma=GAMMA, \n",
    "                              gamma_asym=GAMMA, eta=ETA, gamma_H=GAMMA_H, mu_H=MU_H, \n",
    "                              a=PCT_ASYMPTOMATIC, h=PCT_HOSPITALIZED, f=PCT_FATALITY,              \n",
    "                              G_Q=G_quarantine, isolation_time=14,\n",
    "                              initE=INIT_EXPOSED)"
   ]
  },
  {
   "cell_type": "markdown",
   "metadata": {},
   "source": [
    "-------"
   ]
  },
  {
   "cell_type": "markdown",
   "metadata": {},
   "source": [
    "## Running the model"
   ]
  },
  {
   "cell_type": "markdown",
   "metadata": {},
   "source": [
    "Set the max simulation time to 300 days."
   ]
  },
  {
   "cell_type": "code",
   "execution_count": 21,
   "metadata": {},
   "outputs": [],
   "source": [
    "T = 300"
   ]
  },
  {
   "cell_type": "markdown",
   "metadata": {},
   "source": [
    "Execute the TTI simulation scenario by calling the `run_tti_sim()` function, which runs a custom simulation loop that implements the [TTI Simulation Protocol](https://github.com/ryansmcgee/seirsplus/wiki/TTI-Simulation-Loop)."
   ]
  },
  {
   "cell_type": "code",
   "execution_count": 22,
   "metadata": {},
   "outputs": [
    {
     "name": "stdout",
     "output_type": "stream",
     "text": [
      "[NEW EXPOSURE @ t = 4.54 (1 exposed)]\n",
      "[INTERVENTIONS @ t = 4.54 (1 (0.12%) infected)]\n",
      "\t0\ttested due to symptoms  [+ 0 positive (0.00 %) +]\n",
      "\t0\ttested as traces        [+ 0 positive (0.00 %) +]\n",
      "\t0\ttested randomly         [+ 0 positive (0.00 %) +]\n",
      "\t0\ttested TOTAL            [+ 0 positive (0.00 %) +]\n",
      "\t0\twill isolate due to symptoms         (0 as groupmates of symptomatic)\n",
      "\t0\twill isolate due to positive test    (0 as groupmates of positive)\n",
      "\t0\twill isolate due to positive contact (0 as groupmates of contact)\n",
      "\t0 entered isolation\n",
      "[INTERVENTIONS @ t = 6.26 (1 (0.12%) infected)]\n",
      "\t0\ttested due to symptoms  [+ 0 positive (0.00 %) +]\n",
      "\t0\ttested as traces        [+ 0 positive (0.00 %) +]\n",
      "\t0\ttested randomly         [+ 0 positive (0.00 %) +]\n",
      "\t0\ttested TOTAL            [+ 0 positive (0.00 %) +]\n",
      "\t0\twill isolate due to symptoms         (0 as groupmates of symptomatic)\n",
      "\t0\twill isolate due to positive test    (0 as groupmates of positive)\n",
      "\t0\twill isolate due to positive contact (0 as groupmates of contact)\n",
      "\t0 entered isolation\n",
      "[INTERVENTIONS @ t = 9.85 (1 (0.12%) infected)]\n",
      "\t0\ttested due to symptoms  [+ 0 positive (0.00 %) +]\n",
      "\t0\ttested as traces        [+ 0 positive (0.00 %) +]\n",
      "\t0\ttested randomly         [+ 0 positive (0.00 %) +]\n",
      "\t0\ttested TOTAL            [+ 0 positive (0.00 %) +]\n",
      "\t0\twill isolate due to symptoms         (0 as groupmates of symptomatic)\n",
      "\t0\twill isolate due to positive test    (0 as groupmates of positive)\n",
      "\t0\twill isolate due to positive contact (0 as groupmates of contact)\n",
      "\t0 entered isolation\n",
      "[INTERVENTIONS @ t = 10.15 (1 (0.12%) infected)]\n",
      "\t0\ttested due to symptoms  [+ 0 positive (0.00 %) +]\n",
      "\t0\ttested as traces        [+ 0 positive (0.00 %) +]\n",
      "\t0\ttested randomly         [+ 0 positive (0.00 %) +]\n",
      "\t0\ttested TOTAL            [+ 0 positive (0.00 %) +]\n",
      "\t0\twill isolate due to symptoms         (0 as groupmates of symptomatic)\n",
      "\t0\twill isolate due to positive test    (0 as groupmates of positive)\n",
      "\t0\twill isolate due to positive contact (0 as groupmates of contact)\n",
      "\t0 entered isolation\n",
      "[INTERVENTIONS @ t = 13.23 (2 (0.25%) infected)]\n",
      "\t0\ttested due to symptoms  [+ 0 positive (0.00 %) +]\n",
      "\t0\ttested as traces        [+ 0 positive (0.00 %) +]\n",
      "\t0\ttested randomly         [+ 0 positive (0.00 %) +]\n",
      "\t0\ttested TOTAL            [+ 0 positive (0.00 %) +]\n",
      "\t0\twill isolate due to symptoms         (0 as groupmates of symptomatic)\n",
      "\t0\twill isolate due to positive test    (0 as groupmates of positive)\n",
      "\t0\twill isolate due to positive contact (0 as groupmates of contact)\n",
      "\t0 entered isolation\n",
      "[INTERVENTIONS @ t = 14.73 (4 (0.50%) infected)]\n",
      "\t0\ttested due to symptoms  [+ 0 positive (0.00 %) +]\n",
      "\t0\ttested as traces        [+ 0 positive (0.00 %) +]\n",
      "\t799\ttested randomly         [+ 2 positive (0.25 %) +]\n",
      "\t799\ttested TOTAL            [+ 2 positive (0.25 %) +]\n",
      "\t0\twill isolate due to symptoms         (0 as groupmates of symptomatic)\n",
      "\t2\twill isolate due to positive test    (27 as groupmates of positive)\n",
      "\t0\twill isolate due to positive contact (0 as groupmates of contact)\n",
      "\t0 entered isolation\n",
      "[INTERVENTIONS @ t = 16.09 (4 (0.50%) infected)]\n",
      "\t0\ttested due to symptoms  [+ 0 positive (0.00 %) +]\n",
      "\t0\ttested as traces        [+ 0 positive (0.00 %) +]\n",
      "\t0\ttested randomly         [+ 0 positive (0.00 %) +]\n",
      "\t0\ttested TOTAL            [+ 0 positive (0.00 %) +]\n",
      "\t0\twill isolate due to symptoms         (0 as groupmates of symptomatic)\n",
      "\t0\twill isolate due to positive test    (0 as groupmates of positive)\n",
      "\t0\twill isolate due to positive contact (0 as groupmates of contact)\n",
      "\t0 entered isolation\n",
      "[INTERVENTIONS @ t = 17.84 (7 (0.88%) infected)]\n",
      "\t0\ttested due to symptoms  [+ 0 positive (0.00 %) +]\n",
      "\t0\ttested as traces        [+ 0 positive (0.00 %) +]\n",
      "\t0\ttested randomly         [+ 0 positive (0.00 %) +]\n",
      "\t0\ttested TOTAL            [+ 0 positive (0.00 %) +]\n",
      "\t1\twill isolate due to symptoms         (0 as groupmates of symptomatic)\n",
      "\t0\twill isolate due to positive test    (0 as groupmates of positive)\n",
      "\t0\twill isolate due to positive contact (0 as groupmates of contact)\n",
      "\t27 entered isolation\n",
      "[INTERVENTIONS @ t = 18.08 (7 (0.88%) infected)]\n",
      "\t0\ttested due to symptoms  [+ 0 positive (0.00 %) +]\n",
      "\t0\ttested as traces        [+ 0 positive (0.00 %) +]\n",
      "\t0\ttested randomly         [+ 0 positive (0.00 %) +]\n",
      "\t0\ttested TOTAL            [+ 0 positive (0.00 %) +]\n",
      "\t1\twill isolate due to symptoms         (0 as groupmates of symptomatic)\n",
      "\t0\twill isolate due to positive test    (0 as groupmates of positive)\n",
      "\t0\twill isolate due to positive contact (0 as groupmates of contact)\n",
      "\t1 entered isolation\n",
      "[INTERVENTIONS @ t = 19.17 (7 (0.88%) infected)]\n",
      "\t0\ttested due to symptoms  [+ 0 positive (0.00 %) +]\n",
      "\t0\ttested as traces        [+ 0 positive (0.00 %) +]\n",
      "\t0\ttested randomly         [+ 0 positive (0.00 %) +]\n",
      "\t0\ttested TOTAL            [+ 0 positive (0.00 %) +]\n",
      "\t1\twill isolate due to symptoms         (0 as groupmates of symptomatic)\n",
      "\t0\twill isolate due to positive test    (0 as groupmates of positive)\n",
      "\t0\twill isolate due to positive contact (0 as groupmates of contact)\n",
      "\t1 entered isolation\n",
      "[INTERVENTIONS @ t = 20.88 (8 (1.00%) infected)]\n",
      "\t1\ttested due to symptoms  [+ 0 positive (0.00 %) +]\n",
      "\t0\ttested as traces        [+ 0 positive (0.00 %) +]\n",
      "\t0\ttested randomly         [+ 0 positive (0.00 %) +]\n",
      "\t1\ttested TOTAL            [+ 0 positive (0.00 %) +]\n",
      "\t0\twill isolate due to symptoms         (0 as groupmates of symptomatic)\n",
      "\t0\twill isolate due to positive test    (0 as groupmates of positive)\n",
      "\t0\twill isolate due to positive contact (0 as groupmates of contact)\n",
      "\t1 entered isolation\n",
      "[INTERVENTIONS @ t = 21.26 (7 (0.88%) infected)]\n",
      "\t0\ttested due to symptoms  [+ 0 positive (0.00 %) +]\n",
      "\t0\ttested as traces        [+ 0 positive (0.00 %) +]\n",
      "\t796\ttested randomly         [+ 3 positive (0.38 %) +]\n",
      "\t796\ttested TOTAL            [+ 3 positive (0.38 %) +]\n",
      "\t0\twill isolate due to symptoms         (0 as groupmates of symptomatic)\n",
      "\t3\twill isolate due to positive test    (43 as groupmates of positive)\n",
      "\t0\twill isolate due to positive contact (0 as groupmates of contact)\n",
      "\t0 entered isolation\n",
      "[INTERVENTIONS @ t = 22.11 (8 (1.00%) infected)]\n",
      "\t1\ttested due to symptoms  [+ 1 positive (100.00 %) +]\n",
      "\t0\ttested as traces        [+ 0 positive (0.00 %) +]\n",
      "\t0\ttested randomly         [+ 0 positive (0.00 %) +]\n",
      "\t1\ttested TOTAL            [+ 1 positive (100.00 %) +]\n",
      "\t1\twill isolate due to symptoms         (0 as groupmates of symptomatic)\n",
      "\t1\twill isolate due to positive test    (24 as groupmates of positive)\n",
      "\t0\twill isolate due to positive contact (0 as groupmates of contact)\n",
      "\t0 entered isolation\n",
      "[INTERVENTIONS @ t = 23.24 (9 (1.12%) infected)]\n",
      "\t0\ttested due to symptoms  [+ 0 positive (0.00 %) +]\n",
      "\t0\ttested as traces        [+ 0 positive (0.00 %) +]\n",
      "\t0\ttested randomly         [+ 0 positive (0.00 %) +]\n",
      "\t0\ttested TOTAL            [+ 0 positive (0.00 %) +]\n",
      "\t1\twill isolate due to symptoms         (0 as groupmates of symptomatic)\n",
      "\t0\twill isolate due to positive test    (0 as groupmates of positive)\n",
      "\t0\twill isolate due to positive contact (0 as groupmates of contact)\n",
      "\t44 entered isolation\n",
      "[INTERVENTIONS @ t = 24.18 (9 (1.12%) infected)]\n",
      "\t0\ttested due to symptoms  [+ 0 positive (0.00 %) +]\n",
      "\t0\ttested as traces        [+ 0 positive (0.00 %) +]\n",
      "\t0\ttested randomly         [+ 0 positive (0.00 %) +]\n",
      "\t0\ttested TOTAL            [+ 0 positive (0.00 %) +]\n",
      "\t0\twill isolate due to symptoms         (0 as groupmates of symptomatic)\n",
      "\t0\twill isolate due to positive test    (0 as groupmates of positive)\n",
      "\t0\twill isolate due to positive contact (0 as groupmates of contact)\n",
      "\t25 entered isolation\n",
      "[INTERVENTIONS @ t = 25.17 (8 (1.00%) infected)]\n",
      "\t0\ttested due to symptoms  [+ 0 positive (0.00 %) +]\n",
      "\t0\ttested as traces        [+ 0 positive (0.00 %) +]\n",
      "\t0\ttested randomly         [+ 0 positive (0.00 %) +]\n",
      "\t0\ttested TOTAL            [+ 0 positive (0.00 %) +]\n",
      "\t0\twill isolate due to symptoms         (0 as groupmates of symptomatic)\n",
      "\t0\twill isolate due to positive test    (0 as groupmates of positive)\n",
      "\t0\twill isolate due to positive contact (0 as groupmates of contact)\n",
      "\t0 entered isolation\n",
      "[INTERVENTIONS @ t = 26.21 (11 (1.38%) infected)]\n",
      "\t0\ttested due to symptoms  [+ 0 positive (0.00 %) +]\n",
      "\t0\ttested as traces        [+ 0 positive (0.00 %) +]\n",
      "\t0\ttested randomly         [+ 0 positive (0.00 %) +]\n",
      "\t0\ttested TOTAL            [+ 0 positive (0.00 %) +]\n",
      "\t0\twill isolate due to symptoms         (0 as groupmates of symptomatic)\n",
      "\t0\twill isolate due to positive test    (0 as groupmates of positive)\n",
      "\t0\twill isolate due to positive contact (0 as groupmates of contact)\n",
      "\t0 entered isolation\n",
      "[INTERVENTIONS @ t = 27.66 (10 (1.25%) infected)]\n",
      "\t0\ttested due to symptoms  [+ 0 positive (0.00 %) +]\n",
      "\t0\ttested as traces        [+ 0 positive (0.00 %) +]\n",
      "\t0\ttested randomly         [+ 0 positive (0.00 %) +]\n",
      "\t0\ttested TOTAL            [+ 0 positive (0.00 %) +]\n",
      "\t0\twill isolate due to symptoms         (0 as groupmates of symptomatic)\n",
      "\t0\twill isolate due to positive test    (0 as groupmates of positive)\n",
      "\t0\twill isolate due to positive contact (0 as groupmates of contact)\n",
      "\t0 entered isolation\n",
      "[INTERVENTIONS @ t = 28.12 (11 (1.38%) infected)]\n",
      "\t0\ttested due to symptoms  [+ 0 positive (0.00 %) +]\n",
      "\t0\ttested as traces        [+ 0 positive (0.00 %) +]\n",
      "\t789\ttested randomly         [+ 2 positive (0.25 %) +]\n",
      "\t789\ttested TOTAL            [+ 2 positive (0.25 %) +]\n",
      "\t0\twill isolate due to symptoms         (0 as groupmates of symptomatic)\n",
      "\t2\twill isolate due to positive test    (25 as groupmates of positive)\n",
      "\t0\twill isolate due to positive contact (0 as groupmates of contact)\n",
      "\t0 entered isolation\n",
      "[INTERVENTIONS @ t = 29.14 (11 (1.38%) infected)]\n",
      "\t1\ttested due to symptoms  [+ 1 positive (100.00 %) +]\n",
      "\t0\ttested as traces        [+ 0 positive (0.00 %) +]\n",
      "\t0\ttested randomly         [+ 0 positive (0.00 %) +]\n",
      "\t1\ttested TOTAL            [+ 1 positive (100.00 %) +]\n",
      "\t0\twill isolate due to symptoms         (0 as groupmates of symptomatic)\n",
      "\t1\twill isolate due to positive test    (31 as groupmates of positive)\n",
      "\t0\twill isolate due to positive contact (0 as groupmates of contact)\n",
      "\t0 entered isolation\n",
      "[INTERVENTIONS @ t = 30.09 (12 (1.50%) infected)]\n",
      "\t0\ttested due to symptoms  [+ 0 positive (0.00 %) +]\n",
      "\t0\ttested as traces        [+ 0 positive (0.00 %) +]\n",
      "\t0\ttested randomly         [+ 0 positive (0.00 %) +]\n",
      "\t0\ttested TOTAL            [+ 0 positive (0.00 %) +]\n",
      "\t0\twill isolate due to symptoms         (0 as groupmates of symptomatic)\n",
      "\t0\twill isolate due to positive test    (0 as groupmates of positive)\n",
      "\t0\twill isolate due to positive contact (0 as groupmates of contact)\n",
      "\t25 entered isolation\n",
      "[INTERVENTIONS @ t = 31.07 (14 (1.75%) infected)]\n",
      "\t0\ttested due to symptoms  [+ 0 positive (0.00 %) +]\n",
      "\t0\ttested as traces        [+ 0 positive (0.00 %) +]\n",
      "\t0\ttested randomly         [+ 0 positive (0.00 %) +]\n",
      "\t0\ttested TOTAL            [+ 0 positive (0.00 %) +]\n",
      "\t2\twill isolate due to symptoms         (0 as groupmates of symptomatic)\n",
      "\t0\twill isolate due to positive test    (0 as groupmates of positive)\n",
      "\t0\twill isolate due to positive contact (0 as groupmates of contact)\n",
      "\t31 entered isolation\n",
      "[INTERVENTIONS @ t = 32.03 (14 (1.75%) infected)]\n",
      "\t1\ttested due to symptoms  [+ 1 positive (100.00 %) +]\n",
      "\t0\ttested as traces        [+ 0 positive (0.00 %) +]\n",
      "\t0\ttested randomly         [+ 0 positive (0.00 %) +]\n",
      "\t1\ttested TOTAL            [+ 1 positive (100.00 %) +]\n",
      "\t2\twill isolate due to symptoms         (0 as groupmates of symptomatic)\n",
      "\t1\twill isolate due to positive test    (19 as groupmates of positive)\n",
      "\t0\twill isolate due to positive contact (0 as groupmates of contact)\n",
      "\t2 entered isolation\n",
      "[INTERVENTIONS @ t = 33.23 (15 (1.88%) infected)]\n",
      "\t1\ttested due to symptoms  [+ 1 positive (100.00 %) +]\n",
      "\t0\ttested as traces        [+ 0 positive (0.00 %) +]\n",
      "\t0\ttested randomly         [+ 0 positive (0.00 %) +]\n",
      "\t1\ttested TOTAL            [+ 1 positive (100.00 %) +]\n",
      "\t2\twill isolate due to symptoms         (0 as groupmates of symptomatic)\n",
      "\t1\twill isolate due to positive test    (10 as groupmates of positive)\n",
      "\t0\twill isolate due to positive contact (0 as groupmates of contact)\n",
      "\t2 entered isolation\n"
     ]
    },
    {
     "name": "stdout",
     "output_type": "stream",
     "text": [
      "[INTERVENTIONS @ t = 34.25 (15 (1.88%) infected)]\n",
      "\t0\ttested due to symptoms  [+ 0 positive (0.00 %) +]\n",
      "\t0\ttested as traces        [+ 0 positive (0.00 %) +]\n",
      "\t0\ttested randomly         [+ 0 positive (0.00 %) +]\n",
      "\t0\ttested TOTAL            [+ 0 positive (0.00 %) +]\n",
      "\t3\twill isolate due to symptoms         (0 as groupmates of symptomatic)\n",
      "\t0\twill isolate due to positive test    (0 as groupmates of positive)\n",
      "\t0\twill isolate due to positive contact (0 as groupmates of contact)\n",
      "\t21 entered isolation\n",
      "[INTERVENTIONS @ t = 35.07 (16 (2.00%) infected)]\n",
      "\t0\ttested due to symptoms  [+ 0 positive (0.00 %) +]\n",
      "\t0\ttested as traces        [+ 0 positive (0.00 %) +]\n",
      "\t782\ttested randomly         [+ 5 positive (0.64 %) +]\n",
      "\t782\ttested TOTAL            [+ 5 positive (0.64 %) +]\n",
      "\t1\twill isolate due to symptoms         (0 as groupmates of symptomatic)\n",
      "\t5\twill isolate due to positive test    (74 as groupmates of positive)\n",
      "\t0\twill isolate due to positive contact (0 as groupmates of contact)\n",
      "\t13 entered isolation\n",
      "[INTERVENTIONS @ t = 36.05 (17 (2.12%) infected)]\n",
      "\t0\ttested due to symptoms  [+ 0 positive (0.00 %) +]\n",
      "\t0\ttested as traces        [+ 0 positive (0.00 %) +]\n",
      "\t0\ttested randomly         [+ 0 positive (0.00 %) +]\n",
      "\t0\ttested TOTAL            [+ 0 positive (0.00 %) +]\n",
      "\t0\twill isolate due to symptoms         (0 as groupmates of symptomatic)\n",
      "\t0\twill isolate due to positive test    (0 as groupmates of positive)\n",
      "\t0\twill isolate due to positive contact (0 as groupmates of contact)\n",
      "\t1 entered isolation\n",
      "[INTERVENTIONS @ t = 37.20 (17 (2.12%) infected)]\n",
      "\t0\ttested due to symptoms  [+ 0 positive (0.00 %) +]\n",
      "\t0\ttested as traces        [+ 0 positive (0.00 %) +]\n",
      "\t0\ttested randomly         [+ 0 positive (0.00 %) +]\n",
      "\t0\ttested TOTAL            [+ 0 positive (0.00 %) +]\n",
      "\t0\twill isolate due to symptoms         (0 as groupmates of symptomatic)\n",
      "\t0\twill isolate due to positive test    (0 as groupmates of positive)\n",
      "\t0\twill isolate due to positive contact (0 as groupmates of contact)\n",
      "\t74 entered isolation\n",
      "[INTERVENTIONS @ t = 38.06 (18 (2.25%) infected)]\n",
      "\t1\ttested due to symptoms  [+ 1 positive (100.00 %) +]\n",
      "\t0\ttested as traces        [+ 0 positive (0.00 %) +]\n",
      "\t0\ttested randomly         [+ 0 positive (0.00 %) +]\n",
      "\t1\ttested TOTAL            [+ 1 positive (100.00 %) +]\n",
      "\t1\twill isolate due to symptoms         (0 as groupmates of symptomatic)\n",
      "\t1\twill isolate due to positive test    (15 as groupmates of positive)\n",
      "\t0\twill isolate due to positive contact (0 as groupmates of contact)\n",
      "\t0 entered isolation\n",
      "[INTERVENTIONS @ t = 39.51 (13 (1.62%) infected)]\n",
      "\t2\ttested due to symptoms  [+ 2 positive (100.00 %) +]\n",
      "\t0\ttested as traces        [+ 0 positive (0.00 %) +]\n",
      "\t0\ttested randomly         [+ 0 positive (0.00 %) +]\n",
      "\t2\ttested TOTAL            [+ 2 positive (100.00 %) +]\n",
      "\t0\twill isolate due to symptoms         (0 as groupmates of symptomatic)\n",
      "\t2\twill isolate due to positive test    (27 as groupmates of positive)\n",
      "\t0\twill isolate due to positive contact (0 as groupmates of contact)\n",
      "\t1 entered isolation\n",
      "[INTERVENTIONS @ t = 40.00 (11 (1.38%) infected)]\n",
      "\t0\ttested due to symptoms  [+ 0 positive (0.00 %) +]\n",
      "\t0\ttested as traces        [+ 0 positive (0.00 %) +]\n",
      "\t0\ttested randomly         [+ 0 positive (0.00 %) +]\n",
      "\t0\ttested TOTAL            [+ 0 positive (0.00 %) +]\n",
      "\t0\twill isolate due to symptoms         (0 as groupmates of symptomatic)\n",
      "\t0\twill isolate due to positive test    (0 as groupmates of positive)\n",
      "\t0\twill isolate due to positive contact (0 as groupmates of contact)\n",
      "\t15 entered isolation\n",
      "[INTERVENTIONS @ t = 41.47 (11 (1.38%) infected)]\n",
      "\t2\ttested due to symptoms  [+ 2 positive (100.00 %) +]\n",
      "\t0\ttested as traces        [+ 0 positive (0.00 %) +]\n",
      "\t0\ttested randomly         [+ 0 positive (0.00 %) +]\n",
      "\t2\ttested TOTAL            [+ 2 positive (100.00 %) +]\n",
      "\t0\twill isolate due to symptoms         (0 as groupmates of symptomatic)\n",
      "\t2\twill isolate due to positive test    (32 as groupmates of positive)\n",
      "\t0\twill isolate due to positive contact (0 as groupmates of contact)\n",
      "\t27 entered isolation\n",
      "[INTERVENTIONS @ t = 42.04 (13 (1.62%) infected)]\n",
      "\t0\ttested due to symptoms  [+ 0 positive (0.00 %) +]\n",
      "\t0\ttested as traces        [+ 0 positive (0.00 %) +]\n",
      "\t767\ttested randomly         [+ 2 positive (0.26 %) +]\n",
      "\t767\ttested TOTAL            [+ 2 positive (0.26 %) +]\n",
      "\t0\twill isolate due to symptoms         (0 as groupmates of symptomatic)\n",
      "\t2\twill isolate due to positive test    (46 as groupmates of positive)\n",
      "\t0\twill isolate due to positive contact (0 as groupmates of contact)\n",
      "\t0 entered isolation\n",
      "[INTERVENTIONS @ t = 43.16 (12 (1.50%) infected)]\n",
      "\t0\ttested due to symptoms  [+ 0 positive (0.00 %) +]\n",
      "\t0\ttested as traces        [+ 0 positive (0.00 %) +]\n",
      "\t0\ttested randomly         [+ 0 positive (0.00 %) +]\n",
      "\t0\ttested TOTAL            [+ 0 positive (0.00 %) +]\n",
      "\t0\twill isolate due to symptoms         (0 as groupmates of symptomatic)\n",
      "\t0\twill isolate due to positive test    (0 as groupmates of positive)\n",
      "\t0\twill isolate due to positive contact (0 as groupmates of contact)\n",
      "\t32 entered isolation\n",
      "[INTERVENTIONS @ t = 44.12 (11 (1.38%) infected)]\n",
      "\t0\ttested due to symptoms  [+ 0 positive (0.00 %) +]\n",
      "\t0\ttested as traces        [+ 0 positive (0.00 %) +]\n",
      "\t0\ttested randomly         [+ 0 positive (0.00 %) +]\n",
      "\t0\ttested TOTAL            [+ 0 positive (0.00 %) +]\n",
      "\t0\twill isolate due to symptoms         (0 as groupmates of symptomatic)\n",
      "\t0\twill isolate due to positive test    (0 as groupmates of positive)\n",
      "\t0\twill isolate due to positive contact (0 as groupmates of contact)\n",
      "\t46 entered isolation\n",
      "[INTERVENTIONS @ t = 45.55 (10 (1.25%) infected)]\n",
      "\t0\ttested due to symptoms  [+ 0 positive (0.00 %) +]\n",
      "\t0\ttested as traces        [+ 0 positive (0.00 %) +]\n",
      "\t0\ttested randomly         [+ 0 positive (0.00 %) +]\n",
      "\t0\ttested TOTAL            [+ 0 positive (0.00 %) +]\n",
      "\t0\twill isolate due to symptoms         (0 as groupmates of symptomatic)\n",
      "\t0\twill isolate due to positive test    (0 as groupmates of positive)\n",
      "\t0\twill isolate due to positive contact (0 as groupmates of contact)\n",
      "\t0 entered isolation\n",
      "[INTERVENTIONS @ t = 46.04 (11 (1.38%) infected)]\n",
      "\t0\ttested due to symptoms  [+ 0 positive (0.00 %) +]\n",
      "\t0\ttested as traces        [+ 0 positive (0.00 %) +]\n",
      "\t0\ttested randomly         [+ 0 positive (0.00 %) +]\n",
      "\t0\ttested TOTAL            [+ 0 positive (0.00 %) +]\n",
      "\t0\twill isolate due to symptoms         (0 as groupmates of symptomatic)\n",
      "\t0\twill isolate due to positive test    (0 as groupmates of positive)\n",
      "\t0\twill isolate due to positive contact (0 as groupmates of contact)\n",
      "\t0 entered isolation\n",
      "[INTERVENTIONS @ t = 47.37 (11 (1.38%) infected)]\n",
      "\t0\ttested due to symptoms  [+ 0 positive (0.00 %) +]\n",
      "\t0\ttested as traces        [+ 0 positive (0.00 %) +]\n",
      "\t0\ttested randomly         [+ 0 positive (0.00 %) +]\n",
      "\t0\ttested TOTAL            [+ 0 positive (0.00 %) +]\n",
      "\t0\twill isolate due to symptoms         (0 as groupmates of symptomatic)\n",
      "\t0\twill isolate due to positive test    (0 as groupmates of positive)\n",
      "\t0\twill isolate due to positive contact (0 as groupmates of contact)\n",
      "\t0 entered isolation\n",
      "[INTERVENTIONS @ t = 48.41 (12 (1.50%) infected)]\n",
      "\t0\ttested due to symptoms  [+ 0 positive (0.00 %) +]\n",
      "\t0\ttested as traces        [+ 0 positive (0.00 %) +]\n",
      "\t0\ttested randomly         [+ 0 positive (0.00 %) +]\n",
      "\t0\ttested TOTAL            [+ 0 positive (0.00 %) +]\n",
      "\t0\twill isolate due to symptoms         (0 as groupmates of symptomatic)\n",
      "\t0\twill isolate due to positive test    (0 as groupmates of positive)\n",
      "\t0\twill isolate due to positive contact (0 as groupmates of contact)\n",
      "\t0 entered isolation\n",
      "[INTERVENTIONS @ t = 49.17 (12 (1.50%) infected)]\n",
      "\t0\ttested due to symptoms  [+ 0 positive (0.00 %) +]\n",
      "\t0\ttested as traces        [+ 0 positive (0.00 %) +]\n",
      "\t764\ttested randomly         [+ 7 positive (0.92 %) +]\n",
      "\t764\ttested TOTAL            [+ 7 positive (0.92 %) +]\n",
      "\t0\twill isolate due to symptoms         (0 as groupmates of symptomatic)\n",
      "\t7\twill isolate due to positive test    (126 as groupmates of positive)\n",
      "\t0\twill isolate due to positive contact (0 as groupmates of contact)\n",
      "\t0 entered isolation\n",
      "[INTERVENTIONS @ t = 50.17 (14 (1.75%) infected)]\n",
      "\t0\ttested due to symptoms  [+ 0 positive (0.00 %) +]\n",
      "\t0\ttested as traces        [+ 0 positive (0.00 %) +]\n",
      "\t0\ttested randomly         [+ 0 positive (0.00 %) +]\n",
      "\t0\ttested TOTAL            [+ 0 positive (0.00 %) +]\n",
      "\t0\twill isolate due to symptoms         (0 as groupmates of symptomatic)\n",
      "\t0\twill isolate due to positive test    (0 as groupmates of positive)\n",
      "\t0\twill isolate due to positive contact (0 as groupmates of contact)\n",
      "\t0 entered isolation\n"
     ]
    },
    {
     "name": "stdout",
     "output_type": "stream",
     "text": [
      "[INTERVENTIONS @ t = 51.00 (11 (1.38%) infected)]\n",
      "\t0\ttested due to symptoms  [+ 0 positive (0.00 %) +]\n",
      "\t0\ttested as traces        [+ 0 positive (0.00 %) +]\n",
      "\t0\ttested randomly         [+ 0 positive (0.00 %) +]\n",
      "\t0\ttested TOTAL            [+ 0 positive (0.00 %) +]\n",
      "\t0\twill isolate due to symptoms         (0 as groupmates of symptomatic)\n",
      "\t0\twill isolate due to positive test    (0 as groupmates of positive)\n",
      "\t0\twill isolate due to positive contact (0 as groupmates of contact)\n",
      "\t126 entered isolation\n",
      "[INTERVENTIONS @ t = 52.25 (11 (1.38%) infected)]\n",
      "\t1\ttested due to symptoms  [+ 1 positive (100.00 %) +]\n",
      "\t0\ttested as traces        [+ 0 positive (0.00 %) +]\n",
      "\t0\ttested randomly         [+ 0 positive (0.00 %) +]\n",
      "\t1\ttested TOTAL            [+ 1 positive (100.00 %) +]\n",
      "\t1\twill isolate due to symptoms         (0 as groupmates of symptomatic)\n",
      "\t1\twill isolate due to positive test    (19 as groupmates of positive)\n",
      "\t0\twill isolate due to positive contact (0 as groupmates of contact)\n",
      "\t0 entered isolation\n",
      "[INTERVENTIONS @ t = 53.55 (12 (1.50%) infected)]\n",
      "\t0\ttested due to symptoms  [+ 0 positive (0.00 %) +]\n",
      "\t0\ttested as traces        [+ 0 positive (0.00 %) +]\n",
      "\t0\ttested randomly         [+ 0 positive (0.00 %) +]\n",
      "\t0\ttested TOTAL            [+ 0 positive (0.00 %) +]\n",
      "\t1\twill isolate due to symptoms         (0 as groupmates of symptomatic)\n",
      "\t0\twill isolate due to positive test    (0 as groupmates of positive)\n",
      "\t0\twill isolate due to positive contact (0 as groupmates of contact)\n",
      "\t1 entered isolation\n",
      "[INTERVENTIONS @ t = 54.03 (12 (1.50%) infected)]\n",
      "\t0\ttested due to symptoms  [+ 0 positive (0.00 %) +]\n",
      "\t0\ttested as traces        [+ 0 positive (0.00 %) +]\n",
      "\t0\ttested randomly         [+ 0 positive (0.00 %) +]\n",
      "\t0\ttested TOTAL            [+ 0 positive (0.00 %) +]\n",
      "\t0\twill isolate due to symptoms         (0 as groupmates of symptomatic)\n",
      "\t0\twill isolate due to positive test    (0 as groupmates of positive)\n",
      "\t0\twill isolate due to positive contact (0 as groupmates of contact)\n",
      "\t20 entered isolation\n",
      "[INTERVENTIONS @ t = 55.04 (13 (1.62%) infected)]\n",
      "\t1\ttested due to symptoms  [+ 1 positive (100.00 %) +]\n",
      "\t0\ttested as traces        [+ 0 positive (0.00 %) +]\n",
      "\t0\ttested randomly         [+ 0 positive (0.00 %) +]\n",
      "\t1\ttested TOTAL            [+ 1 positive (100.00 %) +]\n",
      "\t0\twill isolate due to symptoms         (0 as groupmates of symptomatic)\n",
      "\t1\twill isolate due to positive test    (17 as groupmates of positive)\n",
      "\t0\twill isolate due to positive contact (0 as groupmates of contact)\n",
      "\t0 entered isolation\n",
      "[NEW EXPOSURE @ t = 56.71 (1 exposed)]\n",
      "[INTERVENTIONS @ t = 56.71 (10 (1.25%) infected)]\n",
      "\t1\ttested due to symptoms  [+ 0 positive (0.00 %) +]\n",
      "\t0\ttested as traces        [+ 0 positive (0.00 %) +]\n",
      "\t754\ttested randomly         [+ 4 positive (0.53 %) +]\n",
      "\t755\ttested TOTAL            [+ 4 positive (0.53 %) +]\n",
      "\t1\twill isolate due to symptoms         (0 as groupmates of symptomatic)\n",
      "\t4\twill isolate due to positive test    (84 as groupmates of positive)\n",
      "\t0\twill isolate due to positive contact (0 as groupmates of contact)\n",
      "\t0 entered isolation\n",
      "[INTERVENTIONS @ t = 57.03 (13 (1.62%) infected)]\n",
      "\t0\ttested due to symptoms  [+ 0 positive (0.00 %) +]\n",
      "\t0\ttested as traces        [+ 0 positive (0.00 %) +]\n",
      "\t0\ttested randomly         [+ 0 positive (0.00 %) +]\n",
      "\t0\ttested TOTAL            [+ 0 positive (0.00 %) +]\n",
      "\t2\twill isolate due to symptoms         (0 as groupmates of symptomatic)\n",
      "\t0\twill isolate due to positive test    (0 as groupmates of positive)\n",
      "\t0\twill isolate due to positive contact (0 as groupmates of contact)\n",
      "\t18 entered isolation\n",
      "[INTERVENTIONS @ t = 58.29 (12 (1.50%) infected)]\n",
      "\t1\ttested due to symptoms  [+ 1 positive (100.00 %) +]\n",
      "\t0\ttested as traces        [+ 0 positive (0.00 %) +]\n",
      "\t0\ttested randomly         [+ 0 positive (0.00 %) +]\n",
      "\t1\ttested TOTAL            [+ 1 positive (100.00 %) +]\n",
      "\t1\twill isolate due to symptoms         (0 as groupmates of symptomatic)\n",
      "\t1\twill isolate due to positive test    (19 as groupmates of positive)\n",
      "\t0\twill isolate due to positive contact (0 as groupmates of contact)\n",
      "\t86 entered isolation\n",
      "[INTERVENTIONS @ t = 59.22 (11 (1.38%) infected)]\n",
      "\t0\ttested due to symptoms  [+ 0 positive (0.00 %) +]\n",
      "\t0\ttested as traces        [+ 0 positive (0.00 %) +]\n",
      "\t0\ttested randomly         [+ 0 positive (0.00 %) +]\n",
      "\t0\ttested TOTAL            [+ 0 positive (0.00 %) +]\n",
      "\t0\twill isolate due to symptoms         (0 as groupmates of symptomatic)\n",
      "\t0\twill isolate due to positive test    (0 as groupmates of positive)\n",
      "\t0\twill isolate due to positive contact (0 as groupmates of contact)\n",
      "\t1 entered isolation\n",
      "[INTERVENTIONS @ t = 60.10 (12 (1.50%) infected)]\n",
      "\t0\ttested due to symptoms  [+ 0 positive (0.00 %) +]\n",
      "\t0\ttested as traces        [+ 0 positive (0.00 %) +]\n",
      "\t0\ttested randomly         [+ 0 positive (0.00 %) +]\n",
      "\t0\ttested TOTAL            [+ 0 positive (0.00 %) +]\n",
      "\t0\twill isolate due to symptoms         (0 as groupmates of symptomatic)\n",
      "\t0\twill isolate due to positive test    (0 as groupmates of positive)\n",
      "\t0\twill isolate due to positive contact (0 as groupmates of contact)\n",
      "\t19 entered isolation\n",
      "[INTERVENTIONS @ t = 61.06 (14 (1.75%) infected)]\n",
      "\t0\ttested due to symptoms  [+ 0 positive (0.00 %) +]\n",
      "\t0\ttested as traces        [+ 0 positive (0.00 %) +]\n",
      "\t0\ttested randomly         [+ 0 positive (0.00 %) +]\n",
      "\t0\ttested TOTAL            [+ 0 positive (0.00 %) +]\n",
      "\t0\twill isolate due to symptoms         (0 as groupmates of symptomatic)\n",
      "\t0\twill isolate due to positive test    (0 as groupmates of positive)\n",
      "\t0\twill isolate due to positive contact (0 as groupmates of contact)\n",
      "\t0 entered isolation\n",
      "[INTERVENTIONS @ t = 62.60 (13 (1.62%) infected)]\n",
      "\t2\ttested due to symptoms  [+ 1 positive (50.00 %) +]\n",
      "\t0\ttested as traces        [+ 0 positive (0.00 %) +]\n",
      "\t0\ttested randomly         [+ 0 positive (0.00 %) +]\n",
      "\t2\ttested TOTAL            [+ 1 positive (50.00 %) +]\n",
      "\t2\twill isolate due to symptoms         (0 as groupmates of symptomatic)\n",
      "\t1\twill isolate due to positive test    (15 as groupmates of positive)\n",
      "\t0\twill isolate due to positive contact (0 as groupmates of contact)\n",
      "\t0 entered isolation\n",
      "[INTERVENTIONS @ t = 63.18 (15 (1.88%) infected)]\n",
      "\t0\ttested due to symptoms  [+ 0 positive (0.00 %) +]\n",
      "\t0\ttested as traces        [+ 0 positive (0.00 %) +]\n",
      "\t747\ttested randomly         [+ 5 positive (0.67 %) +]\n",
      "\t747\ttested TOTAL            [+ 5 positive (0.67 %) +]\n",
      "\t2\twill isolate due to symptoms         (0 as groupmates of symptomatic)\n",
      "\t5\twill isolate due to positive test    (90 as groupmates of positive)\n",
      "\t0\twill isolate due to positive contact (0 as groupmates of contact)\n",
      "\t2 entered isolation\n",
      "[INTERVENTIONS @ t = 64.14 (16 (2.00%) infected)]\n",
      "\t0\ttested due to symptoms  [+ 0 positive (0.00 %) +]\n",
      "\t0\ttested as traces        [+ 0 positive (0.00 %) +]\n",
      "\t0\ttested randomly         [+ 0 positive (0.00 %) +]\n",
      "\t0\ttested TOTAL            [+ 0 positive (0.00 %) +]\n",
      "\t0\twill isolate due to symptoms         (0 as groupmates of symptomatic)\n",
      "\t0\twill isolate due to positive test    (0 as groupmates of positive)\n",
      "\t0\twill isolate due to positive contact (0 as groupmates of contact)\n",
      "\t17 entered isolation\n",
      "[INTERVENTIONS @ t = 65.01 (16 (2.00%) infected)]\n",
      "\t1\ttested due to symptoms  [+ 1 positive (100.00 %) +]\n",
      "\t0\ttested as traces        [+ 0 positive (0.00 %) +]\n",
      "\t0\ttested randomly         [+ 0 positive (0.00 %) +]\n",
      "\t1\ttested TOTAL            [+ 1 positive (100.00 %) +]\n",
      "\t0\twill isolate due to symptoms         (0 as groupmates of symptomatic)\n",
      "\t1\twill isolate due to positive test    (8 as groupmates of positive)\n",
      "\t0\twill isolate due to positive contact (0 as groupmates of contact)\n",
      "\t90 entered isolation\n",
      "[INTERVENTIONS @ t = 66.19 (14 (1.75%) infected)]\n",
      "\t1\ttested due to symptoms  [+ 0 positive (0.00 %) +]\n",
      "\t0\ttested as traces        [+ 0 positive (0.00 %) +]\n",
      "\t0\ttested randomly         [+ 0 positive (0.00 %) +]\n",
      "\t1\ttested TOTAL            [+ 0 positive (0.00 %) +]\n",
      "\t0\twill isolate due to symptoms         (0 as groupmates of symptomatic)\n",
      "\t0\twill isolate due to positive test    (0 as groupmates of positive)\n",
      "\t0\twill isolate due to positive contact (0 as groupmates of contact)\n",
      "\t0 entered isolation\n",
      "[INTERVENTIONS @ t = 67.28 (15 (1.88%) infected)]\n",
      "\t0\ttested due to symptoms  [+ 0 positive (0.00 %) +]\n",
      "\t0\ttested as traces        [+ 0 positive (0.00 %) +]\n",
      "\t0\ttested randomly         [+ 0 positive (0.00 %) +]\n",
      "\t0\ttested TOTAL            [+ 0 positive (0.00 %) +]\n",
      "\t0\twill isolate due to symptoms         (0 as groupmates of symptomatic)\n",
      "\t0\twill isolate due to positive test    (0 as groupmates of positive)\n",
      "\t0\twill isolate due to positive contact (0 as groupmates of contact)\n",
      "\t8 entered isolation\n",
      "[NEW EXPOSURE @ t = 68.23 (1 exposed)]\n",
      "[INTERVENTIONS @ t = 68.23 (17 (2.12%) infected)]\n",
      "\t0\ttested due to symptoms  [+ 0 positive (0.00 %) +]\n",
      "\t0\ttested as traces        [+ 0 positive (0.00 %) +]\n",
      "\t0\ttested randomly         [+ 0 positive (0.00 %) +]\n",
      "\t0\ttested TOTAL            [+ 0 positive (0.00 %) +]\n",
      "\t0\twill isolate due to symptoms         (0 as groupmates of symptomatic)\n",
      "\t0\twill isolate due to positive test    (0 as groupmates of positive)\n",
      "\t0\twill isolate due to positive contact (0 as groupmates of contact)\n",
      "\t0 entered isolation\n",
      "[INTERVENTIONS @ t = 69.02 (17 (2.12%) infected)]\n",
      "\t1\ttested due to symptoms  [+ 0 positive (0.00 %) +]\n",
      "\t0\ttested as traces        [+ 0 positive (0.00 %) +]\n",
      "\t0\ttested randomly         [+ 0 positive (0.00 %) +]\n",
      "\t1\ttested TOTAL            [+ 0 positive (0.00 %) +]\n",
      "\t0\twill isolate due to symptoms         (0 as groupmates of symptomatic)\n",
      "\t0\twill isolate due to positive test    (0 as groupmates of positive)\n",
      "\t0\twill isolate due to positive contact (0 as groupmates of contact)\n",
      "\t0 entered isolation\n"
     ]
    },
    {
     "name": "stdout",
     "output_type": "stream",
     "text": [
      "[INTERVENTIONS @ t = 70.01 (19 (2.38%) infected)]\n",
      "\t0\ttested due to symptoms  [+ 0 positive (0.00 %) +]\n",
      "\t0\ttested as traces        [+ 0 positive (0.00 %) +]\n",
      "\t738\ttested randomly         [+ 8 positive (1.08 %) +]\n",
      "\t738\ttested TOTAL            [+ 8 positive (1.08 %) +]\n",
      "\t0\twill isolate due to symptoms         (0 as groupmates of symptomatic)\n",
      "\t8\twill isolate due to positive test    (184 as groupmates of positive)\n",
      "\t0\twill isolate due to positive contact (0 as groupmates of contact)\n",
      "\t0 entered isolation\n",
      "[INTERVENTIONS @ t = 71.03 (19 (2.38%) infected)]\n",
      "\t0\ttested due to symptoms  [+ 0 positive (0.00 %) +]\n",
      "\t0\ttested as traces        [+ 0 positive (0.00 %) +]\n",
      "\t0\ttested randomly         [+ 0 positive (0.00 %) +]\n",
      "\t0\ttested TOTAL            [+ 0 positive (0.00 %) +]\n",
      "\t0\twill isolate due to symptoms         (0 as groupmates of symptomatic)\n",
      "\t0\twill isolate due to positive test    (0 as groupmates of positive)\n",
      "\t0\twill isolate due to positive contact (0 as groupmates of contact)\n",
      "\t0 entered isolation\n",
      "[INTERVENTIONS @ t = 72.07 (16 (2.00%) infected)]\n",
      "\t0\ttested due to symptoms  [+ 0 positive (0.00 %) +]\n",
      "\t0\ttested as traces        [+ 0 positive (0.00 %) +]\n",
      "\t0\ttested randomly         [+ 0 positive (0.00 %) +]\n",
      "\t0\ttested TOTAL            [+ 0 positive (0.00 %) +]\n",
      "\t1\twill isolate due to symptoms         (0 as groupmates of symptomatic)\n",
      "\t0\twill isolate due to positive test    (0 as groupmates of positive)\n",
      "\t0\twill isolate due to positive contact (0 as groupmates of contact)\n",
      "\t184 entered isolation\n",
      "[INTERVENTIONS @ t = 73.08 (16 (2.00%) infected)]\n",
      "\t0\ttested due to symptoms  [+ 0 positive (0.00 %) +]\n",
      "\t0\ttested as traces        [+ 0 positive (0.00 %) +]\n",
      "\t0\ttested randomly         [+ 0 positive (0.00 %) +]\n",
      "\t0\ttested TOTAL            [+ 0 positive (0.00 %) +]\n",
      "\t0\twill isolate due to symptoms         (0 as groupmates of symptomatic)\n",
      "\t0\twill isolate due to positive test    (0 as groupmates of positive)\n",
      "\t0\twill isolate due to positive contact (0 as groupmates of contact)\n",
      "\t1 entered isolation\n",
      "[INTERVENTIONS @ t = 74.04 (13 (1.62%) infected)]\n",
      "\t0\ttested due to symptoms  [+ 0 positive (0.00 %) +]\n",
      "\t0\ttested as traces        [+ 0 positive (0.00 %) +]\n",
      "\t0\ttested randomly         [+ 0 positive (0.00 %) +]\n",
      "\t0\ttested TOTAL            [+ 0 positive (0.00 %) +]\n",
      "\t0\twill isolate due to symptoms         (0 as groupmates of symptomatic)\n",
      "\t0\twill isolate due to positive test    (0 as groupmates of positive)\n",
      "\t0\twill isolate due to positive contact (0 as groupmates of contact)\n",
      "\t0 entered isolation\n",
      "[INTERVENTIONS @ t = 75.13 (10 (1.25%) infected)]\n",
      "\t0\ttested due to symptoms  [+ 0 positive (0.00 %) +]\n",
      "\t0\ttested as traces        [+ 0 positive (0.00 %) +]\n",
      "\t0\ttested randomly         [+ 0 positive (0.00 %) +]\n",
      "\t0\ttested TOTAL            [+ 0 positive (0.00 %) +]\n",
      "\t1\twill isolate due to symptoms         (0 as groupmates of symptomatic)\n",
      "\t0\twill isolate due to positive test    (0 as groupmates of positive)\n",
      "\t0\twill isolate due to positive contact (0 as groupmates of contact)\n",
      "\t0 entered isolation\n",
      "[INTERVENTIONS @ t = 76.17 (11 (1.38%) infected)]\n",
      "\t0\ttested due to symptoms  [+ 0 positive (0.00 %) +]\n",
      "\t0\ttested as traces        [+ 0 positive (0.00 %) +]\n",
      "\t0\ttested randomly         [+ 0 positive (0.00 %) +]\n",
      "\t0\ttested TOTAL            [+ 0 positive (0.00 %) +]\n",
      "\t1\twill isolate due to symptoms         (0 as groupmates of symptomatic)\n",
      "\t0\twill isolate due to positive test    (0 as groupmates of positive)\n",
      "\t0\twill isolate due to positive contact (0 as groupmates of contact)\n",
      "\t1 entered isolation\n",
      "[INTERVENTIONS @ t = 77.05 (12 (1.50%) infected)]\n",
      "\t0\ttested due to symptoms  [+ 0 positive (0.00 %) +]\n",
      "\t0\ttested as traces        [+ 0 positive (0.00 %) +]\n",
      "\t725\ttested randomly         [+ 2 positive (0.28 %) +]\n",
      "\t725\ttested TOTAL            [+ 2 positive (0.28 %) +]\n",
      "\t0\twill isolate due to symptoms         (0 as groupmates of symptomatic)\n",
      "\t2\twill isolate due to positive test    (16 as groupmates of positive)\n",
      "\t0\twill isolate due to positive contact (0 as groupmates of contact)\n",
      "\t1 entered isolation\n",
      "[INTERVENTIONS @ t = 78.03 (9 (1.12%) infected)]\n",
      "\t0\ttested due to symptoms  [+ 0 positive (0.00 %) +]\n",
      "\t0\ttested as traces        [+ 0 positive (0.00 %) +]\n",
      "\t0\ttested randomly         [+ 0 positive (0.00 %) +]\n",
      "\t0\ttested TOTAL            [+ 0 positive (0.00 %) +]\n",
      "\t0\twill isolate due to symptoms         (0 as groupmates of symptomatic)\n",
      "\t0\twill isolate due to positive test    (0 as groupmates of positive)\n",
      "\t0\twill isolate due to positive contact (0 as groupmates of contact)\n",
      "\t0 entered isolation\n",
      "[INTERVENTIONS @ t = 79.08 (10 (1.25%) infected)]\n",
      "\t0\ttested due to symptoms  [+ 0 positive (0.00 %) +]\n",
      "\t0\ttested as traces        [+ 0 positive (0.00 %) +]\n",
      "\t0\ttested randomly         [+ 0 positive (0.00 %) +]\n",
      "\t0\ttested TOTAL            [+ 0 positive (0.00 %) +]\n",
      "\t0\twill isolate due to symptoms         (0 as groupmates of symptomatic)\n",
      "\t0\twill isolate due to positive test    (0 as groupmates of positive)\n",
      "\t0\twill isolate due to positive contact (0 as groupmates of contact)\n",
      "\t16 entered isolation\n",
      "[INTERVENTIONS @ t = 80.10 (9 (1.12%) infected)]\n",
      "\t1\ttested due to symptoms  [+ 1 positive (100.00 %) +]\n",
      "\t0\ttested as traces        [+ 0 positive (0.00 %) +]\n",
      "\t0\ttested randomly         [+ 0 positive (0.00 %) +]\n",
      "\t1\ttested TOTAL            [+ 1 positive (100.00 %) +]\n",
      "\t0\twill isolate due to symptoms         (0 as groupmates of symptomatic)\n",
      "\t1\twill isolate due to positive test    (18 as groupmates of positive)\n",
      "\t0\twill isolate due to positive contact (0 as groupmates of contact)\n",
      "\t0 entered isolation\n",
      "[INTERVENTIONS @ t = 81.11 (9 (1.12%) infected)]\n",
      "\t0\ttested due to symptoms  [+ 0 positive (0.00 %) +]\n",
      "\t0\ttested as traces        [+ 0 positive (0.00 %) +]\n",
      "\t0\ttested randomly         [+ 0 positive (0.00 %) +]\n",
      "\t0\ttested TOTAL            [+ 0 positive (0.00 %) +]\n",
      "\t0\twill isolate due to symptoms         (0 as groupmates of symptomatic)\n",
      "\t0\twill isolate due to positive test    (0 as groupmates of positive)\n",
      "\t0\twill isolate due to positive contact (0 as groupmates of contact)\n",
      "\t0 entered isolation\n",
      "[NEW EXPOSURE @ t = 82.46 (1 exposed)]\n",
      "[INTERVENTIONS @ t = 82.46 (8 (1.00%) infected)]\n",
      "\t0\ttested due to symptoms  [+ 0 positive (0.00 %) +]\n",
      "\t0\ttested as traces        [+ 0 positive (0.00 %) +]\n",
      "\t0\ttested randomly         [+ 0 positive (0.00 %) +]\n",
      "\t0\ttested TOTAL            [+ 0 positive (0.00 %) +]\n",
      "\t0\twill isolate due to symptoms         (0 as groupmates of symptomatic)\n",
      "\t0\twill isolate due to positive test    (0 as groupmates of positive)\n",
      "\t0\twill isolate due to positive contact (0 as groupmates of contact)\n",
      "\t18 entered isolation\n",
      "[INTERVENTIONS @ t = 83.01 (10 (1.25%) infected)]\n",
      "\t0\ttested due to symptoms  [+ 0 positive (0.00 %) +]\n",
      "\t0\ttested as traces        [+ 0 positive (0.00 %) +]\n",
      "\t0\ttested randomly         [+ 0 positive (0.00 %) +]\n",
      "\t0\ttested TOTAL            [+ 0 positive (0.00 %) +]\n",
      "\t0\twill isolate due to symptoms         (0 as groupmates of symptomatic)\n",
      "\t0\twill isolate due to positive test    (0 as groupmates of positive)\n",
      "\t0\twill isolate due to positive contact (0 as groupmates of contact)\n",
      "\t0 entered isolation\n",
      "[INTERVENTIONS @ t = 84.29 (10 (1.25%) infected)]\n",
      "\t0\ttested due to symptoms  [+ 0 positive (0.00 %) +]\n",
      "\t0\ttested as traces        [+ 0 positive (0.00 %) +]\n",
      "\t720\ttested randomly         [+ 3 positive (0.42 %) +]\n",
      "\t720\ttested TOTAL            [+ 3 positive (0.42 %) +]\n",
      "\t0\twill isolate due to symptoms         (0 as groupmates of symptomatic)\n",
      "\t3\twill isolate due to positive test    (59 as groupmates of positive)\n",
      "\t0\twill isolate due to positive contact (0 as groupmates of contact)\n",
      "\t0 entered isolation\n",
      "[INTERVENTIONS @ t = 85.53 (10 (1.25%) infected)]\n",
      "\t0\ttested due to symptoms  [+ 0 positive (0.00 %) +]\n",
      "\t0\ttested as traces        [+ 0 positive (0.00 %) +]\n",
      "\t0\ttested randomly         [+ 0 positive (0.00 %) +]\n",
      "\t0\ttested TOTAL            [+ 0 positive (0.00 %) +]\n",
      "\t0\twill isolate due to symptoms         (0 as groupmates of symptomatic)\n",
      "\t0\twill isolate due to positive test    (0 as groupmates of positive)\n",
      "\t0\twill isolate due to positive contact (0 as groupmates of contact)\n",
      "\t0 entered isolation\n",
      "[INTERVENTIONS @ t = 86.13 (11 (1.38%) infected)]\n",
      "\t1\ttested due to symptoms  [+ 1 positive (100.00 %) +]\n",
      "\t0\ttested as traces        [+ 0 positive (0.00 %) +]\n",
      "\t0\ttested randomly         [+ 0 positive (0.00 %) +]\n",
      "\t1\ttested TOTAL            [+ 1 positive (100.00 %) +]\n",
      "\t0\twill isolate due to symptoms         (0 as groupmates of symptomatic)\n",
      "\t1\twill isolate due to positive test    (19 as groupmates of positive)\n",
      "\t0\twill isolate due to positive contact (0 as groupmates of contact)\n",
      "\t59 entered isolation\n",
      "[INTERVENTIONS @ t = 87.32 (15 (1.88%) infected)]\n",
      "\t1\ttested due to symptoms  [+ 0 positive (0.00 %) +]\n",
      "\t0\ttested as traces        [+ 0 positive (0.00 %) +]\n",
      "\t0\ttested randomly         [+ 0 positive (0.00 %) +]\n",
      "\t1\ttested TOTAL            [+ 0 positive (0.00 %) +]\n",
      "\t0\twill isolate due to symptoms         (0 as groupmates of symptomatic)\n",
      "\t0\twill isolate due to positive test    (0 as groupmates of positive)\n",
      "\t0\twill isolate due to positive contact (0 as groupmates of contact)\n",
      "\t0 entered isolation\n",
      "[INTERVENTIONS @ t = 88.41 (16 (2.00%) infected)]\n",
      "\t0\ttested due to symptoms  [+ 0 positive (0.00 %) +]\n",
      "\t0\ttested as traces        [+ 0 positive (0.00 %) +]\n",
      "\t0\ttested randomly         [+ 0 positive (0.00 %) +]\n",
      "\t0\ttested TOTAL            [+ 0 positive (0.00 %) +]\n",
      "\t0\twill isolate due to symptoms         (0 as groupmates of symptomatic)\n",
      "\t0\twill isolate due to positive test    (0 as groupmates of positive)\n",
      "\t0\twill isolate due to positive contact (0 as groupmates of contact)\n",
      "\t19 entered isolation\n",
      "[INTERVENTIONS @ t = 89.33 (18 (2.25%) infected)]\n",
      "\t0\ttested due to symptoms  [+ 0 positive (0.00 %) +]\n",
      "\t0\ttested as traces        [+ 0 positive (0.00 %) +]\n",
      "\t0\ttested randomly         [+ 0 positive (0.00 %) +]\n",
      "\t0\ttested TOTAL            [+ 0 positive (0.00 %) +]\n",
      "\t1\twill isolate due to symptoms         (0 as groupmates of symptomatic)\n",
      "\t0\twill isolate due to positive test    (0 as groupmates of positive)\n",
      "\t0\twill isolate due to positive contact (0 as groupmates of contact)\n",
      "\t0 entered isolation\n"
     ]
    },
    {
     "name": "stdout",
     "output_type": "stream",
     "text": [
      "[INTERVENTIONS @ t = 90.02 (19 (2.38%) infected)]\n",
      "\t1\ttested due to symptoms  [+ 1 positive (100.00 %) +]\n",
      "\t0\ttested as traces        [+ 0 positive (0.00 %) +]\n",
      "\t0\ttested randomly         [+ 0 positive (0.00 %) +]\n",
      "\t1\ttested TOTAL            [+ 1 positive (100.00 %) +]\n",
      "\t0\twill isolate due to symptoms         (0 as groupmates of symptomatic)\n",
      "\t1\twill isolate due to positive test    (25 as groupmates of positive)\n",
      "\t0\twill isolate due to positive contact (0 as groupmates of contact)\n",
      "\t1 entered isolation\n",
      "[INTERVENTIONS @ t = 91.01 (23 (2.88%) infected)]\n",
      "\t0\ttested due to symptoms  [+ 0 positive (0.00 %) +]\n",
      "\t0\ttested as traces        [+ 0 positive (0.00 %) +]\n",
      "\t713\ttested randomly         [+ 6 positive (0.84 %) +]\n",
      "\t713\ttested TOTAL            [+ 6 positive (0.84 %) +]\n",
      "\t0\twill isolate due to symptoms         (0 as groupmates of symptomatic)\n",
      "\t6\twill isolate due to positive test    (141 as groupmates of positive)\n",
      "\t0\twill isolate due to positive contact (0 as groupmates of contact)\n",
      "\t0 entered isolation\n",
      "[INTERVENTIONS @ t = 92.02 (27 (3.38%) infected)]\n",
      "\t1\ttested due to symptoms  [+ 1 positive (100.00 %) +]\n",
      "\t0\ttested as traces        [+ 0 positive (0.00 %) +]\n",
      "\t0\ttested randomly         [+ 0 positive (0.00 %) +]\n",
      "\t1\ttested TOTAL            [+ 1 positive (100.00 %) +]\n",
      "\t0\twill isolate due to symptoms         (0 as groupmates of symptomatic)\n",
      "\t1\twill isolate due to positive test    (8 as groupmates of positive)\n",
      "\t0\twill isolate due to positive contact (0 as groupmates of contact)\n",
      "\t25 entered isolation\n",
      "[INTERVENTIONS @ t = 93.02 (26 (3.25%) infected)]\n",
      "\t1\ttested due to symptoms  [+ 1 positive (100.00 %) +]\n",
      "\t0\ttested as traces        [+ 0 positive (0.00 %) +]\n",
      "\t0\ttested randomly         [+ 0 positive (0.00 %) +]\n",
      "\t1\ttested TOTAL            [+ 1 positive (100.00 %) +]\n",
      "\t0\twill isolate due to symptoms         (0 as groupmates of symptomatic)\n",
      "\t1\twill isolate due to positive test    (24 as groupmates of positive)\n",
      "\t0\twill isolate due to positive contact (0 as groupmates of contact)\n",
      "\t141 entered isolation\n",
      "[INTERVENTIONS @ t = 94.02 (24 (3.00%) infected)]\n",
      "\t1\ttested due to symptoms  [+ 0 positive (0.00 %) +]\n",
      "\t0\ttested as traces        [+ 0 positive (0.00 %) +]\n",
      "\t0\ttested randomly         [+ 0 positive (0.00 %) +]\n",
      "\t1\ttested TOTAL            [+ 0 positive (0.00 %) +]\n",
      "\t0\twill isolate due to symptoms         (0 as groupmates of symptomatic)\n",
      "\t0\twill isolate due to positive test    (0 as groupmates of positive)\n",
      "\t0\twill isolate due to positive contact (0 as groupmates of contact)\n",
      "\t8 entered isolation\n",
      "[INTERVENTIONS @ t = 95.31 (23 (2.88%) infected)]\n",
      "\t0\ttested due to symptoms  [+ 0 positive (0.00 %) +]\n",
      "\t0\ttested as traces        [+ 0 positive (0.00 %) +]\n",
      "\t0\ttested randomly         [+ 0 positive (0.00 %) +]\n",
      "\t0\ttested TOTAL            [+ 0 positive (0.00 %) +]\n",
      "\t0\twill isolate due to symptoms         (0 as groupmates of symptomatic)\n",
      "\t0\twill isolate due to positive test    (0 as groupmates of positive)\n",
      "\t0\twill isolate due to positive contact (0 as groupmates of contact)\n",
      "\t24 entered isolation\n",
      "[INTERVENTIONS @ t = 96.66 (24 (3.00%) infected)]\n",
      "\t1\ttested due to symptoms  [+ 1 positive (100.00 %) +]\n",
      "\t0\ttested as traces        [+ 0 positive (0.00 %) +]\n",
      "\t0\ttested randomly         [+ 0 positive (0.00 %) +]\n",
      "\t1\ttested TOTAL            [+ 1 positive (100.00 %) +]\n",
      "\t2\twill isolate due to symptoms         (0 as groupmates of symptomatic)\n",
      "\t1\twill isolate due to positive test    (10 as groupmates of positive)\n",
      "\t0\twill isolate due to positive contact (0 as groupmates of contact)\n",
      "\t0 entered isolation\n",
      "[INTERVENTIONS @ t = 97.01 (23 (2.88%) infected)]\n",
      "\t0\ttested due to symptoms  [+ 0 positive (0.00 %) +]\n",
      "\t0\ttested as traces        [+ 0 positive (0.00 %) +]\n",
      "\t0\ttested randomly         [+ 0 positive (0.00 %) +]\n",
      "\t0\ttested TOTAL            [+ 0 positive (0.00 %) +]\n",
      "\t2\twill isolate due to symptoms         (0 as groupmates of symptomatic)\n",
      "\t0\twill isolate due to positive test    (0 as groupmates of positive)\n",
      "\t0\twill isolate due to positive contact (0 as groupmates of contact)\n",
      "\t2 entered isolation\n",
      "[INTERVENTIONS @ t = 98.01 (22 (2.75%) infected)]\n",
      "\t0\ttested due to symptoms  [+ 0 positive (0.00 %) +]\n",
      "\t0\ttested as traces        [+ 0 positive (0.00 %) +]\n",
      "\t700\ttested randomly         [+ 4 positive (0.57 %) +]\n",
      "\t700\ttested TOTAL            [+ 4 positive (0.57 %) +]\n",
      "\t0\twill isolate due to symptoms         (0 as groupmates of symptomatic)\n",
      "\t4\twill isolate due to positive test    (69 as groupmates of positive)\n",
      "\t0\twill isolate due to positive contact (0 as groupmates of contact)\n",
      "\t12 entered isolation\n",
      "[INTERVENTIONS @ t = 99.03 (23 (2.88%) infected)]\n",
      "\t2\ttested due to symptoms  [+ 0 positive (0.00 %) +]\n",
      "\t0\ttested as traces        [+ 0 positive (0.00 %) +]\n",
      "\t0\ttested randomly         [+ 0 positive (0.00 %) +]\n",
      "\t2\ttested TOTAL            [+ 0 positive (0.00 %) +]\n",
      "\t1\twill isolate due to symptoms         (0 as groupmates of symptomatic)\n",
      "\t0\twill isolate due to positive test    (0 as groupmates of positive)\n",
      "\t0\twill isolate due to positive contact (0 as groupmates of contact)\n",
      "\t0 entered isolation\n",
      "[INTERVENTIONS @ t = 100.23 (24 (3.00%) infected)]\n",
      "\t2\ttested due to symptoms  [+ 1 positive (50.00 %) +]\n",
      "\t0\ttested as traces        [+ 0 positive (0.00 %) +]\n",
      "\t0\ttested randomly         [+ 0 positive (0.00 %) +]\n",
      "\t2\ttested TOTAL            [+ 1 positive (50.00 %) +]\n",
      "\t4\twill isolate due to symptoms         (0 as groupmates of symptomatic)\n",
      "\t1\twill isolate due to positive test    (17 as groupmates of positive)\n",
      "\t0\twill isolate due to positive contact (0 as groupmates of contact)\n",
      "\t70 entered isolation\n",
      "[INTERVENTIONS @ t = 101.08 (27 (3.38%) infected)]\n",
      "\t2\ttested due to symptoms  [+ 2 positive (100.00 %) +]\n",
      "\t0\ttested as traces        [+ 0 positive (0.00 %) +]\n",
      "\t0\ttested randomly         [+ 0 positive (0.00 %) +]\n",
      "\t2\ttested TOTAL            [+ 2 positive (100.00 %) +]\n",
      "\t4\twill isolate due to symptoms         (0 as groupmates of symptomatic)\n",
      "\t2\twill isolate due to positive test    (25 as groupmates of positive)\n",
      "\t0\twill isolate due to positive contact (0 as groupmates of contact)\n",
      "\t4 entered isolation\n",
      "[INTERVENTIONS @ t = 102.08 (25 (3.12%) infected)]\n",
      "\t0\ttested due to symptoms  [+ 0 positive (0.00 %) +]\n",
      "\t0\ttested as traces        [+ 0 positive (0.00 %) +]\n",
      "\t0\ttested randomly         [+ 0 positive (0.00 %) +]\n",
      "\t0\ttested TOTAL            [+ 0 positive (0.00 %) +]\n",
      "\t1\twill isolate due to symptoms         (0 as groupmates of symptomatic)\n",
      "\t0\twill isolate due to positive test    (0 as groupmates of positive)\n",
      "\t0\twill isolate due to positive contact (0 as groupmates of contact)\n",
      "\t21 entered isolation\n",
      "[INTERVENTIONS @ t = 103.08 (23 (2.88%) infected)]\n",
      "\t0\ttested due to symptoms  [+ 0 positive (0.00 %) +]\n",
      "\t0\ttested as traces        [+ 0 positive (0.00 %) +]\n",
      "\t0\ttested randomly         [+ 0 positive (0.00 %) +]\n",
      "\t0\ttested TOTAL            [+ 0 positive (0.00 %) +]\n",
      "\t1\twill isolate due to symptoms         (0 as groupmates of symptomatic)\n",
      "\t0\twill isolate due to positive test    (0 as groupmates of positive)\n",
      "\t0\twill isolate due to positive contact (0 as groupmates of contact)\n",
      "\t26 entered isolation\n",
      "[INTERVENTIONS @ t = 104.02 (21 (2.62%) infected)]\n",
      "\t1\ttested due to symptoms  [+ 0 positive (0.00 %) +]\n",
      "\t0\ttested as traces        [+ 0 positive (0.00 %) +]\n",
      "\t0\ttested randomly         [+ 0 positive (0.00 %) +]\n",
      "\t1\ttested TOTAL            [+ 0 positive (0.00 %) +]\n",
      "\t1\twill isolate due to symptoms         (0 as groupmates of symptomatic)\n",
      "\t0\twill isolate due to positive test    (0 as groupmates of positive)\n",
      "\t0\twill isolate due to positive contact (0 as groupmates of contact)\n",
      "\t1 entered isolation\n",
      "[INTERVENTIONS @ t = 105.01 (22 (2.75%) infected)]\n",
      "\t0\ttested due to symptoms  [+ 0 positive (0.00 %) +]\n",
      "\t0\ttested as traces        [+ 0 positive (0.00 %) +]\n",
      "\t688\ttested randomly         [+ 13 positive (1.89 %) +]\n",
      "\t688\ttested TOTAL            [+ 13 positive (1.89 %) +]\n",
      "\t0\twill isolate due to symptoms         (0 as groupmates of symptomatic)\n",
      "\t13\twill isolate due to positive test    (228 as groupmates of positive)\n",
      "\t0\twill isolate due to positive contact (0 as groupmates of contact)\n",
      "\t1 entered isolation\n",
      "[INTERVENTIONS @ t = 106.09 (23 (2.88%) infected)]\n",
      "\t0\ttested due to symptoms  [+ 0 positive (0.00 %) +]\n",
      "\t0\ttested as traces        [+ 0 positive (0.00 %) +]\n",
      "\t0\ttested randomly         [+ 0 positive (0.00 %) +]\n",
      "\t0\ttested TOTAL            [+ 0 positive (0.00 %) +]\n",
      "\t0\twill isolate due to symptoms         (0 as groupmates of symptomatic)\n",
      "\t0\twill isolate due to positive test    (0 as groupmates of positive)\n",
      "\t0\twill isolate due to positive contact (0 as groupmates of contact)\n",
      "\t0 entered isolation\n",
      "[INTERVENTIONS @ t = 107.20 (21 (2.62%) infected)]\n",
      "\t0\ttested due to symptoms  [+ 0 positive (0.00 %) +]\n",
      "\t0\ttested as traces        [+ 0 positive (0.00 %) +]\n",
      "\t0\ttested randomly         [+ 0 positive (0.00 %) +]\n",
      "\t0\ttested TOTAL            [+ 0 positive (0.00 %) +]\n",
      "\t0\twill isolate due to symptoms         (0 as groupmates of symptomatic)\n",
      "\t0\twill isolate due to positive test    (0 as groupmates of positive)\n",
      "\t0\twill isolate due to positive contact (0 as groupmates of contact)\n",
      "\t228 entered isolation\n",
      "[INTERVENTIONS @ t = 108.22 (15 (1.88%) infected)]\n",
      "\t0\ttested due to symptoms  [+ 0 positive (0.00 %) +]\n",
      "\t0\ttested as traces        [+ 0 positive (0.00 %) +]\n",
      "\t0\ttested randomly         [+ 0 positive (0.00 %) +]\n",
      "\t0\ttested TOTAL            [+ 0 positive (0.00 %) +]\n",
      "\t0\twill isolate due to symptoms         (0 as groupmates of symptomatic)\n",
      "\t0\twill isolate due to positive test    (0 as groupmates of positive)\n",
      "\t0\twill isolate due to positive contact (0 as groupmates of contact)\n",
      "\t0 entered isolation\n",
      "[NEW EXPOSURE @ t = 109.08 (1 exposed)]\n",
      "[INTERVENTIONS @ t = 109.08 (14 (1.75%) infected)]\n",
      "\t0\ttested due to symptoms  [+ 0 positive (0.00 %) +]\n",
      "\t0\ttested as traces        [+ 0 positive (0.00 %) +]\n",
      "\t0\ttested randomly         [+ 0 positive (0.00 %) +]\n",
      "\t0\ttested TOTAL            [+ 0 positive (0.00 %) +]\n",
      "\t0\twill isolate due to symptoms         (0 as groupmates of symptomatic)\n",
      "\t0\twill isolate due to positive test    (0 as groupmates of positive)\n",
      "\t0\twill isolate due to positive contact (0 as groupmates of contact)\n",
      "\t0 entered isolation\n",
      "[INTERVENTIONS @ t = 110.14 (12 (1.50%) infected)]\n",
      "\t0\ttested due to symptoms  [+ 0 positive (0.00 %) +]\n",
      "\t0\ttested as traces        [+ 0 positive (0.00 %) +]\n",
      "\t0\ttested randomly         [+ 0 positive (0.00 %) +]\n",
      "\t0\ttested TOTAL            [+ 0 positive (0.00 %) +]\n",
      "\t0\twill isolate due to symptoms         (0 as groupmates of symptomatic)\n",
      "\t0\twill isolate due to positive test    (0 as groupmates of positive)\n",
      "\t0\twill isolate due to positive contact (0 as groupmates of contact)\n",
      "\t0 entered isolation\n",
      "[INTERVENTIONS @ t = 111.43 (10 (1.25%) infected)]\n",
      "\t0\ttested due to symptoms  [+ 0 positive (0.00 %) +]\n",
      "\t0\ttested as traces        [+ 0 positive (0.00 %) +]\n",
      "\t0\ttested randomly         [+ 0 positive (0.00 %) +]\n",
      "\t0\ttested TOTAL            [+ 0 positive (0.00 %) +]\n",
      "\t0\twill isolate due to symptoms         (0 as groupmates of symptomatic)\n",
      "\t0\twill isolate due to positive test    (0 as groupmates of positive)\n",
      "\t0\twill isolate due to positive contact (0 as groupmates of contact)\n",
      "\t0 entered isolation\n",
      "[INTERVENTIONS @ t = 112.02 (10 (1.25%) infected)]\n",
      "\t0\ttested due to symptoms  [+ 0 positive (0.00 %) +]\n",
      "\t0\ttested as traces        [+ 0 positive (0.00 %) +]\n",
      "\t673\ttested randomly         [+ 3 positive (0.45 %) +]\n",
      "\t673\ttested TOTAL            [+ 3 positive (0.45 %) +]\n",
      "\t0\twill isolate due to symptoms         (0 as groupmates of symptomatic)\n",
      "\t3\twill isolate due to positive test    (62 as groupmates of positive)\n",
      "\t0\twill isolate due to positive contact (0 as groupmates of contact)\n",
      "\t0 entered isolation\n",
      "[INTERVENTIONS @ t = 113.03 (12 (1.50%) infected)]\n",
      "\t0\ttested due to symptoms  [+ 0 positive (0.00 %) +]\n",
      "\t0\ttested as traces        [+ 0 positive (0.00 %) +]\n",
      "\t0\ttested randomly         [+ 0 positive (0.00 %) +]\n",
      "\t0\ttested TOTAL            [+ 0 positive (0.00 %) +]\n",
      "\t0\twill isolate due to symptoms         (0 as groupmates of symptomatic)\n",
      "\t0\twill isolate due to positive test    (0 as groupmates of positive)\n",
      "\t0\twill isolate due to positive contact (0 as groupmates of contact)\n",
      "\t0 entered isolation\n",
      "[INTERVENTIONS @ t = 114.20 (11 (1.38%) infected)]\n",
      "\t0\ttested due to symptoms  [+ 0 positive (0.00 %) +]\n",
      "\t0\ttested as traces        [+ 0 positive (0.00 %) +]\n",
      "\t0\ttested randomly         [+ 0 positive (0.00 %) +]\n",
      "\t0\ttested TOTAL            [+ 0 positive (0.00 %) +]\n",
      "\t1\twill isolate due to symptoms         (0 as groupmates of symptomatic)\n",
      "\t0\twill isolate due to positive test    (0 as groupmates of positive)\n",
      "\t0\twill isolate due to positive contact (0 as groupmates of contact)\n",
      "\t62 entered isolation\n",
      "[INTERVENTIONS @ t = 115.06 (9 (1.12%) infected)]\n",
      "\t0\ttested due to symptoms  [+ 0 positive (0.00 %) +]\n",
      "\t0\ttested as traces        [+ 0 positive (0.00 %) +]\n",
      "\t0\ttested randomly         [+ 0 positive (0.00 %) +]\n",
      "\t0\ttested TOTAL            [+ 0 positive (0.00 %) +]\n",
      "\t1\twill isolate due to symptoms         (0 as groupmates of symptomatic)\n",
      "\t0\twill isolate due to positive test    (0 as groupmates of positive)\n",
      "\t0\twill isolate due to positive contact (0 as groupmates of contact)\n",
      "\t1 entered isolation\n",
      "[INTERVENTIONS @ t = 116.28 (11 (1.38%) infected)]\n",
      "\t1\ttested due to symptoms  [+ 1 positive (100.00 %) +]\n",
      "\t0\ttested as traces        [+ 0 positive (0.00 %) +]\n",
      "\t0\ttested randomly         [+ 0 positive (0.00 %) +]\n",
      "\t1\ttested TOTAL            [+ 1 positive (100.00 %) +]\n",
      "\t1\twill isolate due to symptoms         (0 as groupmates of symptomatic)\n",
      "\t1\twill isolate due to positive test    (10 as groupmates of positive)\n",
      "\t0\twill isolate due to positive contact (0 as groupmates of contact)\n",
      "\t1 entered isolation\n",
      "[INTERVENTIONS @ t = 117.17 (11 (1.38%) infected)]\n",
      "\t0\ttested due to symptoms  [+ 0 positive (0.00 %) +]\n",
      "\t0\ttested as traces        [+ 0 positive (0.00 %) +]\n",
      "\t0\ttested randomly         [+ 0 positive (0.00 %) +]\n",
      "\t0\ttested TOTAL            [+ 0 positive (0.00 %) +]\n",
      "\t1\twill isolate due to symptoms         (0 as groupmates of symptomatic)\n",
      "\t0\twill isolate due to positive test    (0 as groupmates of positive)\n",
      "\t0\twill isolate due to positive contact (0 as groupmates of contact)\n",
      "\t1 entered isolation\n",
      "[INTERVENTIONS @ t = 118.05 (8 (1.00%) infected)]\n",
      "\t0\ttested due to symptoms  [+ 0 positive (0.00 %) +]\n",
      "\t0\ttested as traces        [+ 0 positive (0.00 %) +]\n",
      "\t0\ttested randomly         [+ 0 positive (0.00 %) +]\n",
      "\t0\ttested TOTAL            [+ 0 positive (0.00 %) +]\n",
      "\t1\twill isolate due to symptoms         (0 as groupmates of symptomatic)\n",
      "\t0\twill isolate due to positive test    (0 as groupmates of positive)\n",
      "\t0\twill isolate due to positive contact (0 as groupmates of contact)\n",
      "\t11 entered isolation\n",
      "[INTERVENTIONS @ t = 119.20 (9 (1.12%) infected)]\n",
      "\t0\ttested due to symptoms  [+ 0 positive (0.00 %) +]\n",
      "\t0\ttested as traces        [+ 0 positive (0.00 %) +]\n",
      "\t665\ttested randomly         [+ 4 positive (0.60 %) +]\n",
      "\t665\ttested TOTAL            [+ 4 positive (0.60 %) +]\n",
      "\t1\twill isolate due to symptoms         (0 as groupmates of symptomatic)\n",
      "\t4\twill isolate due to positive test    (64 as groupmates of positive)\n",
      "\t0\twill isolate due to positive contact (0 as groupmates of contact)\n",
      "\t1 entered isolation\n",
      "[INTERVENTIONS @ t = 120.30 (8 (1.00%) infected)]\n",
      "\t0\ttested due to symptoms  [+ 0 positive (0.00 %) +]\n",
      "\t0\ttested as traces        [+ 0 positive (0.00 %) +]\n",
      "\t0\ttested randomly         [+ 0 positive (0.00 %) +]\n",
      "\t0\ttested TOTAL            [+ 0 positive (0.00 %) +]\n",
      "\t1\twill isolate due to symptoms         (0 as groupmates of symptomatic)\n",
      "\t0\twill isolate due to positive test    (0 as groupmates of positive)\n",
      "\t0\twill isolate due to positive contact (0 as groupmates of contact)\n",
      "\t1 entered isolation\n",
      "[INTERVENTIONS @ t = 121.31 (5 (0.62%) infected)]\n",
      "\t0\ttested due to symptoms  [+ 0 positive (0.00 %) +]\n",
      "\t0\ttested as traces        [+ 0 positive (0.00 %) +]\n",
      "\t0\ttested randomly         [+ 0 positive (0.00 %) +]\n",
      "\t0\ttested TOTAL            [+ 0 positive (0.00 %) +]\n",
      "\t1\twill isolate due to symptoms         (0 as groupmates of symptomatic)\n",
      "\t0\twill isolate due to positive test    (0 as groupmates of positive)\n",
      "\t0\twill isolate due to positive contact (0 as groupmates of contact)\n",
      "\t65 entered isolation\n",
      "[INTERVENTIONS @ t = 122.81 (3 (0.38%) infected)]\n",
      "\t0\ttested due to symptoms  [+ 0 positive (0.00 %) +]\n",
      "\t0\ttested as traces        [+ 0 positive (0.00 %) +]\n",
      "\t0\ttested randomly         [+ 0 positive (0.00 %) +]\n",
      "\t0\ttested TOTAL            [+ 0 positive (0.00 %) +]\n",
      "\t0\twill isolate due to symptoms         (0 as groupmates of symptomatic)\n",
      "\t0\twill isolate due to positive test    (0 as groupmates of positive)\n",
      "\t0\twill isolate due to positive contact (0 as groupmates of contact)\n",
      "\t1 entered isolation\n"
     ]
    },
    {
     "name": "stdout",
     "output_type": "stream",
     "text": [
      "[NEW EXPOSURE @ t = 124.11 (1 exposed)]\n",
      "[INTERVENTIONS @ t = 124.11 (3 (0.38%) infected)]\n",
      "\t1\ttested due to symptoms  [+ 0 positive (0.00 %) +]\n",
      "\t0\ttested as traces        [+ 0 positive (0.00 %) +]\n",
      "\t0\ttested randomly         [+ 0 positive (0.00 %) +]\n",
      "\t1\ttested TOTAL            [+ 0 positive (0.00 %) +]\n",
      "\t1\twill isolate due to symptoms         (0 as groupmates of symptomatic)\n",
      "\t0\twill isolate due to positive test    (0 as groupmates of positive)\n",
      "\t0\twill isolate due to positive contact (0 as groupmates of contact)\n",
      "\t0 entered isolation\n",
      "[INTERVENTIONS @ t = 125.24 (3 (0.38%) infected)]\n",
      "\t0\ttested due to symptoms  [+ 0 positive (0.00 %) +]\n",
      "\t0\ttested as traces        [+ 0 positive (0.00 %) +]\n",
      "\t0\ttested randomly         [+ 0 positive (0.00 %) +]\n",
      "\t0\ttested TOTAL            [+ 0 positive (0.00 %) +]\n",
      "\t0\twill isolate due to symptoms         (0 as groupmates of symptomatic)\n",
      "\t0\twill isolate due to positive test    (0 as groupmates of positive)\n",
      "\t0\twill isolate due to positive contact (0 as groupmates of contact)\n",
      "\t1 entered isolation\n",
      "[INTERVENTIONS @ t = 129.11 (0 (0.00%) infected)]\n",
      "\t0\ttested due to symptoms  [+ 0 positive (0.00 %) +]\n",
      "\t0\ttested as traces        [+ 0 positive (0.00 %) +]\n",
      "\t0\ttested randomly         [+ 0 positive (0.00 %) +]\n",
      "\t0\ttested TOTAL            [+ 0 positive (0.00 %) +]\n",
      "\t0\twill isolate due to symptoms         (0 as groupmates of symptomatic)\n",
      "\t0\twill isolate due to positive test    (0 as groupmates of positive)\n",
      "\t0\twill isolate due to positive contact (0 as groupmates of contact)\n",
      "\t0 entered isolation\n",
      "[INTERVENTIONS @ t = 130.00 (0 (0.00%) infected)]\n",
      "\t0\ttested due to symptoms  [+ 0 positive (0.00 %) +]\n",
      "\t0\ttested as traces        [+ 0 positive (0.00 %) +]\n",
      "\t0\ttested randomly         [+ 0 positive (0.00 %) +]\n",
      "\t0\ttested TOTAL            [+ 0 positive (0.00 %) +]\n",
      "\t0\twill isolate due to symptoms         (0 as groupmates of symptomatic)\n",
      "\t0\twill isolate due to positive test    (0 as groupmates of positive)\n",
      "\t0\twill isolate due to positive contact (0 as groupmates of contact)\n",
      "\t0 entered isolation\n",
      "[INTERVENTIONS @ t = 131.00 (0 (0.00%) infected)]\n",
      "\t0\ttested due to symptoms  [+ 0 positive (0.00 %) +]\n",
      "\t0\ttested as traces        [+ 0 positive (0.00 %) +]\n",
      "\t0\ttested randomly         [+ 0 positive (0.00 %) +]\n",
      "\t0\ttested TOTAL            [+ 0 positive (0.00 %) +]\n",
      "\t0\twill isolate due to symptoms         (0 as groupmates of symptomatic)\n",
      "\t0\twill isolate due to positive test    (0 as groupmates of positive)\n",
      "\t0\twill isolate due to positive contact (0 as groupmates of contact)\n",
      "\t0 entered isolation\n",
      "[INTERVENTIONS @ t = 132.00 (0 (0.00%) infected)]\n",
      "\t0\ttested due to symptoms  [+ 0 positive (0.00 %) +]\n",
      "\t0\ttested as traces        [+ 0 positive (0.00 %) +]\n",
      "\t0\ttested randomly         [+ 0 positive (0.00 %) +]\n",
      "\t0\ttested TOTAL            [+ 0 positive (0.00 %) +]\n",
      "\t0\twill isolate due to symptoms         (0 as groupmates of symptomatic)\n",
      "\t0\twill isolate due to positive test    (0 as groupmates of positive)\n",
      "\t0\twill isolate due to positive contact (0 as groupmates of contact)\n",
      "\t0 entered isolation\n",
      "[INTERVENTIONS @ t = 133.00 (0 (0.00%) infected)]\n",
      "\t0\ttested due to symptoms  [+ 0 positive (0.00 %) +]\n",
      "\t0\ttested as traces        [+ 0 positive (0.00 %) +]\n",
      "\t657\ttested randomly         [+ 0 positive (0.00 %) +]\n",
      "\t657\ttested TOTAL            [+ 0 positive (0.00 %) +]\n",
      "\t0\twill isolate due to symptoms         (0 as groupmates of symptomatic)\n",
      "\t0\twill isolate due to positive test    (0 as groupmates of positive)\n",
      "\t0\twill isolate due to positive contact (0 as groupmates of contact)\n",
      "\t0 entered isolation\n",
      "[INTERVENTIONS @ t = 134.00 (0 (0.00%) infected)]\n",
      "\t0\ttested due to symptoms  [+ 0 positive (0.00 %) +]\n",
      "\t0\ttested as traces        [+ 0 positive (0.00 %) +]\n",
      "\t0\ttested randomly         [+ 0 positive (0.00 %) +]\n",
      "\t0\ttested TOTAL            [+ 0 positive (0.00 %) +]\n",
      "\t0\twill isolate due to symptoms         (0 as groupmates of symptomatic)\n",
      "\t0\twill isolate due to positive test    (0 as groupmates of positive)\n",
      "\t0\twill isolate due to positive contact (0 as groupmates of contact)\n",
      "\t0 entered isolation\n",
      "[INTERVENTIONS @ t = 135.00 (0 (0.00%) infected)]\n",
      "\t0\ttested due to symptoms  [+ 0 positive (0.00 %) +]\n",
      "\t0\ttested as traces        [+ 0 positive (0.00 %) +]\n",
      "\t0\ttested randomly         [+ 0 positive (0.00 %) +]\n",
      "\t0\ttested TOTAL            [+ 0 positive (0.00 %) +]\n",
      "\t0\twill isolate due to symptoms         (0 as groupmates of symptomatic)\n",
      "\t0\twill isolate due to positive test    (0 as groupmates of positive)\n",
      "\t0\twill isolate due to positive contact (0 as groupmates of contact)\n",
      "\t0 entered isolation\n",
      "[INTERVENTIONS @ t = 136.00 (0 (0.00%) infected)]\n",
      "\t0\ttested due to symptoms  [+ 0 positive (0.00 %) +]\n",
      "\t0\ttested as traces        [+ 0 positive (0.00 %) +]\n",
      "\t0\ttested randomly         [+ 0 positive (0.00 %) +]\n",
      "\t0\ttested TOTAL            [+ 0 positive (0.00 %) +]\n",
      "\t0\twill isolate due to symptoms         (0 as groupmates of symptomatic)\n",
      "\t0\twill isolate due to positive test    (0 as groupmates of positive)\n",
      "\t0\twill isolate due to positive contact (0 as groupmates of contact)\n",
      "\t0 entered isolation\n",
      "[INTERVENTIONS @ t = 137.00 (0 (0.00%) infected)]\n",
      "\t0\ttested due to symptoms  [+ 0 positive (0.00 %) +]\n",
      "\t0\ttested as traces        [+ 0 positive (0.00 %) +]\n",
      "\t0\ttested randomly         [+ 0 positive (0.00 %) +]\n",
      "\t0\ttested TOTAL            [+ 0 positive (0.00 %) +]\n",
      "\t0\twill isolate due to symptoms         (0 as groupmates of symptomatic)\n",
      "\t0\twill isolate due to positive test    (0 as groupmates of positive)\n",
      "\t0\twill isolate due to positive contact (0 as groupmates of contact)\n",
      "\t0 entered isolation\n",
      "[INTERVENTIONS @ t = 138.00 (0 (0.00%) infected)]\n",
      "\t0\ttested due to symptoms  [+ 0 positive (0.00 %) +]\n",
      "\t0\ttested as traces        [+ 0 positive (0.00 %) +]\n",
      "\t0\ttested randomly         [+ 0 positive (0.00 %) +]\n",
      "\t0\ttested TOTAL            [+ 0 positive (0.00 %) +]\n",
      "\t0\twill isolate due to symptoms         (0 as groupmates of symptomatic)\n",
      "\t0\twill isolate due to positive test    (0 as groupmates of positive)\n",
      "\t0\twill isolate due to positive contact (0 as groupmates of contact)\n",
      "\t0 entered isolation\n",
      "[INTERVENTIONS @ t = 139.00 (0 (0.00%) infected)]\n",
      "\t0\ttested due to symptoms  [+ 0 positive (0.00 %) +]\n",
      "\t0\ttested as traces        [+ 0 positive (0.00 %) +]\n",
      "\t0\ttested randomly         [+ 0 positive (0.00 %) +]\n",
      "\t0\ttested TOTAL            [+ 0 positive (0.00 %) +]\n",
      "\t0\twill isolate due to symptoms         (0 as groupmates of symptomatic)\n",
      "\t0\twill isolate due to positive test    (0 as groupmates of positive)\n",
      "\t0\twill isolate due to positive contact (0 as groupmates of contact)\n",
      "\t0 entered isolation\n"
     ]
    },
    {
     "data": {
      "text/plain": [
       "(4.536094948460567, 139.25439055986027)"
      ]
     },
     "execution_count": 22,
     "metadata": {},
     "output_type": "execute_result"
    }
   ],
   "source": [
    "run_tti_sim(model, T, \n",
    "            intervention_start_pct_infected=INTERVENTION_START_PCT_INFECTED, average_introductions_per_day=AVERAGE_INTRODUCTIONS_PER_DAY,\n",
    "            testing_cadence=TESTING_CADENCE, pct_tested_per_day=PCT_TESTED_PER_DAY, test_falseneg_rate=TEST_FALSENEG_RATE, \n",
    "            testing_compliance_symptomatic=TESTING_COMPLIANCE_SYMPTOMATIC, max_pct_tests_for_symptomatics=MAX_PCT_TESTS_FOR_SYMPTOMATICS,\n",
    "            testing_compliance_traced=TESTING_COMPLIANCE_TRACED, max_pct_tests_for_traces=MAX_PCT_TESTS_FOR_TRACES,\n",
    "            testing_compliance_random=TESTING_COMPLIANCE_RANDOM, random_testing_degree_bias=RANDOM_TESTING_DEGREE_BIAS,\n",
    "            tracing_compliance=TRACING_COMPLIANCE, pct_contacts_to_trace=PCT_CONTACTS_TO_TRACE, tracing_lag=TRACING_LAG,\n",
    "            isolation_compliance_symptomatic_individual=ISOLATION_COMPLIANCE_SYMPTOMATIC_INDIVIDUAL, isolation_compliance_symptomatic_groupmate=ISOLATION_COMPLIANCE_SYMPTOMATIC_GROUPMATE, \n",
    "            isolation_compliance_positive_individual=ISOLATION_COMPLIANCE_POSITIVE_INDIVIDUAL, isolation_compliance_positive_groupmate=ISOLATION_COMPLIANCE_POSITIVE_GROUPMATE,\n",
    "            isolation_compliance_positive_contact=ISOLATION_COMPLIANCE_POSITIVE_CONTACT, isolation_compliance_positive_contactgroupmate=ISOLATION_COMPLIANCE_POSITIVE_CONTACTGROUPMATE,\n",
    "            isolation_lag_symptomatic=ISOLATION_LAG_SYMPTOMATIC, isolation_lag_positive=ISOLATION_LAG_POSITIVE, \n",
    "            isolation_groups=list(teams.values()))"
   ]
  },
  {
   "cell_type": "code",
   "execution_count": 23,
   "metadata": {},
   "outputs": [
    {
     "name": "stdout",
     "output_type": "stream",
     "text": [
      "total percent infected: 17.88%\n",
      "total percent fatality: 0.00%\n",
      "peak  pct hospitalized: 0.25%\n"
     ]
    }
   ],
   "source": [
    "results_summary(model)"
   ]
  },
  {
   "cell_type": "markdown",
   "metadata": {},
   "source": [
    "-------"
   ]
  },
  {
   "cell_type": "markdown",
   "metadata": {},
   "source": [
    "## Visualizing the results"
   ]
  },
  {
   "cell_type": "code",
   "execution_count": 24,
   "metadata": {},
   "outputs": [
    {
     "name": "stderr",
     "output_type": "stream",
     "text": [
      "/usr/local/lib/python3.8/site-packages/seirsplus/models.py:3913: UserWarning: FixedFormatter should only be used together with FixedLocator\n",
      "  ax.set_yticklabels(['{:,.0%}'.format(y) for y in ax.get_yticks()])\n"
     ]
    },
    {
     "data": {
      "image/png": "[encoded data removed]",
      "text/plain": [
       "<Figure size 864x576 with 1 Axes>"
      ]
     },
     "metadata": {
      "needs_background": "light"
     },
     "output_type": "display_data"
    }
   ],
   "source": [
    "fig, ax = model.figure_infections(combine_Q_infected=False, plot_Q_R='stacked', plot_Q_S='stacked')"
   ]
  },
  {
   "cell_type": "code",
   "execution_count": null,
   "metadata": {},
   "outputs": [],
   "source": []
  }
 ],
 "metadata": {
  "kernelspec": {
   "display_name": "Python 3",
   "language": "python",
   "name": "python3"
  },
  "language_info": {
   "codemirror_mode": {
    "name": "ipython",
    "version": 3
   },
   "file_extension": ".py",
   "mimetype": "text/x-python",
   "name": "python",
   "nbconvert_exporter": "python",
   "pygments_lexer": "ipython3",
   "version": "3.8.4"
  }
 },
 "nbformat": 4,
 "nbformat_minor": 4
}
