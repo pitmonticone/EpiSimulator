{
 "cells": [
  {
   "cell_type": "markdown",
   "metadata": {},
   "source": [
    "# Contact Data"
   ]
  },
  {
   "cell_type": "markdown",
   "metadata": {},
   "source": [
    "## Modules"
   ]
  },
  {
   "cell_type": "code",
   "execution_count": 25,
   "metadata": {},
   "outputs": [
    {
     "name": "stdout",
     "output_type": "stream",
     "text": [
      "Populating the interactive namespace from numpy and matplotlib\n"
     ]
    }
   ],
   "source": [
    "# Network Data Science \n",
    "import networkx as nx\n",
    "\n",
    "# Data Wrangling\n",
    "import numpy as np\n",
    "import pandas as pd\n",
    "from sklearn.preprocessing import normalize\n",
    "\n",
    "# Data Visualization\n",
    "import seaborn as sns\n",
    "import matplotlib.pyplot as plt \n",
    "import matplotlib.ticker as ticker\n",
    "%pylab inline\n",
    "\n",
    "# Geo-Spatial Data Analysis\n",
    "import geopandas as gpd"
   ]
  },
  {
   "cell_type": "markdown",
   "metadata": {},
   "source": [
    "## Wrangling "
   ]
  },
  {
   "cell_type": "code",
   "execution_count": 41,
   "metadata": {},
   "outputs": [
    {
     "data": {
      "image/png": "[encoded data removed]",
      "text/plain": [
       "<Figure size 432x288 with 2 Axes>"
      ]
     },
     "metadata": {
      "needs_background": "light"
     },
     "output_type": "display_data"
    }
   ],
   "source": [
    "# Load contact data \n",
    "contact_data = pd.read_csv(\"/Users/pietromonticone/github/DigitalEpidemiologyProject/Data/CSV/2020/ContactMatrixAllLocations.csv\")\n",
    "# Create the contact matrix \n",
    "contact_matrix = contact_data.to_numpy()\n",
    "# Normalize the contact matrix \n",
    "normalized_contact_matrix = normalize(contact_matrix, axis=1, norm='l1')\n",
    "# Construct weighted edgelist \n",
    "contact_edgelist = []\n",
    "for i in range(contact_matrix.shape[0]):\n",
    "    for j in range(contact_matrix.shape[0]):\n",
    "        weighted_edgelist.append((i,j,contact_matrix[i][j]))\n",
    "# Construct contact graph\n",
    "contact_graph = nx.from_pandas_adjacency(pd.DataFrame(contact_matrix), create_using=nx.DiGraph)\n",
    "###contact_graph.add_weighted_edges_from(weighted_edgelist)\n",
    "# Visualize the contact matrix \n",
    "plt.imshow(contact_matrix)\n",
    "plt.colorbar()\n",
    "plt.show()\n",
    "\n",
    "# Display weighted edges\n",
    "###contact_graph.edges(data=True)\n",
    "# Visualize the contact graph\n",
    "#nw.visualize(contact_graph)\n",
    "\n",
    "# ADD CONTACT DATA PATHS \n",
    "### PIETRO1: \"/Users/Pit/GitHub/DigitalEpidemiologyProject/Data/CSV/2020/ContactMatrixAllLocations.csv\"\n",
    "### PIETRO2: \"/Users/pietromonticone/github/DigitalEpidemiologyProject/Data/CSV/2020/ContactMatrixAllLocations.csv\""
   ]
  },
  {
   "cell_type": "markdown",
   "metadata": {},
   "source": [
    "## Storage"
   ]
  },
  {
   "cell_type": "code",
   "execution_count": 42,
   "metadata": {},
   "outputs": [],
   "source": [
    "# Save contact graph \n",
    "pd.DataFrame(weighted_edgelist).rename(columns={0:'source', 1:'target', 2:'weight'}).to_csv(\"/Users/pietromonticone/github/DigitalEpidemiologyProject/Data/CSV/ContactEdgeList.csv\",index=False)\n",
    "nx.write_graphml(contact_graph, \"/Users/pietromonticone/github/DigitalEpidemiologyProject/Data/GraphML/ContactGraph.graphml\")\n",
    "nx.write_edgelist(contact_graph, \"/Users/pietromonticone/github/DigitalEpidemiologyProject/Data/EdgeLists/ContactGraph.edgelist\")"
   ]
  }
 ],
 "metadata": {
  "kernelspec": {
   "display_name": "Python 3",
   "language": "python",
   "name": "python3"
  },
  "language_info": {
   "codemirror_mode": {
    "name": "ipython",
    "version": 3
   },
   "file_extension": ".py",
   "mimetype": "text/x-python",
   "name": "python",
   "nbconvert_exporter": "python",
   "pygments_lexer": "ipython3",
   "version": "3.8.3"
  }
 },
 "nbformat": 4,
 "nbformat_minor": 4
}
