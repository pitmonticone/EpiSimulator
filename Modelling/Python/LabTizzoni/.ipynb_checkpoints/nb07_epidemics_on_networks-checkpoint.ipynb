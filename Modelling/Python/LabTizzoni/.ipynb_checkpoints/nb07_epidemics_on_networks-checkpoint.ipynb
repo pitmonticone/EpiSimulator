{
 "cells": [
  {
   "cell_type": "markdown",
   "metadata": {},
   "source": [
    "<center>\n",
    "<hr>\n",
    "<h1>Complessità nei sistemi sociali</h1>\n",
    "<h2>Laurea Magistrale in Fisica Dei Sistemi Complessi</h2>\n",
    "<h2>A.A. 2019/20</h2>\n",
    "<h2>Daniela Paolotti & Michele Tizzoni</h2>\n",
    "<h3>Notebook 7 - Epidemics on networks.</h3>\n",
    "<hr>\n",
    "</center>"
   ]
  },
  {
   "cell_type": "markdown",
   "metadata": {},
   "source": [
    "We use the Python library [\"Epidemics on Networks\" developed by Kiss, Miller & Simon](https://github.com/springer-math/Mathematics-of-Epidemics-on-Networks).\n",
    "\n",
    "The library must be installed using pip:\n",
    "\n",
    "    pip install EoN\n",
    "  \n",
    "\n",
    "The library documentation is [available here](http://epidemicsonnetworks.readthedocs.io/en/latest/). "
   ]
  },
  {
   "cell_type": "code",
   "execution_count": 1,
   "metadata": {},
   "outputs": [
    {
     "name": "stderr",
     "output_type": "stream",
     "text": [
      "\n",
      "Bad key \"axes.titlelocation\" on line 298 in\n",
      "/Users/Michele/anaconda3/lib/python3.7/site-packages/matplotlib/mpl-data/matplotlibrc.\n",
      "You probably need to get an updated matplotlibrc file from\n",
      "https://github.com/matplotlib/matplotlib/blob/v3.1.3/matplotlibrc.template\n",
      "or from the matplotlib source distribution\n"
     ]
    }
   ],
   "source": [
    "import EoN\n",
    "import networkx as nx\n",
    "import numpy as np\n",
    "from collections import defaultdict\n",
    "import pandas as pd\n",
    "import seaborn as sns\n",
    "import matplotlib.ticker as ticker"
   ]
  },
  {
   "cell_type": "code",
   "execution_count": 2,
   "metadata": {},
   "outputs": [
    {
     "name": "stdout",
     "output_type": "stream",
     "text": [
      "Populating the interactive namespace from numpy and matplotlib\n"
     ]
    }
   ],
   "source": [
    "%pylab inline"
   ]
  },
  {
   "cell_type": "markdown",
   "metadata": {},
   "source": [
    "# Homogeneous network"
   ]
  },
  {
   "cell_type": "markdown",
   "metadata": {},
   "source": [
    "We simulate the spread of an SIR on an Erdos-Renyi graph with constant recovery rate."
   ]
  },
  {
   "cell_type": "code",
   "execution_count": 3,
   "metadata": {},
   "outputs": [],
   "source": [
    "N=10000\n",
    "p=0.001\n",
    "G=nx.fast_gnp_random_graph(N, p)"
   ]
  },
  {
   "cell_type": "code",
   "execution_count": 4,
   "metadata": {},
   "outputs": [
    {
     "data": {
      "text/plain": [
       "True"
      ]
     },
     "execution_count": 4,
     "metadata": {},
     "output_type": "execute_result"
    }
   ],
   "source": [
    "nx.is_connected(G)"
   ]
  },
  {
   "cell_type": "code",
   "execution_count": 5,
   "metadata": {},
   "outputs": [
    {
     "name": "stdout",
     "output_type": "stream",
     "text": [
      "Name: \n",
      "Type: Graph\n",
      "Number of nodes: 10000\n",
      "Number of edges: 49544\n",
      "Average degree:   9.9088\n"
     ]
    }
   ],
   "source": [
    "print(nx.info(G))"
   ]
  },
  {
   "cell_type": "markdown",
   "metadata": {},
   "source": [
    "---\n",
    "# The epidemic threshold for this network can be approximated as $\\lambda_c = \\frac{\\mu}{\\langle k \\rangle}$"
   ]
  },
  {
   "cell_type": "code",
   "execution_count": 6,
   "metadata": {},
   "outputs": [],
   "source": [
    "mu=0.2"
   ]
  },
  {
   "cell_type": "code",
   "execution_count": 7,
   "metadata": {},
   "outputs": [
    {
     "name": "stdout",
     "output_type": "stream",
     "text": [
      "0.02018407879864363\n"
     ]
    }
   ],
   "source": [
    "avg_deg1=2*len(G.edges)/N\n",
    "lc=mu/avg_deg1\n",
    "print(lc)"
   ]
  },
  {
   "cell_type": "markdown",
   "metadata": {},
   "source": [
    "# As expected for this network, we have $\\langle k^2 \\rangle \\sim \\langle k \\rangle^2 + \\langle k \\rangle$"
   ]
  },
  {
   "cell_type": "code",
   "execution_count": 8,
   "metadata": {},
   "outputs": [
    {
     "name": "stdout",
     "output_type": "stream",
     "text": [
      "108.2158\n"
     ]
    }
   ],
   "source": [
    "sum_k2=0\n",
    "for i in G.nodes():\n",
    "    k=G.degree(i)\n",
    "    sum_k2+=k*k\n",
    "avg_k2=sum_k2/N\n",
    "print(avg_k2)  "
   ]
  },
  {
   "cell_type": "code",
   "execution_count": 9,
   "metadata": {},
   "outputs": [
    {
     "data": {
      "text/plain": [
       "108.09311743999999"
      ]
     },
     "execution_count": 9,
     "metadata": {},
     "output_type": "execute_result"
    }
   ],
   "source": [
    "avg_deg1**2 + avg_deg1"
   ]
  },
  {
   "cell_type": "markdown",
   "metadata": {},
   "source": [
    "## Simulations of an SIR process\n",
    "We simulate 20 realizations of a SIR model for increasing values of $\\lambda$ using the [fast_SIR function of EoN](https://epidemicsonnetworks.readthedocs.io/en/latest/functions/EoN.fast_SIR.html?highlight=fast_SIR)"
   ]
  },
  {
   "cell_type": "code",
   "execution_count": 10,
   "metadata": {},
   "outputs": [],
   "source": [
    "final_size=defaultdict(list)\n",
    "\n",
    "for lambd in np.geomspace(0.0001, 1.0, 20):\n",
    "    \n",
    "    for r in range(0, 20):\n",
    "        t, S, I, R = EoN.fast_SIR(G, lambd, mu, rho=0.05)\n",
    "        \n",
    "        final_size[lambd].append(R[-1]/N)"
   ]
  },
  {
   "cell_type": "code",
   "execution_count": 11,
   "metadata": {},
   "outputs": [],
   "source": [
    "homo_net_size=pd.DataFrame.from_dict(final_size)"
   ]
  },
  {
   "cell_type": "code",
   "execution_count": 12,
   "metadata": {},
   "outputs": [
    {
     "data": {
      "text/html": [
       "<div>\n",
       "<style scoped>\n",
       "    .dataframe tbody tr th:only-of-type {\n",
       "        vertical-align: middle;\n",
       "    }\n",
       "\n",
       "    .dataframe tbody tr th {\n",
       "        vertical-align: top;\n",
       "    }\n",
       "\n",
       "    .dataframe thead th {\n",
       "        text-align: right;\n",
       "    }\n",
       "</style>\n",
       "<table border=\"1\" class=\"dataframe\">\n",
       "  <thead>\n",
       "    <tr style=\"text-align: right;\">\n",
       "      <th></th>\n",
       "      <th>0.000100</th>\n",
       "      <th>0.000162</th>\n",
       "      <th>0.000264</th>\n",
       "      <th>0.000428</th>\n",
       "      <th>0.000695</th>\n",
       "      <th>0.001129</th>\n",
       "      <th>0.001833</th>\n",
       "      <th>0.002976</th>\n",
       "      <th>0.004833</th>\n",
       "      <th>0.007848</th>\n",
       "      <th>0.012743</th>\n",
       "      <th>0.020691</th>\n",
       "      <th>0.033598</th>\n",
       "      <th>0.054556</th>\n",
       "      <th>0.088587</th>\n",
       "      <th>0.143845</th>\n",
       "      <th>0.233572</th>\n",
       "      <th>0.379269</th>\n",
       "      <th>0.615848</th>\n",
       "      <th>1.000000</th>\n",
       "    </tr>\n",
       "  </thead>\n",
       "  <tbody>\n",
       "    <tr>\n",
       "      <th>0</th>\n",
       "      <td>0.0502</td>\n",
       "      <td>0.0507</td>\n",
       "      <td>0.0505</td>\n",
       "      <td>0.0506</td>\n",
       "      <td>0.0515</td>\n",
       "      <td>0.0531</td>\n",
       "      <td>0.0543</td>\n",
       "      <td>0.0572</td>\n",
       "      <td>0.0629</td>\n",
       "      <td>0.0801</td>\n",
       "      <td>0.1146</td>\n",
       "      <td>0.2430</td>\n",
       "      <td>0.5920</td>\n",
       "      <td>0.8547</td>\n",
       "      <td>0.9458</td>\n",
       "      <td>0.9856</td>\n",
       "      <td>0.9954</td>\n",
       "      <td>0.9987</td>\n",
       "      <td>0.9992</td>\n",
       "      <td>0.9994</td>\n",
       "    </tr>\n",
       "    <tr>\n",
       "      <th>1</th>\n",
       "      <td>0.0502</td>\n",
       "      <td>0.0502</td>\n",
       "      <td>0.0505</td>\n",
       "      <td>0.0515</td>\n",
       "      <td>0.0518</td>\n",
       "      <td>0.0523</td>\n",
       "      <td>0.0533</td>\n",
       "      <td>0.0588</td>\n",
       "      <td>0.0662</td>\n",
       "      <td>0.0793</td>\n",
       "      <td>0.1132</td>\n",
       "      <td>0.2435</td>\n",
       "      <td>0.6098</td>\n",
       "      <td>0.8424</td>\n",
       "      <td>0.9440</td>\n",
       "      <td>0.9854</td>\n",
       "      <td>0.9949</td>\n",
       "      <td>0.9982</td>\n",
       "      <td>0.9998</td>\n",
       "      <td>0.9997</td>\n",
       "    </tr>\n",
       "    <tr>\n",
       "      <th>2</th>\n",
       "      <td>0.0501</td>\n",
       "      <td>0.0506</td>\n",
       "      <td>0.0508</td>\n",
       "      <td>0.0509</td>\n",
       "      <td>0.0517</td>\n",
       "      <td>0.0531</td>\n",
       "      <td>0.0543</td>\n",
       "      <td>0.0571</td>\n",
       "      <td>0.0635</td>\n",
       "      <td>0.0762</td>\n",
       "      <td>0.1021</td>\n",
       "      <td>0.2246</td>\n",
       "      <td>0.5856</td>\n",
       "      <td>0.8434</td>\n",
       "      <td>0.9433</td>\n",
       "      <td>0.9862</td>\n",
       "      <td>0.9942</td>\n",
       "      <td>0.9985</td>\n",
       "      <td>0.9993</td>\n",
       "      <td>0.9999</td>\n",
       "    </tr>\n",
       "    <tr>\n",
       "      <th>3</th>\n",
       "      <td>0.0502</td>\n",
       "      <td>0.0504</td>\n",
       "      <td>0.0506</td>\n",
       "      <td>0.0511</td>\n",
       "      <td>0.0513</td>\n",
       "      <td>0.0522</td>\n",
       "      <td>0.0547</td>\n",
       "      <td>0.0593</td>\n",
       "      <td>0.0619</td>\n",
       "      <td>0.0771</td>\n",
       "      <td>0.1089</td>\n",
       "      <td>0.2428</td>\n",
       "      <td>0.5516</td>\n",
       "      <td>0.8302</td>\n",
       "      <td>0.9453</td>\n",
       "      <td>0.9824</td>\n",
       "      <td>0.9944</td>\n",
       "      <td>0.9984</td>\n",
       "      <td>0.9996</td>\n",
       "      <td>0.9997</td>\n",
       "    </tr>\n",
       "    <tr>\n",
       "      <th>4</th>\n",
       "      <td>0.0501</td>\n",
       "      <td>0.0505</td>\n",
       "      <td>0.0506</td>\n",
       "      <td>0.0510</td>\n",
       "      <td>0.0511</td>\n",
       "      <td>0.0532</td>\n",
       "      <td>0.0546</td>\n",
       "      <td>0.0580</td>\n",
       "      <td>0.0652</td>\n",
       "      <td>0.0713</td>\n",
       "      <td>0.1050</td>\n",
       "      <td>0.2456</td>\n",
       "      <td>0.6055</td>\n",
       "      <td>0.8438</td>\n",
       "      <td>0.9433</td>\n",
       "      <td>0.9838</td>\n",
       "      <td>0.9952</td>\n",
       "      <td>0.9985</td>\n",
       "      <td>0.9995</td>\n",
       "      <td>0.9998</td>\n",
       "    </tr>\n",
       "  </tbody>\n",
       "</table>\n",
       "</div>"
      ],
      "text/plain": [
       "   0.000100  0.000162  0.000264  0.000428  0.000695  0.001129  0.001833  \\\n",
       "0    0.0502    0.0507    0.0505    0.0506    0.0515    0.0531    0.0543   \n",
       "1    0.0502    0.0502    0.0505    0.0515    0.0518    0.0523    0.0533   \n",
       "2    0.0501    0.0506    0.0508    0.0509    0.0517    0.0531    0.0543   \n",
       "3    0.0502    0.0504    0.0506    0.0511    0.0513    0.0522    0.0547   \n",
       "4    0.0501    0.0505    0.0506    0.0510    0.0511    0.0532    0.0546   \n",
       "\n",
       "   0.002976  0.004833  0.007848  0.012743  0.020691  0.033598  0.054556  \\\n",
       "0    0.0572    0.0629    0.0801    0.1146    0.2430    0.5920    0.8547   \n",
       "1    0.0588    0.0662    0.0793    0.1132    0.2435    0.6098    0.8424   \n",
       "2    0.0571    0.0635    0.0762    0.1021    0.2246    0.5856    0.8434   \n",
       "3    0.0593    0.0619    0.0771    0.1089    0.2428    0.5516    0.8302   \n",
       "4    0.0580    0.0652    0.0713    0.1050    0.2456    0.6055    0.8438   \n",
       "\n",
       "   0.088587  0.143845  0.233572  0.379269  0.615848  1.000000  \n",
       "0    0.9458    0.9856    0.9954    0.9987    0.9992    0.9994  \n",
       "1    0.9440    0.9854    0.9949    0.9982    0.9998    0.9997  \n",
       "2    0.9433    0.9862    0.9942    0.9985    0.9993    0.9999  \n",
       "3    0.9453    0.9824    0.9944    0.9984    0.9996    0.9997  \n",
       "4    0.9433    0.9838    0.9952    0.9985    0.9995    0.9998  "
      ]
     },
     "execution_count": 12,
     "metadata": {},
     "output_type": "execute_result"
    }
   ],
   "source": [
    "homo_net_size.head()"
   ]
  },
  {
   "cell_type": "code",
   "execution_count": 13,
   "metadata": {},
   "outputs": [
    {
     "data": {
      "text/plain": [
       "Text(0.5, 0, '$\\\\lambda$')"
      ]
     },
     "execution_count": 13,
     "metadata": {},
     "output_type": "execute_result"
    },
    {
     "data": {
      "image/png": "[encoded data removed]",
      "text/plain": [
       "<Figure size 864x504 with 1 Axes>"
      ]
     },
     "metadata": {
      "needs_background": "light"
     },
     "output_type": "display_data"
    }
   ],
   "source": [
    "plt.figure(figsize=(12,7))\n",
    "\n",
    "homo_net_size.boxplot(positions=np.array(homo_net_size.columns), \n",
    "                      widths=np.array(homo_net_size.columns)/3)\n",
    "\n",
    "plt.vlines(x=lc, ymin=0.045, ymax=1.1)\n",
    "\n",
    "plt.xscale('log')\n",
    "plt.yscale('log')\n",
    "plt.xlim(0.0001, 1.0)\n",
    "plt.ylim(0.045, 1.1)\n",
    "plt.xticks(fontsize=18)\n",
    "plt.yticks(fontsize=18)\n",
    "plt.ylabel('final epidemic size', fontsize=18)\n",
    "plt.xlabel('$\\lambda$', fontsize=18)"
   ]
  },
  {
   "cell_type": "markdown",
   "metadata": {},
   "source": [
    "# Barabàsi-Albert model network"
   ]
  },
  {
   "cell_type": "code",
   "execution_count": 14,
   "metadata": {},
   "outputs": [],
   "source": [
    "N=10000\n",
    "AB=nx.barabasi_albert_graph(N, 5)"
   ]
  },
  {
   "cell_type": "code",
   "execution_count": 15,
   "metadata": {},
   "outputs": [
    {
     "data": {
      "text/plain": [
       "True"
      ]
     },
     "execution_count": 15,
     "metadata": {},
     "output_type": "execute_result"
    }
   ],
   "source": [
    "nx.is_connected(AB)"
   ]
  },
  {
   "cell_type": "code",
   "execution_count": 16,
   "metadata": {},
   "outputs": [
    {
     "name": "stdout",
     "output_type": "stream",
     "text": [
      "Name: \n",
      "Type: Graph\n",
      "Number of nodes: 10000\n",
      "Number of edges: 49975\n",
      "Average degree:   9.9950\n"
     ]
    }
   ],
   "source": [
    "print(nx.info(AB))"
   ]
  },
  {
   "cell_type": "code",
   "execution_count": 17,
   "metadata": {},
   "outputs": [
    {
     "name": "stdout",
     "output_type": "stream",
     "text": [
      "272.8476\n"
     ]
    }
   ],
   "source": [
    "sum_k2=0\n",
    "for i in AB.nodes():\n",
    "    k=AB.degree(i)\n",
    "    sum_k2+=k*k\n",
    "avg_k2=sum_k2/N\n",
    "print(avg_k2)    "
   ]
  },
  {
   "cell_type": "code",
   "execution_count": 18,
   "metadata": {},
   "outputs": [
    {
     "name": "stdout",
     "output_type": "stream",
     "text": [
      "9.995\n"
     ]
    }
   ],
   "source": [
    "avg_deg=2*len(AB.edges)/N\n",
    "print(avg_deg)"
   ]
  },
  {
   "cell_type": "markdown",
   "metadata": {},
   "source": [
    "# The threshold can be approximated as $\\lambda_c \\sim \\mu \\frac{\\langle k \\rangle}{\\langle k^2 \\rangle - \\langle k \\rangle}$ "
   ]
  },
  {
   "cell_type": "code",
   "execution_count": 19,
   "metadata": {},
   "outputs": [
    {
     "name": "stdout",
     "output_type": "stream",
     "text": [
      "0.007605022738979945\n"
     ]
    }
   ],
   "source": [
    "lambda_c=mu*avg_deg/(avg_k2-avg_deg)\n",
    "print(lambda_c)"
   ]
  },
  {
   "cell_type": "code",
   "execution_count": 20,
   "metadata": {},
   "outputs": [
    {
     "data": {
      "text/plain": [
       "2.6540458183233393"
      ]
     },
     "execution_count": 20,
     "metadata": {},
     "output_type": "execute_result"
    }
   ],
   "source": [
    "lc/lambda_c"
   ]
  },
  {
   "cell_type": "markdown",
   "metadata": {},
   "source": [
    "## Simulations of an SIR process\n",
    "We simulate 100 realizations of a SIR model for increasing values of $\\lambda$"
   ]
  },
  {
   "cell_type": "code",
   "execution_count": 21,
   "metadata": {},
   "outputs": [],
   "source": [
    "final_size_AB=defaultdict(list)\n",
    "\n",
    "for lambd in np.geomspace(0.0001, 1.0, 20):\n",
    "    for r in range(0, 100):\n",
    "        \n",
    "        t, S, I, R = EoN.fast_SIR(AB, lambd, mu, rho=0.05)\n",
    "        \n",
    "        final_size_AB[lambd].append(R[-1]/N)"
   ]
  },
  {
   "cell_type": "code",
   "execution_count": 22,
   "metadata": {},
   "outputs": [],
   "source": [
    "sf_net_size=pd.DataFrame.from_dict(final_size_AB)"
   ]
  },
  {
   "cell_type": "code",
   "execution_count": 23,
   "metadata": {},
   "outputs": [
    {
     "data": {
      "text/html": [
       "<div>\n",
       "<style scoped>\n",
       "    .dataframe tbody tr th:only-of-type {\n",
       "        vertical-align: middle;\n",
       "    }\n",
       "\n",
       "    .dataframe tbody tr th {\n",
       "        vertical-align: top;\n",
       "    }\n",
       "\n",
       "    .dataframe thead th {\n",
       "        text-align: right;\n",
       "    }\n",
       "</style>\n",
       "<table border=\"1\" class=\"dataframe\">\n",
       "  <thead>\n",
       "    <tr style=\"text-align: right;\">\n",
       "      <th></th>\n",
       "      <th>0.000100</th>\n",
       "      <th>0.000162</th>\n",
       "      <th>0.000264</th>\n",
       "      <th>0.000428</th>\n",
       "      <th>0.000695</th>\n",
       "      <th>0.001129</th>\n",
       "      <th>0.001833</th>\n",
       "      <th>0.002976</th>\n",
       "      <th>0.004833</th>\n",
       "      <th>0.007848</th>\n",
       "      <th>0.012743</th>\n",
       "      <th>0.020691</th>\n",
       "      <th>0.033598</th>\n",
       "      <th>0.054556</th>\n",
       "      <th>0.088587</th>\n",
       "      <th>0.143845</th>\n",
       "      <th>0.233572</th>\n",
       "      <th>0.379269</th>\n",
       "      <th>0.615848</th>\n",
       "      <th>1.000000</th>\n",
       "    </tr>\n",
       "  </thead>\n",
       "  <tbody>\n",
       "    <tr>\n",
       "      <th>95</th>\n",
       "      <td>0.0502</td>\n",
       "      <td>0.0505</td>\n",
       "      <td>0.0511</td>\n",
       "      <td>0.0511</td>\n",
       "      <td>0.0522</td>\n",
       "      <td>0.0525</td>\n",
       "      <td>0.0551</td>\n",
       "      <td>0.0578</td>\n",
       "      <td>0.0703</td>\n",
       "      <td>0.0931</td>\n",
       "      <td>0.1969</td>\n",
       "      <td>0.3670</td>\n",
       "      <td>0.5795</td>\n",
       "      <td>0.7858</td>\n",
       "      <td>0.8921</td>\n",
       "      <td>0.9711</td>\n",
       "      <td>0.9930</td>\n",
       "      <td>0.9992</td>\n",
       "      <td>0.9995</td>\n",
       "      <td>0.9999</td>\n",
       "    </tr>\n",
       "    <tr>\n",
       "      <th>96</th>\n",
       "      <td>0.0503</td>\n",
       "      <td>0.0504</td>\n",
       "      <td>0.0506</td>\n",
       "      <td>0.0517</td>\n",
       "      <td>0.0513</td>\n",
       "      <td>0.0531</td>\n",
       "      <td>0.0549</td>\n",
       "      <td>0.0596</td>\n",
       "      <td>0.0687</td>\n",
       "      <td>0.1137</td>\n",
       "      <td>0.1788</td>\n",
       "      <td>0.4084</td>\n",
       "      <td>0.5734</td>\n",
       "      <td>0.7765</td>\n",
       "      <td>0.8960</td>\n",
       "      <td>0.9687</td>\n",
       "      <td>0.9901</td>\n",
       "      <td>0.9988</td>\n",
       "      <td>0.9996</td>\n",
       "      <td>1.0000</td>\n",
       "    </tr>\n",
       "    <tr>\n",
       "      <th>97</th>\n",
       "      <td>0.0500</td>\n",
       "      <td>0.0506</td>\n",
       "      <td>0.0501</td>\n",
       "      <td>0.0521</td>\n",
       "      <td>0.0525</td>\n",
       "      <td>0.0530</td>\n",
       "      <td>0.0556</td>\n",
       "      <td>0.0577</td>\n",
       "      <td>0.0700</td>\n",
       "      <td>0.1006</td>\n",
       "      <td>0.2157</td>\n",
       "      <td>0.3800</td>\n",
       "      <td>0.5940</td>\n",
       "      <td>0.7753</td>\n",
       "      <td>0.9103</td>\n",
       "      <td>0.9703</td>\n",
       "      <td>0.9910</td>\n",
       "      <td>0.9980</td>\n",
       "      <td>0.9995</td>\n",
       "      <td>1.0000</td>\n",
       "    </tr>\n",
       "    <tr>\n",
       "      <th>98</th>\n",
       "      <td>0.0501</td>\n",
       "      <td>0.0500</td>\n",
       "      <td>0.0505</td>\n",
       "      <td>0.0512</td>\n",
       "      <td>0.0521</td>\n",
       "      <td>0.0528</td>\n",
       "      <td>0.0560</td>\n",
       "      <td>0.0606</td>\n",
       "      <td>0.0742</td>\n",
       "      <td>0.0976</td>\n",
       "      <td>0.2010</td>\n",
       "      <td>0.3431</td>\n",
       "      <td>0.5896</td>\n",
       "      <td>0.7797</td>\n",
       "      <td>0.9145</td>\n",
       "      <td>0.9697</td>\n",
       "      <td>0.9931</td>\n",
       "      <td>0.9983</td>\n",
       "      <td>0.9998</td>\n",
       "      <td>0.9998</td>\n",
       "    </tr>\n",
       "    <tr>\n",
       "      <th>99</th>\n",
       "      <td>0.0504</td>\n",
       "      <td>0.0502</td>\n",
       "      <td>0.0503</td>\n",
       "      <td>0.0506</td>\n",
       "      <td>0.0512</td>\n",
       "      <td>0.0521</td>\n",
       "      <td>0.0570</td>\n",
       "      <td>0.0621</td>\n",
       "      <td>0.0754</td>\n",
       "      <td>0.1046</td>\n",
       "      <td>0.1959</td>\n",
       "      <td>0.3615</td>\n",
       "      <td>0.5797</td>\n",
       "      <td>0.7891</td>\n",
       "      <td>0.8998</td>\n",
       "      <td>0.9689</td>\n",
       "      <td>0.9922</td>\n",
       "      <td>0.9983</td>\n",
       "      <td>0.9997</td>\n",
       "      <td>1.0000</td>\n",
       "    </tr>\n",
       "  </tbody>\n",
       "</table>\n",
       "</div>"
      ],
      "text/plain": [
       "    0.000100  0.000162  0.000264  0.000428  0.000695  0.001129  0.001833  \\\n",
       "95    0.0502    0.0505    0.0511    0.0511    0.0522    0.0525    0.0551   \n",
       "96    0.0503    0.0504    0.0506    0.0517    0.0513    0.0531    0.0549   \n",
       "97    0.0500    0.0506    0.0501    0.0521    0.0525    0.0530    0.0556   \n",
       "98    0.0501    0.0500    0.0505    0.0512    0.0521    0.0528    0.0560   \n",
       "99    0.0504    0.0502    0.0503    0.0506    0.0512    0.0521    0.0570   \n",
       "\n",
       "    0.002976  0.004833  0.007848  0.012743  0.020691  0.033598  0.054556  \\\n",
       "95    0.0578    0.0703    0.0931    0.1969    0.3670    0.5795    0.7858   \n",
       "96    0.0596    0.0687    0.1137    0.1788    0.4084    0.5734    0.7765   \n",
       "97    0.0577    0.0700    0.1006    0.2157    0.3800    0.5940    0.7753   \n",
       "98    0.0606    0.0742    0.0976    0.2010    0.3431    0.5896    0.7797   \n",
       "99    0.0621    0.0754    0.1046    0.1959    0.3615    0.5797    0.7891   \n",
       "\n",
       "    0.088587  0.143845  0.233572  0.379269  0.615848  1.000000  \n",
       "95    0.8921    0.9711    0.9930    0.9992    0.9995    0.9999  \n",
       "96    0.8960    0.9687    0.9901    0.9988    0.9996    1.0000  \n",
       "97    0.9103    0.9703    0.9910    0.9980    0.9995    1.0000  \n",
       "98    0.9145    0.9697    0.9931    0.9983    0.9998    0.9998  \n",
       "99    0.8998    0.9689    0.9922    0.9983    0.9997    1.0000  "
      ]
     },
     "execution_count": 23,
     "metadata": {},
     "output_type": "execute_result"
    }
   ],
   "source": [
    "sf_net_size.tail()"
   ]
  },
  {
   "cell_type": "code",
   "execution_count": 24,
   "metadata": {},
   "outputs": [
    {
     "data": {
      "text/plain": [
       "Text(0.5, 0, '$\\\\lambda$')"
      ]
     },
     "execution_count": 24,
     "metadata": {},
     "output_type": "execute_result"
    },
    {
     "data": {
      "image/png": "[encoded data removed]",
      "text/plain": [
       "<Figure size 864x504 with 1 Axes>"
      ]
     },
     "metadata": {
      "needs_background": "light"
     },
     "output_type": "display_data"
    }
   ],
   "source": [
    "plt.figure(figsize=(12,7))\n",
    "\n",
    "#homo_net_size.boxplot(positions=np.array(homo_net_size.columns), widths=np.array(homo_net_size.columns)/3 )\n",
    "\n",
    "plt.vlines(x=lambda_c, ymin=0.04, ymax=1.1)\n",
    "sf_net_size.boxplot(positions=np.array(sf_net_size.columns), widths=np.array(sf_net_size.columns)/3)\n",
    "\n",
    "plt.yscale('log')\n",
    "plt.xscale('log')\n",
    "plt.xlim(0.0001, 1.0)\n",
    "plt.ylim(0.045, 1.1)\n",
    "plt.xticks(fontsize=18)\n",
    "plt.yticks(fontsize=18)\n",
    "plt.ylabel('final epidemic size', fontsize=18)\n",
    "plt.xlabel('$\\lambda$', fontsize=18)"
   ]
  },
  {
   "cell_type": "markdown",
   "metadata": {},
   "source": [
    "# Configuration model network\n",
    "\n",
    "We can use the configuration model to generate a network with a given power-law degree distribution. By setting $\\gamma=2.1$, we expect to see more fluctuations in the degree distribution."
   ]
  },
  {
   "cell_type": "markdown",
   "metadata": {},
   "source": [
    "We create a function that samples from a power-law distribution between $k_{min}$ and $k_{max}$ with exponent $\\gamma$"
   ]
  },
  {
   "cell_type": "code",
   "execution_count": 49,
   "metadata": {},
   "outputs": [],
   "source": [
    "def get_activity(x0,x1,g):\n",
    "    y=random.uniform(0,1)\n",
    "    \n",
    "    e=g+1.\n",
    "    \n",
    "    a=((x1**e-x0**e)*y+x0**e)**(1./e)\n",
    "    \n",
    "    return a"
   ]
  },
  {
   "cell_type": "code",
   "execution_count": 50,
   "metadata": {},
   "outputs": [],
   "source": [
    "N=10000\n",
    "kmin=2\n",
    "kmax=N-1\n",
    "a=[]\n",
    "for i in range(N):\n",
    "    act=get_activity(kmin,kmax,-2.1)\n",
    "    \n",
    "    a.append(int(round(act)))\n",
    "\n",
    "#we need the sum of the degree sequence to be even to properly run the configuration model\n",
    "if sum(a)%2==0:\n",
    "    G1=nx.configuration_model(a)\n",
    "else:\n",
    "    a[-1]+=1\n",
    "    G1=nx.configuration_model(a)"
   ]
  },
  {
   "cell_type": "code",
   "execution_count": 51,
   "metadata": {},
   "outputs": [
    {
     "data": {
      "text/plain": [
       "True"
      ]
     },
     "execution_count": 51,
     "metadata": {},
     "output_type": "execute_result"
    }
   ],
   "source": [
    "nx.is_connected(G1)"
   ]
  },
  {
   "cell_type": "code",
   "execution_count": 52,
   "metadata": {},
   "outputs": [
    {
     "name": "stdout",
     "output_type": "stream",
     "text": [
      "Name: \n",
      "Type: MultiGraph\n",
      "Number of nodes: 10000\n",
      "Number of edges: 65565\n",
      "Average degree:  13.1130\n"
     ]
    }
   ],
   "source": [
    "print(nx.info(G1))"
   ]
  },
  {
   "cell_type": "code",
   "execution_count": 53,
   "metadata": {},
   "outputs": [],
   "source": [
    "G1=nx.Graph(G1)"
   ]
  },
  {
   "cell_type": "code",
   "execution_count": 54,
   "metadata": {},
   "outputs": [],
   "source": [
    "G1.remove_edges_from(nx.selfloop_edges(G1))"
   ]
  },
  {
   "cell_type": "code",
   "execution_count": 55,
   "metadata": {},
   "outputs": [
    {
     "name": "stdout",
     "output_type": "stream",
     "text": [
      "Name: \n",
      "Type: Graph\n",
      "Number of nodes: 10000\n",
      "Number of edges: 51719\n",
      "Average degree:  10.3438\n"
     ]
    }
   ],
   "source": [
    "print(nx.info(G1))"
   ]
  },
  {
   "cell_type": "code",
   "execution_count": 56,
   "metadata": {},
   "outputs": [
    {
     "data": {
      "text/plain": [
       "True"
      ]
     },
     "execution_count": 56,
     "metadata": {},
     "output_type": "execute_result"
    }
   ],
   "source": [
    "nx.is_connected(G1)"
   ]
  },
  {
   "cell_type": "code",
   "execution_count": 57,
   "metadata": {},
   "outputs": [
    {
     "name": "stdout",
     "output_type": "stream",
     "text": [
      "3172.087\n"
     ]
    }
   ],
   "source": [
    "sum_k2=0\n",
    "for i in G1.nodes():\n",
    "    k=G1.degree(i)\n",
    "    sum_k2+=k*k\n",
    "avg_k2=sum_k2/N\n",
    "print(avg_k2)"
   ]
  },
  {
   "cell_type": "code",
   "execution_count": 58,
   "metadata": {},
   "outputs": [
    {
     "name": "stdout",
     "output_type": "stream",
     "text": [
      "10.3438\n"
     ]
    }
   ],
   "source": [
    "avg_deg=2*len(G1.edges)/N\n",
    "print(avg_deg)"
   ]
  },
  {
   "cell_type": "code",
   "execution_count": 59,
   "metadata": {},
   "outputs": [
    {
     "name": "stdout",
     "output_type": "stream",
     "text": [
      "0.0006543099388969984\n"
     ]
    }
   ],
   "source": [
    "lambda_c1=mu*avg_deg/(avg_k2-avg_deg)\n",
    "print(lambda_c1)"
   ]
  },
  {
   "cell_type": "code",
   "execution_count": 60,
   "metadata": {},
   "outputs": [
    {
     "data": {
      "text/plain": [
       "30.84788660350919"
      ]
     },
     "execution_count": 60,
     "metadata": {},
     "output_type": "execute_result"
    }
   ],
   "source": [
    "lc/lambda_c1"
   ]
  },
  {
   "cell_type": "markdown",
   "metadata": {},
   "source": [
    "## Simulations of an SIR process\n",
    "We simulate 100 realizations of a SIR model for increasing values of $\\lambda$"
   ]
  },
  {
   "cell_type": "code",
   "execution_count": 61,
   "metadata": {},
   "outputs": [],
   "source": [
    "final_size_conf=defaultdict(list)\n",
    "\n",
    "for lambd in np.geomspace(0.0001, 1.0, 20):\n",
    "    for r in range(0, 20):\n",
    "        \n",
    "        t, S, I, R = EoN.fast_SIR(G1, lambd, mu, rho=0.05)\n",
    "        \n",
    "        final_size_conf[lambd].append(R[-1]/N)"
   ]
  },
  {
   "cell_type": "code",
   "execution_count": 62,
   "metadata": {},
   "outputs": [],
   "source": [
    "conf_net_size=pd.DataFrame.from_dict(final_size_conf)"
   ]
  },
  {
   "cell_type": "code",
   "execution_count": 63,
   "metadata": {},
   "outputs": [
    {
     "data": {
      "text/plain": [
       "Text(0.5, 0, '$\\\\lambda$')"
      ]
     },
     "execution_count": 63,
     "metadata": {},
     "output_type": "execute_result"
    },
    {
     "data": {
      "image/png": "[encoded data removed]",
      "text/plain": [
       "<Figure size 864x504 with 1 Axes>"
      ]
     },
     "metadata": {
      "needs_background": "light"
     },
     "output_type": "display_data"
    }
   ],
   "source": [
    "plt.figure(figsize=(12,7))\n",
    "\n",
    "boxprops1 = dict(linestyle='-', linewidth=4, color='b')\n",
    "\n",
    "homo_net_size.boxplot(positions=np.array(homo_net_size.columns), widths=np.array(homo_net_size.columns)/3)\n",
    "\n",
    "conf_net_size.boxplot(positions=np.array(conf_net_size.columns), widths=np.array(conf_net_size.columns)/3, boxprops=boxprops1)\n",
    "\n",
    "plt.vlines(x=lambda_c1, ymin=0.04, ymax=1.1)\n",
    "plt.legend(['ER','CM'])\n",
    "plt.yscale('log')\n",
    "plt.xscale('log')\n",
    "plt.xlim(0.0001, 1.0)\n",
    "plt.ylim(0.045, 1.1)\n",
    "plt.xticks(fontsize=18)\n",
    "plt.yticks(fontsize=18)\n",
    "plt.ylabel('final epidemic size', fontsize=18)\n",
    "plt.xlabel('$\\lambda$', fontsize=18)"
   ]
  },
  {
   "cell_type": "code",
   "execution_count": null,
   "metadata": {},
   "outputs": [],
   "source": []
  }
 ],
 "metadata": {
  "kernelspec": {
   "display_name": "Python 3",
   "language": "python",
   "name": "python3"
  },
  "language_info": {
   "codemirror_mode": {
    "name": "ipython",
    "version": 3
   },
   "file_extension": ".py",
   "mimetype": "text/x-python",
   "name": "python",
   "nbconvert_exporter": "python",
   "pygments_lexer": "ipython3",
   "version": "3.7.1"
  }
 },
 "nbformat": 4,
 "nbformat_minor": 4
}
