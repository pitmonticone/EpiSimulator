{
 "cells": [
  {
   "cell_type": "markdown",
   "metadata": {},
   "source": [
    "# Python Modules "
   ]
  },
  {
   "cell_type": "code",
   "execution_count": null,
   "metadata": {},
   "outputs": [],
   "source": [
    "% pylab inline # Interactive numpy & matplotlib \n",
    "\n",
    "# Basic Utilities  \n",
    "import sys             # Enabler of operating system dependent functionality\n",
    "import os              # Provides access to some variables & functions for the interpreter\n",
    "import shutil          # Provides high-level operations on files and collections of files\n",
    "\n",
    "# Data Wrangling\n",
    "import pandas as pd    # Methods to manipulate, filter, group, and transform data\n",
    "import numpy as np     # Efficient storage and computation for multi-dimensional data arrays\n",
    "\n",
    "# Data Visualization \n",
    "import matplotlib      # Interface for creation of publication-quality plots and figures\n",
    "import matplotlib.pyplot as plt \n",
    "import matplotlib.patches as mpatches  \n",
    "import plotly          # Interactive plotting library \n",
    "# Scipy\n",
    "from scipy import sparse # Numerical tools \n",
    "\n",
    "# Machine Learning \n",
    "import sklearn # Toolkit for applying common ML algorithms to data.\n",
    "\n",
    "from sklearn import utils\n",
    "from sklearn.preprocessing import StandardScaler # to standardize features by removing the mean and scaling to unit variance (z=(x-u)/s)\n",
    "from sklearn.neural_network import MLPClassifier # Multi-layer Perceptron classifier which optimizes the log-loss function using LBFGS or sdg.\n",
    "from sklearn.model_selection import train_test_split # to split arrays or matrices into random train and test subsets\n",
    "from sklearn.model_selection import KFold # K-Folds cross-validator providing train/test indices to split data in train/test sets.\n",
    "from sklearn.decomposition import PCA, TruncatedSVD # Principal component analysis (PCA); dimensionality reduction using truncated SVD.\n",
    "from sklearn.linear_model import LogisticRegression \n",
    "from sklearn.naive_bayes import MultinomialNB # Naive Bayes classifier for multinomial models\n",
    "from sklearn.feature_extraction.text import CountVectorizer # Convert a collection of text documents to a matrix of token counts\n",
    "from sklearn.metrics import roc_auc_score as roc # Compute Area Under the Receiver Operating Characteristic Curve from prediction scores\n",
    "from sklearn.metrics import roc_curve, auc # Compute ROC; Compute Area Under the Curve (AUC) using the trapezoidal rule\n",
    "\n",
    "# Seaborn\n",
    "import seaborn as sns # Statistical data visualization (based on matplotlib)\n",
    "\n",
    "# Tqdm \n",
    "from tqdm import tqdm   # for progress monitoring\n",
    "tqdm.pandas(desc=\"progress-bar\")\n",
    "\n",
    "# Gensim \n",
    "import gensim  # for word embedding (word2vector)\n",
    "from gensim.models import Doc2Vec\n",
    "from gensim.models.doc2vec import TaggedDocument\n",
    "\n",
    "# Regular Expressions\n",
    "import re # String manipulation\n",
    "\n",
    "# Nltk\n",
    "import nltk # lemmatization\n",
    "from nltk.stem import WordNetLemmatizer \n",
    "from nltk.corpus import stopwords \n",
    "from nltk.tokenize import word_tokenize\n",
    "from nltk import pos_tag  \n",
    "from nltk.corpus import wordnet as wn  \n",
    "from nltk.stem.snowball import SnowballStemmer # stemmer\n",
    "\n",
    "from bs4 import BeautifulSoup   \n",
    "from collections import defaultdict\n",
    "\n",
    "# Joblib \n",
    "import joblib # To save models "
   ]
  },
  {
   "cell_type": "markdown",
   "metadata": {},
   "source": [
    "## Most Used "
   ]
  },
  {
   "cell_type": "code",
   "execution_count": null,
   "metadata": {},
   "outputs": [],
   "source": [
    "% pylab inline # Interactive numpy & matplotlib \n",
    "\n",
    "# Data Wrangling\n",
    "import pandas as pd   # Methods to manipulate, filter, group, and transform data\n",
    "import numpy as np    # Efficient storage and computation for multi-dimensional data arrays\n",
    "\n",
    "# Data Visualization \n",
    "import matplotlib # Interface for creation of publication-quality plots and figures\n",
    "import seaborn as sns # matplotlib-based statistical data visualization interface "
   ]
  }
 ],
 "metadata": {
  "kernelspec": {
   "display_name": "Python 3",
   "language": "python",
   "name": "python3"
  },
  "language_info": {
   "codemirror_mode": {
    "name": "ipython",
    "version": 3
   },
   "file_extension": ".py",
   "mimetype": "text/x-python",
   "name": "python",
   "nbconvert_exporter": "python",
   "pygments_lexer": "ipython3",
   "version": "3.7.6"
  }
 },
 "nbformat": 4,
 "nbformat_minor": 4
}
