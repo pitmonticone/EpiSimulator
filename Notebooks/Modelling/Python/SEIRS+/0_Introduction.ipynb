{
 "cells": [
  {
   "cell_type": "markdown",
   "metadata": {},
   "source": [
    "# SEIRS+ Model Framework\n",
    "\n",
    "This package implements models of generalized SEIRS infectious disease dynamics with extensions that allow us to study the effect of social contact network structures, heterogeneities, stochasticity, and interventions, such as social distancing, testing, contact tracing, and isolation. \n",
    "\n",
    "### SEIRS Dynamics\n",
    "\n",
    "The foundation of the models in this package is the classic SEIR model of infectious disease. The SEIR model is a standard compartmental model in which the population is divided into **susceptible (S)**, **exposed (E)**, **infectious (I)**, and **recovered (R)** individuals. A susceptible member of the population becomes infected (exposed) when making a transmissive contact with an infectious individual and then progresses to the infectious and finally recovered states. In the SEIRS model, recovered individuals may become resusceptible some time after recovering (although re-susceptibility can be excluded if not applicable or desired). \n",
    "<p align=\"center\">\n",
    "  <img src=\"images/BasicSEIRS_compartments_resus.png\" width=\"400\"></div>\n",
    "</p>\n",
    "\n",
    "### Extended SEIRS Model\n",
    "\n",
    "This model extends the classic SEIRS model of infectious disease to represent pre-symptomatic, asymptomatic, and severely symptomatic disease states, which are of particular **relevance to the SARS-CoV-2 pandemic**. In this extended model, the infectious subpopulation is subdivided into **pre-symptomatic (*I<sub>pre</sub>*)**, **asymptomatic (*I<sub>asym</sub>*)**, **symptomatic (*I<sub>sym</sub>*)**, and **hospitalized (severely symptomatic, *I<sub>H</sub>*)**. All of these *I* compartments represent contagious individuals, but transmissibility, rates of recovery, and other parameters may vary between these disease states.\n",
    "\n",
    "<p align=\"center\">\n",
    "  <img src=\"images/ExtSEIRS_compartments.png\" width=\"600\"></div>\n",
    "</p>\n",
    "\n",
    "\n",
    "### Testing, Tracing, & Isolation\n",
    "\n",
    "The effect of isolation-based interventions (e.g., isolating individuals in response to testing or contact tracing) are modeled by introducing compartments representing quarantined individuals. An individual may be quarantined in any disease state, and every disease state has a corresponding quarantine compartment (with the exception of the hospitalized state, which is considered a quarantine state for transmission and other purposes). Quarantined individuals follow the same progression through the disease states, but the rates of transition or other parameters may be different. There are multiple methods by which individuals can be moved into or out of a quarantine state in this framework.\n",
    "\n",
    "<p align=\"center\">\n",
    "  <img src=\"images/BothSEIRS_compartments_quarantine.png\" width=\"800\"></div>\n",
    "</p>\n",
    "\n",
    "<a name=\"model-network\"></a>\n",
    "### Network Models\n",
    "\n",
    "<img align=\"right\" src=\"images/network_p.png\" height=\"220\">\n",
    "\n",
    "Standard compartment models capture important features of infectious disease dynamics, but they are deterministic mean-field models that assume uniform mixing of the population (i.e., every individual in the population is equally likely to interact with every other individual). However, it is often important to consider stochasticity, heterogeneity, and the structure of contact networks when studying disease transmission, and many strategies for mitigating spread can be thought of as perturbing the contact network (e.g., social distancing) or making use of it (e.g., contact tracing).\n",
    "\n",
    "This package includes implementation of SEIRS models on stochastic dynamical networks. Individuals are represented as nodes in a network, and parameters, contacts, and interventions can be specified on a targeted individual basis. The network model enables rigorous analysis of transmission patterns and network-based interventions with respect to the properties of realistic contact networks. These SEIRS models can be simulated on any network. Network generation is largely left to the user, but some tools for [Network Generation](https://github.com/ryansmcgee/seirsplus/wiki/network-generation) are included in this package. \n",
    "\n",
    "Unlike mean-field compartment models, which do not model individual members of the population, the network model explicitly represents individuals as discrete nodes. All model parameters can be assigned to each node on an individual basis. Therefore, the network models support arbitrary parameter heterogeneity at the user's discretion. In addition, the specification of the contact network allows for heterogeneity in interaction patterns to be explicitly modeled as well. \n",
    "\n",
    "\n",
    "<a name=\"usage\"></a>\n",
    "## Code Usage\n",
    "\n",
    "This package was designed with broad usability in mind. Complex scenarios can be simulated with very few lines of code or, in many cases, no new coding or knowledge of Python by simply modifying the parameter values in the [example notebooks](https://github.com/ryansmcgee/seirsplus/tree/master/examples) provided. See the Quick Start section and the rest of the wiki documentation for more details.\n",
    "\n",
    "Don't be intimidated by the length of the wiki pages, running these models is quick and easy. The package does all the hard work for you. As an example, here's a complete script that simulates the SEIRS dynamics on a network with forms of social distancing, testing, contact tracing, and quarantining in only 10 lines of code.:\n",
    "```python\n",
    "from seirsplus.models import *\n",
    "import networkx\n",
    "\n",
    "numNodes = 10000\n",
    "baseGraph    = networkx.barabasi_albert_graph(n=numNodes, m=9)\n",
    "G_normal     = custom_exponential_graph(baseGraph, scale=100)\n",
    "# Social distancing interactions:\n",
    "G_distancing = custom_exponential_graph(baseGraph, scale=10)\n",
    "# Quarantine interactions:\n",
    "G_quarantine = custom_exponential_graph(baseGraph, scale=5)\n",
    "\n",
    "model = SEIRSNetworkModel(G=G_normal, beta=0.155, sigma=1/5.2, gamma=1/12.39, mu_I=0.0004, p=0.5,\n",
    "                          Q=G_quarantine, beta_D=0.155, sigma_D=1/5.2, gamma_D=1/12.39, mu_D=0.0004,\n",
    "                          theta_E=0.02, theta_I=0.02, phi_E=0.2, phi_I=0.2, psi_E=1.0, psi_I=1.0, q=0.5,\n",
    "                          initI=10)\n",
    "\n",
    "checkpoints = {'t': [20, 100], 'G': [G_distancing, G_normal], 'p': [0.1, 0.5], 'theta_E': [0.02, 0.02], 'theta_I': [0.02, 0.02], 'phi_E':   [0.2, 0.2], 'phi_I':   [0.2, 0.2]}\n",
    "\n",
    "model.run(T=300, checkpoints=checkpoints)\n",
    "\n",
    "model.figure_infections()\n",
    "```\n",
    "\n",
    "\n",
    "\n",
    "### Quick Start\n",
    "\n",
    "Perhaps the best way to get started with these models is to dive into the [examples](https://github.com/ryansmcgee/seirsplus/tree/master/examples). These example notebooks walk through full simulations using each of the models  included in this package with description of the steps involved. **These notebooks can also serve as ready-to-run sandboxes for trying your own simulation scenarios simply by changing the parameter values in the notebook.**\n",
    "\n",
    "<a name=\"usage-install\"></a>\n",
    "### Installing and Importing the Package\n",
    "\n",
    "All of the code needed to run the models is imported from the ```models``` module of this package. Other features that may be of interest are implemented in the `networks`, `sim_loops`, and `utilities` modules.\n",
    "\n",
    "#### Install the package using ```pip```\n",
    "The package can be installed on your machine by entering this in the command line:\n",
    "\n",
    "```> pip install seirsplus```\n",
    "\n",
    "Then, the ```models``` module (and other modules) can be imported into your scripts as shown here:\n",
    "\n",
    "```python\n",
    "from seirsplus.models import *\n",
    "from seirsplus.networks import *\n",
    "from seirsplus.sim_loops import *\n",
    "from seirsplus.utilities import *\n",
    "import networkx\n",
    "```\n",
    "\n",
    "#### *Alternatively, manually copy the code to your machine*\n",
    "\n",
    "*You can use the model code without installing a package by copying the ```models.py``` module file to a directory on your machine. For some of the features included in this package you will also need the `networks`, `sim_loops`, and `utilities` modules. In this case, the easiest way to use the modules is to place your scripts in the same directory as the modules, and import the modules as shown here:*\n",
    "```python\n",
    "from models import *\n",
    "from networks import *\n",
    "from sim_loops import *\n",
    "from utilities import *\n",
    "```\n",
    "\n",
    "### Full Code Documentation\n",
    "\n",
    "Complete documentation for all package classes and functions can be found throughout this wiki, including in-depth descriptions of concept, parameters, and how to initialize, run, and interface with the models. Some pages of note:\n",
    "\n",
    " * [`SEIRSModel`](https://github.com/ryansmcgee/seirsplus/wiki/SEIRSModel-class)\n",
    " * [`SEIRSNetworkModel`](https://github.com/ryansmcgee/seirsplus/wiki/SEIRSNetworkModel-class)\n",
    " * [`ExtSEIRSNetworkModel`](https://github.com/ryansmcgee/seirsplus/wiki/ExtSEIRSNetworkModel-class)\n",
    " * [Network Generation](https://github.com/ryansmcgee/seirsplus/wiki/Network-Generation)\n",
    " * [TTI Simulation Loop](https://github.com/ryansmcgee/seirsplus/wiki/TTI-Simulation-Loop)\n",
    "\n"
   ]
  },
  {
   "cell_type": "markdown",
   "metadata": {},
   "source": [
    "## Install"
   ]
  },
  {
   "cell_type": "code",
   "execution_count": 1,
   "metadata": {},
   "outputs": [
    {
     "name": "stdout",
     "output_type": "stream",
     "text": [
      "Collecting seirsplus\n",
      "  Downloading seirsplus-1.0.2-py3-none-any.whl (65 kB)\n",
      "\u001b[K     |████████████████████████████████| 65 kB 690 kB/s eta 0:00:01\n",
      "\u001b[?25hRequirement already satisfied: numpy in /opt/anaconda3/lib/python3.8/site-packages (from seirsplus) (1.18.5)\n",
      "Requirement already satisfied: networkx in /opt/anaconda3/lib/python3.8/site-packages (from seirsplus) (2.4)\n",
      "Requirement already satisfied: scipy in /opt/anaconda3/lib/python3.8/site-packages (from seirsplus) (1.5.0)\n",
      "Requirement already satisfied: decorator>=4.3.0 in /opt/anaconda3/lib/python3.8/site-packages (from networkx->seirsplus) (4.4.2)\n",
      "Installing collected packages: seirsplus\n",
      "Successfully installed seirsplus-1.0.2\n"
     ]
    }
   ],
   "source": [
    "! pip install seirsplus"
   ]
  },
  {
   "cell_type": "markdown",
   "metadata": {},
   "source": [
    "## Import"
   ]
  },
  {
   "cell_type": "code",
   "execution_count": 2,
   "metadata": {},
   "outputs": [],
   "source": [
    "from seirsplus.models import *\n",
    "from seirsplus.networks import *\n",
    "from seirsplus.sim_loops import *\n",
    "from seirsplus.utilities import *\n",
    "import networkx"
   ]
  }
 ],
 "metadata": {
  "kernelspec": {
   "display_name": "Python 3",
   "language": "python",
   "name": "python3"
  },
  "language_info": {
   "codemirror_mode": {
    "name": "ipython",
    "version": 3
   },
   "file_extension": ".py",
   "mimetype": "text/x-python",
   "name": "python",
   "nbconvert_exporter": "python",
   "pygments_lexer": "ipython3",
   "version": "3.8.3"
  }
 },
 "nbformat": 4,
 "nbformat_minor": 4
}
