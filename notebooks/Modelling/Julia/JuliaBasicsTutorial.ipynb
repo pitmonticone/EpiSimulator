{
 "cells": [
  {
   "cell_type": "markdown",
   "metadata": {},
   "source": [
    "# Tutorial\n",
    "\n",
    "#### 1. Download [Julia 1.5.1](https://julialang.org/downloads/) \n",
    "\n",
    "#### 2. Take a look at the amazing [Julia Cheat Sheet](https://juliadocs.github.io/Julia-Cheat-Sheet/) and [Julia 1.5 Documentation](https://docs.julialang.org/en/v1/) to get started \n",
    "\n",
    "#### 3. Open the REPL by clicking on the Julia app \n",
    "\n",
    "#### 4. Install the Julia kernel in JupyterLab "
   ]
  },
  {
   "cell_type": "code",
   "execution_count": null,
   "metadata": {},
   "outputs": [],
   "source": [
    "# Import the package manager\n",
    "using Pkg; Pkg.add(\"IJulia\")"
   ]
  },
  {
   "cell_type": "markdown",
   "metadata": {},
   "source": [
    "#### 5. Restart JupyterLab from the Anaconda Navigator and open a notebook selecting the new Julia kernel\n",
    "\n",
    "#### 6. Install the essential packages "
   ]
  },
  {
   "cell_type": "code",
   "execution_count": null,
   "metadata": {},
   "outputs": [],
   "source": [
    "] add DataFrames DataFramesMeta DrWatson Queryverse"
   ]
  },
  {
   "cell_type": "code",
   "execution_count": null,
   "metadata": {},
   "outputs": [],
   "source": [
    "] add Random StatsBase Distributions"
   ]
  },
  {
   "cell_type": "code",
   "execution_count": null,
   "metadata": {},
   "outputs": [],
   "source": [
    "] add LightGraphs SimpleWeightedGraphs GraphIO GraphPlot"
   ]
  },
  {
   "cell_type": "code",
   "execution_count": null,
   "metadata": {},
   "outputs": [],
   "source": [
    "] add Agents"
   ]
  },
  {
   "cell_type": "code",
   "execution_count": null,
   "metadata": {},
   "outputs": [],
   "source": [
    "] add LinearAlgebra"
   ]
  },
  {
   "cell_type": "code",
   "execution_count": null,
   "metadata": {},
   "outputs": [],
   "source": [
    "] add Plots AgentsPlots PlotThemes"
   ]
  },
  {
   "cell_type": "code",
   "execution_count": null,
   "metadata": {},
   "outputs": [],
   "source": [
    "] add PyCall Conda"
   ]
  },
  {
   "cell_type": "markdown",
   "metadata": {},
   "source": [
    "#### 7. Build Julia-Python interface via `PyCall` or `Conda`"
   ]
  },
  {
   "cell_type": "code",
   "execution_count": null,
   "metadata": {},
   "outputs": [],
   "source": [
    "# Set Python path\n",
    "ENV[\"PYTHON\"] = Sys.which(\"python\")\n",
    "\n",
    "# Build PyCall in the selected path\n",
    "Pkg.build(\"PyCall\")\n",
    "\n",
    "# Import the PyCall package \n",
    "using PyCall\n",
    "\n",
    "# Import python modules \n",
    "nx = pyimport(\"networkx\")\n",
    "np = pyimport(\"numpy\")"
   ]
  }
 ],
 "metadata": {
  "kernelspec": {
   "display_name": "Julia 1.5.0",
   "language": "julia",
   "name": "julia-1.5"
  },
  "language_info": {
   "file_extension": ".jl",
   "mimetype": "application/julia",
   "name": "julia",
   "version": "1.5.0"
  }
 },
 "nbformat": 4,
 "nbformat_minor": 4
}
