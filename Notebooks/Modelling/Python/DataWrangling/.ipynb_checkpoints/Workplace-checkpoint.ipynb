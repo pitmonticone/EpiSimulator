{
 "cells": [
  {
   "cell_type": "markdown",
   "metadata": {},
   "source": [
    "# Workplace"
   ]
  },
  {
   "cell_type": "markdown",
   "metadata": {},
   "source": [
    "## Modules"
   ]
  },
  {
   "cell_type": "code",
   "execution_count": 95,
   "metadata": {},
   "outputs": [],
   "source": [
    "# Data Wrangling\n",
    "import numpy as np\n",
    "import pandas as pd"
   ]
  },
  {
   "cell_type": "markdown",
   "metadata": {},
   "source": [
    "## Administrative data"
   ]
  },
  {
   "cell_type": "code",
   "execution_count": 101,
   "metadata": {},
   "outputs": [],
   "source": [
    "provincial_data=pd.read_csv(\"/Users/Pit/github/DigitalEpidemiologyProject/Data/CSV/2020/Administrative/ItalianProvinces.csv\")\n",
    "\n",
    "provincial_dict={}\n",
    "for i in range(len(provincial_data)):\n",
    "    provincial_dict[provincial_data.name[i]]=provincial_data.code[i]"
   ]
  },
  {
   "cell_type": "markdown",
   "metadata": {},
   "source": [
    "## Workplace Size"
   ]
  },
  {
   "cell_type": "code",
   "execution_count": 102,
   "metadata": {},
   "outputs": [],
   "source": [
    "workplace_sizes=pd.read_csv(\"/Users/Pit/GitHub/DigitalEpidemiologyProject/Data/CSV/2020/Population/Workplace/WorkplaceSize.csv\").rename(columns={'Territorio':'Province', 'Classe di addetti':'Class', 'Value':'Population'})\n",
    "workplace_sizes=workplace_sizes.drop(columns=[\"D1\",\"D2\", \"Tipo dato\", \"D3\", \"Ateco 2007\", \"D4\", \"D5\", \"D6\",\"D8\", \"Forma giuridica\", \"Flag Codes\", \"Flags\",\"Seleziona periodo\", \"Impresa con dipendenti\"])\n",
    "workplace_sizes=workplace_sizes.sort_values(by=['Province','Class'])"
   ]
  },
  {
   "cell_type": "code",
   "execution_count": 103,
   "metadata": {},
   "outputs": [],
   "source": [
    "# Save processed dataset\n",
    "workplace_sizes.to_csv(\"/Users/Pit/GitHub/DigitalEpidemiologyProject/Data/CSV/2020/Population/Workplace/WorkplaceSize_Processed.csv\", index=False)"
   ]
  },
  {
   "cell_type": "code",
   "execution_count": 104,
   "metadata": {},
   "outputs": [],
   "source": [
    "# Import manually processed dataset\n",
    "workplace_sizes=pd.read_csv(\"/Users/Pit/GitHub/DigitalEpidemiologyProject/Data/CSV/2020/Population/Workplace/WorkplaceSize_ManuallyProcessed.csv\").rename(columns={'Territorio':'Province', 'Classe di addetti':'Class', 'Value':'Population'})\n",
    "workplace_sizes=workplace_sizes.sort_values(by=['Province','Class'])"
   ]
  },
  {
   "cell_type": "code",
   "execution_count": 105,
   "metadata": {},
   "outputs": [],
   "source": [
    "work_size_brackets=pd.DataFrame([\"0_9\",\"10_49\",\"50_249\",\"250_1000\"])"
   ]
  },
  {
   "cell_type": "code",
   "execution_count": 106,
   "metadata": {},
   "outputs": [],
   "source": [
    "for prov in list(provincial_dict.keys()):\n",
    "    prov_workplace_sizes=workplace_sizes[workplace_sizes[\"Province\"]==prov]\n",
    "    prov_workplace_sizes.reset_index(drop=True, inplace=True)\n",
    "    work_data=pd.concat([work_size_brackets,prov_workplace_sizes],axis=1).rename(columns={0:'work_size_bracket','Population':'size_count'}).drop(columns=[\"Province\",\"Class\"])\n",
    "    work_data.to_csv(\"/Users/Pit/GitHub/DigitalEpidemiologyProject/Data/CSV/2020/Population/Workplace/WorkSizeBracketDistributions/\"+str(provincial_dict[prov])+\".csv\", index=False)"
   ]
  }
 ],
 "metadata": {
  "kernelspec": {
   "display_name": "Python 3",
   "language": "python",
   "name": "python3"
  },
  "language_info": {
   "codemirror_mode": {
    "name": "ipython",
    "version": 3
   },
   "file_extension": ".py",
   "mimetype": "text/x-python",
   "name": "python",
   "nbconvert_exporter": "python",
   "pygments_lexer": "ipython3",
   "version": "3.8.5"
  }
 },
 "nbformat": 4,
 "nbformat_minor": 4
}
