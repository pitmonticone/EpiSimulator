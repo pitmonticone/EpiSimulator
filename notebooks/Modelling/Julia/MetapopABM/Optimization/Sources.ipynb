{
 "cells": [
  {
   "cell_type": "markdown",
   "metadata": {},
   "source": [
    "# Serial & Parallel Optimization in Julia \n",
    "\n",
    "## Sources \n",
    "\n",
    "* [Performance Tips](https://docs.julialang.org/en/v1/manual/performance-tips/)\n",
    "* [JuliaGPU](https://juliagpu.org)\n",
    "* [MIT 18.337J/6.338J: Parallel Computing and Scientific Machine Learning](https://github.com/mitmath/18337)\n",
    "* [Julia Academy: Parallel Computing](https://juliaacademy.com/p/parallel-computing)"
   ]
  },
  {
   "cell_type": "code",
   "execution_count": 1,
   "metadata": {},
   "outputs": [
    {
     "data": {
      "text/plain": [
       "5-element Array{Int64,1}:\n",
       " 2\n",
       " 3\n",
       " 4\n",
       " 5\n",
       " 6"
      ]
     },
     "execution_count": 1,
     "metadata": {},
     "output_type": "execute_result"
    }
   ],
   "source": [
    "# Import relevant module \n",
    "using Distributed \n",
    "addprocs(2)\n",
    "@everywhere function f1(x)\n",
    "    return x+1"
   ]
  },
  {
   "cell_type": "code",
   "execution_count": 2,
   "metadata": {},
   "outputs": [
    {
     "name": "stdout",
     "output_type": "stream",
     "text": [
      "      From worker 3:\tfatal: error thrown and no exception handler available.\n",
      "      From worker 3:\tInterruptException()\n",
      "      From worker 4:\tfatal: error thrown and no exception handler available.\n",
      "      From worker 4:\tInterruptException()\n",
      "      From worker 2:\tfatal: error thrown and no exception handler available.\n",
      "      From worker 2:\tInterruptException()\n",
      "      From worker 6:\tfatal: error thrown and no exception handler available.\n",
      "      From worker 6:\tInterruptException()\n",
      "      From worker 5:\tfatal: error thrown and no exception handler available.\n",
      "      From worker 5:\tInterruptException()\n",
      "      From worker 4:\tjl_mutex_unlock at /Users/julia/buildbot/worker/package_macos64/build/src/./locks.h:143 [inlined]\n",
      "      From worker 4:\tjl_task_get_next at /Users/julia/buildbot/worker/package_macos64/build/src/partr.c:476\n",
      "      From worker 6:\tjl_mutex_unlock at /Users/julia/buildbot/worker/package_macos64/build/src/./locks.h:143 [inlined]\n",
      "      From worker 6:\tjl_task_get_next at /Users/julia/buildbot/worker/package_macos64/build/src/partr.c:476\n",
      "      From worker 5:\tjl_mutex_unlock at /Users/julia/buildbot/worker/package_macos64/build/src/./locks.h:143 [inlined]\n",
      "      From worker 5:\tjl_task_get_next at /Users/julia/buildbot/worker/package_macos64/build/src/partr.c:476\n",
      "      From worker 3:\tjl_mutex_unlock at /Users/julia/buildbot/worker/package_macos64/build/src/./locks.h:143 [inlined]\n",
      "      From worker 3:\tjl_task_get_next at /Users/julia/buildbot/worker/package_macos64/build/src/partr.c:476\n",
      "      From worker 2:\tjl_mutex_unlock at /Users/julia/buildbot/worker/package_macos64/build/src/./locks.h:143 [inlined]\n",
      "      From worker 2:\tjl_task_get_next at /Users/julia/buildbot/worker/package_macos64/build/src/partr.c:476\n",
      "      From worker 4:\tpoptask at ./task.jl:704\n",
      "      From worker 6:\tpoptask at ./task.jl:704\n",
      "      From worker 3:\tpoptask at ./task.jl:704\n",
      "      From worker 5:\tpoptask at ./task.jl:704\n",
      "      From worker 2:\tpoptask at ./task.jl:704\n",
      "      From worker 2:\twait at ./task.jl:712 [inlined]\n",
      "      From worker 2:\ttask_done_hook at ./task.jl:442\n",
      "      From worker 2:\tjl_apply at /Users/julia/buildbot/worker/package_macos64/build/src/./julia.h:1690 [inlined]\n",
      "      From worker 2:\tjl_finish_task at /Users/julia/buildbot/worker/package_macos64/build/src/task.c:198\n",
      "      From worker 2:\tstart_task at /Users/julia/buildbot/worker/package_macos64/build/src/task.c:717\n",
      "      From worker 4:\twait at ./task.jl:712 [inlined]\n",
      "      From worker 4:\ttask_done_hook at ./task.jl:442\n",
      "      From worker 4:\tjl_apply at /Users/julia/buildbot/worker/package_macos64/build/src/./julia.h:1690 [inlined]\n",
      "      From worker 4:\tjl_finish_task at /Users/julia/buildbot/worker/package_macos64/build/src/task.c:198\n",
      "      From worker 4:\tstart_task at /Users/julia/buildbot/worker/package_macos64/build/src/task.c:717\n",
      "      From worker 5:\twait at ./task.jl:712 [inlined]\n",
      "      From worker 5:\ttask_done_hook at ./task.jl:442\n",
      "      From worker 5:\tjl_apply at /Users/julia/buildbot/worker/package_macos64/build/src/./julia.h:1690 [inlined]\n",
      "      From worker 5:\tjl_finish_task at /Users/julia/buildbot/worker/package_macos64/build/src/task.c:198\n",
      "      From worker 5:\tstart_task at /Users/julia/buildbot/worker/package_macos64/build/src/task.c:717\n",
      "      From worker 6:\twait at ./task.jl:712 [inlined]\n",
      "      From worker 6:\ttask_done_hook at ./task.jl:442\n",
      "      From worker 6:\tjl_apply at /Users/julia/buildbot/worker/package_macos64/build/src/./julia.h:1690 [inlined]\n",
      "      From worker 6:\tjl_finish_task at /Users/julia/buildbot/worker/package_macos64/build/src/task.c:198\n",
      "      From worker 3:\twait at ./task.jl:712 [inlined]\n",
      "      From worker 3:\ttask_done_hook at ./task.jl:442\n",
      "      From worker 6:\tstart_task at /Users/julia/buildbot/worker/package_macos64/build/src/task.c:717\n",
      "      From worker 3:\tjl_apply at /Users/julia/buildbot/worker/package_macos64/build/src/./julia.h:1690 [inlined]\n",
      "      From worker 3:\tjl_finish_task at /Users/julia/buildbot/worker/package_macos64/build/src/task.c:198\n",
      "      From worker 3:\tstart_task at /Users/julia/buildbot/worker/package_macos64/build/src/task.c:717\n"
     ]
    },
    {
     "name": "stderr",
     "output_type": "stream",
     "text": [
      "Worker 2 terminated.\n",
      "Worker 4 terminated.\n",
      "Worker 3 terminated.\n",
      "Worker 6 terminated.\n",
      "Worker 5 terminated.\n"
     ]
    }
   ],
   "source": [
    "interrupt()"
   ]
  }
 ],
 "metadata": {
  "kernelspec": {
   "display_name": "Julia 1.5.2",
   "language": "julia",
   "name": "julia-1.5"
  },
  "language_info": {
   "file_extension": ".jl",
   "mimetype": "application/julia",
   "name": "julia",
   "version": "1.5.2"
  }
 },
 "nbformat": 4,
 "nbformat_minor": 4
}
