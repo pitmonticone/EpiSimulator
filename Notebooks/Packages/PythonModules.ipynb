{
 "cells": [
  {
   "cell_type": "markdown",
   "metadata": {},
   "source": [
    "## Python Modules\n",
    "\n",
    "### Install \n",
    "\n",
    "The installation of the following modules is highly recommended."
   ]
  },
  {
   "cell_type": "code",
   "execution_count": 1,
   "metadata": {
    "collapsed": true,
    "jupyter": {
     "outputs_hidden": true
    }
   },
   "outputs": [
    {
     "name": "stdout",
     "output_type": "stream",
     "text": [
      "Requirement already satisfied: pandas in /opt/anaconda3/lib/python3.8/site-packages (1.0.5)\n",
      "Requirement already satisfied: geopandas in /opt/anaconda3/lib/python3.8/site-packages (0.8.1)\n",
      "Requirement already satisfied: shapely in /opt/anaconda3/lib/python3.8/site-packages (1.7.0)\n",
      "Requirement already satisfied: descartes in /opt/anaconda3/lib/python3.8/site-packages (1.1.0)\n",
      "Requirement already satisfied: python-dateutil>=2.6.1 in /opt/anaconda3/lib/python3.8/site-packages (from pandas) (2.8.1)\n",
      "Requirement already satisfied: pytz>=2017.2 in /opt/anaconda3/lib/python3.8/site-packages (from pandas) (2020.1)\n",
      "Requirement already satisfied: numpy>=1.13.3 in /opt/anaconda3/lib/python3.8/site-packages (from pandas) (1.18.5)\n",
      "Requirement already satisfied: fiona in /opt/anaconda3/lib/python3.8/site-packages (from geopandas) (1.8.13.post1)\n",
      "Requirement already satisfied: pyproj>=2.2.0 in /opt/anaconda3/lib/python3.8/site-packages (from geopandas) (2.6.1.post1)\n",
      "Requirement already satisfied: matplotlib in /opt/anaconda3/lib/python3.8/site-packages (from descartes) (3.2.2)\n",
      "Requirement already satisfied: six>=1.5 in /opt/anaconda3/lib/python3.8/site-packages (from python-dateutil>=2.6.1->pandas) (1.15.0)\n",
      "Requirement already satisfied: cligj>=0.5 in /opt/anaconda3/lib/python3.8/site-packages (from fiona->geopandas) (0.5.0)\n",
      "Requirement already satisfied: munch in /opt/anaconda3/lib/python3.8/site-packages (from fiona->geopandas) (2.5.0)\n",
      "Requirement already satisfied: click<8,>=4.0 in /opt/anaconda3/lib/python3.8/site-packages (from fiona->geopandas) (7.1.2)\n",
      "Requirement already satisfied: attrs>=17 in /opt/anaconda3/lib/python3.8/site-packages (from fiona->geopandas) (19.3.0)\n",
      "Requirement already satisfied: click-plugins>=1.0 in /opt/anaconda3/lib/python3.8/site-packages (from fiona->geopandas) (1.1.1)\n",
      "Requirement already satisfied: kiwisolver>=1.0.1 in /opt/anaconda3/lib/python3.8/site-packages (from matplotlib->descartes) (1.2.0)\n",
      "Requirement already satisfied: cycler>=0.10 in /opt/anaconda3/lib/python3.8/site-packages (from matplotlib->descartes) (0.10.0)\n",
      "Requirement already satisfied: pyparsing!=2.0.4,!=2.1.2,!=2.1.6,>=2.0.1 in /opt/anaconda3/lib/python3.8/site-packages (from matplotlib->descartes) (2.4.7)\n",
      "Requirement already satisfied: powerlaw in /opt/anaconda3/lib/python3.8/site-packages (1.4.6)\n",
      "Requirement already satisfied: scipy in /opt/anaconda3/lib/python3.8/site-packages (from powerlaw) (1.5.0)\n",
      "Requirement already satisfied: mpmath in /opt/anaconda3/lib/python3.8/site-packages (from powerlaw) (1.1.0)\n",
      "Requirement already satisfied: matplotlib in /opt/anaconda3/lib/python3.8/site-packages (from powerlaw) (3.2.2)\n",
      "Requirement already satisfied: numpy in /opt/anaconda3/lib/python3.8/site-packages (from powerlaw) (1.18.5)\n",
      "Requirement already satisfied: pyparsing!=2.0.4,!=2.1.2,!=2.1.6,>=2.0.1 in /opt/anaconda3/lib/python3.8/site-packages (from matplotlib->powerlaw) (2.4.7)\n",
      "Requirement already satisfied: python-dateutil>=2.1 in /opt/anaconda3/lib/python3.8/site-packages (from matplotlib->powerlaw) (2.8.1)\n",
      "Requirement already satisfied: kiwisolver>=1.0.1 in /opt/anaconda3/lib/python3.8/site-packages (from matplotlib->powerlaw) (1.2.0)\n",
      "Requirement already satisfied: cycler>=0.10 in /opt/anaconda3/lib/python3.8/site-packages (from matplotlib->powerlaw) (0.10.0)\n",
      "Requirement already satisfied: six>=1.5 in /opt/anaconda3/lib/python3.8/site-packages (from python-dateutil>=2.1->matplotlib->powerlaw) (1.15.0)\n",
      "Requirement already satisfied: matplotlib in /opt/anaconda3/lib/python3.8/site-packages (3.2.2)\n",
      "Requirement already satisfied: seaborn in /opt/anaconda3/lib/python3.8/site-packages (0.10.1)\n",
      "Requirement already satisfied: netwulf in /opt/anaconda3/lib/python3.8/site-packages (0.1.5)\n",
      "Requirement already satisfied: numpy>=1.11 in /opt/anaconda3/lib/python3.8/site-packages (from matplotlib) (1.18.5)\n",
      "Requirement already satisfied: cycler>=0.10 in /opt/anaconda3/lib/python3.8/site-packages (from matplotlib) (0.10.0)\n",
      "Requirement already satisfied: pyparsing!=2.0.4,!=2.1.2,!=2.1.6,>=2.0.1 in /opt/anaconda3/lib/python3.8/site-packages (from matplotlib) (2.4.7)\n",
      "Requirement already satisfied: kiwisolver>=1.0.1 in /opt/anaconda3/lib/python3.8/site-packages (from matplotlib) (1.2.0)\n",
      "Requirement already satisfied: python-dateutil>=2.1 in /opt/anaconda3/lib/python3.8/site-packages (from matplotlib) (2.8.1)\n",
      "Requirement already satisfied: pandas>=0.22.0 in /opt/anaconda3/lib/python3.8/site-packages (from seaborn) (1.0.5)\n",
      "Requirement already satisfied: scipy>=1.0.1 in /opt/anaconda3/lib/python3.8/site-packages (from seaborn) (1.5.0)\n",
      "Requirement already satisfied: networkx>=2.0 in /opt/anaconda3/lib/python3.8/site-packages (from netwulf) (2.4)\n",
      "Requirement already satisfied: simplejson>=3.0 in /opt/anaconda3/lib/python3.8/site-packages (from netwulf) (3.17.2)\n",
      "Requirement already satisfied: six in /opt/anaconda3/lib/python3.8/site-packages (from cycler>=0.10->matplotlib) (1.15.0)\n",
      "Requirement already satisfied: pytz>=2017.2 in /opt/anaconda3/lib/python3.8/site-packages (from pandas>=0.22.0->seaborn) (2020.1)\n",
      "Requirement already satisfied: decorator>=4.3.0 in /opt/anaconda3/lib/python3.8/site-packages (from networkx>=2.0->netwulf) (4.4.2)\n",
      "Requirement already satisfied: networkx in /opt/anaconda3/lib/python3.8/site-packages (2.4)\n",
      "Requirement already satisfied: geonetworkx in /opt/anaconda3/lib/python3.8/site-packages (0.5.2)\n",
      "Requirement already satisfied: EoN in /opt/anaconda3/lib/python3.8/site-packages (1.1)\n",
      "Requirement already satisfied: decorator>=4.3.0 in /opt/anaconda3/lib/python3.8/site-packages (from networkx) (4.4.2)\n",
      "Requirement already satisfied: geopandas>=0.7 in /opt/anaconda3/lib/python3.8/site-packages (from geonetworkx) (0.8.1)\n",
      "Requirement already satisfied: shapely>=1.2.18 in /opt/anaconda3/lib/python3.8/site-packages (from geonetworkx) (1.7.0)\n",
      "Requirement already satisfied: scipy>=0.19.0rc2 in /opt/anaconda3/lib/python3.8/site-packages (from geonetworkx) (1.5.0)\n",
      "Requirement already satisfied: pandas>=0.25.0 in /opt/anaconda3/lib/python3.8/site-packages (from geonetworkx) (1.0.5)\n",
      "Requirement already satisfied: nose>=1.3.7 in /opt/anaconda3/lib/python3.8/site-packages (from geonetworkx) (1.3.7)\n",
      "Requirement already satisfied: numpy>=1.12.0 in /opt/anaconda3/lib/python3.8/site-packages (from geonetworkx) (1.18.5)\n",
      "Requirement already satisfied: geopy>=1.12.0 in /opt/anaconda3/lib/python3.8/site-packages (from geonetworkx) (2.0.0)\n",
      "Requirement already satisfied: pyproj>=2.2 in /opt/anaconda3/lib/python3.8/site-packages (from geonetworkx) (2.6.1.post1)\n",
      "Requirement already satisfied: matplotlib in /opt/anaconda3/lib/python3.8/site-packages (from EoN) (3.2.2)\n",
      "Requirement already satisfied: fiona in /opt/anaconda3/lib/python3.8/site-packages (from geopandas>=0.7->geonetworkx) (1.8.13.post1)\n",
      "Requirement already satisfied: python-dateutil>=2.6.1 in /opt/anaconda3/lib/python3.8/site-packages (from pandas>=0.25.0->geonetworkx) (2.8.1)\n",
      "Requirement already satisfied: pytz>=2017.2 in /opt/anaconda3/lib/python3.8/site-packages (from pandas>=0.25.0->geonetworkx) (2020.1)\n",
      "Requirement already satisfied: geographiclib<2,>=1.49 in /opt/anaconda3/lib/python3.8/site-packages (from geopy>=1.12.0->geonetworkx) (1.50)\n",
      "Requirement already satisfied: pyparsing!=2.0.4,!=2.1.2,!=2.1.6,>=2.0.1 in /opt/anaconda3/lib/python3.8/site-packages (from matplotlib->EoN) (2.4.7)\n",
      "Requirement already satisfied: kiwisolver>=1.0.1 in /opt/anaconda3/lib/python3.8/site-packages (from matplotlib->EoN) (1.2.0)\n",
      "Requirement already satisfied: cycler>=0.10 in /opt/anaconda3/lib/python3.8/site-packages (from matplotlib->EoN) (0.10.0)\n",
      "Requirement already satisfied: munch in /opt/anaconda3/lib/python3.8/site-packages (from fiona->geopandas>=0.7->geonetworkx) (2.5.0)\n",
      "Requirement already satisfied: click-plugins>=1.0 in /opt/anaconda3/lib/python3.8/site-packages (from fiona->geopandas>=0.7->geonetworkx) (1.1.1)\n",
      "Requirement already satisfied: attrs>=17 in /opt/anaconda3/lib/python3.8/site-packages (from fiona->geopandas>=0.7->geonetworkx) (19.3.0)\n",
      "Requirement already satisfied: six>=1.7 in /opt/anaconda3/lib/python3.8/site-packages (from fiona->geopandas>=0.7->geonetworkx) (1.15.0)\n",
      "Requirement already satisfied: click<8,>=4.0 in /opt/anaconda3/lib/python3.8/site-packages (from fiona->geopandas>=0.7->geonetworkx) (7.1.2)\n",
      "Requirement already satisfied: cligj>=0.5 in /opt/anaconda3/lib/python3.8/site-packages (from fiona->geopandas>=0.7->geonetworkx) (0.5.0)\n"
     ]
    }
   ],
   "source": [
    "# Data Wrangling\n",
    "! pip install pandas geopandas shapely descartes\n",
    "\n",
    "# Data Analysis\n",
    "! pip install powerlaw\n",
    "\n",
    "# Data Visualization \n",
    "! pip install matplotlib seaborn netwulf\n",
    "\n",
    "# Network Science\n",
    "! pip install networkx geonetworkx EoN"
   ]
  },
  {
   "cell_type": "markdown",
   "metadata": {},
   "source": [
    "### Import "
   ]
  },
  {
   "cell_type": "code",
   "execution_count": 2,
   "metadata": {},
   "outputs": [
    {
     "name": "stdout",
     "output_type": "stream",
     "text": [
      "Using matplotlib backend: MacOSX\n",
      "Populating the interactive namespace from numpy and matplotlib\n"
     ]
    }
   ],
   "source": [
    "# Data Wrangling\n",
    "import pandas as pd, geopandas as gpd, shapely, descartes\n",
    "\n",
    "# Data Analysis\n",
    "import powerlaw as pwl\n",
    "\n",
    "# Data Visualization \n",
    "import matplotlib.pyplot as plt, seaborn as sns, netwulf as nw\n",
    "\n",
    "# Network Science\n",
    "import networkx as nx, geonetworkx as gnx, EoN\n",
    "\n",
    "# Interactive Data Wrangling & Visualization \n",
    "%pylab  "
   ]
  }
 ],
 "metadata": {
  "kernelspec": {
   "display_name": "Python 3",
   "language": "python",
   "name": "python3"
  },
  "language_info": {
   "codemirror_mode": {
    "name": "ipython",
    "version": 3
   },
   "file_extension": ".py",
   "mimetype": "text/x-python",
   "name": "python",
   "nbconvert_exporter": "python",
   "pygments_lexer": "ipython3",
   "version": "3.8.3"
  }
 },
 "nbformat": 4,
 "nbformat_minor": 4
}
