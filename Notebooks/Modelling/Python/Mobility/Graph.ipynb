{
 "cells": [
  {
   "cell_type": "code",
   "execution_count": 1,
   "metadata": {},
   "outputs": [
    {
     "name": "stdout",
     "output_type": "stream",
     "text": [
      "Populating the interactive namespace from numpy and matplotlib\n"
     ]
    }
   ],
   "source": [
    "# Network Data Science \n",
    "import networkx as nx\n",
    "\n",
    "# Data Wrangling\n",
    "import numpy as np\n",
    "\n",
    "# Network Data Analysis \n",
    "import networkx as nx\n",
    "import geonetworkx as gnx\n",
    "\n",
    "# Data Visualization\n",
    "import seaborn as sns\n",
    "import matplotlib.pyplot as plt \n",
    "import matplotlib.ticker as ticker\n",
    "import netwulf as nw\n",
    "%pylab inline\n",
    "\n",
    "# Geo-Spatial Data Analysis\n",
    "import geopandas as gpd\n",
    "###import georaster as gr\n",
    "import pandas as pd\n",
    "from shapely.geometry import Point, LineString\n",
    "###import pysal as ps\n",
    "###from pysal.contrib.viz import mapping as maps\n",
    "\n",
    "# Other Utilities\n",
    "from operator import itemgetter\n",
    "from collections import defaultdict\n",
    "\n",
    "# Custom Modules\n",
    "import digital_epidemiology as depi\n",
    "\n",
    "# Reload Custom Modules\n",
    "from importlib import reload\n",
    "depi = reload(depi)"
   ]
  },
  {
   "cell_type": "code",
   "execution_count": 2,
   "metadata": {},
   "outputs": [],
   "source": [
    "mobility_data = pd.read_csv(\"/Users/Pit/GitHub/DigitalEpidemiologyProject/Data/CSV/2020/Pepe2020/flow.csv\")[['origin','destination','flow']].rename(columns={'origin':'source', 'destination':'target', 'flow':'weight'})\n",
    "mobility_edgelist = [tuple(weighted_edge) for weighted_edge in mobility_data.to_numpy()]\n",
    "#mobility_edgelist"
   ]
  },
  {
   "cell_type": "code",
   "execution_count": 7,
   "metadata": {},
   "outputs": [
    {
     "data": {
      "text/plain": [
       "networkx.classes.digraph.DiGraph"
      ]
     },
     "execution_count": 7,
     "metadata": {},
     "output_type": "execute_result"
    }
   ],
   "source": [
    "mobility_graph = nx.DiGraph()\n",
    "mobility_graph.add_weighted_edges_from(mobility_edgelist)\n",
    "type(mobility_graph)\n",
    "#nw.visualize(mobility_graph)"
   ]
  },
  {
   "cell_type": "code",
   "execution_count": 4,
   "metadata": {},
   "outputs": [],
   "source": [
    "#nx.draw(mobility_graph)\n",
    "###mobility_adj_matrix = nx.adj_matrix(mobility_graph)"
   ]
  },
  {
   "cell_type": "code",
   "execution_count": 13,
   "metadata": {},
   "outputs": [],
   "source": []
  },
  {
   "cell_type": "code",
   "execution_count": 14,
   "metadata": {},
   "outputs": [
    {
     "data": {
      "image/png": "[encoded data removed]",
      "text/plain": [
       "<Figure size 432x288 with 1 Axes>"
      ]
     },
     "metadata": {},
     "output_type": "display_data"
    }
   ],
   "source": [
    "plot_degree_distn(mobility_graph)"
   ]
  },
  {
   "cell_type": "markdown",
   "metadata": {},
   "source": [
    "## Simulations "
   ]
  },
  {
   "cell_type": "code",
   "execution_count": null,
   "metadata": {},
   "outputs": [],
   "source": [
    "# Model Parameters\n",
    "mu = 0.2           # Recovery rate \n",
    "lambd = 0.01       # Transmission rate per contact\n",
    "\n",
    "# Simulation Parameters\n",
    "nrun = 100        # Number of runs\n",
    " \n",
    "# Multi-Run Simulation\n",
    "runs = depi.network_SIR_multirun_simulation(mobility_graph, nrun = nrun, lambd = lambd, mu = mu)\n",
    "\n",
    "# Set figure size \n",
    "plt.figure(figsize=(10,7))\n",
    "plt.title('Stochastic SIR on Mobility Graph | 100 Runs', fontsize = 18)\n",
    "\n",
    "# Plot the ensemble of trajectories\n",
    "depi.plot_ensemble(runs)      "
   ]
  },
  {
   "cell_type": "markdown",
   "metadata": {},
   "source": [
    "### $\\lambda$-Sensitivity of Final Epidemic Size"
   ]
  },
  {
   "cell_type": "code",
   "execution_count": null,
   "metadata": {},
   "outputs": [],
   "source": [
    "# Perform lambda-sensitivity analysis of final epidemic size (normalized attack rate) \n",
    "data = depi.network_SIR_finalsize_lambda_sensitivity(mobility_graph, mu = mu, rho = 0.05, # rho = initial fraction infected\n",
    "                                                    lambda_min = 0.0001, lambda_max = 1.0, \n",
    "                                                    nruns = 20)\n",
    "# Show sensitivity dataset\n",
    "data \n",
    "\n",
    "# Set figure size \n",
    "plt.figure(figsize=(10,7))\n",
    "\n",
    "# Display a boxplot with final epidemic size vs. transmission rate per edge/contact\n",
    "depi.boxplot_finalsize_lambda_sensitivity(mobility_graph, mu = mu, data = data, \n",
    "                                         ymin = 0.045, ymax= 1.1,\n",
    "                                         xlim = (0.00007, 1.5) )"
   ]
  }
 ],
 "metadata": {
  "kernelspec": {
   "display_name": "Python 3",
   "language": "python",
   "name": "python3"
  },
  "language_info": {
   "codemirror_mode": {
    "name": "ipython",
    "version": 3
   },
   "file_extension": ".py",
   "mimetype": "text/x-python",
   "name": "python",
   "nbconvert_exporter": "python",
   "pygments_lexer": "ipython3",
   "version": "3.8.3"
  }
 },
 "nbformat": 4,
 "nbformat_minor": 4
}
