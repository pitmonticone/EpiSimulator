{
 "cells": [
  {
   "cell_type": "markdown",
   "metadata": {},
   "source": [
    "# Population Data Wrangling"
   ]
  },
  {
   "cell_type": "markdown",
   "metadata": {},
   "source": [
    "## Modules"
   ]
  },
  {
   "cell_type": "code",
   "execution_count": 63,
   "metadata": {},
   "outputs": [
    {
     "name": "stdout",
     "output_type": "stream",
     "text": [
      "Populating the interactive namespace from numpy and matplotlib\n"
     ]
    }
   ],
   "source": [
    "# Data Wrangling\n",
    "import numpy as np\n",
    "import pandas as pd\n",
    "# Data Visualization\n",
    "import matplotlib.pyplot as plt \n",
    "import seaborn as sns \n",
    "%pylab inline"
   ]
  },
  {
   "cell_type": "markdown",
   "metadata": {},
   "source": [
    "## 2020"
   ]
  },
  {
   "cell_type": "code",
   "execution_count": 64,
   "metadata": {},
   "outputs": [],
   "source": [
    "# POPULATION DATA PATH \n",
    "### PIETRO 1: \"/Users/Pit/GitHub/DigitalEpidemiologyProject/Data/CSV/2020/Population/ProvincialDemographics.csv\"\n",
    "### PIETRO 2: \"/Users/pietromonticone/github/DigitalEpidemiologyProject/Data/CSV/2020/Population/ProvincialDemographics.csv\"\n",
    "### DAVIDE: r\"C:\\Users\\Utente\\Desktop\\Progetti\\Python\\DigitalEpidemiologyProject/Data/CSV/2020/Population/ProvincialDemographics.csv\"\n",
    "\n",
    "# UNDER-80 POPULATION DATA PATH \n",
    "### PIETRO 1: \"/Users/Pit/GitHub/DigitalEpidemiologyProject/Data/CSV/2020/Population/ProvincialDemographicsUnder80.csv\"\n",
    "### PIETRO 2: \"/Users/pietromonticone/github/DigitalEpidemiologyProject/Data/CSV/2020/Population/ProvincialDemographicsUnder80.csv\"\n",
    "### DAVIDE: r\"C:\\Users\\Utente\\Desktop\\Progetti\\Python\\DigitalEpidemiologyProject/Data/CSV/2020/Population/ProvincialDemographicsUnder80.csv\""
   ]
  },
  {
   "cell_type": "code",
   "execution_count": 65,
   "metadata": {},
   "outputs": [],
   "source": [
    "# Load population data \n",
    "provincial_demographics_2020 = pd.read_csv(\"/Users/Pit/GitHub/DigitalEpidemiologyProject/Data/CSV/2020/Population/ProvincialDemographics.csv\").rename(columns = {'Codice provincia': 'code', 'Provincia': 'name', 'Età': 'age'})\n",
    "# Add total population per province\n",
    "provincial_demographics_2020[\"population\"] = provincial_demographics_2020[\"Totale Maschi\"] + provincial_demographics_2020[\"Totale Femmine\"]\n",
    "# Remove useless fields\n",
    "provincial_demographics_2020 = provincial_demographics_2020.drop(['Maschi celibi', 'Maschi coniugati', 'Maschi divorziati', 'Maschi vedovi', 'Maschi uniti civilmente', 'Maschi già in unione civile (per scioglimento)', 'Maschi già in unione civile (per decesso del partner)', 'Totale Maschi','Femmine nubili', 'Femmine coniugate', 'Femmine divorziate', 'Femmine vedove', 'Femmine unite civilmente', 'Femmine già in unione civile (per scioglimento)', 'Femmine già in unione civile (per decesso del partner)', 'Totale Femmine'], axis=1)\n",
    "# Filter under-80 population\n",
    "provincial_demographics_2020_under80 = provincial_demographics_2020[provincial_demographics_2020['age'] < 80]\n",
    "provincial_demographics_2020_under80.reset_index(drop=True, inplace=True)\n",
    "# Save under-80 data \n",
    "###provincial_demographics_2020_under80.to_csv('/Users/Pit/GitHub/DigitalEpidemiologyProject/Data/CSV/2020/ProvincialDemographicsUnder80.csv',index=False)\n",
    "b = []\n",
    "for i in range(1, len(provincial_demographics_2020_under80[\"population\"]), 5):\n",
    "    b.append(sum(provincial_demographics_2020_under80[\"population\"][i:i+5]))\n",
    "\n",
    "provincial_dict_2020 = {}\n",
    "for j in range(107):\n",
    "    final = []\n",
    "    for i in range(16):\n",
    "        final.append(b[16*j+i])\n",
    "    provincial_dict_2020[j+1] = final\n",
    "a=np.zeros(16)\n",
    "for j in range(1,107):\n",
    "    for i in range(16):\n",
    "        a[i]=a[i]+provincial_dict_2020[j][i]\n",
    "        \n",
    "#pd.DataFrame(provincial_dict_2020).to_csv(\"/Users/Pit/github/DigitalEpidemiologyProject/Data/CSV/2020/Population/AgeStratifiedProvincialPopulation.csv\",index=False)"
   ]
  },
  {
   "cell_type": "code",
   "execution_count": 66,
   "metadata": {},
   "outputs": [
    {
     "data": {
      "image/png": "[encoded data removed]",
      "text/plain": [
       "<Figure size 720x720 with 1 Axes>"
      ]
     },
     "metadata": {
      "needs_background": "light"
     },
     "output_type": "display_data"
    }
   ],
   "source": [
    "df = pd.DataFrame({'Age': ['0-4','5-9','10-14','15-19','20-24','25-29','30-34','35-39','40-44','45-49','50-54','55-59','60-64','65-69','70-74','75-80'], \n",
    "                    'Population': a})\n",
    "AgeClass = ['75-80','70-74','65-69','60-64','55-59','50-54','45-49','40-44','35-39','30-34','25-29','20-24','15-19','10-14','5-9','0-4']\n",
    "\n",
    "fig=plt.figure(figsize=(10,10))\n",
    "sns.barplot(x=\"Population\", y=\"Age\", data=df, order=AgeClass, lw=0, color='royalblue')\n",
    "plt.title(\"Demographic Distribution\", fontsize=20)\n",
    "plt.xlabel(\"Population\", size=14)\n",
    "plt.ylabel(\"Age\", size=14)\n",
    "plt.xticks(size=12)\n",
    "plt.yticks(size=12)\n",
    "plt.savefig(\"/Users/Pit/GitHub/DigitalEpidemiologyProject/Images/PopulationPyramid.png\", dpi=200)\n",
    "plt.show()"
   ]
  },
  {
   "cell_type": "markdown",
   "metadata": {},
   "source": [
    "## 2017"
   ]
  },
  {
   "cell_type": "code",
   "execution_count": 67,
   "metadata": {},
   "outputs": [],
   "source": [
    "# POPULATION DATA PATH \n",
    "### PIETRO 1: \"/Users/Pit/GitHub/DigitalEpidemiologyProject/Data/CSV/2017/Population/ProvincialDemographics.csv\"\n",
    "### PIETRO 2: \"/Users/pietromonticone/github/DigitalEpidemiologyProject/Data/CSV/2017/Population/ProvincialDemographics.csv\"\n",
    "### DAVIDE: r\"C:\\Users\\Utente\\Desktop\\Progetti\\Python\\DigitalEpidemiologyProject/Data/CSV/2017/Population/ProvincialDemographics.csv\"\n",
    "\n",
    "# UNDER-80 POPULATION DATA PATH \n",
    "### PIETRO 1: \"/Users/Pit/GitHub/DigitalEpidemiologyProject/Data/CSV/2017/Population/ProvincialDemographicsUnder80.csv\"\n",
    "### PIETRO 2: \"/Users/pietromonticone/github/DigitalEpidemiologyProject/Data/CSV/2017/Population/ProvincialDemographicsUnder80.csv\"\n",
    "### DAVIDE: r\"C:\\Users\\Utente\\Desktop\\Progetti\\Python\\DigitalEpidemiologyProject/Data/CSV/2017/Population/ProvincialDemographicsUnder80.csv\""
   ]
  },
  {
   "cell_type": "code",
   "execution_count": 68,
   "metadata": {},
   "outputs": [],
   "source": [
    "# Load population data \n",
    "provincial_demographics_2017 = pd.read_csv(\"/Users/Pit/GitHub/DigitalEpidemiologyProject/Data/CSV/2017/Population/ProvincialDemographics.csv\").rename(columns = {'Codice provincia': 'code', 'Provincia': 'name', 'Età': 'age'})\n",
    "# Add total population per province\n",
    "provincial_demographics_2017[\"population\"] = provincial_demographics_2017[\"Totale Maschi\"] + provincial_demographics_2017[\"Totale Femmine\"]\n",
    "# Filter under-80 population\n",
    "provincial_demographics_2017['age']=[int(i) for i in provincial_demographics_2017['age']]\n",
    "provincial_demographics_2017_under80 = provincial_demographics_2017[provincial_demographics_2017['age'] < 80]\n",
    "provincial_demographics_2017_under80.reset_index(drop=True, inplace=True)\n",
    "# Save under-80 data \n",
    "provincial_demographics_under80.to_csv('/Users/Pit/GitHub/DigitalEpidemiologyProject/Data/CSV/2017/Population/ProvincialDemographicsUnder80.csv', index=False)\n",
    "\n",
    "b = []\n",
    "for i in range(1, len(provincial_demographics_2017_under80[\"population\"]), 5):\n",
    "    b.append(sum(provincial_demographics_2017_under80[\"population\"][i:i+5]))\n",
    "    \n",
    "provincial_dict_2017 = {}\n",
    "for j in range(107):\n",
    "    final = []\n",
    "    for i in range(16):\n",
    "        final.append(b[16*j+i])\n",
    "    provincial_dict_2017[j+1] = final\n",
    "    \n",
    "x=np.zeros(16)\n",
    "for j in range(1,107):\n",
    "    for i in range(16):\n",
    "        x[i]=x[i]+provincial_dict_2017[j][i]\n",
    "\n",
    "pd.DataFrame(provincial_dict_2017).to_csv(\"/Users/Pit/GitHub/DigitalEpidemiologyProject/Data/CSV/2017/Population/AgeStratifiedProvincialPopulation.csv\",index=False)"
   ]
  },
  {
   "cell_type": "markdown",
   "metadata": {},
   "source": [
    "### Corrections"
   ]
  },
  {
   "cell_type": "code",
   "execution_count": 69,
   "metadata": {},
   "outputs": [],
   "source": [
    "provincial_dict_2017_coarse={}\n",
    "for i in range(1,108):\n",
    "    provincial_dict_2017_coarse[i]=[sum(provincial_dict_2017[i][4:6]),sum(provincial_dict_2017[i][7:10]),sum(provincial_dict_2017[i][11:16])]\n",
    "    \n",
    "provincial_dict_2020_coarse={}\n",
    "for i in range(1,108):\n",
    "    provincial_dict_2020_coarse[i]=[sum(provincial_dict_2020[i][4:6]),sum(provincial_dict_2020[i][7:10]),sum(provincial_dict_2020[i][11:16])]\n",
    "\n",
    "provincial_dict_coarse_ratio={}\n",
    "for i in range(1,108):\n",
    "    provincial_dict_coarse_ratio[i]=[x/y for x, y in zip(provincial_dict_2020_coarse[i],provincial_dict_2017_coarse[i])]"
   ]
  },
  {
   "cell_type": "code",
   "execution_count": 70,
   "metadata": {},
   "outputs": [],
   "source": [
    "pd.DataFrame(provincial_dict_coarse_ratio).to_csv(\"/Users/Pit/GitHub/DigitalEpidemiologyProject/Data/CSV/2020/Population/AgeStratifiedProvincialPopulation2020-2017.csv\",index=False)"
   ]
  }
 ],
 "metadata": {
  "kernelspec": {
   "display_name": "Python 3",
   "language": "python",
   "name": "python3"
  },
  "language_info": {
   "codemirror_mode": {
    "name": "ipython",
    "version": 3
   },
   "file_extension": ".py",
   "mimetype": "text/x-python",
   "name": "python",
   "nbconvert_exporter": "python",
   "pygments_lexer": "ipython3",
   "version": "3.8.3"
  }
 },
 "nbformat": 4,
 "nbformat_minor": 4
}
