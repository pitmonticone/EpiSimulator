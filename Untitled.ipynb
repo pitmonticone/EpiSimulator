{
 "cells": [
  {
   "cell_type": "code",
   "execution_count": 4,
   "metadata": {},
   "outputs": [],
   "source": [
    "using DataFrames, Queryverse, LightGraphs, SimpleWeightedGraphs, GraphIO, GraphPlot"
   ]
  },
  {
   "cell_type": "code",
   "execution_count": 5,
   "metadata": {},
   "outputs": [
    {
     "data": {
      "text/plain": [
       "Main.DigitalEpidemiology"
      ]
     },
     "execution_count": 5,
     "metadata": {},
     "output_type": "execute_result"
    }
   ],
   "source": [
    "Epi = include(\"/Users/Pit/GitHub/DigitalEpidemiologyProject/Notebooks/Modelling/Julia/MetapopABM/DigitalEpidemiology.jl\")"
   ]
  },
  {
   "cell_type": "code",
   "execution_count": 16,
   "metadata": {},
   "outputs": [
    {
     "name": "stderr",
     "output_type": "stream",
     "text": [
      "┌ Info: Precompiling Geodesy [0ef565a4-170c-5f04-8de2-149903a85f3d]\n",
      "└ @ Base loading.jl:1278\n"
     ]
    }
   ],
   "source": [
    "using Geodesy"
   ]
  },
  {
   "cell_type": "code",
   "execution_count": 6,
   "metadata": {},
   "outputs": [
    {
     "data": {
      "text/plain": [
       "{111, 5138} directed simple Int64 graph with Float64 weights"
      ]
     },
     "execution_count": 6,
     "metadata": {},
     "output_type": "execute_result"
    }
   ],
   "source": [
    "# Load mobility data\n",
    "mobility_data = Epi.LoadData(\"Flow1\", \"PietroMonticone1\")\n",
    "\n",
    "# Build mobility graphs \n",
    "mobility_graph = SimpleWeightedDiGraph(mobility_data[1], mobility_data[2], mobility_data[3])"
   ]
  },
  {
   "cell_type": "code",
   "execution_count": 7,
   "metadata": {},
   "outputs": [],
   "source": [
    "for i in 1:4\n",
    "    rem_vertex!(mobility_graph, 104)\n",
    "end"
   ]
  },
  {
   "cell_type": "code",
   "execution_count": 8,
   "metadata": {},
   "outputs": [
    {
     "data": {
      "text/plain": [
       "{107, 5138} directed simple Int64 graph with Float64 weights"
      ]
     },
     "execution_count": 8,
     "metadata": {},
     "output_type": "execute_result"
    }
   ],
   "source": [
    "mobility_graph"
   ]
  },
  {
   "cell_type": "code",
   "execution_count": 9,
   "metadata": {},
   "outputs": [
    {
     "data": {
      "text/html": [
       "<table class=\"data-frame\"><thead><tr><th></th><th>code</th><th>x</th><th>y</th></tr><tr><th></th><th>Float64</th><th>Float64</th><th>Float64</th></tr></thead><tbody><p>107 rows × 3 columns</p><tr><th>1</th><td>1.0</td><td>377217.0</td><td>5.00017e6</td></tr><tr><th>2</th><td>2.0</td><td>438311.0</td><td>5.04148e6</td></tr><tr><th>3</th><td>3.0</td><td>465200.0</td><td>5.04563e6</td></tr><tr><th>4</th><td>4.0</td><td>387694.0</td><td>4.92582e6</td></tr><tr><th>5</th><td>5.0</td><td>435743.0</td><td>4.96964e6</td></tr><tr><th>6</th><td>6.0</td><td>473418.0</td><td>4.96391e6</td></tr><tr><th>7</th><td>7.0</td><td>374504.0</td><td>5.06535e6</td></tr><tr><th>8</th><td>8.0</td><td>404301.0</td><td>4.8666e6</td></tr><tr><th>9</th><td>9.0</td><td>443302.0</td><td>4.90336e6</td></tr><tr><th>10</th><td>10.0</td><td>509707.0</td><td>4.92382e6</td></tr><tr><th>11</th><td>11.0</td><td>558409.0</td><td>4.89733e6</td></tr><tr><th>12</th><td>12.0</td><td>482607.0</td><td>5.07236e6</td></tr><tr><th>13</th><td>13.0</td><td>511816.0</td><td>5.08612e6</td></tr><tr><th>14</th><td>14.0</td><td>570197.0</td><td>5.12748e6</td></tr><tr><th>15</th><td>15.0</td><td>509589.0</td><td>5.03424e6</td></tr><tr><th>16</th><td>16.0</td><td>561215.0</td><td>5.07172e6</td></tr><tr><th>17</th><td>17.0</td><td>602087.0</td><td>5.06165e6</td></tr><tr><th>18</th><td>18.0</td><td>502927.0</td><td>4.99502e6</td></tr><tr><th>19</th><td>19.0</td><td>578160.0</td><td>5.00779e6</td></tr><tr><th>20</th><td>20.0</td><td>638617.0</td><td>4.9983e6</td></tr><tr><th>21</th><td>21.0</td><td>684664.0</td><td>5.1743e6</td></tr><tr><th>22</th><td>22.0</td><td>663765.0</td><td>5.11121e6</td></tr><tr><th>23</th><td>23.0</td><td>659357.0</td><td>5.03125e6</td></tr><tr><th>24</th><td>24.0</td><td>693994.0</td><td>5.06077e6</td></tr><tr><th>25</th><td>26.0</td><td>750081.0</td><td>5.07625e6</td></tr><tr><th>26</th><td>27.0</td><td>769983.0</td><td>5.04498e6</td></tr><tr><th>27</th><td>28.0</td><td>719933.0</td><td>5.02555e6</td></tr><tr><th>28</th><td>30.0</td><td>820222.0</td><td>5.12729e6</td></tr><tr><th>29</th><td>31.0</td><td>847727.0</td><td>5.08606e6</td></tr><tr><th>30</th><td>33.0</td><td>548980.0</td><td>4.96837e6</td></tr><tr><th>&vellip;</th><td>&vellip;</td><td>&vellip;</td><td>&vellip;</td></tr></tbody></table>"
      ],
      "text/latex": [
       "\\begin{tabular}{r|ccc}\n",
       "\t& code & x & y\\\\\n",
       "\t\\hline\n",
       "\t& Float64 & Float64 & Float64\\\\\n",
       "\t\\hline\n",
       "\t1 & 1.0 & 377217.0 & 5.00017e6 \\\\\n",
       "\t2 & 2.0 & 438311.0 & 5.04148e6 \\\\\n",
       "\t3 & 3.0 & 465200.0 & 5.04563e6 \\\\\n",
       "\t4 & 4.0 & 387694.0 & 4.92582e6 \\\\\n",
       "\t5 & 5.0 & 435743.0 & 4.96964e6 \\\\\n",
       "\t6 & 6.0 & 473418.0 & 4.96391e6 \\\\\n",
       "\t7 & 7.0 & 374504.0 & 5.06535e6 \\\\\n",
       "\t8 & 8.0 & 404301.0 & 4.8666e6 \\\\\n",
       "\t9 & 9.0 & 443302.0 & 4.90336e6 \\\\\n",
       "\t10 & 10.0 & 509707.0 & 4.92382e6 \\\\\n",
       "\t11 & 11.0 & 558409.0 & 4.89733e6 \\\\\n",
       "\t12 & 12.0 & 482607.0 & 5.07236e6 \\\\\n",
       "\t13 & 13.0 & 511816.0 & 5.08612e6 \\\\\n",
       "\t14 & 14.0 & 570197.0 & 5.12748e6 \\\\\n",
       "\t15 & 15.0 & 509589.0 & 5.03424e6 \\\\\n",
       "\t16 & 16.0 & 561215.0 & 5.07172e6 \\\\\n",
       "\t17 & 17.0 & 602087.0 & 5.06165e6 \\\\\n",
       "\t18 & 18.0 & 502927.0 & 4.99502e6 \\\\\n",
       "\t19 & 19.0 & 578160.0 & 5.00779e6 \\\\\n",
       "\t20 & 20.0 & 638617.0 & 4.9983e6 \\\\\n",
       "\t21 & 21.0 & 684664.0 & 5.1743e6 \\\\\n",
       "\t22 & 22.0 & 663765.0 & 5.11121e6 \\\\\n",
       "\t23 & 23.0 & 659357.0 & 5.03125e6 \\\\\n",
       "\t24 & 24.0 & 693994.0 & 5.06077e6 \\\\\n",
       "\t25 & 26.0 & 750081.0 & 5.07625e6 \\\\\n",
       "\t26 & 27.0 & 769983.0 & 5.04498e6 \\\\\n",
       "\t27 & 28.0 & 719933.0 & 5.02555e6 \\\\\n",
       "\t28 & 30.0 & 820222.0 & 5.12729e6 \\\\\n",
       "\t29 & 31.0 & 847727.0 & 5.08606e6 \\\\\n",
       "\t30 & 33.0 & 548980.0 & 4.96837e6 \\\\\n",
       "\t$\\dots$ & $\\dots$ & $\\dots$ & $\\dots$ \\\\\n",
       "\\end{tabular}\n"
      ],
      "text/plain": [
       "107×3 DataFrame\n",
       "│ Row │ code    │ x         │ y         │\n",
       "│     │ \u001b[90mFloat64\u001b[39m │ \u001b[90mFloat64\u001b[39m   │ \u001b[90mFloat64\u001b[39m   │\n",
       "├─────┼─────────┼───────────┼───────────┤\n",
       "│ 1   │ 1.0     │ 377217.0  │ 5.00017e6 │\n",
       "│ 2   │ 2.0     │ 438311.0  │ 5.04148e6 │\n",
       "│ 3   │ 3.0     │ 465200.0  │ 5.04563e6 │\n",
       "│ 4   │ 4.0     │ 387694.0  │ 4.92582e6 │\n",
       "│ 5   │ 5.0     │ 435743.0  │ 4.96964e6 │\n",
       "│ 6   │ 6.0     │ 473418.0  │ 4.96391e6 │\n",
       "│ 7   │ 7.0     │ 374504.0  │ 5.06535e6 │\n",
       "│ 8   │ 8.0     │ 404301.0  │ 4.8666e6  │\n",
       "│ 9   │ 9.0     │ 443302.0  │ 4.90336e6 │\n",
       "│ 10  │ 10.0    │ 509707.0  │ 4.92382e6 │\n",
       "⋮\n",
       "│ 97  │ 102.0   │ 1.12378e6 │ 4.29957e6 │\n",
       "│ 98  │ 110.0   │ 1.10174e6 │ 4.5828e6  │\n",
       "│ 99  │ 25.0    │ 743234.0  │ 5.13324e6 │\n",
       "│ 100 │ 88.0    │ 1.00647e6 │ 4.09973e6 │\n",
       "│ 101 │ 95.0    │ 475835.0  │ 4.4266e6  │\n",
       "│ 102 │ 77.0    │ 1.13152e6 │ 4.5065e6  │\n",
       "│ 103 │ 86.0    │ 979588.0  │ 4.17319e6 │\n",
       "│ 104 │ 101.0   │ 1.18683e6 │ 4.36666e6 │\n",
       "│ 105 │ 94.0    │ 937202.0  │ 4.62417e6 │\n",
       "│ 106 │ 57.0    │ 826057.0  │ 4.69916e6 │\n",
       "│ 107 │ 91.0    │ 531426.0  │ 4.44794e6 │"
      ]
     },
     "execution_count": 9,
     "metadata": {},
     "output_type": "execute_result"
    }
   ],
   "source": [
    "d = DataFrame(load(\"/Users/Pit/GitHub/DigitalEpidemiologyProject/Data/CSV/2020/Geospatial/ProvincialCoordinates.csv\"))"
   ]
  },
  {
   "cell_type": "code",
   "execution_count": 10,
   "metadata": {},
   "outputs": [
    {
     "data": {
      "text/html": [
       "<table class=\"data-frame\"><thead><tr><th></th><th>code</th><th>x</th><th>y</th></tr><tr><th></th><th>Float64</th><th>Float64</th><th>Float64</th></tr></thead><tbody><p>107 rows × 3 columns</p><tr><th>1</th><td>1.0</td><td>377217.0</td><td>5.00017e6</td></tr><tr><th>2</th><td>2.0</td><td>438311.0</td><td>5.04148e6</td></tr><tr><th>3</th><td>3.0</td><td>465200.0</td><td>5.04563e6</td></tr><tr><th>4</th><td>4.0</td><td>387694.0</td><td>4.92582e6</td></tr><tr><th>5</th><td>5.0</td><td>435743.0</td><td>4.96964e6</td></tr><tr><th>6</th><td>6.0</td><td>473418.0</td><td>4.96391e6</td></tr><tr><th>7</th><td>7.0</td><td>374504.0</td><td>5.06535e6</td></tr><tr><th>8</th><td>8.0</td><td>404301.0</td><td>4.8666e6</td></tr><tr><th>9</th><td>9.0</td><td>443302.0</td><td>4.90336e6</td></tr><tr><th>10</th><td>10.0</td><td>509707.0</td><td>4.92382e6</td></tr><tr><th>11</th><td>11.0</td><td>558409.0</td><td>4.89733e6</td></tr><tr><th>12</th><td>12.0</td><td>482607.0</td><td>5.07236e6</td></tr><tr><th>13</th><td>13.0</td><td>511816.0</td><td>5.08612e6</td></tr><tr><th>14</th><td>14.0</td><td>570197.0</td><td>5.12748e6</td></tr><tr><th>15</th><td>15.0</td><td>509589.0</td><td>5.03424e6</td></tr><tr><th>16</th><td>16.0</td><td>561215.0</td><td>5.07172e6</td></tr><tr><th>17</th><td>17.0</td><td>602087.0</td><td>5.06165e6</td></tr><tr><th>18</th><td>18.0</td><td>502927.0</td><td>4.99502e6</td></tr><tr><th>19</th><td>19.0</td><td>578160.0</td><td>5.00779e6</td></tr><tr><th>20</th><td>20.0</td><td>638617.0</td><td>4.9983e6</td></tr><tr><th>21</th><td>21.0</td><td>684664.0</td><td>5.1743e6</td></tr><tr><th>22</th><td>22.0</td><td>663765.0</td><td>5.11121e6</td></tr><tr><th>23</th><td>23.0</td><td>659357.0</td><td>5.03125e6</td></tr><tr><th>24</th><td>24.0</td><td>693994.0</td><td>5.06077e6</td></tr><tr><th>25</th><td>25.0</td><td>743234.0</td><td>5.13324e6</td></tr><tr><th>26</th><td>26.0</td><td>750081.0</td><td>5.07625e6</td></tr><tr><th>27</th><td>27.0</td><td>769983.0</td><td>5.04498e6</td></tr><tr><th>28</th><td>28.0</td><td>719933.0</td><td>5.02555e6</td></tr><tr><th>29</th><td>29.0</td><td>730591.0</td><td>4.98834e6</td></tr><tr><th>30</th><td>30.0</td><td>820222.0</td><td>5.12729e6</td></tr><tr><th>&vellip;</th><td>&vellip;</td><td>&vellip;</td><td>&vellip;</td></tr></tbody></table>"
      ],
      "text/latex": [
       "\\begin{tabular}{r|ccc}\n",
       "\t& code & x & y\\\\\n",
       "\t\\hline\n",
       "\t& Float64 & Float64 & Float64\\\\\n",
       "\t\\hline\n",
       "\t1 & 1.0 & 377217.0 & 5.00017e6 \\\\\n",
       "\t2 & 2.0 & 438311.0 & 5.04148e6 \\\\\n",
       "\t3 & 3.0 & 465200.0 & 5.04563e6 \\\\\n",
       "\t4 & 4.0 & 387694.0 & 4.92582e6 \\\\\n",
       "\t5 & 5.0 & 435743.0 & 4.96964e6 \\\\\n",
       "\t6 & 6.0 & 473418.0 & 4.96391e6 \\\\\n",
       "\t7 & 7.0 & 374504.0 & 5.06535e6 \\\\\n",
       "\t8 & 8.0 & 404301.0 & 4.8666e6 \\\\\n",
       "\t9 & 9.0 & 443302.0 & 4.90336e6 \\\\\n",
       "\t10 & 10.0 & 509707.0 & 4.92382e6 \\\\\n",
       "\t11 & 11.0 & 558409.0 & 4.89733e6 \\\\\n",
       "\t12 & 12.0 & 482607.0 & 5.07236e6 \\\\\n",
       "\t13 & 13.0 & 511816.0 & 5.08612e6 \\\\\n",
       "\t14 & 14.0 & 570197.0 & 5.12748e6 \\\\\n",
       "\t15 & 15.0 & 509589.0 & 5.03424e6 \\\\\n",
       "\t16 & 16.0 & 561215.0 & 5.07172e6 \\\\\n",
       "\t17 & 17.0 & 602087.0 & 5.06165e6 \\\\\n",
       "\t18 & 18.0 & 502927.0 & 4.99502e6 \\\\\n",
       "\t19 & 19.0 & 578160.0 & 5.00779e6 \\\\\n",
       "\t20 & 20.0 & 638617.0 & 4.9983e6 \\\\\n",
       "\t21 & 21.0 & 684664.0 & 5.1743e6 \\\\\n",
       "\t22 & 22.0 & 663765.0 & 5.11121e6 \\\\\n",
       "\t23 & 23.0 & 659357.0 & 5.03125e6 \\\\\n",
       "\t24 & 24.0 & 693994.0 & 5.06077e6 \\\\\n",
       "\t25 & 25.0 & 743234.0 & 5.13324e6 \\\\\n",
       "\t26 & 26.0 & 750081.0 & 5.07625e6 \\\\\n",
       "\t27 & 27.0 & 769983.0 & 5.04498e6 \\\\\n",
       "\t28 & 28.0 & 719933.0 & 5.02555e6 \\\\\n",
       "\t29 & 29.0 & 730591.0 & 4.98834e6 \\\\\n",
       "\t30 & 30.0 & 820222.0 & 5.12729e6 \\\\\n",
       "\t$\\dots$ & $\\dots$ & $\\dots$ & $\\dots$ \\\\\n",
       "\\end{tabular}\n"
      ],
      "text/plain": [
       "107×3 DataFrame\n",
       "│ Row │ code    │ x         │ y         │\n",
       "│     │ \u001b[90mFloat64\u001b[39m │ \u001b[90mFloat64\u001b[39m   │ \u001b[90mFloat64\u001b[39m   │\n",
       "├─────┼─────────┼───────────┼───────────┤\n",
       "│ 1   │ 1.0     │ 377217.0  │ 5.00017e6 │\n",
       "│ 2   │ 2.0     │ 438311.0  │ 5.04148e6 │\n",
       "│ 3   │ 3.0     │ 465200.0  │ 5.04563e6 │\n",
       "│ 4   │ 4.0     │ 387694.0  │ 4.92582e6 │\n",
       "│ 5   │ 5.0     │ 435743.0  │ 4.96964e6 │\n",
       "│ 6   │ 6.0     │ 473418.0  │ 4.96391e6 │\n",
       "│ 7   │ 7.0     │ 374504.0  │ 5.06535e6 │\n",
       "│ 8   │ 8.0     │ 404301.0  │ 4.8666e6  │\n",
       "│ 9   │ 9.0     │ 443302.0  │ 4.90336e6 │\n",
       "│ 10  │ 10.0    │ 509707.0  │ 4.92382e6 │\n",
       "⋮\n",
       "│ 97  │ 97.0    │ 529908.0  │ 5.08344e6 │\n",
       "│ 98  │ 98.0    │ 545520.0  │ 5.00879e6 │\n",
       "│ 99  │ 99.0    │ 776255.0  │ 4.87001e6 │\n",
       "│ 100 │ 100.0   │ 667950.0  │ 4.86862e6 │\n",
       "│ 101 │ 101.0   │ 1.18683e6 │ 4.36666e6 │\n",
       "│ 102 │ 102.0   │ 1.12378e6 │ 4.29957e6 │\n",
       "│ 103 │ 103.0   │ 449159.0  │ 5.10422e6 │\n",
       "│ 104 │ 108.0   │ 521084.0  │ 5.05315e6 │\n",
       "│ 105 │ 109.0   │ 872453.0  │ 4.78199e6 │\n",
       "│ 106 │ 110.0   │ 1.10174e6 │ 4.5828e6  │\n",
       "│ 107 │ 111.0   │ 495221.0  │ 4.36432e6 │"
      ]
     },
     "execution_count": 10,
     "metadata": {},
     "output_type": "execute_result"
    }
   ],
   "source": [
    "d = sort!(d, :code)"
   ]
  },
  {
   "cell_type": "code",
   "execution_count": 24,
   "metadata": {},
   "outputs": [
    {
     "ename": "LoadError",
     "evalue": "MethodError: no method matching gplot(::SimpleWeightedDiGraph{Int64,Float64}, ::Array{Float64,1}, ::Array{Float64,1}; edgelinewidth=0.2, size=(800, 800))\nClosest candidates are:\n  gplot(::AbstractGraph{T}, ::Array{R,1}, ::Array{R,1}; nodelabel, nodelabelc, nodelabelsize, NODELABELSIZE, nodelabeldist, nodelabelangleoffset, edgelabel, edgelabelc, edgelabelsize, EDGELABELSIZE, edgestrokec, edgelinewidth, EDGELINEWIDTH, edgelabeldistx, edgelabeldisty, nodesize, NODESIZE, nodefillc, nodestrokec, nodestrokelw, arrowlengthfrac, arrowangleoffset, linetype, outangle) where {T<:Integer, R<:Real} at /Users/Pit/.julia/packages/GraphPlot/D8Zub/src/plot.jl:88 got unsupported keyword argument \"size\"\n  gplot(::Any; layout, keyargs...) at /Users/Pit/.julia/packages/GraphPlot/D8Zub/src/plot.jl:224",
     "output_type": "error",
     "traceback": [
      "MethodError: no method matching gplot(::SimpleWeightedDiGraph{Int64,Float64}, ::Array{Float64,1}, ::Array{Float64,1}; edgelinewidth=0.2, size=(800, 800))\nClosest candidates are:\n  gplot(::AbstractGraph{T}, ::Array{R,1}, ::Array{R,1}; nodelabel, nodelabelc, nodelabelsize, NODELABELSIZE, nodelabeldist, nodelabelangleoffset, edgelabel, edgelabelc, edgelabelsize, EDGELABELSIZE, edgestrokec, edgelinewidth, EDGELINEWIDTH, edgelabeldistx, edgelabeldisty, nodesize, NODESIZE, nodefillc, nodestrokec, nodestrokelw, arrowlengthfrac, arrowangleoffset, linetype, outangle) where {T<:Integer, R<:Real} at /Users/Pit/.julia/packages/GraphPlot/D8Zub/src/plot.jl:88 got unsupported keyword argument \"size\"\n  gplot(::Any; layout, keyargs...) at /Users/Pit/.julia/packages/GraphPlot/D8Zub/src/plot.jl:224",
      "",
      "Stacktrace:",
      " [1] kwerr(::NamedTuple{(:edgelinewidth, :size),Tuple{Float64,Tuple{Int64,Int64}}}, ::Function, ::SimpleWeightedDiGraph{Int64,Float64}, ::Array{Float64,1}, ::Array{Float64,1}) at ./error.jl:157",
      " [2] top-level scope at In[24]:1",
      " [3] include_string(::Function, ::Module, ::String, ::String) at ./loading.jl:1091"
     ]
    }
   ],
   "source": [
    "gplot(mobility_graph, d.x, -d.y, edgelinewidth=0.2, size = (800, 800))"
   ]
  },
  {
   "cell_type": "code",
   "execution_count": null,
   "metadata": {},
   "outputs": [],
   "source": [
    "exposed_fraction(x) = cgrad(:inferno)[count(a.status == :E for a in x) / length(x)]\n",
    "\t\n",
    "\tmodel1 = initialize_model(provincial_pops, age_provincial_pops, contact_graph, mobility_graph,h, I0)\n",
    "\n",
    "\tg = model1.space.graph\n",
    "\tweight_matrix = LightGraphs.weights(g)\n",
    "\tfor i in 1:nv(g)\n",
    "\t\tweight_matrix[i,i] = 0\n",
    "\tend\n",
    "\n",
    "\tedgewidthsdict = Dict()\n",
    "\tfor node in 1:nv(g)\n",
    "\t\tnbs = neighbors(g,node)\n",
    "\t\tfor nb in nbs\n",
    "\t\t\tedgewidthsdict[(node,nb)] = weight_matrix[node,nb] / sum([outneighbor for outneighbor in weight_matrix[node,:]])\n",
    "\t\tend\n",
    "\tend\n",
    "\n",
    "\tedgewidthsf(s,d,w) = edgewidthsdict[(s,d)]*3\n",
    "\n",
    "\tplotargs = (node_size=0.15, method=:circular, linealpha=0.4, \n",
    "\t\t\t\taspect_ratio = 1, size = (800, 800), showaxis = false)\n",
    "\n",
    "\tplotargs = merge(plotargs, (edgewidth = edgewidthsf,))\n",
    "\n",
    "\tplotabm(model1; ac=exposed_fraction, plotargs...)"
   ]
  }
 ],
 "metadata": {
  "kernelspec": {
   "display_name": "Julia 1.5.0",
   "language": "julia",
   "name": "julia-1.5"
  },
  "language_info": {
   "file_extension": ".jl",
   "mimetype": "application/julia",
   "name": "julia",
   "version": "1.5.0"
  }
 },
 "nbformat": 4,
 "nbformat_minor": 4
}
