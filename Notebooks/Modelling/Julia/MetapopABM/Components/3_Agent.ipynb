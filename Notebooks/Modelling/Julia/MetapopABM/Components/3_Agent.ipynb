{
 "cells": [
  {
   "cell_type": "markdown",
   "metadata": {},
   "source": [
    "## Agent Type"
   ]
  },
  {
   "cell_type": "code",
   "execution_count": 12,
   "metadata": {},
   "outputs": [],
   "source": [
    "# Patient Definition\n",
    "@everywhere mutable struct Patient <: AbstractAgent\n",
    "    id::Int                   # identity code ∈ ℕ               \n",
    "    pos::Int                  # location node ∈ ℕ \n",
    "    age_group::Int            # age group ∈ [1,16] ⊂ ℕ\n",
    "    residence::Int            # residence node ∈ ℕ \n",
    "    work_pos::Int             # workplace node ∈ ℕ \n",
    "    household::Array          # household community\n",
    "    workplace::Array          # workplace community\n",
    "    status::Symbol            # infection status ∈ {S,E,I_a,I_p,I_s,H,ICU,R,D}\n",
    "    diagnosis::Symbol         # ∈ {O,N,P,W,R} \n",
    "    status_delay_left::Int    # delay counter for infection status\n",
    "    diagnosis_delay_left::Int # delay counter for diagnosis \n",
    "    contact_tracing_app::Bool # Download: {True, False}\n",
    "end;\n",
    "\n",
    "    #prescription::Symbol # ∈ {O, Q, ICU}\n",
    "    #serological\n",
    "    #contact-tracing\n",
    "    #fear, risk aversion -> individual-based social distancing "
   ]
  }
 ],
 "metadata": {
  "kernelspec": {
   "display_name": "Julia 1.5.2",
   "language": "julia",
   "name": "julia-1.5"
  },
  "language_info": {
   "file_extension": ".jl",
   "mimetype": "application/julia",
   "name": "julia",
   "version": "1.5.2"
  }
 },
 "nbformat": 4,
 "nbformat_minor": 4
}
