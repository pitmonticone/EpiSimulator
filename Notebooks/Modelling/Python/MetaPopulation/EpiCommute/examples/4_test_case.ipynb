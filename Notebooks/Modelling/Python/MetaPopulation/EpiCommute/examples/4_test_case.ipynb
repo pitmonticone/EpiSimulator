{
 "cells": [
  {
   "cell_type": "markdown",
   "metadata": {},
   "source": [
    "# 4 Test case\n",
    "\n",
    "This notebook runs a basic parametrization of the model.\n",
    "\n",
    "We simulate an SIR epidemic in a system of M subpopulations.\n",
    "\n"
   ]
  },
  {
   "cell_type": "code",
   "execution_count": 1,
   "metadata": {},
   "outputs": [],
   "source": [
    "import numpy as np\n",
    "\n",
    "from EpiCommute import SIRModel\n",
    "\n",
    "%matplotlib widget"
   ]
  },
  {
   "cell_type": "markdown",
   "metadata": {},
   "source": [
    "## Initialize model\n",
    "\n",
    "Here we set the parameters of the model, and use some dummy data"
   ]
  },
  {
   "cell_type": "code",
   "execution_count": 2,
   "metadata": {},
   "outputs": [
    {
     "name": "stdout",
     "output_type": "stream",
     "text": [
      "[[192  96  72]\n",
      " [ 45 135   0]\n",
      " [ 20   0 100]]\n",
      "[120   0   0]\n",
      "[0.18181818 0.         0.        ]\n"
     ]
    }
   ],
   "source": [
    "M = 20    # Number of subpopulations\n",
    "\n",
    "# Initialize a random mobility matrix\n",
    "mobility = _F = np.array([\n",
    "            [ 8, 2, 1 ],\n",
    "            [ 4, 6, 0 ],\n",
    "            [ 3, 0, 5 ],\n",
    "        ],dtype=float)\n",
    "mobility = mobility.T\n",
    "\n",
    "subpopulation_sizes = _Npop_home = np.array([360.,180.,120.])\n",
    "T_max = 6\n",
    "dt = 0.1\n",
    "dt_save = 1.0\n",
    "# Initialize the model\n",
    "model = SIRModel(\n",
    "            mobility,\n",
    "            subpopulation_sizes,\n",
    "            outbreak_source=0, # random outbreak location\n",
    "            dt=dt,                   # simulation time interval\n",
    "            dt_save=dt_save,                # time interval when to save observables\n",
    "            I0=120,                    # number of initial infected\n",
    "            VERBOSE=False,              # print verbose output\n",
    "            mu=2,\n",
    "            R0=2,\n",
    "            T_max = T_max,\n",
    "            save_observables=['epi_total'],\n",
    "        )\n",
    "model.reset_initialize_simulation()\n",
    "print(model.population)\n",
    "print(model.I.sum(axis=1))\n",
    "print(model.I.sum(axis=1)/subpopulation_sizes.sum())"
   ]
  },
  {
   "cell_type": "markdown",
   "metadata": {},
   "source": [
    "## Run simulation"
   ]
  },
  {
   "cell_type": "code",
   "execution_count": 3,
   "metadata": {},
   "outputs": [
    {
     "name": "stdout",
     "output_type": "stream",
     "text": [
      "[[63.56 32.58 23.86]\n",
      " [ 0.    0.    0.  ]\n",
      " [ 0.    0.    0.  ]]\n",
      "[0.66666667 0.         0.        ] [0.66666667 0.         0.        ]\n",
      "[0.49805447 0.27705628 0.27906977] [0.49805447 0.27705628 0.27906977]\n",
      "[[1.16472114 0.94372294 0.94573643]\n",
      " [0.49805447 0.27705628 0.27906977]\n",
      " [0.49805447 0.27705628 0.27906977]] [[1.16472114 0.94372294 0.94573643]\n",
      " [0.49805447 0.27705628 0.27906977]\n",
      " [0.49805447 0.27705628 0.27906977]]\n"
     ]
    }
   ],
   "source": [
    "Nmeas = 100\n",
    "I = np.zeros_like(model.I)\n",
    "for meas in range(Nmeas):\n",
    "    model.reset_initialize_simulation()\n",
    "    I += model.I\n",
    "print(I/Nmeas)\n",
    "\n",
    "_I0 = np.array([\n",
    "    [ 64, 0., 0.],\n",
    "    [ 32, 0., 0.],\n",
    "    [ 24, 0., 0.],\n",
    "    ]).T\n",
    "_S0 = np.array([\n",
    "        [ 128, 45, 20 ],\n",
    "        [ 64, 135, 0. ],\n",
    "        [ 48, 0., 100 ],\n",
    "    ]).T\n",
    "_R0 = np.zeros_like(_S0)\n",
    "\n",
    "_beta = 4.\n",
    "_lambda_home = 0.5*_beta*np.array([ 1/3., 0, 0])\n",
    "_lambda_work = 0.5*_beta*np.array([ 64/257, 32/231, 24/172 ])\n",
    "\n",
    "_lambda_ij = 0.5*_beta*np.array([\n",
    "        [1/3+64/257, 64/257, 64/257,],\n",
    "        [1/3+32/231, 32/231, 32/231,],\n",
    "        [1/3+24/172, 24/172, 24/172,]\n",
    "    ]).T\n",
    "\n",
    "S, I, R = _S0, _I0, _R0\n",
    "# Home force of infection\n",
    "I_ij_sumj = _I0.sum(axis=1)\n",
    "N_ij_sumj = _S0.sum(axis=1) + _I0.sum(axis=1) + _R0.sum(axis=1)\n",
    "lambda_home = 0.5 * model.beta * I_ij_sumj / N_ij_sumj\n",
    "# Work force of infection\n",
    "I_ji_sumj = _I0.sum(axis=0)\n",
    "N_ji_sumj = _S0.sum(axis=0) + _I0.sum(axis=0) + _R0.sum(axis=0)\n",
    "lambda_work = 0.5 * model.beta * I_ji_sumj / N_ji_sumj\n",
    "\n",
    "print(lambda_home, _lambda_home)\n",
    "print(lambda_work, _lambda_work)\n",
    "\n",
    "M = S.shape[0]\n",
    "lambda_ij = np.zeros_like(S)\n",
    "for i in range(M):\n",
    "    lambda_ij[i] = lambda_home[i] + lambda_work\n",
    "print(lambda_ij, _lambda_ij)"
   ]
  },
  {
   "cell_type": "code",
   "execution_count": 4,
   "metadata": {
    "tags": []
   },
   "outputs": [],
   "source": [
    "result = model.run_simulation()"
   ]
  },
  {
   "cell_type": "markdown",
   "metadata": {},
   "source": [
    "## Show results"
   ]
  },
  {
   "cell_type": "code",
   "execution_count": 5,
   "metadata": {},
   "outputs": [],
   "source": [
    "import matplotlib\n",
    "import matplotlib.pyplot as plt\n",
    "matplotlib.rc('figure', dpi=200)"
   ]
  },
  {
   "cell_type": "markdown",
   "metadata": {},
   "source": [
    "### Epidemic curve"
   ]
  },
  {
   "cell_type": "code",
   "execution_count": 6,
   "metadata": {},
   "outputs": [
    {
     "data": {
      "application/vnd.jupyter.widget-view+json": {
       "model_id": "463dcd9ec6e54c06b12dd292acb61f66",
       "version_major": 2,
       "version_minor": 0
      },
      "text/plain": [
       "Canvas(toolbar=Toolbar(toolitems=[('Home', 'Reset original view', 'home', 'home'), ('Back', 'Back to previous …"
      ]
     },
     "metadata": {},
     "output_type": "display_data"
    },
    {
     "name": "stdout",
     "output_type": "stream",
     "text": [
      "[0.18181818181818182, 0.24848484848484848, 0.11969696969696969, 0.024242424242424242, 0.004545454545454545, 0.0, 0.0]\n"
     ]
    }
   ],
   "source": [
    "figure = plt.figure(figsize=(3.5,2))\n",
    "plt.plot(result['t'], result['S_total'], label='S', color='purple')\n",
    "plt.plot(result['t'], result['I_total'], label='I', color='firebrick')\n",
    "plt.plot(result['t'], result['R_total'], label='R', color='k')\n",
    "plt.legend(frameon=False, loc='center right')\n",
    "plt.xlabel(\"time\")\n",
    "plt.ylabel(\"compartment\")\n",
    "plt.show()\n",
    "print(result['I_total'])"
   ]
  },
  {
   "cell_type": "markdown",
   "metadata": {},
   "source": [
    "### Arrival times\n",
    "\n",
    "The arrival time of the disease in the subpopulations"
   ]
  },
  {
   "cell_type": "code",
   "execution_count": null,
   "metadata": {
    "tags": []
   },
   "outputs": [],
   "source": []
  },
  {
   "cell_type": "code",
   "execution_count": 7,
   "metadata": {},
   "outputs": [],
   "source": [
    "N_meas = 1000\n",
    "all_frank_I = np.zeros_like(result['I_total'])\n",
    "all_frank_R = np.zeros_like(result['R_total'])\n",
    "for meas in range(N_meas):\n",
    "    result = model.run_simulation()\n",
    "    all_frank_I += np.array(result['I_total']) / N_meas\n",
    "    all_frank_R += np.array(result['R_total']) / N_meas"
   ]
  },
  {
   "cell_type": "code",
   "execution_count": 8,
   "metadata": {},
   "outputs": [],
   "source": [
    "from CommuteSIR.commute_sir import CommuteSIR\n",
    "\n",
    "_beta = 4.\n",
    "_mu = 2.\n",
    "\n",
    "_F = np.array([\n",
    "            [ 8, 2, 1 ],\n",
    "            [ 4, 6, 0 ],\n",
    "            [ 3, 0, 5 ],\n",
    "        ],dtype=float)\n",
    "\n",
    "model_kwargs = {\n",
    "                'flux_matrix': _F,\n",
    "                'population_numbers': np.array([360.,180.,120.]),\n",
    "                'infection_rate': _beta,\n",
    "                'recovery_rate': _mu,\n",
    "                }\n",
    "init_kwargs = {\n",
    "                    'outbreak_location': 0,\n",
    "                    'i0': 120,\n",
    "                    'initial_condition_is_integer_number': True\n",
    "            }\n",
    "\n",
    "model2 = CommuteSIR(**model_kwargs)\n",
    "model2.set_initial_conditions(**init_kwargs)\n",
    "t = np.linspace(0,T_max,int(T_max/dt_save)+1)\n",
    "all_ben_I = np.zeros_like(t)\n",
    "all_ben_R = np.zeros_like(t)\n",
    "for meas in range(N_meas):\n",
    "    res = model2.simulate(t,dt=0.1)\n",
    "    res = res.reshape(model2.y_shape + [len(t)])\n",
    "    all_ben_I += res[:,:,1,:].sum(axis=0).sum(axis=0) / N_meas\n",
    "    all_ben_R += res[:,:,2,:].sum(axis=0).sum(axis=0) / N_meas"
   ]
  },
  {
   "cell_type": "code",
   "execution_count": 9,
   "metadata": {},
   "outputs": [
    {
     "data": {
      "application/vnd.jupyter.widget-view+json": {
       "model_id": "dbe74c4e62e14b14acc3d990b4d13775",
       "version_major": 2,
       "version_minor": 0
      },
      "text/plain": [
       "Canvas(toolbar=Toolbar(toolitems=[('Home', 'Reset original view', 'home', 'home'), ('Back', 'Back to previous …"
      ]
     },
     "metadata": {},
     "output_type": "display_data"
    },
    {
     "name": "stdout",
     "output_type": "stream",
     "text": [
      "0.18181818181818182\n"
     ]
    }
   ],
   "source": [
    "figure = plt.figure(figsize=(3.5,2))\n",
    "plt.plot(t, all_frank_I, label='I', color='firebrick')\n",
    "plt.plot(t, all_ben_I/_Npop_home.sum(), ':', lw=2,label='I', color='k')\n",
    "print(120/(360+180+120))\n",
    "plt.legend(frameon=False, loc='center right')\n",
    "plt.xlabel(\"time\")\n",
    "plt.ylabel(\"compartment\")\n",
    "plt.show()"
   ]
  },
  {
   "cell_type": "code",
   "execution_count": 10,
   "metadata": {},
   "outputs": [
    {
     "data": {
      "application/vnd.jupyter.widget-view+json": {
       "model_id": "1989d119240147de86e2aa6935b7a221",
       "version_major": 2,
       "version_minor": 0
      },
      "text/plain": [
       "Canvas(toolbar=Toolbar(toolitems=[('Home', 'Reset original view', 'home', 'home'), ('Back', 'Back to previous …"
      ]
     },
     "metadata": {},
     "output_type": "display_data"
    }
   ],
   "source": [
    "figure = plt.figure(figsize=(3.5,2))\n",
    "plt.plot(t, all_frank_R, label='R', color='firebrick')\n",
    "plt.plot(t, all_ben_R/_Npop_home.sum(), ':', lw=2,label='I', color='k')\n",
    "plt.legend(frameon=False, loc='center right')\n",
    "plt.xlabel(\"time\")\n",
    "plt.ylabel(\"compartment\")\n",
    "plt.show()"
   ]
  },
  {
   "cell_type": "code",
   "execution_count": null,
   "metadata": {},
   "outputs": [],
   "source": []
  }
 ],
 "metadata": {
  "kernelspec": {
   "display_name": "Python 3",
   "language": "python",
   "name": "python3"
  },
  "language_info": {
   "codemirror_mode": {
    "name": "ipython",
    "version": 3
   },
   "file_extension": ".py",
   "mimetype": "text/x-python",
   "name": "python",
   "nbconvert_exporter": "python",
   "pygments_lexer": "ipython3",
   "version": "3.7.8"
  },
  "toc": {
   "base_numbering": 1,
   "nav_menu": {},
   "number_sections": false,
   "sideBar": true,
   "skip_h1_title": false,
   "title_cell": "Table of Contents",
   "title_sidebar": "Contents",
   "toc_cell": false,
   "toc_position": {},
   "toc_section_display": true,
   "toc_window_display": false
  }
 },
 "nbformat": 4,
 "nbformat_minor": 4
}
