{
 "cells": [
  {
   "cell_type": "markdown",
   "metadata": {},
   "source": [
    "# Metapopulation Agent-Based SEIR Model\n",
    "\n",
    "## Framework \n",
    "* Data collection and wrangling in Python \n",
    "* Modelling in Julia "
   ]
  },
  {
   "cell_type": "markdown",
   "metadata": {},
   "source": [
    "## Modules"
   ]
  },
  {
   "cell_type": "code",
   "execution_count": 1,
   "metadata": {},
   "outputs": [],
   "source": [
    "# Data Management \n",
    "using DataFrames, DataFramesMeta, DrWatson, Queryverse\n",
    "# Statistics\n",
    "using Random, StatsBase, Distributions\n",
    "# Graphs \n",
    "using LightGraphs, SimpleWeightedGraphs, GraphIO, GraphPlot\n",
    "# Modelling\n",
    "using Agents\n",
    "# Numerical Computation \n",
    "using LinearAlgebra\n",
    "# Data Visualization\n",
    "using Plots, AgentsPlots, PlotThemes\n",
    "# Python Interface\n",
    "###using PyCall \n",
    "###nx = pyimport(\"networkx\");"
   ]
  },
  {
   "cell_type": "markdown",
   "metadata": {},
   "source": [
    "## Data "
   ]
  },
  {
   "cell_type": "markdown",
   "metadata": {},
   "source": [
    "### Administrative"
   ]
  },
  {
   "cell_type": "code",
   "execution_count": 2,
   "metadata": {},
   "outputs": [],
   "source": [
    "### load(\"/Users/pietromonticone/github/DigitalEpidemiologyProject/Data/CSV/2020/??/Provinces.csv\");"
   ]
  },
  {
   "cell_type": "markdown",
   "metadata": {},
   "source": [
    "### Population "
   ]
  },
  {
   "cell_type": "code",
   "execution_count": 3,
   "metadata": {},
   "outputs": [],
   "source": [
    "population_data = DataFrame(load(\"/Users/Pit/GitHub/DigitalEpidemiologyProject/Data/CSV/2020/ProvincialPopulation.csv\"));\n",
    "age_population_data = DataFrame(load(\"/Users/Pit/GitHub/DigitalEpidemiologyProject/Data/CSV/2020/AgeStratifiedProvincialPopulation.csv\"));\n",
    "\n",
    "# ADD POPULATION DATA PATHS \n",
    "### PIETRO1: \"/Users/Pit/GitHub/DigitalEpidemiologyProject/Data/CSV/2020/ProvincialPopulation.csv\"\n",
    "### PIETRO2: \"/Users/pietromonticone/github/DigitalEpidemiologyProject/Data/CSV/2020/ProvincialPopulation.csv\"\n",
    "\n",
    "# ADD AGE-STRATIFIED POPULATION DATA PATHS \n",
    "### PIETRO1: \"/Users/Pit/GitHub/DigitalEpidemiologyProject/Data/CSV/2020/AgeStratifiedProvincialPopulation.csv\"\n",
    "### PIETRO2: \"/Users/pietromonticone/github/DigitalEpidemiologyProject/Data/CSV/2020/AgeStratifiedProvincialPopulation.csv\""
   ]
  },
  {
   "cell_type": "markdown",
   "metadata": {},
   "source": [
    "### Contact "
   ]
  },
  {
   "cell_type": "code",
   "execution_count": 4,
   "metadata": {},
   "outputs": [],
   "source": [
    "# Load contact data\n",
    "contact_data = DataFrame(load(\"/Users/Pit/GitHub/DigitalEpidemiologyProject/Data/CSV/2020/ContactEdgeList.csv\"))\n",
    "# Build contact graph \n",
    "contact_graph = SimpleWeightedDiGraph(contact_data[1].+1, contact_data[2].+1, contact_data[3]);\n",
    "\n",
    "# ADD CONTACT DATA PATHS \n",
    "### PIETRO1: \"/Users/Pit/GitHub/DigitalEpidemiologyProject/Data/CSV/2020/ContactEdgeList.csv\"\n",
    "### PIETRO2: \"/Users/pietromonticone/github/DigitalEpidemiologyProject/Data/CSV/2020/ContactEdgeList.csv\""
   ]
  },
  {
   "cell_type": "markdown",
   "metadata": {},
   "source": [
    "### Mobility"
   ]
  },
  {
   "cell_type": "code",
   "execution_count": 5,
   "metadata": {},
   "outputs": [],
   "source": [
    "# Load mobility data\n",
    "mobility_data = DataFrame(load(\"/Users/Pit/GitHub/DigitalEpidemiologyProject/Data/CSV/2020/MobilityFlow.csv\"))\n",
    "# Build mobility graph \n",
    "mobility_graph = SimpleWeightedDiGraph(mobility_data[1], mobility_data[2], mobility_data[3])\n",
    "\n",
    "# Remove the 104th node: provincial code doesn't exist\n",
    "rem_vertex!(mobility_graph, 104)\n",
    "# Remove the 105th node: provincial code doesn't exist\n",
    "rem_vertex!(mobility_graph, 104)\n",
    "# Remove the 106th node: provincial code doesn't exist\n",
    "rem_vertex!(mobility_graph, 104)\n",
    "# Remove the 107th node: provincial code doesn't exist\n",
    "rem_vertex!(mobility_graph, 104);\n",
    "\n",
    "# ADD MOBILITY DATA PATHS \n",
    "### PIETRO1: \"/Users/Pit/GitHub/DigitalEpidemiologyProject/Data/CSV/2020/MobilityFlow.csv\"\n",
    "### PIETRO2: \"/Users/pietromonticone/github/DigitalEpidemiologyProject/Data/CSV/2020/MobilityFlow.csv\""
   ]
  },
  {
   "cell_type": "markdown",
   "metadata": {},
   "source": [
    "## Agent Type "
   ]
  },
  {
   "cell_type": "code",
   "execution_count": 6,
   "metadata": {},
   "outputs": [],
   "source": [
    "# Voter Definition\n",
    "mutable struct Patient <: AbstractAgent\n",
    "    id::Int          # identity code ∈ ℕ               \n",
    "    pos::Int         # location node ∈ ℕ \n",
    "    age_group::Int  # age group ∈ [1,16] ⊂ ℕ\n",
    "    home::Int        # household node ∈ ℕ\n",
    "    #work::Int       # workplace node ∈ ℕ\n",
    "    status::Symbol   # ∈ {S,E,I,R}\n",
    "end;"
   ]
  },
  {
   "cell_type": "markdown",
   "metadata": {},
   "source": [
    "## Behaviors"
   ]
  },
  {
   "cell_type": "code",
   "execution_count": 7,
   "metadata": {},
   "outputs": [],
   "source": [
    "function migrate!(agent, model)\n",
    "    source = agent.pos\n",
    "    x = [outneighbor for outneighbor in LightGraphs.weights(model.space.graph)[source,:]]\n",
    "    #outneighbors = node_neighbors(agent, model; neighbor_type=:out)\n",
    "    d = DiscreteNonParametric(1:(model.M), x./sum(x))\n",
    "    target = rand(d)\n",
    "    if target ≠ source\n",
    "        move_agent!(agent, target, model)\n",
    "    end\n",
    "end\n",
    "\n",
    "function agent_step!(agent, model)\n",
    "    migrate!(agent, model)\n",
    "    #contact!(agent, model)\n",
    "    #transmit!(agent, model)\n",
    "    #update!(agent, model)\n",
    "    #recover_or_die!(agent, model)\n",
    "end;"
   ]
  },
  {
   "cell_type": "markdown",
   "metadata": {},
   "source": [
    "## Parameters"
   ]
  },
  {
   "cell_type": "code",
   "execution_count": 8,
   "metadata": {},
   "outputs": [
    {
     "data": {
      "text/plain": [
       "16"
      ]
     },
     "execution_count": 8,
     "metadata": {},
     "output_type": "execute_result"
    }
   ],
   "source": [
    "# Populations\n",
    "provincial_pops = round.(Int, population_data.population./2000);      # provincial subpopulations\n",
    "age_provincial_pops = round.(Int, age_population_data./2000);         # age-stratified provincial subpopulations\n",
    "N = sum(provincial_pops)             # number of agents\n",
    "M = length(provincial_pops)          # number of subpopulations\n",
    "K = length(age_provincial_pops[1])   # number of age groups (16)"
   ]
  },
  {
   "cell_type": "code",
   "execution_count": 9,
   "metadata": {},
   "outputs": [
    {
     "data": {
      "text/plain": [
       "0.1"
      ]
     },
     "execution_count": 9,
     "metadata": {},
     "output_type": "execute_result"
    }
   ],
   "source": [
    "# Transition rates \n",
    "α = 0.1    # S -> E\n",
    "β = 0.1    # E -> I\n",
    "γ = 0.1    # I -> R"
   ]
  },
  {
   "cell_type": "code",
   "execution_count": 10,
   "metadata": {},
   "outputs": [
    {
     "data": {
      "text/plain": [
       "3"
      ]
     },
     "execution_count": 10,
     "metadata": {},
     "output_type": "execute_result"
    }
   ],
   "source": [
    "# Initial conditions \n",
    "I0 = round(Int, N/10000)"
   ]
  },
  {
   "cell_type": "markdown",
   "metadata": {},
   "source": [
    "## Model"
   ]
  },
  {
   "cell_type": "code",
   "execution_count": 11,
   "metadata": {},
   "outputs": [],
   "source": [
    "# Model initialization \n",
    "function initialize_model(provincial_pops::Array{Int,1}, age_provincial_pops::DataFrame,\n",
    "                          contact_graph::SimpleWeightedDiGraph{Int64,Float64},\n",
    "                          mobility_graph::SimpleWeightedDiGraph{Int64,Float64}, \n",
    "                          α::Real, β::Real, γ::Real,\n",
    "                          I0)\n",
    "    # Set the total number of agents\n",
    "    N = sum(provincial_pops)\n",
    "    # Set the number of subpopulations\n",
    "    M = length(provincial_pops)\n",
    "    # Set the number of age groups \n",
    "    K = length(age_provincial_pops[1]) # 16 age classes \n",
    "    # Initialize id \n",
    "    id = 0    \n",
    "    \n",
    "    # Define the dictionary of model properties\n",
    "    properties = @dict(contact_graph, \n",
    "                       provincial_pops, age_provincial_pops,\n",
    "                       α, β, γ, I0,\n",
    "                       N, M)\n",
    "    \n",
    "    # Instantiate graph ambient space\n",
    "    space = GraphSpace(mobility_graph) \n",
    "    # Instatiate model\n",
    "    model = ABM(Patient, space; properties = properties)\n",
    "        \n",
    "    # Populate the model\n",
    "    for province ∈ 1:M\n",
    "        for age ∈ 1:K \n",
    "            for n ∈ 1:age_provincial_pops[province][age]\n",
    "                id+=1\n",
    "                home=province\n",
    "                pos=home\n",
    "                age_group=age\n",
    "                status=:S\n",
    "                add_agent!(pos, model, age_group, home, status)\n",
    "            end\n",
    "        end\n",
    "    end\n",
    "    \n",
    "    return model\n",
    "end;"
   ]
  },
  {
   "cell_type": "markdown",
   "metadata": {},
   "source": [
    "## Simulations"
   ]
  },
  {
   "cell_type": "code",
   "execution_count": 12,
   "metadata": {},
   "outputs": [
    {
     "name": "stdout",
     "output_type": "stream",
     "text": [
      " 26.723452 seconds (40.07 M allocations: 10.185 GiB, 10.55% gc time)\n"
     ]
    },
    {
     "data": {
      "text/html": [
       "<table class=\"data-frame\"><thead><tr><th></th><th>id</th><th>pos</th><th>age_group</th><th>home</th><th>status</th></tr><tr><th></th><th>Int64</th><th>Int64</th><th>Int64</th><th>Int64</th><th>Symbol</th></tr></thead><tbody><p>27,907 rows × 5 columns</p><tr><th>1</th><td>1</td><td>93</td><td>1</td><td>1</td><td>S</td></tr><tr><th>2</th><td>2</td><td>10</td><td>1</td><td>1</td><td>S</td></tr><tr><th>3</th><td>3</td><td>15</td><td>1</td><td>1</td><td>S</td></tr><tr><th>4</th><td>4</td><td>1</td><td>1</td><td>1</td><td>S</td></tr><tr><th>5</th><td>5</td><td>8</td><td>1</td><td>1</td><td>S</td></tr><tr><th>6</th><td>6</td><td>23</td><td>1</td><td>1</td><td>S</td></tr><tr><th>7</th><td>7</td><td>23</td><td>1</td><td>1</td><td>S</td></tr><tr><th>8</th><td>8</td><td>16</td><td>1</td><td>1</td><td>S</td></tr><tr><th>9</th><td>9</td><td>4</td><td>1</td><td>1</td><td>S</td></tr><tr><th>10</th><td>10</td><td>9</td><td>1</td><td>1</td><td>S</td></tr><tr><th>11</th><td>11</td><td>13</td><td>1</td><td>1</td><td>S</td></tr><tr><th>12</th><td>12</td><td>12</td><td>1</td><td>1</td><td>S</td></tr><tr><th>13</th><td>13</td><td>39</td><td>1</td><td>1</td><td>S</td></tr><tr><th>14</th><td>14</td><td>15</td><td>1</td><td>1</td><td>S</td></tr><tr><th>15</th><td>15</td><td>82</td><td>1</td><td>1</td><td>S</td></tr><tr><th>16</th><td>16</td><td>96</td><td>1</td><td>1</td><td>S</td></tr><tr><th>17</th><td>17</td><td>9</td><td>1</td><td>1</td><td>S</td></tr><tr><th>18</th><td>18</td><td>22</td><td>1</td><td>1</td><td>S</td></tr><tr><th>19</th><td>19</td><td>1</td><td>1</td><td>1</td><td>S</td></tr><tr><th>20</th><td>20</td><td>17</td><td>1</td><td>1</td><td>S</td></tr><tr><th>21</th><td>21</td><td>58</td><td>1</td><td>1</td><td>S</td></tr><tr><th>22</th><td>22</td><td>81</td><td>1</td><td>1</td><td>S</td></tr><tr><th>23</th><td>23</td><td>1</td><td>1</td><td>1</td><td>S</td></tr><tr><th>24</th><td>24</td><td>19</td><td>1</td><td>1</td><td>S</td></tr><tr><th>25</th><td>25</td><td>4</td><td>1</td><td>1</td><td>S</td></tr><tr><th>26</th><td>26</td><td>15</td><td>1</td><td>1</td><td>S</td></tr><tr><th>27</th><td>27</td><td>1</td><td>1</td><td>1</td><td>S</td></tr><tr><th>28</th><td>28</td><td>15</td><td>1</td><td>1</td><td>S</td></tr><tr><th>29</th><td>29</td><td>15</td><td>1</td><td>1</td><td>S</td></tr><tr><th>30</th><td>30</td><td>17</td><td>1</td><td>1</td><td>S</td></tr><tr><th>&vellip;</th><td>&vellip;</td><td>&vellip;</td><td>&vellip;</td><td>&vellip;</td><td>&vellip;</td></tr></tbody></table>"
      ],
      "text/latex": [
       "\\begin{tabular}{r|ccccc}\n",
       "\t& id & pos & age\\_group & home & status\\\\\n",
       "\t\\hline\n",
       "\t& Int64 & Int64 & Int64 & Int64 & Symbol\\\\\n",
       "\t\\hline\n",
       "\t1 & 1 & 93 & 1 & 1 & S \\\\\n",
       "\t2 & 2 & 10 & 1 & 1 & S \\\\\n",
       "\t3 & 3 & 15 & 1 & 1 & S \\\\\n",
       "\t4 & 4 & 1 & 1 & 1 & S \\\\\n",
       "\t5 & 5 & 8 & 1 & 1 & S \\\\\n",
       "\t6 & 6 & 23 & 1 & 1 & S \\\\\n",
       "\t7 & 7 & 23 & 1 & 1 & S \\\\\n",
       "\t8 & 8 & 16 & 1 & 1 & S \\\\\n",
       "\t9 & 9 & 4 & 1 & 1 & S \\\\\n",
       "\t10 & 10 & 9 & 1 & 1 & S \\\\\n",
       "\t11 & 11 & 13 & 1 & 1 & S \\\\\n",
       "\t12 & 12 & 12 & 1 & 1 & S \\\\\n",
       "\t13 & 13 & 39 & 1 & 1 & S \\\\\n",
       "\t14 & 14 & 15 & 1 & 1 & S \\\\\n",
       "\t15 & 15 & 82 & 1 & 1 & S \\\\\n",
       "\t16 & 16 & 96 & 1 & 1 & S \\\\\n",
       "\t17 & 17 & 9 & 1 & 1 & S \\\\\n",
       "\t18 & 18 & 22 & 1 & 1 & S \\\\\n",
       "\t19 & 19 & 1 & 1 & 1 & S \\\\\n",
       "\t20 & 20 & 17 & 1 & 1 & S \\\\\n",
       "\t21 & 21 & 58 & 1 & 1 & S \\\\\n",
       "\t22 & 22 & 81 & 1 & 1 & S \\\\\n",
       "\t23 & 23 & 1 & 1 & 1 & S \\\\\n",
       "\t24 & 24 & 19 & 1 & 1 & S \\\\\n",
       "\t25 & 25 & 4 & 1 & 1 & S \\\\\n",
       "\t26 & 26 & 15 & 1 & 1 & S \\\\\n",
       "\t27 & 27 & 1 & 1 & 1 & S \\\\\n",
       "\t28 & 28 & 15 & 1 & 1 & S \\\\\n",
       "\t29 & 29 & 15 & 1 & 1 & S \\\\\n",
       "\t30 & 30 & 17 & 1 & 1 & S \\\\\n",
       "\t$\\dots$ & $\\dots$ & $\\dots$ & $\\dots$ & $\\dots$ & $\\dots$ \\\\\n",
       "\\end{tabular}\n"
      ],
      "text/plain": [
       "27907×5 DataFrame\n",
       "│ Row   │ id    │ pos   │ age_group │ home  │ status │\n",
       "│       │ \u001b[90mInt64\u001b[39m │ \u001b[90mInt64\u001b[39m │ \u001b[90mInt64\u001b[39m     │ \u001b[90mInt64\u001b[39m │ \u001b[90mSymbol\u001b[39m │\n",
       "├───────┼───────┼───────┼───────────┼───────┼────────┤\n",
       "│ 1     │ 1     │ 93    │ 1         │ 1     │ S      │\n",
       "│ 2     │ 2     │ 10    │ 1         │ 1     │ S      │\n",
       "│ 3     │ 3     │ 15    │ 1         │ 1     │ S      │\n",
       "│ 4     │ 4     │ 1     │ 1         │ 1     │ S      │\n",
       "│ 5     │ 5     │ 8     │ 1         │ 1     │ S      │\n",
       "│ 6     │ 6     │ 23    │ 1         │ 1     │ S      │\n",
       "│ 7     │ 7     │ 23    │ 1         │ 1     │ S      │\n",
       "│ 8     │ 8     │ 16    │ 1         │ 1     │ S      │\n",
       "│ 9     │ 9     │ 4     │ 1         │ 1     │ S      │\n",
       "│ 10    │ 10    │ 9     │ 1         │ 1     │ S      │\n",
       "⋮\n",
       "│ 27897 │ 27897 │ 90    │ 15        │ 107   │ S      │\n",
       "│ 27898 │ 27898 │ 90    │ 15        │ 107   │ S      │\n",
       "│ 27899 │ 27899 │ 92    │ 15        │ 107   │ S      │\n",
       "│ 27900 │ 27900 │ 90    │ 15        │ 107   │ S      │\n",
       "│ 27901 │ 27901 │ 90    │ 16        │ 107   │ S      │\n",
       "│ 27902 │ 27902 │ 107   │ 16        │ 107   │ S      │\n",
       "│ 27903 │ 27903 │ 90    │ 16        │ 107   │ S      │\n",
       "│ 27904 │ 27904 │ 90    │ 16        │ 107   │ S      │\n",
       "│ 27905 │ 27905 │ 91    │ 16        │ 107   │ S      │\n",
       "│ 27906 │ 27906 │ 92    │ 16        │ 107   │ S      │\n",
       "│ 27907 │ 27907 │ 107   │ 16        │ 107   │ S      │"
      ]
     },
     "execution_count": 12,
     "metadata": {},
     "output_type": "execute_result"
    }
   ],
   "source": [
    "model = initialize_model(provincial_pops, age_provincial_pops, contact_graph, mobility_graph,\n",
    "                         α, β, γ, I0)\n",
    "\n",
    "simulation_data = @time run!(model, agent_step!, 100);\n",
    "\n",
    "sort!(DataFrame(allagents(model)), :id, rev = false)"
   ]
  },
  {
   "cell_type": "markdown",
   "metadata": {},
   "source": [
    "## Visualizations "
   ]
  },
  {
   "cell_type": "code",
   "execution_count": 13,
   "metadata": {},
   "outputs": [],
   "source": [
    "#plotargs = (node_size = 0.2, method = :spring, linealpha = 0.4)\n",
    "#plotabm(model; plotargs...)"
   ]
  },
  {
   "cell_type": "code",
   "execution_count": 14,
   "metadata": {},
   "outputs": [],
   "source": [
    "delta_pop(x) = cgrad(:inferno)[count(a.pos == a.home for a in x) / length(x)]"
   ]
  },
  {
   "cell_type": "code",
   "execution_count": 17,
   "metadata": {},
   "outputs": [
    {
     "ename": "LoadError",
     "evalue": "UndefVarError: delta_pop not defined",
     "output_type": "error",
     "traceback": [
      "UndefVarError: delta_pop not defined",
      "",
      "Stacktrace:",
      " [1] top-level scope at In[17]:23",
      " [2] include_string(::Function, ::Module, ::String, ::String) at ./loading.jl:1091"
     ]
    }
   ],
   "source": [
    "model = initialize_model(provincial_pops, age_provincial_pops, contact_graph, mobility_graph,\n",
    "                         α, β, γ, I0)\n",
    "\n",
    "g = model.space.graph\n",
    "weight_matrix = LightGraphs.weights(g)\n",
    "for i in 1:nv(g)\n",
    "    weight_matrix[i,i] = 0\n",
    "end\n",
    "\n",
    "edgewidthsdict = Dict()\n",
    "for node in 1:nv(g)\n",
    "    nbs = neighbors(g, node)\n",
    "    for nb in nbs\n",
    "        edgewidthsdict[(node, nb)] = weight_matrix[node,nb]/sum([outneighbor for outneighbor in weight_matrix[node,:]])\n",
    "    end\n",
    "end\n",
    "\n",
    "edgewidthsf(s, d, w) = edgewidthsdict[(s, d)] * 10\n",
    "plotargs = (node_size = 0.2, method = :spring, linealpha = 0.4)\n",
    "\n",
    "plotargs = merge(plotargs, (edgewidth = edgewidthsf,))\n",
    "\n",
    "plotabm(model; ac = delta_pop, plotargs...)"
   ]
  },
  {
   "cell_type": "markdown",
   "metadata": {},
   "source": [
    "![](animation.gif)"
   ]
  }
 ],
 "metadata": {
  "kernelspec": {
   "display_name": "Julia 1.5.0",
   "language": "julia",
   "name": "julia-1.5"
  },
  "language_info": {
   "file_extension": ".jl",
   "mimetype": "application/julia",
   "name": "julia",
   "version": "1.5.0"
  }
 },
 "nbformat": 4,
 "nbformat_minor": 4
}
