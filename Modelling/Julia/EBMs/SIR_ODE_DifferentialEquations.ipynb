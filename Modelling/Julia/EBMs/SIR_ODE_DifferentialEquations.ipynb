{
 "cells": [
  {
   "cell_type": "markdown",
   "metadata": {},
   "source": [
    "# SIR Model using `DifferentialEquations`\n",
    "\n",
    "$$ \\dot{S} = - \\beta S I $$\n",
    "$$ \\dot{I} = \\beta S I - \\gamma I $$\n",
    "$$ \\dot{R} = \\gamma I $$\n",
    "\n",
    "### Packages"
   ]
  },
  {
   "cell_type": "code",
   "execution_count": null,
   "metadata": {},
   "outputs": [
    {
     "name": "stderr",
     "output_type": "stream",
     "text": [
      "┌ Info: Precompiling DifferentialEquations [0c46a032-eb83-5123-abaf-570d42b7fbaa]\n",
      "└ @ Base loading.jl:1260\n",
      "┌ Warning: Module SIMDPirates with build ID 35227440976779 is missing from the cache.\n",
      "│ This may mean SIMDPirates [21efa798-c60a-11e8-04d3-e1a92915a26a] does not support precompilation but is imported by a module that does.\n",
      "└ @ Base loading.jl:1016\n",
      "┌ Warning: The call to compilecache failed to create a usable precompiled cache file for LoopVectorization [bdcacae8-1622-11e9-2a5c-532679323890]\n",
      "│   exception = Required dependency VectorizationBase [3d5dd08c-fd9d-11e8-17fa-ed2836048c2f] failed to load from a cache file.\n",
      "└ @ Base loading.jl:1041\n"
     ]
    }
   ],
   "source": [
    "# Numerical Computation\n",
    "using DifferentialEquations\n",
    "\n",
    "# Data Visualization\n",
    "using Plots\n",
    "using PlotThemes"
   ]
  },
  {
   "cell_type": "markdown",
   "metadata": {},
   "source": [
    "### Flow"
   ]
  },
  {
   "cell_type": "code",
   "execution_count": null,
   "metadata": {},
   "outputs": [],
   "source": [
    "Φ = @ode_def SIRModel begin\n",
    "    dS = -β*S*I\n",
    "    dI = β*S*I-γ*I\n",
    "    dR = γ*I\n",
    "    end β γ\n",
    "\n",
    "### ALternative\n",
    "#function sir_ode2(du,u,p,t)\n",
    "#    S,I,R = u\n",
    "#    b,g = p\n",
    "#    du[1] = -b*S*I\n",
    "#    du[2] = b*S*I-g*I\n",
    "#    du[3] = g*I\n",
    "#end"
   ]
  },
  {
   "cell_type": "markdown",
   "metadata": {},
   "source": [
    "### Parameters"
   ]
  },
  {
   "cell_type": "code",
   "execution_count": null,
   "metadata": {},
   "outputs": [],
   "source": [
    "ℬ = [0.99,0.01,0.0] # Initial condition\n",
    "𝒯 = (0.0,200.0)     # Time \n",
    "𝒫 = [0.1,0.05]      # Model Parameters"
   ]
  },
  {
   "cell_type": "markdown",
   "metadata": {},
   "source": [
    "### Solution"
   ]
  },
  {
   "cell_type": "code",
   "execution_count": null,
   "metadata": {},
   "outputs": [],
   "source": [
    "# Problem Definition\n",
    "problem = ODEProblem(Φ, ℬ, 𝒯, 𝒫)\n",
    "\n",
    "# Problem Solution\n",
    "solution = solve(problem, saveat = 0.1);"
   ]
  },
  {
   "cell_type": "markdown",
   "metadata": {},
   "source": [
    "### Visualization "
   ]
  },
  {
   "cell_type": "code",
   "execution_count": null,
   "metadata": {},
   "outputs": [],
   "source": [
    "# Select Theme\n",
    "theme(:default)\n",
    "#theme(:vibrant)\n",
    "#theme(:dark)\n",
    "#theme(:ggplot2)\n",
    "#theme(:juno)\n",
    "#theme(:lime)\n",
    "\n",
    "# Plot \n",
    "plot(solution,\n",
    "     title  = \"SIR ODE\",\n",
    "     label = [\"S\" \"I\" \"R\"],\n",
    "     xlabel = \"Time\", \n",
    "     ylabel = \"Number\",\n",
    "     legend = :top)"
   ]
  }
 ],
 "metadata": {
  "kernelspec": {
   "display_name": "Julia 1.4.0",
   "language": "julia",
   "name": "julia-1.4"
  },
  "language_info": {
   "file_extension": ".jl",
   "mimetype": "application/julia",
   "name": "julia",
   "version": "1.4.0"
  }
 },
 "nbformat": 4,
 "nbformat_minor": 4
}
