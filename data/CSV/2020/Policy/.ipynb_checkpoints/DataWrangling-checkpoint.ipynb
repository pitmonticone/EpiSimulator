{
 "cells": [
  {
   "cell_type": "markdown",
   "metadata": {},
   "source": [
    "# Policy Data Wrangling"
   ]
  },
  {
   "cell_type": "markdown",
   "metadata": {},
   "source": [
    "## Modules"
   ]
  },
  {
   "cell_type": "code",
   "execution_count": 2,
   "metadata": {},
   "outputs": [],
   "source": [
    "# Data Wrangling\n",
    "import numpy as np\n",
    "import pandas as pd"
   ]
  },
  {
   "cell_type": "markdown",
   "metadata": {},
   "source": [
    "## IBM WNTRAC  \n",
    "\n",
    "Parthasarathy Suryanarayanan, Ching-Huei Tsou, Ananya Poddar, Diwakar Mahajan, Bharath Dandala, Piyush Madan, Anshul Agrawal, Charles Wachira, Osebe Mogaka Samuel, Osnat Bar-Shira, Clifton Kipchirchir, Sharon Okwako, William Ogallo, Fred Otieno, Timothy Nyota, Fiona Matu, Vesna Resende Barros, Daniel Shatz, Oren Kagan, Sekou Remy, Oliver Bent, Shilpa Mahatma, Aisha Walcott-Bryant, Divya Pathak, Michal Rosen-Zvi (2020), *IBM Research*. [WNTRAC: Artificial Intelligence Assisted Tracking of Non-pharmaceutical Interventions Implemented Worldwide for COVID-19](https://arxiv.org/abs/2009.07057)."
   ]
  },
  {
   "cell_type": "code",
   "execution_count": 2,
   "metadata": {},
   "outputs": [],
   "source": [
    "# Events\n",
    "policy_events_data=pd.read_csv(\"/Users/Pit/GitHub/DigitalEpidemiologyProject/Data/CSV/2020/Policy/IBM_WNTRAC_Events.csv\")\n",
    "policy_events_data_italy=policy_events_data[policy_events_data[\"country\"] =='ITA']\n",
    "policy_events_data_italy.to_csv(\"/Users/Pit/GitHub/DigitalEpidemiologyProject/Data/CSV/2020/Policy/IBM_WNTRAC_Events_Italy.csv\", index=False)\n",
    "# Evidences\n",
    "policy_evidences_data=pd.read_csv(\"/Users/Pit/GitHub/DigitalEpidemiologyProject/Data/CSV/2020/Policy/IBM_WNTRAC_Evidences.csv\")\n",
    "policy_evidences_data_italy=policy_evidences_data[policy_evidences_data[\"country\"] =='ITA']\n",
    "policy_evidences_data_italy.to_csv(\"/Users/Pit/GitHub/DigitalEpidemiologyProject/Data/CSV/2020/Policy/IBM_WNTRAC_Evidences_Italy.csv\", index=False)"
   ]
  },
  {
   "cell_type": "markdown",
   "metadata": {},
   "source": [
    "## Nature Scientific Data \n",
    "\n",
    "Desvars-Larrive, A., Dervic, E., Haug, N. et al. [A structured open dataset of government interventions in response to COVID-19](https://doi.org/10.1038/s41597-020-00609-9). *Sci Data* 7, 285 (2020)."
   ]
  },
  {
   "cell_type": "code",
   "execution_count": null,
   "metadata": {},
   "outputs": [],
   "source": [
    "policy_events_data=pd.read_csv(\"/Users/Pit/GitHub/DigitalEpidemiologyProject/Data/CSV/2020/Policy/IBM_WNTRAC_Events.csv\")\n",
    "policy_events_data_italy=policy_events_data[policy_events_data[\"country\"] =='ITA']\n",
    "policy_events_data_italy.to_csv(\"/Users/Pit/GitHub/DigitalEpidemiologyProject/Data/CSV/2020/Policy/IBM_WNTRAC_Events_Italy.csv\", index=False)"
   ]
  },
  {
   "cell_type": "markdown",
   "metadata": {},
   "source": [
    "## Oxford COVID-19 Government Response Tracker\n",
    "\n",
    "Thomas Hale, Sam Webster, Anna Petherick, Toby Phillips, and Beatriz Kira (2020). [Oxford COVID-19 Government Response Tracker](https://www.bsg.ox.ac.uk/research/research-projects/oxford-covid-19-government-response-tracker), *Blavatnik School of Government*."
   ]
  },
  {
   "cell_type": "code",
   "execution_count": 9,
   "metadata": {},
   "outputs": [],
   "source": [
    "stringency_index_data=pd.read_csv(\"/Users/Pit/GitHub/DigitalEpidemiologyProject/Data/CSV/2020/Policy/StringencyIndex.csv\")\n",
    "stringency_index_data_italy=stringency_index_data[stringency_index_data[\"Code\"] =='ITA']\n",
    "stringency_index_data_italy.to_csv(\"/Users/Pit/GitHub/DigitalEpidemiologyProject/Data/CSV/2020/Policy/StringencyIndexItaly.csv\", index=False)"
   ]
  }
 ],
 "metadata": {
  "kernelspec": {
   "display_name": "Python 3",
   "language": "python",
   "name": "python3"
  },
  "language_info": {
   "codemirror_mode": {
    "name": "ipython",
    "version": 3
   },
   "file_extension": ".py",
   "mimetype": "text/x-python",
   "name": "python",
   "nbconvert_exporter": "python",
   "pygments_lexer": "ipython3",
   "version": "3.8.3"
  }
 },
 "nbformat": 4,
 "nbformat_minor": 4
}
