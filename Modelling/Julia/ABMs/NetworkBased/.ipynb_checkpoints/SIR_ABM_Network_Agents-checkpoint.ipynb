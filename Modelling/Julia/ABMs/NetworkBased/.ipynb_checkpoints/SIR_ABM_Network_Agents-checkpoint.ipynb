{
 "cells": [
  {
   "cell_type": "markdown",
   "metadata": {},
   "source": [
    "# Graph-Embedded SIR Model using `Agents`\n",
    "\n",
    "The SIR model tracks the ratio of Susceptible($S$), Infected($I$), Recovered($R$) individuals within a population. \n",
    "\n",
    "Here we add one more category of individuals: those who are infected, but do not know it (Asymptomatic?).\n",
    "\n",
    "Transmission rate of infected and diagnosed is lower than infected and undetected. We also allow a fraction of recovered individuals to catch the disease again, meaning that recovering the disease does not bring full immunity.\n",
    "\n",
    "## Packages"
   ]
  },
  {
   "cell_type": "code",
   "execution_count": null,
   "metadata": {},
   "outputs": [],
   "source": [
    "# Data Management \n",
    "using DataFrames\n",
    "using DrWatson: @dict\n",
    "\n",
    "# Statistics\n",
    "using Random\n",
    "using Distributions: Poisson, DiscreteNonParametric\n",
    "\n",
    "# Modelling\n",
    "using Agents, LightGraphs\n",
    "using LinearAlgebra: diagind\n",
    "\n",
    "# Data Visualization\n",
    "using Plots, AgentsPlots, PlotThemes\n",
    "using InteractiveChaos\n",
    "using Makie;"
   ]
  },
  {
   "cell_type": "markdown",
   "metadata": {},
   "source": [
    "## Agent Type "
   ]
  },
  {
   "cell_type": "code",
   "execution_count": null,
   "metadata": {},
   "outputs": [],
   "source": [
    "mutable struct Person <: AbstractAgent\n",
    "    id::Int\n",
    "    pos::Int\n",
    "    days_infected::Int  # Number of days since is infected\n",
    "    status::Symbol      # 1: S, 2: I, 3:R\n",
    "end"
   ]
  },
  {
   "cell_type": "markdown",
   "metadata": {},
   "source": [
    "## Model \n",
    "\n",
    "### Initialization"
   ]
  },
  {
   "cell_type": "code",
   "execution_count": null,
   "metadata": {},
   "outputs": [],
   "source": [
    "function model_initialization(;\n",
    "    Ns,\n",
    "    migration_rates,\n",
    "    β_und,\n",
    "    β_det,\n",
    "    infection_period = 30,\n",
    "    reinfection_probability = 0.05,\n",
    "    detection_time = 14,\n",
    "    death_rate = 0.02,\n",
    "    Is = [zeros(Int, length(Ns) - 1)..., 1],\n",
    "    seed = 0,\n",
    ")\n",
    "\n",
    "    Random.seed!(seed)\n",
    "    @assert length(Ns) ==\n",
    "    length(Is) ==\n",
    "    length(β_und) ==\n",
    "    length(β_det) ==\n",
    "    size(migration_rates, 1) \"length of Ns, Is, and B, and number of rows/columns in migration_rates should be the same \"\n",
    "    @assert size(migration_rates, 1) == size(migration_rates, 2) \"migration_rates rates should be a square matrix\"\n",
    "\n",
    "    C = length(Ns)\n",
    "    ## normalize migration_rates\n",
    "    migration_rates_sum = sum(migration_rates, dims = 2)\n",
    "    for c in 1:C\n",
    "        migration_rates[c, :] ./= migration_rates_sum[c]\n",
    "    end\n",
    "    \n",
    "    # Model Parameters\n",
    "    properties = @dict(\n",
    "        Ns,\n",
    "        Is,\n",
    "        β_und,\n",
    "        β_det,\n",
    "        β_det,\n",
    "        migration_rates,\n",
    "        infection_period,\n",
    "        infection_period,\n",
    "        reinfection_probability,\n",
    "        detection_time,\n",
    "        C,\n",
    "        death_rate\n",
    "    )\n",
    "    \n",
    "    # Ambient Space Instantiation\n",
    "    space = GraphSpace(watts_strogatz(C, 4, 0.8, is_directed=true, seed=123)) # complete_digraph(C)\n",
    "  \n",
    "    # Model Instantiation\n",
    "    model = ABM(Person, space; properties = properties)\n",
    "\n",
    "    ## Add initial individuals\n",
    "    for city in 1:C, n in 1:Ns[city]\n",
    "        ind = add_agent!(city, model, 0, :S) # Susceptible\n",
    "    end\n",
    "    ## Add infected individuals\n",
    "    for city in 1:C\n",
    "        inds = get_node_contents(city, model)\n",
    "        for n in 1:Is[city]\n",
    "            agent = model[inds[n]]\n",
    "            agent.status = :I # Infected\n",
    "            agent.days_infected = 1\n",
    "        end\n",
    "    end\n",
    "    return model\n",
    "end"
   ]
  },
  {
   "cell_type": "markdown",
   "metadata": {},
   "source": [
    "### Parameters\n",
    "\n",
    "* `Ns`: a vector of population sizes per city. The amount of cities is just `C=length(Ns)`.\n",
    "* `β_und`: a vector for transmission probabilities β of the infected but undetected per city. Transmission probability is how many susceptiple are infected per day by an infected individual. If social distancing is practiced, this number increases.\n",
    "* `β_det`: an array for transmission probabilities β of the infected and detected per city. If hospitals are full, this number increases.\n",
    "* `infection_period = 30`: how many days before a person dies or recovers.\n",
    "* `detection_time = 14`: how many days before an infected person is detected.\n",
    "* `death_rate = 0.02`: the probability that the individual will die after the infection_period.\n",
    "* `reinfection_probability = 0.05`: The probabiity that a recovered person can get infected again.\n",
    "* `migration_rates`: A matrix of migration probability per individual per day from one city to another.\n",
    "* `Is = [zeros(C-1)..., 1]`: An array for initial number of infected but undetected people per city. This starts as only one infected individual in the last city.\n",
    "\n",
    "Notice that all `Ns`, `β`, `Is` need to have the same length, as they are numbers for each city. We've tried to add values to the infection parameters similar to the ones you would hear on the news about COVID-19.\n",
    "\n",
    "The good thing with Agent based models is that you could easily extend the model we implement here to also include age as the agent's property. This makes ABMs flexible and suitable for research of virus spreading."
   ]
  },
  {
   "cell_type": "code",
   "execution_count": null,
   "metadata": {},
   "outputs": [],
   "source": [
    "function create_parameters(;\n",
    "    C,\n",
    "    max_travel_rate,\n",
    "    infection_period = 30,\n",
    "    reinfection_probability = 0.05,\n",
    "    detection_time = 14,\n",
    "    death_rate = 0.02,\n",
    "    Is = [zeros(Int, C - 1)..., 1],\n",
    "    seed = 19,\n",
    ")\n",
    "\n",
    "    Random.seed!(seed)\n",
    "    Ns = rand(50:5000, C)\n",
    "    β_und = rand(0.3:0.02:0.6, C)\n",
    "    β_det = β_und ./ 10\n",
    "\n",
    "    Random.seed!(seed)\n",
    "    migration_rates = zeros(C, C)\n",
    "    for c in 1:C\n",
    "        for c2 in 1:C\n",
    "            migration_rates[c, c2] = (Ns[c] + Ns[c2]) / Ns[c]\n",
    "        end\n",
    "    end\n",
    "    maxM = maximum(migration_rates)\n",
    "    migration_rates = (migration_rates .* max_travel_rate) ./ maxM\n",
    "    migration_rates[diagind(migration_rates)] .= 1.0\n",
    "\n",
    "    parameters = @dict(\n",
    "        Ns,\n",
    "        β_und,\n",
    "        β_det,\n",
    "        migration_rates,\n",
    "        infection_period,\n",
    "        reinfection_probability,\n",
    "        detection_time,\n",
    "        death_rate,\n",
    "        Is\n",
    "    )\n",
    "\n",
    "    return parameters\n",
    "end"
   ]
  },
  {
   "cell_type": "markdown",
   "metadata": {},
   "source": [
    "### Instantiation"
   ]
  },
  {
   "cell_type": "code",
   "execution_count": null,
   "metadata": {},
   "outputs": [],
   "source": [
    "model_parameters = create_parameters(C = 8, max_travel_rate = 0.01)\n",
    "model = model_initialization(; model_parameters...);"
   ]
  },
  {
   "cell_type": "markdown",
   "metadata": {},
   "source": [
    "### Dynamics\n",
    "\n",
    "#### Micro-Dynamics / Agent-Level"
   ]
  },
  {
   "cell_type": "markdown",
   "metadata": {},
   "source": [
    "#### Macro-Dynamics / System-Level"
   ]
  },
  {
   "cell_type": "code",
   "execution_count": null,
   "metadata": {},
   "outputs": [],
   "source": [
    "# Set Plot Parameters\n",
    "plot_parameters = (node_size = 0.2, \n",
    "                   nodecolor = \"orange\", \n",
    "                   method = :star, \n",
    "                   linealpha = 0.4)\n",
    "\n",
    "# Plot the initial state\n",
    "plotabm(model; plot_parameters...)"
   ]
  }
 ],
 "metadata": {
  "kernelspec": {
   "display_name": "Julia 1.4.0",
   "language": "julia",
   "name": "julia-1.4"
  },
  "language_info": {
   "file_extension": ".jl",
   "mimetype": "application/julia",
   "name": "julia",
   "version": "1.4.0"
  }
 },
 "nbformat": 4,
 "nbformat_minor": 4
}
