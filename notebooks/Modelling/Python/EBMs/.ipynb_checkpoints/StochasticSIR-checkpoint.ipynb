{
 "cells": [
  {
   "cell_type": "markdown",
   "metadata": {},
   "source": [
    "# Stochastic SIR"
   ]
  },
  {
   "cell_type": "markdown",
   "metadata": {},
   "source": [
    "* Discrete time \n",
    "* Stochastic $\\sim B(X,p)$\n",
    "* Multi-run simulation\n",
    "* Extract their statistical averages.\n",
    "* Basic reproduction number $R_0 = 3.0$"
   ]
  },
  {
   "cell_type": "markdown",
   "metadata": {},
   "source": [
    "## Modules"
   ]
  },
  {
   "cell_type": "code",
   "execution_count": 1,
   "metadata": {},
   "outputs": [
    {
     "name": "stdout",
     "output_type": "stream",
     "text": [
      "Populating the interactive namespace from numpy and matplotlib\n"
     ]
    }
   ],
   "source": [
    "# Data Wrangling\n",
    "import numpy as np\n",
    "\n",
    "# Network Data Analysis \n",
    "import networkx as nx\n",
    "\n",
    "# Data Visualization\n",
    "import seaborn as sns\n",
    "import matplotlib.pyplot as plt \n",
    "#plt.style.use('seaborn-white')\n",
    "import matplotlib.ticker as ticker\n",
    "%pylab inline\n",
    "\n",
    "# Geo-Spatial Data Analysis\n",
    "#import geopandas as gpd\n",
    "import pandas as pd\n",
    "from shapely.geometry import Point\n",
    "\n",
    "# Other Utilities\n",
    "from operator import itemgetter\n",
    "from collections import defaultdict\n",
    "\n",
    "# Custom Modules\n",
    "import digital_epidemiology as depi\n",
    "\n",
    "# Reload Custom Modules\n",
    "from importlib import reload\n",
    "depi = reload(depi)"
   ]
  },
  {
   "cell_type": "markdown",
   "metadata": {},
   "source": [
    "### Parameters"
   ]
  },
  {
   "cell_type": "code",
   "execution_count": 2,
   "metadata": {},
   "outputs": [],
   "source": [
    "mu = 0.2           # Recovery rate \n",
    "R0 = 3.0           # Basic reproduction number \n",
    "beta = R0 * mu     # Transmission rate\n",
    "\n",
    "#print(\"The average infectious period is \", 1./mu, \" days\")"
   ]
  },
  {
   "cell_type": "markdown",
   "metadata": {},
   "source": [
    "### Multi-Run Simulation"
   ]
  },
  {
   "cell_type": "code",
   "execution_count": 3,
   "metadata": {},
   "outputs": [],
   "source": [
    "I_dict = defaultdict(list)   # Define the time series dictionary for I \n",
    "R_final = []                 # Define the multi-run list for final R\n",
    "nrun = 1000                  # Set the number of runs  \n",
    "Irun = []                    # Define the multi-run list of lists for I \n",
    "\n",
    "for run in range(0,nrun):\n",
    "    \n",
    "    # Set initial conditions at each run \n",
    "    N = 10000         # Population size\n",
    "    I = 10            # Infected & infectious subpopulation\n",
    "    S = N - I         # Susceptible subpopulation \n",
    "    R = 0             # Removed / Recovered subpopulation\n",
    "    t = 0             # Initialize the clock\n",
    "    \n",
    "    I_list = []         # Define the single-run list for I \n",
    "    I_list.append(I)    # Initialize the single-run list for I\n",
    "    I_dict[t].append(I) # Initialize the time series dictionary for I\n",
    "    \n",
    "    # Implement the dynamical model \n",
    "    while I>0:\n",
    "        \n",
    "        i = float(I)/N\n",
    "        p = beta * i\n",
    "        \n",
    "        deltaSI = np.random.binomial(S,p)\n",
    "        deltaIR = np.random.binomial(I,mu)\n",
    "        \n",
    "        S = S - deltaSI\n",
    "        I = I + deltaSI - deltaIR\n",
    "        R = R + deltaIR\n",
    "        \n",
    "        t += 1\n",
    "        r = float(R)/N\n",
    "        \n",
    "        I_list.append(I)\n",
    "        I_dict[t].append(I)\n",
    "    \n",
    "    R_final.append(r)\n",
    "    Irun.append(I_list)\n",
    "\n",
    "#print(\"The average final attack rate is \", np.average(np.array(R_final)))"
   ]
  },
  {
   "cell_type": "markdown",
   "metadata": {},
   "source": [
    "### Visualization"
   ]
  },
  {
   "cell_type": "code",
   "execution_count": null,
   "metadata": {},
   "outputs": [],
   "source": [
    "# 1. Plot the distribution of final attack rates\n",
    "plt.figure(figsize = (10,7))\n",
    "plt.xticks(fontsize = 11)\n",
    "plt.yticks(fontsize = 11)\n",
    "plt.xlabel('Attack Rate', fontsize = 16)\n",
    "plt.ylabel('Frequency', fontsize = 16)\n",
    "\n",
    "a = plt.hist(R_final, bins = 15)\n",
    "\n",
    "# 2. Plot the ensemble of trajectories\n",
    "plt.figure(figsize = (10,7))\n",
    "plt.xticks(fontsize = 11)\n",
    "plt.yticks(fontsize = 11)\n",
    "plt.xlabel('Time', fontsize = 16)\n",
    "plt.ylabel('Prevalence', fontsize = 16)\n",
    "plt.xlim([0, 70])\n",
    "\n",
    "for run in Irun: \n",
    "    plt.plot(range(0,len(run)),run)\n",
    "    \n",
    "    \n",
    "# 3. Make a box plot for prevalence\n",
    "full_array = [np.array(I_dict[t]) for t in I_dict]\n",
    "\n",
    "plt.figure(figsize = (10,7))\n",
    "plt.xlabel('Time', fontsize = 16)\n",
    "plt.ylabel('Prevalence', fontsize = 16)\n",
    "plt.xticks(fontsize = 11)\n",
    "plt.yticks(fontsize = 11)\n",
    "\n",
    "ax = sns.boxplot(data = full_array, color = 'skyblue')\n",
    "ax.xaxis.set_major_locator(ticker.MultipleLocator(20))\n",
    "ax.xaxis.set_major_formatter(ticker.ScalarFormatter())\n",
    "\n",
    "plt.xlim([0, 70])\n",
    "\n",
    "# Compare the deterministic simulation vs. the average prevalence of the stochastic version\n",
    "full_average = [np.average(np.array(I_dict[t])) for t in I_dict]\n",
    "\n",
    "### 4. Make a box plot for prevalence: deterministic vs. averaged stochastic\n",
    "plt.figure(figsize = (10,7))\n",
    "plt.xlabel('Time', fontsize = 16)\n",
    "plt.ylabel('Prevalence', fontsize = 16)\n",
    "plt.xticks(fontsize = 11)\n",
    "plt.yticks(fontsize = 11)\n",
    "\n",
    "ax = sns.boxplot(data = full_array, color = 'skyblue')\n",
    "\n",
    "plt.plot(range(0,len(It)),It,color = 'b') \n",
    "plt.plot(range(0,len(full_average)),full_average,color = 'r')\n",
    "\n",
    "ax.xaxis.set_major_locator(ticker.MultipleLocator(20))\n",
    "ax.xaxis.set_major_formatter(ticker.ScalarFormatter())\n",
    "\n",
    "plt.xlim([0,70])\n",
    "plt.show()\n",
    "\n",
    "### 5. Let's zoom in\n",
    "plt.figure(figsize = (10,7))\n",
    "plt.xlabel('Time', fontsize = 16)\n",
    "plt.ylabel('Prevalence', fontsize = 16)\n",
    "plt.xticks(fontsize = 11)\n",
    "plt.yticks(fontsize = 11)\n",
    "\n",
    "ax = sns.boxplot(data = full_array, color = 'skyblue')\n",
    "\n",
    "plt.plot(range(0,len(It)),It,color = 'b') \n",
    "plt.plot(range(0,len(full_average)),full_average,color = 'r')\n",
    "\n",
    "ax.xaxis.set_major_locator(ticker.MultipleLocator(20))\n",
    "ax.xaxis.set_major_formatter(ticker.ScalarFormatter())\n",
    "\n",
    "plt.xlim([0,20])\n",
    "plt.show()"
   ]
  },
  {
   "cell_type": "markdown",
   "metadata": {},
   "source": [
    "## Dependence on Initial Conditions"
   ]
  },
  {
   "cell_type": "code",
   "execution_count": null,
   "metadata": {},
   "outputs": [],
   "source": [
    "# Let's change the initial number of infected individuals to 1.\n",
    "\n",
    "# Model parameters\n",
    "## mu = 0.2\n",
    "## R0 = 3.0\n",
    "## beta = R0 * mu\n",
    "\n",
    "I_dict = defaultdict(list)   # Define the time series dictionary for I \n",
    "R_final = []                 # Define the multi-run list for final R\n",
    "nrun = 1000                  # Set the number of runs  \n",
    "Irun = []                    # Define the multi-run list of lists for I \n",
    "\n",
    "for run in range(0,nrun):\n",
    "    \n",
    "    # Set initial conditions at each run \n",
    "    N = 10000         # Population size\n",
    "    I = 1             # Infected & infectious subpopulation\n",
    "    S = N - I         # Susceptible subpopulation \n",
    "    R = 0             # Removed / Recovered subpopulation\n",
    "    t = 0             # Initialize the clock\n",
    "    \n",
    "    I_list = []         # Define the single-run list for I \n",
    "    I_list.append(I)    # Initialize the single-run list for I\n",
    "    I_dict[t].append(I) # Initialize the time series dictionary for I\n",
    "    \n",
    "    # Implement the dynamical model \n",
    "    while I>0:\n",
    "        \n",
    "        i = float(I)/N\n",
    "        p = beta * i\n",
    "        \n",
    "        deltaSI = np.random.binomial(S,p)\n",
    "        deltaIR = np.random.binomial(I,mu)\n",
    "        \n",
    "        S = S - deltaSI\n",
    "        I = I + deltaSI - deltaIR\n",
    "        R = R + deltaIR\n",
    "        \n",
    "        t += 1\n",
    "        r = float(R)/N\n",
    "        \n",
    "        I_list.append(I)\n",
    "        I_dict[t].append(I)\n",
    "    \n",
    "    R_final.append(r)\n",
    "    Irun.append(I_list)\n",
    "\n",
    "#print(\"The average final attack rate is \", np.average(np.array(R_final)))"
   ]
  },
  {
   "cell_type": "markdown",
   "metadata": {},
   "source": [
    "### Visualization"
   ]
  },
  {
   "cell_type": "code",
   "execution_count": null,
   "metadata": {},
   "outputs": [],
   "source": [
    "# Plot the ensemble of trajectories\n",
    "plt.figure(figsize = (10,7))\n",
    "plt.xticks(fontsize = 11)\n",
    "plt.yticks(fontsize = 11)\n",
    "plt.xlabel('Time', fontsize = 16)\n",
    "plt.ylabel('Prevalence', fontsize = 16)\n",
    "plt.xlim([0, 85])\n",
    "\n",
    "for run in Irun: \n",
    "    plt.plot(range(0,len(run)),run)\n",
    "    \n",
    "# With I_0 = 1 we see larger fluctuations: we have several runs without outbreak! \n",
    "## The initial seed individual recovers before infecting someone else.\n",
    "\n",
    "# Plot the distribution of runs with no outbreak\n",
    "no_outbreak = []\n",
    "for r in R_final:\n",
    "    if r<0.8:\n",
    "        no_outbreak.append(r * 10000)\n",
    "#print(no_outbreak)\n",
    "\n",
    "plt.figure(figsize = (10,7))\n",
    "plt.xticks(fontsize = 12)\n",
    "plt.yticks(fontsize = 12)\n",
    "plt.xlabel('Final Size', fontsize = 16)\n",
    "plt.ylabel('Frequency', fontsize = 16)\n",
    "b = plt.hist(no_outbreak, bins = 20)\n",
    "plt.xscale('log')\n",
    "\n",
    "\n",
    "plt.figure(figsize = (10,7))\n",
    "plt.hist(R_final, bins = 20)\n",
    "plt.xlabel('Final Size', fontsize = 16)\n",
    "plt.ylabel('Frequency', fontsize = 16)\n",
    "plt.xticks(fontsize = 12)\n",
    "plt.yticks(fontsize = 12)"
   ]
  },
  {
   "cell_type": "markdown",
   "metadata": {},
   "source": [
    "In a stochastic SIR model, the probability of an outbreak is equal to \n",
    "<center>\n",
    "$p_{outb} = 1 - (\\frac{1}{R_0})^{I_0}$\n",
    "</center>"
   ]
  },
  {
   "cell_type": "code",
   "execution_count": null,
   "metadata": {},
   "outputs": [],
   "source": [
    "p_outbreak = 1-1/R0\n",
    "p_outbreak"
   ]
  },
  {
   "cell_type": "markdown",
   "metadata": {},
   "source": [
    "Of course, such fluctuations do not affect the deterministic model, where the outcome is fixed. "
   ]
  },
  {
   "cell_type": "code",
   "execution_count": null,
   "metadata": {},
   "outputs": [],
   "source": [
    "# Single-run deterministic simulation \n",
    "\n",
    "# Initial conditions \n",
    "N = 10000         # Population size\n",
    "I = 1             # Infected & infectious subpopulation\n",
    "S = N - I         # Susceptible subpopulation \n",
    "R = 0             # Removed / Recovered subpopulation\n",
    "    \n",
    "# Create time series list \n",
    "St = []\n",
    "It = []\n",
    "Rt = []\n",
    "\n",
    "# Create list of differences\n",
    "deltaSt = []\n",
    "deltaIt = []\n",
    "\n",
    "# Populate time series with initial conditions \n",
    "St.append(S)   \n",
    "It.append(I)\n",
    "Rt.append(R)\n",
    "\n",
    "# Implement the dynamical model \n",
    "while I>0.01:\n",
    "    i = float(I) * S/N\n",
    "    deltaSI = beta * i\n",
    "    \n",
    "    deltaIR = mu * I\n",
    "    \n",
    "    S = S-deltaSI\n",
    "    I = I + deltaSI-deltaIR\n",
    "    R = R + deltaIR\n",
    "    \n",
    "    deltaSt.append(deltaSI)\n",
    "    deltaIt.append(deltaIR)\n",
    "    St.append(S)\n",
    "    It.append(I)\n",
    "    Rt.append(R)\n",
    "    \n",
    "print(\"The final attack rate is \", Rt[-1]/N)"
   ]
  }
 ],
 "metadata": {
  "kernelspec": {
   "display_name": "Python 3",
   "language": "python",
   "name": "python3"
  },
  "language_info": {
   "codemirror_mode": {
    "name": "ipython",
    "version": 3
   },
   "file_extension": ".py",
   "mimetype": "text/x-python",
   "name": "python",
   "nbconvert_exporter": "python",
   "pygments_lexer": "ipython3",
   "version": "3.7.6"
  }
 },
 "nbformat": 4,
 "nbformat_minor": 4
}
