{
 "cells": [
  {
   "cell_type": "markdown",
   "metadata": {},
   "source": [
    "# Continuous Time SIR SDE using `StochasticDiffEq`\n",
    "\n",
    "### Packages"
   ]
  },
  {
   "cell_type": "code",
   "execution_count": null,
   "metadata": {},
   "outputs": [
    {
     "name": "stderr",
     "output_type": "stream",
     "text": [
      "┌ Info: Precompiling DifferentialEquations [0c46a032-eb83-5123-abaf-570d42b7fbaa]\n",
      "└ @ Base loading.jl:1260\n",
      "┌ Warning: The call to compilecache failed to create a usable precompiled cache file for DiffEqBase [2b5f629d-d688-5b77-993f-72d75c75574e]\n",
      "│   exception = Required dependency ChainRulesCore [d360d2e6-b24c-11e9-a2a3-2a2ae2dbcce4] failed to load from a cache file.\n",
      "└ @ Base loading.jl:1041\n"
     ]
    }
   ],
   "source": [
    "# Data Manipulation\n",
    "using DataFrames\n",
    "using SparseArrays\n",
    "\n",
    "# Statistics\n",
    "using Distributions\n",
    "using Random\n",
    "\n",
    "# Data Visualization\n",
    "using Plots\n",
    "using PlotThemes\n",
    "\n",
    "# Numerical Computation\n",
    "using DifferentialEquations\n",
    "using StochasticDiffEq\n",
    "using DiffEqCallbacks"
   ]
  },
  {
   "cell_type": "markdown",
   "metadata": {},
   "source": [
    "### Flow"
   ]
  },
  {
   "cell_type": "code",
   "execution_count": null,
   "metadata": {},
   "outputs": [],
   "source": [
    "function Φ!(du,u,p,t)\n",
    "    (S,I,R) = u\n",
    "    (β,c,γ) = p\n",
    "    N = S+I+R\n",
    "    @inbounds begin\n",
    "        du[1] = -β*c*I/N*S\n",
    "        du[2] = β*c*I/N*S - γ*I\n",
    "        du[3] = γ*I\n",
    "    end\n",
    "    nothing\n",
    "end;\n",
    "\n",
    "# Make `g` write the sparse matrix values\n",
    "function Ψ!(du,u,p,t)\n",
    "    (S,I,R) = u\n",
    "    (β,c,γ) = p\n",
    "    N = S+I+R\n",
    "    ifrac = β*c*I/N*S\n",
    "    rfrac = γ*I\n",
    "    du[1,1] = -sqrt(ifrac)\n",
    "    du[2,1] = sqrt(ifrac)\n",
    "    du[2,2] = -sqrt(rfrac)\n",
    "    du[3,2] = sqrt(rfrac)\n",
    "end;\n",
    "\n",
    "\n",
    "function condition(u,t,integrator) # Event when event_f(u,t) == 0\n",
    "  u[2]\n",
    "end\n",
    "\n",
    "\n",
    "function affect!(integrator)\n",
    "  integrator.u[2] = 0.0\n",
    "end\n",
    "\n",
    "cb = ContinuousCallback(condition,affect!);"
   ]
  },
  {
   "cell_type": "markdown",
   "metadata": {},
   "source": [
    "### Parameters"
   ]
  },
  {
   "cell_type": "code",
   "execution_count": null,
   "metadata": {},
   "outputs": [],
   "source": [
    "# From discrete to continuous time\n",
    "δt = 0.1\n",
    "tmax = 40.0\n",
    "tspan = (0.0,tmax)\n",
    "t = 0.0:δt:tmax;\n",
    "\n",
    "𝒯 = tspan;               # Time (t)\n",
    "ℬ = [990.0,10.0,0.0];    # Initial condition (S, I, R)\n",
    "𝒫 = [0.05,10.0,0.25];    # Model parameters (β,c,γ)"
   ]
  },
  {
   "cell_type": "markdown",
   "metadata": {},
   "source": [
    "### Solution"
   ]
  },
  {
   "cell_type": "code",
   "execution_count": null,
   "metadata": {},
   "outputs": [],
   "source": [
    "# Define a sparse matrix by making a dense matrix and setting some values as not zero\n",
    "A = zeros(3,2)\n",
    "A[1,1] = 1\n",
    "A[2,1] = 1\n",
    "A[2,2] = 1\n",
    "A[3,2] = 1\n",
    "A = SparseArrays.sparse(A)\n",
    "\n",
    "Random.seed!(1234); # Set a random seed\n",
    "\n",
    "# Problem Definition\n",
    "problem = SDEProblem(Φ!,Ψ!, ℬ, 𝒯, 𝒫, noise_rate_prototype=A)  \n",
    "\n",
    "# Problem Solution\n",
    "solution = solve(problem,SRA1(),callback=cb);"
   ]
  },
  {
   "cell_type": "markdown",
   "metadata": {},
   "source": [
    "### Visualization "
   ]
  },
  {
   "cell_type": "code",
   "execution_count": null,
   "metadata": {},
   "outputs": [],
   "source": [
    "# Convert the output to data frame\n",
    "data = DataFrame(solution(t)')\n",
    "data[!,:t] = t;\n",
    "\n",
    "# Select Theme\n",
    "theme(:default)\n",
    "\n",
    "@df data plot(:t,\n",
    "    [:x1 :x2 :x3],\n",
    "    title = \"SIR SDE\",\n",
    "    label=[\"S\" \"I\" \"R\"],\n",
    "    legend=:top,\n",
    "    xlabel=\"Time\",\n",
    "    ylabel=\"Number\")"
   ]
  }
 ],
 "metadata": {
  "kernelspec": {
   "display_name": "Julia 1.4.0",
   "language": "julia",
   "name": "julia-1.4"
  },
  "language_info": {
   "file_extension": ".jl",
   "mimetype": "application/julia",
   "name": "julia",
   "version": "1.4.0"
  }
 },
 "nbformat": 4,
 "nbformat_minor": 4
}
